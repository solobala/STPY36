{
  "nbformat": 4,
  "nbformat_minor": 0,
  "metadata": {
    "colab": {
      "provenance": [],
      "collapsed_sections": [
        "VVmoc1WM4KDI",
        "wQohh3j94Q_w",
        "iRhZ8mLI4UmG",
        "NWt8C4kc4YZo",
        "-VHGHibEdop6"
      ],
      "authorship_tag": "ABX9TyNWaS1R5AZSarnBIuwomNRf",
      "include_colab_link": true
    },
    "kernelspec": {
      "name": "python3",
      "display_name": "Python 3"
    },
    "language_info": {
      "name": "python"
    }
  },
  "cells": [
    {
      "cell_type": "markdown",
      "metadata": {
        "id": "view-in-github",
        "colab_type": "text"
      },
      "source": [
        "<a href=\"https://colab.research.google.com/github/solobala/STPY36/blob/main/STPY36_DZ8_1.ipynb\" target=\"_parent\"><img src=\"https://colab.research.google.com/assets/colab-badge.svg\" alt=\"Open In Colab\"/></a>"
      ]
    },
    {
      "cell_type": "markdown",
      "source": [
        "#Домашнее задание к лекции «Кейс-стади»"
      ],
      "metadata": {
        "id": "H0SRJn1X4FPS"
      }
    },
    {
      "cell_type": "markdown",
      "source": [
        "## Импорт библиотек"
      ],
      "metadata": {
        "id": "VVmoc1WM4KDI"
      }
    },
    {
      "cell_type": "code",
      "execution_count": null,
      "metadata": {
        "id": "ezRyXLMK4Eav"
      },
      "outputs": [],
      "source": [
        "import pandas as pd\n",
        "import numpy as np\n",
        "from zipfile import ZipFile  \n",
        "import re\n",
        "import itertools\n",
        "import nltk\n",
        "from nltk.corpus import stopwords\n",
        "from nltk.stem import WordNetLemmatizer\n",
        "\n",
        "#  Статистика\n",
        "from sklearn.linear_model import LogisticRegression\n",
        "from sklearn.feature_extraction.text import TfidfVectorizer\n",
        "from sklearn.model_selection import train_test_split\n",
        "from sklearn.metrics import accuracy_score\n",
        "\n",
        "from sklearn.metrics import accuracy_score\n",
        "from sklearn.metrics import confusion_matrix\n",
        "\n",
        "import scipy as sp\n",
        "from scipy import stats as st\n",
        "from scipy.stats import t\n",
        "from scipy.stats import f_oneway\n",
        "from scipy.stats import mannwhitneyu\n",
        "from statsmodels.stats.multicomp import pairwise_tukeyhsd\n",
        "\n",
        "import matplotlib.pyplot as plt\n",
        "import seaborn as sns\n",
        "from plotly.offline import init_notebook_mode, iplot\n",
        "import plotly\n",
        "import plotly.graph_objs as go\n",
        "from pylab import rcParams\n",
        "rcParams['figure.figsize'] = 11,7 #увеличим дефолтный размер графиков"
      ]
    },
    {
      "cell_type": "markdown",
      "source": [
        "## Загрузка датасетов"
      ],
      "metadata": {
        "id": "wQohh3j94Q_w"
      }
    },
    {
      "cell_type": "code",
      "source": [
        "!wget 'https://github.com/solobala/STPY36/raw/master/datasets.zip' # Пришлось предварительно загрузить себе не комп, сархивировать, положить архив к себе на гитхаб"
      ],
      "metadata": {
        "colab": {
          "base_uri": "https://localhost:8080/"
        },
        "id": "0Qgp5AuNLQew",
        "outputId": "4f784154-c6b4-4e22-99a2-8a6aabcf555f"
      },
      "execution_count": null,
      "outputs": [
        {
          "output_type": "stream",
          "name": "stdout",
          "text": [
            "--2022-11-06 18:28:15--  https://github.com/solobala/STPY36/raw/master/datasets.zip\n",
            "Resolving github.com (github.com)... 140.82.114.3\n",
            "Connecting to github.com (github.com)|140.82.114.3|:443... connected.\n",
            "HTTP request sent, awaiting response... 302 Found\n",
            "Location: https://raw.githubusercontent.com/solobala/STPY36/master/datasets.zip [following]\n",
            "--2022-11-06 18:28:15--  https://raw.githubusercontent.com/solobala/STPY36/master/datasets.zip\n",
            "Resolving raw.githubusercontent.com (raw.githubusercontent.com)... 185.199.110.133, 185.199.109.133, 185.199.108.133, ...\n",
            "Connecting to raw.githubusercontent.com (raw.githubusercontent.com)|185.199.110.133|:443... connected.\n",
            "HTTP request sent, awaiting response... 200 OK\n",
            "Length: 701189 (685K) [application/zip]\n",
            "Saving to: ‘datasets.zip’\n",
            "\n",
            "datasets.zip        100%[===================>] 684.75K  --.-KB/s    in 0.04s   \n",
            "\n",
            "2022-11-06 18:28:15 (15.5 MB/s) - ‘datasets.zip’ saved [701189/701189]\n",
            "\n"
          ]
        }
      ]
    },
    {
      "cell_type": "code",
      "source": [
        "with ZipFile('/content/datasets.zip', 'r') as zip_file:\n",
        "  zip_file.extractall() "
      ],
      "metadata": {
        "id": "D0gwoPNSLbO0"
      },
      "execution_count": null,
      "outputs": []
    },
    {
      "cell_type": "code",
      "source": [
        "data=pd.read_csv('/content/vgsales.csv')\n",
        "data.head()"
      ],
      "metadata": {
        "colab": {
          "base_uri": "https://localhost:8080/",
          "height": 206
        },
        "id": "-8HF5tJ1JfwD",
        "outputId": "0e061b2c-993f-43de-f7aa-806a18bc8185"
      },
      "execution_count": null,
      "outputs": [
        {
          "output_type": "execute_result",
          "data": {
            "text/plain": [
              "                       Name Platform  Year_of_Release         Genre Publisher  \\\n",
              "0                Wii Sports      Wii           2006.0        Sports  Nintendo   \n",
              "1         Super Mario Bros.      NES           1985.0      Platform  Nintendo   \n",
              "2            Mario Kart Wii      Wii           2008.0        Racing  Nintendo   \n",
              "3         Wii Sports Resort      Wii           2009.0        Sports  Nintendo   \n",
              "4  Pokemon Red/Pokemon Blue       GB           1996.0  Role-Playing  Nintendo   \n",
              "\n",
              "   NA_Sales  EU_Sales  JP_Sales  Other_Sales  Global_Sales  Critic_Score  \\\n",
              "0     41.36     28.96      3.77         8.45         82.53          76.0   \n",
              "1     29.08      3.58      6.81         0.77         40.24           NaN   \n",
              "2     15.68     12.76      3.79         3.29         35.52          82.0   \n",
              "3     15.61     10.93      3.28         2.95         32.77          80.0   \n",
              "4     11.27      8.89     10.22         1.00         31.37           NaN   \n",
              "\n",
              "   Critic_Count User_Score  User_Count Developer Rating  \n",
              "0          51.0          8       322.0  Nintendo      E  \n",
              "1           NaN        NaN         NaN       NaN    NaN  \n",
              "2          73.0        8.3       709.0  Nintendo      E  \n",
              "3          73.0          8       192.0  Nintendo      E  \n",
              "4           NaN        NaN         NaN       NaN    NaN  "
            ],
            "text/html": [
              "\n",
              "  <div id=\"df-dbc091e6-5810-4fb0-aa45-0b17684eb495\">\n",
              "    <div class=\"colab-df-container\">\n",
              "      <div>\n",
              "<style scoped>\n",
              "    .dataframe tbody tr th:only-of-type {\n",
              "        vertical-align: middle;\n",
              "    }\n",
              "\n",
              "    .dataframe tbody tr th {\n",
              "        vertical-align: top;\n",
              "    }\n",
              "\n",
              "    .dataframe thead th {\n",
              "        text-align: right;\n",
              "    }\n",
              "</style>\n",
              "<table border=\"1\" class=\"dataframe\">\n",
              "  <thead>\n",
              "    <tr style=\"text-align: right;\">\n",
              "      <th></th>\n",
              "      <th>Name</th>\n",
              "      <th>Platform</th>\n",
              "      <th>Year_of_Release</th>\n",
              "      <th>Genre</th>\n",
              "      <th>Publisher</th>\n",
              "      <th>NA_Sales</th>\n",
              "      <th>EU_Sales</th>\n",
              "      <th>JP_Sales</th>\n",
              "      <th>Other_Sales</th>\n",
              "      <th>Global_Sales</th>\n",
              "      <th>Critic_Score</th>\n",
              "      <th>Critic_Count</th>\n",
              "      <th>User_Score</th>\n",
              "      <th>User_Count</th>\n",
              "      <th>Developer</th>\n",
              "      <th>Rating</th>\n",
              "    </tr>\n",
              "  </thead>\n",
              "  <tbody>\n",
              "    <tr>\n",
              "      <th>0</th>\n",
              "      <td>Wii Sports</td>\n",
              "      <td>Wii</td>\n",
              "      <td>2006.0</td>\n",
              "      <td>Sports</td>\n",
              "      <td>Nintendo</td>\n",
              "      <td>41.36</td>\n",
              "      <td>28.96</td>\n",
              "      <td>3.77</td>\n",
              "      <td>8.45</td>\n",
              "      <td>82.53</td>\n",
              "      <td>76.0</td>\n",
              "      <td>51.0</td>\n",
              "      <td>8</td>\n",
              "      <td>322.0</td>\n",
              "      <td>Nintendo</td>\n",
              "      <td>E</td>\n",
              "    </tr>\n",
              "    <tr>\n",
              "      <th>1</th>\n",
              "      <td>Super Mario Bros.</td>\n",
              "      <td>NES</td>\n",
              "      <td>1985.0</td>\n",
              "      <td>Platform</td>\n",
              "      <td>Nintendo</td>\n",
              "      <td>29.08</td>\n",
              "      <td>3.58</td>\n",
              "      <td>6.81</td>\n",
              "      <td>0.77</td>\n",
              "      <td>40.24</td>\n",
              "      <td>NaN</td>\n",
              "      <td>NaN</td>\n",
              "      <td>NaN</td>\n",
              "      <td>NaN</td>\n",
              "      <td>NaN</td>\n",
              "      <td>NaN</td>\n",
              "    </tr>\n",
              "    <tr>\n",
              "      <th>2</th>\n",
              "      <td>Mario Kart Wii</td>\n",
              "      <td>Wii</td>\n",
              "      <td>2008.0</td>\n",
              "      <td>Racing</td>\n",
              "      <td>Nintendo</td>\n",
              "      <td>15.68</td>\n",
              "      <td>12.76</td>\n",
              "      <td>3.79</td>\n",
              "      <td>3.29</td>\n",
              "      <td>35.52</td>\n",
              "      <td>82.0</td>\n",
              "      <td>73.0</td>\n",
              "      <td>8.3</td>\n",
              "      <td>709.0</td>\n",
              "      <td>Nintendo</td>\n",
              "      <td>E</td>\n",
              "    </tr>\n",
              "    <tr>\n",
              "      <th>3</th>\n",
              "      <td>Wii Sports Resort</td>\n",
              "      <td>Wii</td>\n",
              "      <td>2009.0</td>\n",
              "      <td>Sports</td>\n",
              "      <td>Nintendo</td>\n",
              "      <td>15.61</td>\n",
              "      <td>10.93</td>\n",
              "      <td>3.28</td>\n",
              "      <td>2.95</td>\n",
              "      <td>32.77</td>\n",
              "      <td>80.0</td>\n",
              "      <td>73.0</td>\n",
              "      <td>8</td>\n",
              "      <td>192.0</td>\n",
              "      <td>Nintendo</td>\n",
              "      <td>E</td>\n",
              "    </tr>\n",
              "    <tr>\n",
              "      <th>4</th>\n",
              "      <td>Pokemon Red/Pokemon Blue</td>\n",
              "      <td>GB</td>\n",
              "      <td>1996.0</td>\n",
              "      <td>Role-Playing</td>\n",
              "      <td>Nintendo</td>\n",
              "      <td>11.27</td>\n",
              "      <td>8.89</td>\n",
              "      <td>10.22</td>\n",
              "      <td>1.00</td>\n",
              "      <td>31.37</td>\n",
              "      <td>NaN</td>\n",
              "      <td>NaN</td>\n",
              "      <td>NaN</td>\n",
              "      <td>NaN</td>\n",
              "      <td>NaN</td>\n",
              "      <td>NaN</td>\n",
              "    </tr>\n",
              "  </tbody>\n",
              "</table>\n",
              "</div>\n",
              "      <button class=\"colab-df-convert\" onclick=\"convertToInteractive('df-dbc091e6-5810-4fb0-aa45-0b17684eb495')\"\n",
              "              title=\"Convert this dataframe to an interactive table.\"\n",
              "              style=\"display:none;\">\n",
              "        \n",
              "  <svg xmlns=\"http://www.w3.org/2000/svg\" height=\"24px\"viewBox=\"0 0 24 24\"\n",
              "       width=\"24px\">\n",
              "    <path d=\"M0 0h24v24H0V0z\" fill=\"none\"/>\n",
              "    <path d=\"M18.56 5.44l.94 2.06.94-2.06 2.06-.94-2.06-.94-.94-2.06-.94 2.06-2.06.94zm-11 1L8.5 8.5l.94-2.06 2.06-.94-2.06-.94L8.5 2.5l-.94 2.06-2.06.94zm10 10l.94 2.06.94-2.06 2.06-.94-2.06-.94-.94-2.06-.94 2.06-2.06.94z\"/><path d=\"M17.41 7.96l-1.37-1.37c-.4-.4-.92-.59-1.43-.59-.52 0-1.04.2-1.43.59L10.3 9.45l-7.72 7.72c-.78.78-.78 2.05 0 2.83L4 21.41c.39.39.9.59 1.41.59.51 0 1.02-.2 1.41-.59l7.78-7.78 2.81-2.81c.8-.78.8-2.07 0-2.86zM5.41 20L4 18.59l7.72-7.72 1.47 1.35L5.41 20z\"/>\n",
              "  </svg>\n",
              "      </button>\n",
              "      \n",
              "  <style>\n",
              "    .colab-df-container {\n",
              "      display:flex;\n",
              "      flex-wrap:wrap;\n",
              "      gap: 12px;\n",
              "    }\n",
              "\n",
              "    .colab-df-convert {\n",
              "      background-color: #E8F0FE;\n",
              "      border: none;\n",
              "      border-radius: 50%;\n",
              "      cursor: pointer;\n",
              "      display: none;\n",
              "      fill: #1967D2;\n",
              "      height: 32px;\n",
              "      padding: 0 0 0 0;\n",
              "      width: 32px;\n",
              "    }\n",
              "\n",
              "    .colab-df-convert:hover {\n",
              "      background-color: #E2EBFA;\n",
              "      box-shadow: 0px 1px 2px rgba(60, 64, 67, 0.3), 0px 1px 3px 1px rgba(60, 64, 67, 0.15);\n",
              "      fill: #174EA6;\n",
              "    }\n",
              "\n",
              "    [theme=dark] .colab-df-convert {\n",
              "      background-color: #3B4455;\n",
              "      fill: #D2E3FC;\n",
              "    }\n",
              "\n",
              "    [theme=dark] .colab-df-convert:hover {\n",
              "      background-color: #434B5C;\n",
              "      box-shadow: 0px 1px 3px 1px rgba(0, 0, 0, 0.15);\n",
              "      filter: drop-shadow(0px 1px 2px rgba(0, 0, 0, 0.3));\n",
              "      fill: #FFFFFF;\n",
              "    }\n",
              "  </style>\n",
              "\n",
              "      <script>\n",
              "        const buttonEl =\n",
              "          document.querySelector('#df-dbc091e6-5810-4fb0-aa45-0b17684eb495 button.colab-df-convert');\n",
              "        buttonEl.style.display =\n",
              "          google.colab.kernel.accessAllowed ? 'block' : 'none';\n",
              "\n",
              "        async function convertToInteractive(key) {\n",
              "          const element = document.querySelector('#df-dbc091e6-5810-4fb0-aa45-0b17684eb495');\n",
              "          const dataTable =\n",
              "            await google.colab.kernel.invokeFunction('convertToInteractive',\n",
              "                                                     [key], {});\n",
              "          if (!dataTable) return;\n",
              "\n",
              "          const docLinkHtml = 'Like what you see? Visit the ' +\n",
              "            '<a target=\"_blank\" href=https://colab.research.google.com/notebooks/data_table.ipynb>data table notebook</a>'\n",
              "            + ' to learn more about interactive tables.';\n",
              "          element.innerHTML = '';\n",
              "          dataTable['output_type'] = 'display_data';\n",
              "          await google.colab.output.renderOutput(dataTable, element);\n",
              "          const docLink = document.createElement('div');\n",
              "          docLink.innerHTML = docLinkHtml;\n",
              "          element.appendChild(docLink);\n",
              "        }\n",
              "      </script>\n",
              "    </div>\n",
              "  </div>\n",
              "  "
            ]
          },
          "metadata": {},
          "execution_count": 128
        }
      ]
    },
    {
      "cell_type": "code",
      "source": [
        "data.info()"
      ],
      "metadata": {
        "colab": {
          "base_uri": "https://localhost:8080/"
        },
        "id": "w1qgDebbQ76r",
        "outputId": "54953cff-5f6c-4580-bec1-ab977843dd4e"
      },
      "execution_count": null,
      "outputs": [
        {
          "output_type": "stream",
          "name": "stdout",
          "text": [
            "<class 'pandas.core.frame.DataFrame'>\n",
            "RangeIndex: 16719 entries, 0 to 16718\n",
            "Data columns (total 16 columns):\n",
            " #   Column           Non-Null Count  Dtype  \n",
            "---  ------           --------------  -----  \n",
            " 0   Name             16717 non-null  object \n",
            " 1   Platform         16719 non-null  object \n",
            " 2   Year_of_Release  16450 non-null  float64\n",
            " 3   Genre            16717 non-null  object \n",
            " 4   Publisher        16665 non-null  object \n",
            " 5   NA_Sales         16719 non-null  float64\n",
            " 6   EU_Sales         16719 non-null  float64\n",
            " 7   JP_Sales         16719 non-null  float64\n",
            " 8   Other_Sales      16719 non-null  float64\n",
            " 9   Global_Sales     16719 non-null  float64\n",
            " 10  Critic_Score     8137 non-null   float64\n",
            " 11  Critic_Count     8137 non-null   float64\n",
            " 12  User_Score       10015 non-null  object \n",
            " 13  User_Count       7590 non-null   float64\n",
            " 14  Developer        10096 non-null  object \n",
            " 15  Rating           9950 non-null   object \n",
            "dtypes: float64(9), object(7)\n",
            "memory usage: 2.0+ MB\n"
          ]
        }
      ]
    },
    {
      "cell_type": "code",
      "source": [
        "data['Critic_Score'] = data['Critic_Score'].astype('float64')\n",
        "data['Critic_Count'] = data['Critic_Count'].astype('Int64')"
      ],
      "metadata": {
        "id": "Ia74YRtiRUto"
      },
      "execution_count": null,
      "outputs": []
    },
    {
      "cell_type": "code",
      "source": [
        "sns.histplot(data['Critic_Score'])\n",
        "plt.title('Распределение оценок критиков')\n",
        "plt.show()"
      ],
      "metadata": {
        "colab": {
          "base_uri": "https://localhost:8080/",
          "height": 459
        },
        "id": "cBGOj7_lRqYM",
        "outputId": "7bde198a-22ca-429e-9814-1af1ac960371"
      },
      "execution_count": null,
      "outputs": [
        {
          "output_type": "display_data",
          "data": {
            "text/plain": [
              "<Figure size 792x504 with 1 Axes>"
            ],
            "image/png": "[encoded data removed]"
          },
          "metadata": {
            "needs_background": "light"
          }
        }
      ]
    },
    {
      "cell_type": "markdown",
      "source": [
        "## Вспомогательные функции"
      ],
      "metadata": {
        "id": "iRhZ8mLI4UmG"
      }
    },
    {
      "cell_type": "code",
      "source": [
        "def fisher_test(data):\n",
        "    print('Нулевая гипотеза:', '='.join(data))\n",
        "    print('Альтернативная гипотеза:', f'!({\"=\".join(data)})')\n",
        "    grand_mean =data.values[~np. isnan (data)].flatten().mean() \n",
        "    sst = sum((val - grand_mean)**2 for val in data.values[~np. isnan (data)].flatten())\n",
        "    ssb = sum(data[data[group].notna()][group].size * (group_mean - grand_mean) ** 2 for group, group_mean in data.mean().items())\n",
        "    ssw = sum(sum((x - group_mean)**2 for x in data[data[group].notna()][group]) for group, group_mean in data.mean().items())\n",
        "    groups = data.shape[1]\n",
        "    dfb = groups - 1\n",
        "    dfw =len(data.values[~np. isnan (data)].flatten()) - groups\n",
        "    mssb = ssb/dfb\n",
        "    mssw = ssw/dfw\n",
        "    f_value = mssb/mssw\n",
        "    p = st.f.sf(f_value, dfb, dfw) #sf - Survival function - что это такое? Это оценка вероятности наступления события\n",
        "    print('Результат:')\n",
        "    if p < 0.05:\n",
        "        print('отклоняем нулевую гипотезу')\n",
        "    else:\n",
        "        print('Не отклоняем нулевую гипотезу')\n",
        "    print(f\"p_value = {p},  f-значение = {f_value}\")"
      ],
      "metadata": {
        "id": "gM55BsRUluyW"
      },
      "execution_count": null,
      "outputs": []
    },
    {
      "cell_type": "code",
      "source": [
        "def plot_confusion_matrix(cm, classes,\n",
        "                          normalize=False,\n",
        "                          title='Confusion matrix',\n",
        "                          cmap=plt.cm.Blues):\n",
        "    \"\"\"\n",
        "    This function prints and plots the confusion matrix.\n",
        "    Normalization can be applied by setting `normalize=True`.\n",
        "    \"\"\"\n",
        "    plt.imshow(cm, interpolation='nearest', cmap=cmap)\n",
        "    plt.title(title)\n",
        "    plt.colorbar()\n",
        "    tick_marks = np.arange(len(classes))\n",
        "    plt.xticks(tick_marks, classes, rotation=45)\n",
        "    plt.yticks(tick_marks, classes)\n",
        "\n",
        "    if normalize:\n",
        "        cm = cm.astype('float') / cm.sum(axis=1)[:, np.newaxis]\n",
        "        print(\"Normalized confusion matrix\")\n",
        "    else:\n",
        "        print('Confusion matrix, without normalization')\n",
        "\n",
        "    print(cm)\n",
        "\n",
        "    thresh = cm.max() / 2.\n",
        "    for i, j in itertools.product(range(cm.shape[0]), range(cm.shape[1])):\n",
        "        plt.text(j, i, cm[i, j],\n",
        "                 horizontalalignment=\"center\",\n",
        "                 color=\"white\" if cm[i, j] > thresh else \"black\")\n",
        "\n",
        "    plt.tight_layout()\n",
        "    plt.ylabel('True label')\n",
        "    plt.xlabel('Predicted label')"
      ],
      "metadata": {
        "id": "jmVzE22t4f-Y"
      },
      "execution_count": null,
      "outputs": []
    },
    {
      "cell_type": "code",
      "source": [
        "def my_result(cnf_matrix):\n",
        "  TN = cnf_matrix[0][0] # True Negative \n",
        "  FP = cnf_matrix[0][1] # False Positive Errors - ошибки 1 рода\n",
        "  FN = cnf_matrix[1][0] # False Negative Errors - ошибки 2 рода\n",
        "  TP = cnf_matrix[1][1] # True Positive \n",
        "  precision = TP/(TP+FP)\n",
        "  recall = TP/(TP+FN)\n",
        "  print('Модель логистической регрессии - результат работы: ')\n",
        "  print(f' Ошибки 1 рода (FP): {FP}, ошибки 2 рода (FN): {FN} ')\n",
        "  print(f'точность модели (precision): {precision}, полнота (recall): {recall}')  "
      ],
      "metadata": {
        "id": "Ae_0RZVg5Qk0"
      },
      "execution_count": null,
      "outputs": []
    },
    {
      "cell_type": "markdown",
      "source": [
        "# Задание 1\n",
        "Вернемся к набору данных о видеоиграх.\n",
        "\n",
        "Ответьте на следующие вопросы:\n",
        "\n",
        "Как критики относятся к спортивным играм?\n",
        "Критикам нравятся больше игры на PC или на PS4?\n",
        "Критикам больше нравятся стрелялки или стратегии?\n",
        "Для каждого вопроса:\n",
        "\n",
        "сформулируйте нулевую и альтернативную гипотезы;\n",
        "выберите пороговый уровень статистической значимости;\n",
        "опишите полученные результаты статистического теста."
      ],
      "metadata": {
        "id": "NWt8C4kc4YZo"
      }
    },
    {
      "cell_type": "markdown",
      "source": [
        "### Как критики относятся к спортивным играм?"
      ],
      "metadata": {
        "id": "nNUFOiqZL6IG"
      }
    },
    {
      "cell_type": "markdown",
      "source": [
        "Посмотрим на боксплоты оценок критиками видеоигр по жанрам"
      ],
      "metadata": {
        "id": "O4w8ahrguXTt"
      }
    },
    {
      "cell_type": "code",
      "source": [
        "df = []\n",
        "for genre in data.Genre.unique():\n",
        "    df.append(\n",
        "        go.Box(y=data[data.Genre==genre].Critic_Score, \n",
        "               name=genre)\n",
        "    )\n",
        "iplot(df, show_link = False)"
      ],
      "metadata": {
        "colab": {
          "base_uri": "https://localhost:8080/"
        },
        "id": "QCUEcQ4WZkVr",
        "outputId": "706f0241-c81b-4045-c34e-00c5abdd47d7"
      },
      "execution_count": null,
      "outputs": [
        {
          "output_type": "display_data",
          "data": {
            "text/html": [
              "<html>\n",
              "<head><meta charset=\"utf-8\" /></head>\n",
              "<body>\n",
              "    <div>            <script src=\"https://cdnjs.cloudflare.com/ajax/libs/mathjax/2.7.5/MathJax.js?config=TeX-AMS-MML_SVG\"></script><script type=\"text/javascript\">if (window.MathJax) {MathJax.Hub.Config({SVG: {font: \"STIX-Web\"}});}</script>                <script type=\"text/javascript\">window.PlotlyConfig = {MathJaxConfig: 'local'};</script>\n",
              "        <script src=\"https://cdn.plot.ly/plotly-2.8.3.min.js\"></script>                <div id=\"1edb036d-3773-4613-a259-49cca918261d\" class=\"plotly-graph-div\" style=\"height:525px; width:100%;\"></div>            <script type=\"text/javascript\">                                    window.PLOTLYENV=window.PLOTLYENV || {};                                    if (document.getElementById(\"1edb036d-3773-4613-a259-49cca918261d\")) {                    Plotly.newPlot(                        \"1edb036d-3773-4613-a259-49cca918261d\",                        [{\"name\":\"Sports\",\"y\":[76.0,80.0,80.0,80.0,82.0,null,85.0,null,null,86.0,73.0,82.0,94.0,null,89.0,92.0,88.0,98.0,null,91.0,84.0,97.0,86.0,null,84.0,80.0,null,95.0,null,null,null,81.0,90.0,87.0,91.0,76.0,null,81.0,94.0,82.0,91.0,88.0,84.0,null,88.0,84.0,83.0,null,83.0,94.0,null,null,87.0,88.0,93.0,null,93.0,67.0,85.0,81.0,85.0,null,null,89.0,null,78.0,84.0,84.0,80.0,90.0,90.0,90.0,84.0,79.0,87.0,78.0,83.0,83.0,87.0,50.0,null,90.0,83.0,84.0,null,77.0,83.0,85.0,83.0,42.0,85.0,86.0,66.0,null,null,null,78.0,82.0,null,79.0,80.0,null,81.0,82.0,null,null,62.0,null,90.0,null,null,84.0,null,64.0,null,null,null,86.0,null,80.0,81.0,null,90.0,87.0,69.0,85.0,null,88.0,null,76.0,86.0,70.0,87.0,80.0,null,null,null,82.0,81.0,null,92.0,82.0,91.0,null,87.0,null,null,67.0,93.0,90.0,87.0,94.0,44.0,93.0,78.0,83.0,83.0,88.0,null,92.0,89.0,null,88.0,null,77.0,null,76.0,69.0,83.0,74.0,null,90.0,null,80.0,38.0,69.0,87.0,82.0,null,81.0,null,38.0,null,null,84.0,null,91.0,67.0,null,82.0,null,null,76.0,null,null,85.0,88.0,91.0,null,59.0,null,80.0,null,81.0,null,88.0,null,81.0,null,79.0,84.0,82.0,null,90.0,null,null,93.0,73.0,null,63.0,66.0,null,84.0,85.0,30.0,79.0,68.0,85.0,null,null,86.0,null,52.0,76.0,83.0,82.0,80.0,null,89.0,73.0,null,null,null,92.0,68.0,83.0,null,null,null,null,95.0,57.0,null,77.0,88.0,86.0,null,83.0,62.0,74.0,81.0,80.0,null,86.0,null,75.0,null,74.0,77.0,97.0,92.0,84.0,null,null,null,73.0,null,null,null,76.0,88.0,70.0,null,89.0,null,null,71.0,null,89.0,82.0,70.0,80.0,81.0,82.0,65.0,72.0,90.0,83.0,null,null,null,null,null,73.0,null,79.0,82.0,80.0,75.0,null,82.0,87.0,null,81.0,85.0,81.0,85.0,85.0,69.0,63.0,null,null,null,86.0,83.0,47.0,null,null,83.0,79.0,79.0,90.0,83.0,86.0,80.0,null,null,87.0,null,null,78.0,null,76.0,86.0,81.0,null,80.0,78.0,70.0,74.0,null,85.0,68.0,76.0,68.0,83.0,77.0,85.0,null,80.0,null,80.0,86.0,76.0,null,null,69.0,null,65.0,null,81.0,null,null,null,83.0,81.0,88.0,null,null,72.0,85.0,83.0,84.0,null,86.0,77.0,82.0,78.0,null,82.0,78.0,77.0,91.0,83.0,78.0,null,60.0,78.0,73.0,80.0,null,49.0,72.0,null,null,74.0,null,null,87.0,null,83.0,82.0,55.0,81.0,null,81.0,null,null,70.0,81.0,69.0,null,null,94.0,null,null,81.0,null,82.0,83.0,75.0,76.0,65.0,74.0,87.0,null,null,null,79.0,88.0,79.0,64.0,68.0,79.0,79.0,83.0,77.0,90.0,75.0,91.0,92.0,86.0,75.0,68.0,77.0,83.0,82.0,89.0,81.0,90.0,null,63.0,86.0,null,85.0,40.0,null,null,82.0,89.0,89.0,82.0,80.0,null,null,null,null,81.0,65.0,61.0,null,74.0,null,88.0,83.0,null,null,63.0,null,82.0,84.0,80.0,50.0,79.0,85.0,null,84.0,78.0,73.0,88.0,82.0,88.0,78.0,null,76.0,77.0,null,82.0,89.0,48.0,null,null,80.0,73.0,82.0,72.0,46.0,70.0,79.0,64.0,76.0,89.0,null,null,86.0,60.0,72.0,null,69.0,60.0,71.0,null,null,44.0,null,70.0,null,88.0,73.0,90.0,null,72.0,null,73.0,74.0,null,null,81.0,90.0,null,84.0,null,null,null,86.0,null,79.0,91.0,78.0,null,70.0,null,null,90.0,null,85.0,null,86.0,null,88.0,null,null,56.0,77.0,66.0,78.0,63.0,55.0,77.0,null,null,68.0,72.0,91.0,81.0,null,88.0,null,null,null,null,76.0,93.0,81.0,null,null,80.0,null,null,80.0,75.0,null,null,84.0,81.0,87.0,null,89.0,80.0,81.0,88.0,46.0,78.0,78.0,78.0,78.0,null,null,63.0,null,null,81.0,79.0,73.0,90.0,76.0,75.0,null,78.0,null,80.0,90.0,null,81.0,null,null,94.0,null,null,64.0,76.0,null,85.0,82.0,76.0,71.0,null,82.0,77.0,null,88.0,81.0,59.0,null,68.0,null,null,80.0,82.0,null,null,81.0,70.0,null,81.0,null,null,null,null,84.0,null,78.0,80.0,78.0,null,null,null,null,null,80.0,81.0,72.0,null,69.0,null,56.0,null,null,70.0,71.0,76.0,69.0,null,65.0,null,null,59.0,89.0,null,null,null,null,null,66.0,null,null,75.0,69.0,null,null,null,83.0,80.0,85.0,84.0,50.0,70.0,44.0,89.0,null,58.0,69.0,null,88.0,73.0,null,null,null,73.0,null,null,88.0,88.0,76.0,81.0,null,71.0,null,null,92.0,null,null,null,88.0,74.0,81.0,76.0,78.0,null,70.0,88.0,null,null,null,null,80.0,84.0,null,null,null,null,76.0,null,65.0,null,76.0,null,56.0,null,77.0,59.0,null,84.0,null,null,null,null,62.0,79.0,null,60.0,68.0,null,null,null,null,87.0,81.0,null,null,null,76.0,67.0,null,null,69.0,null,71.0,75.0,null,null,49.0,null,null,92.0,79.0,null,null,null,null,65.0,null,68.0,53.0,null,null,86.0,51.0,77.0,70.0,null,null,52.0,92.0,null,null,73.0,70.0,null,72.0,null,null,73.0,68.0,null,null,76.0,66.0,80.0,null,null,84.0,null,null,74.0,85.0,null,85.0,66.0,null,73.0,59.0,73.0,null,75.0,82.0,null,58.0,null,83.0,null,null,51.0,58.0,null,91.0,59.0,null,53.0,null,null,31.0,null,null,77.0,63.0,69.0,null,null,null,79.0,null,66.0,85.0,81.0,null,83.0,85.0,null,45.0,null,null,75.0,null,88.0,78.0,75.0,77.0,null,null,null,70.0,79.0,78.0,60.0,null,83.0,69.0,88.0,74.0,null,76.0,26.0,null,71.0,60.0,75.0,null,null,89.0,null,null,75.0,null,63.0,85.0,null,78.0,70.0,null,87.0,72.0,74.0,null,63.0,55.0,null,63.0,50.0,null,77.0,null,null,70.0,null,72.0,59.0,null,null,null,null,null,67.0,null,71.0,73.0,null,82.0,52.0,null,73.0,null,null,null,63.0,82.0,null,null,null,77.0,null,48.0,null,72.0,null,72.0,null,88.0,null,64.0,60.0,null,72.0,null,null,76.0,null,68.0,83.0,null,60.0,null,80.0,null,null,70.0,null,82.0,58.0,null,null,null,null,null,56.0,82.0,76.0,56.0,80.0,null,null,null,57.0,82.0,54.0,55.0,null,78.0,65.0,55.0,null,null,null,65.0,null,79.0,null,67.0,61.0,null,57.0,null,null,79.0,89.0,78.0,null,null,null,62.0,71.0,null,null,84.0,null,68.0,null,null,79.0,71.0,78.0,null,41.0,null,63.0,null,87.0,null,75.0,null,null,56.0,null,null,53.0,null,61.0,68.0,null,78.0,null,44.0,77.0,null,null,null,55.0,null,53.0,null,79.0,null,58.0,68.0,89.0,null,71.0,46.0,null,64.0,80.0,77.0,53.0,64.0,79.0,null,null,null,null,87.0,57.0,null,56.0,null,null,null,null,null,74.0,71.0,51.0,null,null,null,80.0,null,null,null,64.0,null,null,83.0,77.0,81.0,64.0,null,87.0,null,77.0,43.0,51.0,null,46.0,70.0,59.0,null,null,85.0,null,null,70.0,90.0,53.0,63.0,69.0,78.0,null,null,71.0,null,73.0,70.0,null,null,null,null,75.0,73.0,90.0,79.0,null,null,61.0,79.0,null,41.0,62.0,null,55.0,null,null,null,58.0,75.0,78.0,88.0,77.0,null,61.0,72.0,null,76.0,null,null,null,66.0,51.0,67.0,70.0,61.0,72.0,null,92.0,null,null,null,null,null,67.0,80.0,null,57.0,null,null,null,null,82.0,69.0,83.0,67.0,84.0,null,76.0,70.0,63.0,null,65.0,null,53.0,null,79.0,91.0,null,64.0,39.0,67.0,68.0,80.0,78.0,89.0,null,null,32.0,79.0,68.0,74.0,null,null,76.0,null,null,null,79.0,null,null,90.0,72.0,79.0,81.0,36.0,82.0,45.0,null,null,null,68.0,null,75.0,null,null,null,null,77.0,null,76.0,null,null,null,null,80.0,null,null,57.0,68.0,null,65.0,null,null,57.0,null,null,85.0,null,79.0,null,79.0,null,null,76.0,66.0,null,null,76.0,null,null,null,null,null,null,61.0,57.0,null,49.0,null,null,74.0,null,69.0,55.0,81.0,null,null,null,null,null,null,null,null,null,null,73.0,null,47.0,null,null,54.0,54.0,null,65.0,null,71.0,38.0,75.0,83.0,81.0,null,null,null,81.0,67.0,59.0,83.0,null,63.0,null,60.0,81.0,null,null,85.0,null,87.0,53.0,59.0,78.0,68.0,39.0,null,63.0,31.0,61.0,66.0,73.0,71.0,null,66.0,null,72.0,null,70.0,69.0,58.0,null,null,null,null,null,null,75.0,79.0,null,null,71.0,80.0,null,56.0,null,null,72.0,null,64.0,null,76.0,null,null,68.0,77.0,null,null,null,null,61.0,68.0,83.0,49.0,null,null,null,66.0,83.0,null,77.0,52.0,null,null,null,null,37.0,59.0,69.0,null,86.0,null,null,55.0,null,null,null,null,null,61.0,89.0,72.0,84.0,77.0,null,null,82.0,73.0,null,null,78.0,89.0,null,null,null,81.0,57.0,null,null,62.0,66.0,null,67.0,null,63.0,89.0,81.0,62.0,null,54.0,null,null,null,83.0,null,77.0,null,null,66.0,null,null,null,75.0,null,65.0,null,null,69.0,54.0,80.0,64.0,null,null,null,null,78.0,44.0,81.0,84.0,65.0,64.0,77.0,65.0,72.0,null,54.0,null,null,79.0,78.0,null,62.0,null,53.0,null,null,null,null,53.0,null,null,65.0,null,null,null,72.0,82.0,null,null,null,null,76.0,null,68.0,77.0,54.0,null,null,88.0,49.0,null,null,null,49.0,null,null,58.0,80.0,null,null,71.0,null,null,null,76.0,null,null,79.0,70.0,null,null,null,79.0,42.0,null,80.0,63.0,null,null,null,48.0,null,76.0,null,null,59.0,39.0,70.0,null,74.0,64.0,null,null,null,null,85.0,72.0,70.0,null,null,74.0,null,null,null,null,null,null,79.0,null,null,null,59.0,66.0,76.0,63.0,null,null,null,null,56.0,null,null,null,70.0,66.0,70.0,null,39.0,null,null,64.0,null,69.0,52.0,null,69.0,76.0,90.0,null,null,null,59.0,null,null,null,null,null,84.0,null,null,null,null,null,89.0,73.0,null,21.0,59.0,66.0,45.0,19.0,null,49.0,null,63.0,67.0,null,null,75.0,70.0,null,81.0,null,null,66.0,80.0,77.0,88.0,58.0,null,76.0,null,58.0,null,null,null,65.0,null,48.0,55.0,null,73.0,null,58.0,null,null,60.0,72.0,51.0,null,null,null,85.0,null,82.0,72.0,null,68.0,null,null,null,null,63.0,null,null,58.0,null,null,24.0,67.0,null,null,null,null,79.0,69.0,null,61.0,71.0,null,null,60.0,68.0,null,null,71.0,85.0,61.0,null,null,null,76.0,null,80.0,49.0,null,null,null,null,57.0,69.0,55.0,null,75.0,82.0,null,null,null,null,67.0,null,null,null,null,null,null,null,null,null,null,77.0,null,70.0,46.0,null,null,null,76.0,null,null,null,null,62.0,58.0,null,67.0,null,null,null,null,null,null,null,null,74.0,null,null,null,null,null,71.0,null,null,null,null,null,null,null,36.0,74.0,77.0,90.0,56.0,null,null,null,null,77.0,null,78.0,null,61.0,20.0,null,null,null,45.0,82.0,null,null,null,65.0,48.0,63.0,null,66.0,null,78.0,61.0,null,80.0,null,null,null,71.0,75.0,78.0,null,72.0,null,86.0,61.0,69.0,74.0,null,null,69.0,null,null,null,null,83.0,null,null,null,null,null,57.0,null,76.0,null,null,null,49.0,null,null,67.0,null,null,28.0,null,82.0,80.0,53.0,75.0,null,null,null,null,null,null,72.0,null,null,null,null,51.0,null,null,null,41.0,null,null,null,null,null,null,null,70.0,null,42.0,null,47.0,44.0,null,null,null,null,null,83.0,32.0,null,36.0,null,null,87.0,null,75.0,null,null,null,null,null,84.0,null,null,null,73.0,null,null,null,null,null,null,81.0,null,null,60.0,85.0,null,70.0,null,null,null,null,65.0,82.0,47.0,57.0,null,null,null,55.0,36.0,51.0,null,null,null,null,null,null,70.0,null,null,61.0,null,null,null,null,null,null,null,80.0,44.0,null,79.0,null,null,null,null,null,null,42.0,null,81.0,null,25.0,70.0,88.0,null,null,null,null,62.0,null,null,69.0,null,null,null,86.0,null,null,null,null,null,null,null,53.0,80.0,null,50.0,76.0,59.0,74.0,null,71.0,null,80.0,43.0,null,null,58.0,null,72.0,null,null,null,null,null,null,82.0,null,58.0,null,51.0,null,62.0,null,null,null,null,68.0,null,null,61.0,null,48.0,null,null,null,56.0,null,75.0,69.0,70.0,78.0,null,null,60.0,null,57.0,60.0,79.0,null,null,null,87.0,72.0,72.0,39.0,37.0,32.0,41.0,null,null,null,null,62.0,null,null,46.0,80.0,null,null,76.0,37.0,43.0,null,54.0,68.0,66.0,null,null,null,67.0,76.0,null,null,null,null,64.0,72.0,null,null,null,null,null,null,null,null,null,66.0,70.0,81.0,null,null,null,44.0,67.0,null,35.0,null,59.0,null,null,null,57.0,null,72.0,null,71.0,null,null,44.0,null,74.0,null,67.0,null,null,null,null,null,null,null,63.0,null,64.0,53.0,67.0,59.0,null,32.0,null,null,41.0,null,null,null,null,null,57.0,null,null,null,75.0,null,null,null,null,40.0,null,null,null,null,null,48.0,64.0,null,null,61.0,null,null,null,null,null,null,35.0,62.0,74.0,75.0,90.0,null,null,null,null,71.0,68.0,41.0,49.0,null,83.0,78.0,null,null,null,75.0,45.0,null,null,null,68.0,null,null,null,null,null,null,null,null,null,null,null,null,48.0,30.0,null,null,null,null,null,null,null,49.0,62.0,null,71.0,31.0,null,71.0,38.0,null,null,null,null,null,null,19.0,77.0,63.0,69.0,67.0,62.0,null,null,null,null,null,null,68.0,null,30.0,null,null,68.0,87.0,76.0,null,62.0,null,null,null,57.0,null,null,null,73.0,89.0,52.0,62.0,73.0,59.0,63.0,null,null,null,49.0,38.0,null,66.0,59.0,null,null,null,null,null,null,null,77.0,null,null,89.0,null,null,null,null,90.0,null,null,73.0,null,null,null,null,82.0,null,null,71.0,83.0,null,null,null,null,null,null,null,null,43.0,91.0,null,null,null,null,78.0,57.0,null,null,null,78.0,null,null,78.0,88.0,null,null,null,null,null,null,null,null,null,null,null,null,null],\"type\":\"box\"},{\"name\":\"Platform\",\"y\":[null,89.0,87.0,null,null,null,null,97.0,90.0,null,null,78.0,null,null,97.0,null,91.0,null,87.0,92.0,null,95.0,84.0,null,66.0,null,84.0,null,null,null,null,null,null,null,null,93.0,85.0,null,null,null,85.0,91.0,null,90.0,null,null,null,91.0,null,88.0,82.0,null,null,73.0,64.0,76.0,null,null,null,87.0,null,81.0,69.0,null,null,null,null,73.0,87.0,null,null,null,null,81.0,88.0,87.0,77.0,74.0,null,null,66.0,null,null,null,78.0,56.0,71.0,79.0,null,null,71.0,null,84.0,80.0,70.0,null,88.0,83.0,null,null,75.0,null,null,null,null,54.0,78.0,null,78.0,null,71.0,77.0,null,90.0,72.0,null,76.0,76.0,null,null,83.0,null,null,null,null,null,null,null,null,null,54.0,null,null,84.0,null,79.0,64.0,77.0,75.0,80.0,null,83.0,69.0,null,78.0,49.0,79.0,93.0,57.0,88.0,85.0,32.0,70.0,null,null,80.0,86.0,null,null,71.0,null,null,70.0,null,79.0,43.0,null,78.0,null,68.0,null,null,79.0,78.0,null,null,null,80.0,54.0,null,null,null,44.0,null,46.0,75.0,null,70.0,54.0,83.0,66.0,51.0,90.0,87.0,83.0,88.0,51.0,null,82.0,71.0,60.0,71.0,73.0,null,null,null,null,null,73.0,50.0,71.0,91.0,null,null,null,null,75.0,83.0,null,null,null,null,71.0,87.0,null,84.0,77.0,66.0,null,67.0,76.0,55.0,null,80.0,70.0,86.0,null,48.0,66.0,71.0,null,85.0,60.0,null,70.0,92.0,77.0,60.0,60.0,60.0,64.0,67.0,60.0,64.0,58.0,null,null,61.0,63.0,null,null,null,82.0,54.0,71.0,null,null,50.0,null,71.0,null,45.0,61.0,null,null,62.0,81.0,89.0,null,91.0,70.0,63.0,64.0,65.0,null,71.0,47.0,null,82.0,92.0,72.0,null,79.0,null,75.0,74.0,null,88.0,58.0,null,59.0,null,71.0,null,73.0,null,null,62.0,51.0,73.0,84.0,null,57.0,59.0,56.0,43.0,53.0,null,null,60.0,79.0,76.0,null,59.0,45.0,64.0,57.0,72.0,null,null,null,null,71.0,59.0,60.0,null,null,81.0,null,89.0,90.0,70.0,54.0,null,null,72.0,81.0,45.0,null,80.0,null,69.0,50.0,59.0,71.0,null,51.0,null,73.0,85.0,63.0,79.0,68.0,null,null,null,null,83.0,null,39.0,68.0,56.0,85.0,71.0,null,null,null,49.0,85.0,null,null,69.0,null,61.0,null,66.0,null,91.0,72.0,78.0,91.0,75.0,74.0,null,74.0,62.0,null,null,59.0,null,null,null,null,62.0,null,79.0,78.0,null,null,66.0,72.0,null,59.0,null,null,90.0,46.0,57.0,52.0,null,null,68.0,null,76.0,null,62.0,72.0,null,69.0,null,null,null,64.0,58.0,null,76.0,null,70.0,null,71.0,91.0,null,71.0,49.0,67.0,69.0,null,null,81.0,null,null,80.0,null,58.0,87.0,null,null,71.0,null,55.0,null,75.0,null,68.0,63.0,70.0,null,null,null,null,null,56.0,null,53.0,null,null,null,null,null,77.0,69.0,null,63.0,null,63.0,83.0,null,null,null,60.0,80.0,null,57.0,74.0,77.0,58.0,70.0,null,72.0,70.0,null,null,66.0,null,67.0,67.0,57.0,61.0,67.0,null,null,null,68.0,null,76.0,49.0,51.0,79.0,61.0,47.0,null,null,59.0,61.0,73.0,53.0,64.0,52.0,null,36.0,65.0,null,44.0,65.0,null,72.0,null,67.0,47.0,null,77.0,38.0,null,75.0,71.0,null,61.0,77.0,null,51.0,null,65.0,65.0,66.0,null,71.0,83.0,58.0,null,82.0,82.0,null,80.0,null,64.0,null,90.0,null,71.0,87.0,null,68.0,null,null,69.0,72.0,69.0,null,73.0,null,60.0,null,67.0,61.0,80.0,null,77.0,72.0,68.0,null,63.0,53.0,null,null,null,null,null,71.0,61.0,49.0,70.0,51.0,73.0,null,72.0,62.0,null,null,null,null,89.0,null,null,null,88.0,68.0,65.0,72.0,44.0,51.0,null,null,59.0,75.0,57.0,68.0,null,null,71.0,69.0,66.0,73.0,77.0,77.0,53.0,62.0,null,70.0,54.0,null,66.0,null,52.0,null,null,49.0,null,60.0,61.0,null,null,51.0,null,68.0,88.0,86.0,78.0,null,66.0,70.0,86.0,null,null,null,51.0,77.0,null,66.0,72.0,null,null,null,null,null,null,null,null,null,null,null,null,53.0,45.0,42.0,null,42.0,62.0,null,73.0,90.0,69.0,47.0,null,null,77.0,61.0,51.0,66.0,49.0,61.0,56.0,72.0,null,null,71.0,73.0,null,86.0,null,59.0,null,75.0,78.0,61.0,null,null,null,75.0,null,75.0,null,66.0,null,62.0,null,77.0,49.0,null,73.0,null,19.0,82.0,null,null,75.0,69.0,61.0,79.0,74.0,72.0,null,null,71.0,70.0,44.0,null,null,47.0,70.0,null,null,81.0,59.0,null,null,null,null,68.0,52.0,81.0,null,null,null,58.0,46.0,null,70.0,null,58.0,null,null,58.0,44.0,65.0,64.0,null,null,54.0,69.0,null,54.0,null,null,null,58.0,null,58.0,null,61.0,null,null,43.0,82.0,null,null,69.0,null,70.0,null,47.0,null,null,42.0,null,null,null,69.0,84.0,null,null,75.0,null,null,74.0,45.0,null,null,null,62.0,null,null,35.0,59.0,null,63.0,null,74.0,78.0,79.0,null,59.0,48.0,null,48.0,90.0,65.0,41.0,47.0,null,null,null,53.0,31.0,57.0,null,null,56.0,null,35.0,73.0,60.0,63.0,null,62.0,57.0,69.0,null,57.0,51.0,57.0,55.0,54.0,70.0,null,null,null,null,57.0,58.0,64.0,null,58.0,null,null,null,62.0,null,null,48.0,58.0,null,77.0,52.0,null,null,null,null,null],\"type\":\"box\"},{\"name\":\"Racing\",\"y\":[82.0,91.0,95.0,85.0,89.0,96.0,84.0,null,93.0,null,85.0,88.0,null,82.0,92.0,93.0,null,88.0,null,91.0,82.0,80.0,null,90.0,84.0,74.0,64.0,null,null,81.0,88.0,null,null,null,null,null,89.0,93.0,84.0,78.0,80.0,85.0,82.0,null,null,73.0,82.0,62.0,81.0,86.0,77.0,null,79.0,88.0,82.0,null,85.0,89.0,72.0,71.0,88.0,72.0,59.0,73.0,null,80.0,null,85.0,69.0,87.0,null,80.0,83.0,null,null,null,87.0,85.0,null,61.0,83.0,64.0,null,84.0,77.0,61.0,null,null,null,79.0,83.0,71.0,null,null,null,76.0,60.0,null,52.0,64.0,null,91.0,87.0,null,88.0,86.0,86.0,78.0,88.0,82.0,null,73.0,84.0,74.0,57.0,null,74.0,null,null,94.0,null,null,null,67.0,null,80.0,83.0,null,null,57.0,null,75.0,63.0,84.0,71.0,83.0,null,78.0,82.0,70.0,55.0,null,null,null,null,85.0,85.0,null,null,null,null,50.0,57.0,82.0,null,61.0,87.0,83.0,47.0,88.0,91.0,null,null,81.0,63.0,87.0,83.0,61.0,92.0,42.0,null,86.0,null,83.0,81.0,79.0,88.0,79.0,null,51.0,null,null,null,87.0,58.0,79.0,null,54.0,79.0,null,null,null,71.0,66.0,65.0,59.0,null,63.0,90.0,56.0,null,90.0,null,74.0,null,83.0,84.0,51.0,69.0,null,87.0,83.0,53.0,86.0,68.0,62.0,86.0,69.0,75.0,73.0,null,87.0,68.0,null,34.0,76.0,null,null,57.0,78.0,46.0,null,56.0,52.0,null,null,79.0,69.0,84.0,null,null,null,84.0,75.0,81.0,87.0,66.0,43.0,null,84.0,66.0,80.0,null,68.0,null,75.0,68.0,70.0,null,69.0,null,65.0,89.0,47.0,59.0,54.0,75.0,64.0,null,78.0,68.0,75.0,70.0,46.0,null,68.0,null,67.0,null,80.0,63.0,null,81.0,82.0,null,62.0,null,82.0,60.0,null,84.0,null,63.0,74.0,87.0,80.0,null,76.0,null,63.0,76.0,77.0,66.0,null,null,51.0,null,null,89.0,72.0,73.0,68.0,null,76.0,41.0,68.0,null,null,53.0,55.0,86.0,80.0,89.0,80.0,75.0,null,84.0,null,null,null,43.0,69.0,57.0,62.0,null,77.0,null,50.0,null,80.0,37.0,null,54.0,68.0,58.0,null,74.0,64.0,41.0,null,79.0,61.0,null,50.0,77.0,63.0,67.0,86.0,null,76.0,76.0,null,77.0,68.0,null,73.0,null,81.0,null,72.0,null,65.0,69.0,55.0,79.0,47.0,70.0,null,71.0,null,null,null,null,62.0,63.0,null,null,null,61.0,null,80.0,null,null,null,71.0,66.0,62.0,null,null,null,66.0,null,65.0,null,null,null,70.0,53.0,null,null,70.0,82.0,null,86.0,51.0,73.0,85.0,null,54.0,null,null,null,45.0,null,79.0,null,56.0,75.0,68.0,null,89.0,72.0,null,null,71.0,47.0,69.0,null,82.0,82.0,70.0,77.0,55.0,null,null,null,null,82.0,64.0,61.0,70.0,82.0,66.0,null,null,null,85.0,73.0,76.0,27.0,62.0,78.0,null,53.0,79.0,null,48.0,null,null,77.0,62.0,82.0,58.0,74.0,null,null,null,null,71.0,null,59.0,48.0,null,66.0,70.0,null,69.0,null,null,69.0,null,78.0,null,null,81.0,null,78.0,87.0,64.0,62.0,79.0,62.0,71.0,77.0,null,84.0,null,null,45.0,null,50.0,null,59.0,81.0,null,66.0,77.0,null,49.0,77.0,73.0,74.0,null,69.0,65.0,71.0,93.0,83.0,78.0,65.0,null,null,76.0,null,null,null,67.0,null,59.0,null,null,64.0,66.0,80.0,null,53.0,67.0,88.0,67.0,68.0,null,null,null,59.0,72.0,null,57.0,56.0,null,85.0,null,73.0,null,35.0,75.0,null,57.0,55.0,74.0,null,null,59.0,64.0,null,null,42.0,66.0,70.0,33.0,60.0,null,null,52.0,63.0,null,64.0,null,73.0,null,63.0,61.0,85.0,null,null,78.0,69.0,87.0,null,null,70.0,75.0,70.0,71.0,68.0,null,43.0,null,null,null,40.0,37.0,74.0,62.0,65.0,51.0,59.0,72.0,null,null,null,null,null,null,82.0,83.0,74.0,null,55.0,80.0,null,61.0,44.0,73.0,64.0,59.0,null,75.0,57.0,null,null,38.0,68.0,75.0,56.0,67.0,null,44.0,72.0,66.0,52.0,null,68.0,null,69.0,null,null,null,49.0,null,72.0,65.0,71.0,null,75.0,71.0,null,64.0,71.0,59.0,59.0,null,null,66.0,52.0,null,null,null,71.0,73.0,78.0,77.0,null,null,null,57.0,null,null,null,38.0,89.0,36.0,83.0,44.0,54.0,null,70.0,86.0,26.0,null,83.0,62.0,52.0,63.0,76.0,null,65.0,null,80.0,58.0,59.0,null,50.0,70.0,null,47.0,null,69.0,null,null,null,null,54.0,null,60.0,56.0,null,null,null,74.0,80.0,57.0,null,49.0,65.0,null,61.0,57.0,null,74.0,null,66.0,null,56.0,73.0,62.0,66.0,null,58.0,84.0,null,null,null,57.0,75.0,null,null,47.0,69.0,70.0,83.0,75.0,null,null,74.0,86.0,null,null,null,null,null,60.0,null,65.0,55.0,null,66.0,null,73.0,null,null,69.0,null,null,36.0,66.0,null,61.0,25.0,null,57.0,null,81.0,77.0,78.0,null,null,67.0,68.0,40.0,52.0,63.0,null,null,26.0,55.0,71.0,null,null,null,null,35.0,38.0,null,47.0,null,null,67.0,46.0,59.0,80.0,null,70.0,null,68.0,null,null,78.0,54.0,72.0,null,84.0,58.0,63.0,66.0,68.0,null,null,64.0,null,null,null,null,null,79.0,null,62.0,null,null,null,61.0,49.0,64.0,87.0,null,66.0,78.0,65.0,61.0,87.0,84.0,55.0,78.0,null,null,null,70.0,85.0,80.0,65.0,48.0,null,null,null,null,null,67.0,67.0,null,72.0,75.0,null,58.0,67.0,85.0,78.0,51.0,null,null,null,null,76.0,null,72.0,null,82.0,57.0,null,null,null,null,76.0,null,54.0,63.0,null,null,33.0,67.0,75.0,null,49.0,55.0,75.0,74.0,65.0,82.0,null,67.0,55.0,67.0,null,null,82.0,47.0,47.0,50.0,null,56.0,null,67.0,70.0,37.0,37.0,null,null,23.0,null,null,null,null,null,null,82.0,null,69.0,56.0,null,50.0,47.0,89.0,null,66.0,51.0,80.0,68.0,null,83.0,67.0,57.0,73.0,40.0,27.0,48.0,null,null,null,81.0,null,null,null,72.0,null,null,null,null,36.0,null,null,null,null,59.0,83.0,53.0,83.0,58.0,78.0,null,null,67.0,null,19.0,68.0,82.0,null,null,60.0,84.0,64.0,null,null,null,61.0,54.0,71.0,69.0,70.0,null,69.0,null,49.0,null,null,79.0,81.0,null,null,null,46.0,89.0,48.0,49.0,66.0,80.0,54.0,78.0,83.0,null,67.0,82.0,82.0,null,null,null,null,null,56.0,71.0,null,null,null,null,null,52.0,71.0,null,73.0,null,null,53.0,72.0,79.0,13.0,70.0,51.0,62.0,87.0,null,null,null,null,31.0,null,77.0,null,60.0,86.0,null,null,80.0,null,null,null,null,71.0,null,82.0,42.0,null,null,null,null,null,51.0,null,null,84.0,null,null,null,68.0,67.0,66.0,56.0,null,null,null,null,69.0,41.0,null,null,73.0,null,86.0,80.0,65.0,null,null,72.0,null,65.0,null,null,64.0,68.0,null,74.0,null,null,null,83.0,54.0,81.0,null,58.0,61.0,68.0,45.0,58.0,null,62.0,59.0,null,null,null,null,69.0,73.0,78.0,null,null,62.0,null,51.0,73.0,null,80.0,null,null,60.0,null,null,84.0,null,null,54.0,84.0,79.0,62.0,null,67.0,57.0,null,50.0,69.0,58.0,null,null,null,null,null,66.0,38.0,84.0,null,72.0,null,59.0,null,null,57.0,40.0,null,24.0,null,null,null,45.0,61.0,null,null,64.0,76.0,null,null,35.0,null,83.0,null,44.0,null,35.0,63.0,null,null,54.0,72.0,null,null,65.0,null,45.0,null,null,null,63.0,null,null,null,65.0,23.0,null,41.0,null,86.0,69.0,63.0,79.0,null,49.0,null,69.0,61.0,null,null,null,78.0,87.0,null,null,74.0,62.0,64.0,81.0,63.0,null,null,null,null],\"type\":\"box\"},{\"name\":\"Role-Playing\",\"y\":[null,null,null,null,null,null,null,null,null,92.0,96.0,null,92.0,90.0,83.0,87.0,null,92.0,76.0,85.0,null,93.0,92.0,87.0,81.0,83.0,94.0,85.0,89.0,88.0,80.0,null,93.0,null,null,94.0,87.0,89.0,88.0,91.0,84.0,92.0,90.0,86.0,94.0,null,null,null,null,null,null,83.0,null,82.0,93.0,96.0,93.0,85.0,91.0,87.0,null,null,null,85.0,79.0,72.0,null,86.0,73.0,null,82.0,null,83.0,null,null,75.0,68.0,87.0,84.0,94.0,null,null,82.0,69.0,null,87.0,81.0,null,90.0,77.0,null,null,82.0,62.0,89.0,92.0,89.0,75.0,79.0,86.0,null,74.0,94.0,76.0,null,null,82.0,89.0,null,75.0,91.0,null,null,83.0,78.0,78.0,80.0,53.0,null,87.0,89.0,null,80.0,94.0,53.0,84.0,54.0,null,80.0,null,null,85.0,80.0,84.0,null,94.0,93.0,77.0,87.0,null,null,null,null,81.0,86.0,null,null,92.0,71.0,null,91.0,null,91.0,null,null,null,68.0,null,null,84.0,77.0,85.0,91.0,59.0,75.0,86.0,85.0,null,null,64.0,69.0,87.0,null,78.0,null,86.0,null,null,null,84.0,null,88.0,null,81.0,null,73.0,null,93.0,null,null,null,null,86.0,80.0,75.0,68.0,null,66.0,87.0,null,null,80.0,null,89.0,null,77.0,91.0,86.0,89.0,null,87.0,null,null,null,null,64.0,85.0,64.0,66.0,null,85.0,82.0,79.0,92.0,78.0,73.0,71.0,82.0,null,70.0,74.0,80.0,68.0,69.0,92.0,null,81.0,71.0,84.0,null,83.0,75.0,81.0,90.0,null,78.0,81.0,null,null,null,80.0,86.0,null,79.0,null,75.0,72.0,65.0,79.0,88.0,null,null,45.0,null,null,null,null,null,80.0,63.0,91.0,null,null,79.0,72.0,74.0,85.0,72.0,79.0,74.0,83.0,93.0,null,65.0,50.0,89.0,68.0,null,null,null,78.0,66.0,82.0,76.0,84.0,89.0,null,68.0,77.0,58.0,null,null,null,63.0,73.0,74.0,null,80.0,63.0,77.0,74.0,82.0,null,null,60.0,89.0,null,89.0,78.0,null,null,68.0,81.0,70.0,85.0,null,null,null,81.0,null,null,67.0,null,58.0,73.0,83.0,42.0,null,null,null,71.0,79.0,78.0,null,80.0,78.0,77.0,83.0,null,83.0,null,56.0,null,77.0,78.0,null,null,null,null,69.0,71.0,67.0,null,83.0,78.0,87.0,82.0,null,69.0,81.0,null,null,null,69.0,89.0,68.0,68.0,78.0,77.0,71.0,70.0,74.0,77.0,67.0,91.0,null,null,63.0,88.0,66.0,68.0,null,77.0,72.0,81.0,null,null,65.0,null,84.0,null,null,66.0,null,75.0,70.0,70.0,null,null,null,null,86.0,null,null,null,84.0,null,null,80.0,45.0,51.0,74.0,47.0,57.0,66.0,64.0,null,74.0,79.0,null,null,75.0,74.0,null,77.0,null,null,null,null,null,77.0,null,72.0,null,59.0,66.0,73.0,null,null,57.0,null,null,94.0,70.0,null,87.0,null,63.0,null,71.0,82.0,78.0,78.0,null,84.0,68.0,null,null,null,null,null,null,55.0,null,65.0,72.0,null,81.0,79.0,81.0,67.0,73.0,70.0,70.0,80.0,null,57.0,72.0,null,78.0,76.0,83.0,null,59.0,86.0,75.0,77.0,null,87.0,null,65.0,null,84.0,75.0,84.0,74.0,86.0,null,null,50.0,79.0,85.0,88.0,75.0,null,null,75.0,53.0,null,77.0,null,73.0,58.0,61.0,79.0,73.0,null,null,null,54.0,81.0,null,69.0,null,null,null,63.0,62.0,null,67.0,null,85.0,71.0,null,69.0,null,67.0,74.0,84.0,65.0,null,81.0,80.0,null,null,76.0,73.0,null,null,null,92.0,61.0,null,71.0,null,null,80.0,null,80.0,78.0,null,null,null,67.0,69.0,null,null,null,null,null,null,null,null,76.0,84.0,null,null,82.0,null,80.0,83.0,59.0,null,67.0,70.0,null,null,77.0,94.0,null,null,52.0,64.0,67.0,null,null,null,36.0,null,null,null,89.0,null,83.0,77.0,null,null,82.0,63.0,null,43.0,79.0,null,56.0,80.0,null,null,70.0,53.0,null,77.0,70.0,71.0,85.0,53.0,null,null,61.0,62.0,72.0,62.0,63.0,77.0,null,null,52.0,null,null,82.0,87.0,86.0,null,87.0,null,null,55.0,79.0,50.0,null,null,null,72.0,84.0,79.0,69.0,73.0,47.0,null,67.0,null,53.0,66.0,78.0,71.0,60.0,null,null,76.0,null,68.0,74.0,76.0,77.0,null,69.0,null,null,null,null,76.0,null,69.0,69.0,89.0,null,null,64.0,53.0,57.0,null,52.0,null,87.0,null,75.0,76.0,null,86.0,65.0,null,90.0,71.0,null,59.0,58.0,83.0,null,76.0,70.0,81.0,null,null,53.0,71.0,78.0,71.0,69.0,null,66.0,null,null,72.0,64.0,85.0,79.0,68.0,null,80.0,60.0,72.0,null,null,79.0,63.0,69.0,77.0,65.0,80.0,null,null,82.0,61.0,76.0,null,null,48.0,69.0,null,84.0,62.0,null,null,91.0,null,72.0,74.0,null,null,null,null,62.0,83.0,null,null,null,null,70.0,null,null,null,42.0,72.0,null,77.0,null,null,null,null,null,null,55.0,74.0,75.0,null,67.0,82.0,null,null,null,80.0,55.0,74.0,null,48.0,null,65.0,72.0,null,null,null,64.0,78.0,60.0,null,90.0,80.0,null,68.0,null,null,74.0,66.0,83.0,null,null,76.0,56.0,null,69.0,null,61.0,81.0,null,68.0,null,null,63.0,null,null,null,62.0,null,60.0,65.0,null,79.0,null,null,93.0,93.0,55.0,64.0,77.0,null,58.0,75.0,null,null,35.0,null,null,null,null,72.0,null,null,72.0,null,79.0,null,58.0,null,76.0,null,65.0,null,null,null,88.0,58.0,null,42.0,73.0,null,null,78.0,null,null,73.0,68.0,null,null,null,60.0,null,null,67.0,null,null,null,62.0,null,77.0,null,null,null,null,75.0,null,59.0,47.0,null,70.0,null,null,null,null,68.0,64.0,null,null,null,null,65.0,61.0,76.0,null,50.0,null,69.0,81.0,null,75.0,null,null,null,null,null,null,null,null,null,null,null,69.0,null,null,null,null,null,null,75.0,59.0,null,56.0,81.0,null,null,null,76.0,73.0,null,null,75.0,null,58.0,null,76.0,null,41.0,null,56.0,75.0,null,null,60.0,null,73.0,null,65.0,null,53.0,63.0,64.0,null,71.0,null,null,66.0,null,71.0,null,null,null,null,64.0,68.0,null,61.0,null,64.0,null,46.0,73.0,45.0,93.0,null,null,68.0,45.0,65.0,58.0,null,46.0,44.0,null,null,null,43.0,53.0,null,null,75.0,null,55.0,59.0,null,65.0,null,null,null,null,70.0,null,null,48.0,null,null,76.0,null,null,77.0,74.0,82.0,null,null,null,36.0,null,null,null,43.0,73.0,null,58.0,72.0,null,63.0,null,null,null,71.0,51.0,null,null,null,null,69.0,null,null,null,null,null,null,null,null,50.0,71.0,74.0,null,null,null,null,83.0,null,null,null,72.0,71.0,89.0,null,null,46.0,78.0,null,null,null,83.0,null,67.0,null,null,63.0,null,49.0,56.0,57.0,83.0,null,null,null,null,57.0,null,56.0,null,null,null,null,null,null,74.0,null,64.0,60.0,null,44.0,69.0,55.0,null,null,null,78.0,null,59.0,null,null,61.0,68.0,null,59.0,null,76.0,null,60.0,48.0,null,null,null,null,null,null,81.0,null,null,52.0,null,68.0,null,null,66.0,71.0,null,71.0,null,null,null,69.0,71.0,null,67.0,68.0,60.0,null,60.0,64.0,null,null,null,60.0,77.0,65.0,null,63.0,null,null,70.0,57.0,76.0,null,51.0,null,null,58.0,null,null,null,null,67.0,null,null,66.0,null,null,51.0,61.0,null,77.0,68.0,null,60.0,null,null,null,null,71.0,null,null,null,null,null,null,null,null,65.0,82.0,null,null,null,null,72.0,null,null,null,62.0,null,64.0,null,null,null,null,null,null,null,null,78.0,null,69.0,65.0,null,null,null,null,null,null,null,null,null,null,null,null,65.0,null,null,null,null,null,null,null,null,null,null,null,69.0,null,null,72.0,56.0,null,null,74.0,68.0,null,null,null,71.0,null,null,null,66.0,null,null,null,null,null,null,null,null,null,72.0,91.0,null,null,null,62.0,null,null,null,null,null,null,null,null,null,70.0,null,null,null,null,null,83.0,48.0,null,null,60.0,null,null,null,null,65.0,58.0,null,null,91.0,54.0,null,null,null,89.0,71.0,null,65.0,70.0,null,null,null,null,null,null,73.0,null,44.0,null,null,null,73.0,47.0,null,null,null,null,null,null,null,null,null,83.0,74.0,76.0,68.0,84.0,62.0,72.0,null,null,null,80.0,null,null,null,null,null,58.0,null,82.0,86.0,null,null,null,null,62.0,null,66.0,null,null,null,78.0,77.0,null,null,null,null,null,null,null,81.0,null,null,null,57.0,57.0,65.0,null,null,null,85.0,null,null,null,null,null,70.0,null,null,69.0,null,77.0,null,null,null,null,null,null,null,null,null,89.0,null,null,null,null,null,53.0,null,null,null,null,62.0,null,87.0,76.0,null,null,null,null,null,68.0,null,null,null,null,null,null,84.0,null,66.0,null,82.0,null,null,56.0,null,null,null,null,null,82.0,null,null,90.0,null,null,null,null,null,56.0,55.0,83.0,61.0,55.0,null,null,82.0,null,null,null,null,null,72.0,null],\"type\":\"box\"},{\"name\":\"Puzzle\",\"y\":[null,77.0,null,null,null,85.0,null,84.0,86.0,79.0,83.0,79.0,83.0,null,null,null,79.0,84.0,44.0,71.0,null,null,null,null,65.0,null,63.0,37.0,null,null,null,87.0,81.0,87.0,63.0,60.0,null,null,null,null,null,null,null,85.0,81.0,76.0,81.0,null,null,null,null,null,null,null,null,71.0,null,76.0,76.0,71.0,null,null,53.0,null,null,79.0,null,null,76.0,81.0,58.0,null,null,86.0,82.0,null,null,null,null,72.0,null,null,null,null,null,null,null,null,66.0,72.0,75.0,67.0,null,56.0,86.0,null,83.0,83.0,null,null,null,72.0,null,53.0,65.0,86.0,null,79.0,null,null,null,null,null,null,69.0,74.0,68.0,null,null,null,null,74.0,null,null,null,null,null,null,75.0,82.0,null,75.0,80.0,86.0,74.0,null,73.0,null,null,49.0,null,60.0,null,null,null,null,null,null,null,null,null,71.0,75.0,70.0,null,75.0,null,null,71.0,null,null,null,71.0,null,null,null,73.0,88.0,null,63.0,null,null,null,88.0,null,null,null,null,null,47.0,null,52.0,null,57.0,68.0,null,null,null,null,null,null,62.0,null,null,46.0,null,null,null,null,null,null,59.0,null,null,null,null,null,63.0,62.0,null,74.0,null,74.0,null,62.0,null,73.0,null,null,null,77.0,75.0,75.0,null,null,null,40.0,null,39.0,64.0,null,43.0,null,76.0,null,null,null,null,68.0,70.0,83.0,78.0,null,67.0,68.0,null,null,64.0,69.0,null,null,null,41.0,null,68.0,60.0,71.0,null,null,78.0,79.0,68.0,null,69.0,null,59.0,63.0,66.0,56.0,84.0,null,null,null,null,74.0,76.0,null,null,null,null,null,55.0,null,null,null,null,null,75.0,79.0,null,52.0,64.0,null,61.0,71.0,68.0,null,25.0,28.0,null,72.0,null,77.0,71.0,null,46.0,null,75.0,79.0,70.0,null,null,83.0,71.0,67.0,null,82.0,null,null,null,62.0,52.0,null,70.0,61.0,77.0,82.0,45.0,null,56.0,null,null,null,59.0,51.0,83.0,51.0,null,78.0,null,73.0,69.0,null,75.0,null,58.0,null,68.0,null,null,null,null,null,null,null,null,null,null,74.0,72.0,70.0,null,null,null,null,null,66.0,null,54.0,null,65.0,66.0,61.0,null,65.0,null,null,null,null,65.0,null,null,null,74.0,61.0,null,68.0,37.0,null,72.0,null,62.0,null,null,null,null,null,null,null,74.0,null,null,73.0,84.0,78.0,69.0,null,70.0,75.0,74.0,null,null,77.0,71.0,null,null,null,70.0,null,null,54.0,null,null,53.0,null,38.0,null,null,null,null,null,null,null,68.0,null,56.0,null,null,null,null,null,null,null,null,null,34.0,null,null,null,null,null,74.0,50.0,null,null,62.0,37.0,null,90.0,null,null,null,null,null,null,null,null,null,null,null,null,76.0,null,64.0,null,47.0,null,null,55.0,68.0,51.0,62.0,null,null,88.0,null,null,null,null,null,62.0,null,null,45.0,null,67.0,null,null,null,null,null,60.0,null,null,62.0,null,null,null,null,null,null,null,null,null,null,null,null,null,null,null,null,null,null,null,70.0,null,null,65.0,84.0,58.0,null,null,null,null,null,76.0,null,null,70.0,null,60.0,null,60.0,null,null,null,null,72.0,null,null,58.0,null,null,null,null,75.0,37.0,null,null,null,70.0,null,null,null,55.0,42.0,null,64.0,null,null,null,null,null,null,null,null,null,null,53.0,48.0],\"type\":\"box\"},{\"name\":\"Misc\",\"y\":[58.0,61.0,77.0,74.0,74.0,null,72.0,68.0,62.0,49.0,74.0,74.0,null,null,92.0,82.0,86.0,85.0,77.0,56.0,null,79.0,80.0,56.0,null,61.0,null,59.0,68.0,null,86.0,null,71.0,83.0,68.0,null,63.0,82.0,73.0,83.0,81.0,82.0,73.0,null,null,null,85.0,75.0,null,25.0,70.0,92.0,71.0,null,91.0,null,73.0,80.0,83.0,74.0,null,92.0,92.0,null,null,69.0,80.0,null,75.0,86.0,48.0,73.0,70.0,null,null,null,57.0,92.0,84.0,null,70.0,29.0,49.0,null,null,67.0,null,72.0,null,null,65.0,null,89.0,null,20.0,null,null,71.0,92.0,null,null,66.0,72.0,64.0,null,null,89.0,null,64.0,null,91.0,null,null,76.0,null,null,73.0,71.0,65.0,76.0,79.0,null,null,64.0,63.0,null,89.0,78.0,null,67.0,56.0,null,73.0,null,null,70.0,null,null,70.0,null,null,77.0,null,null,76.0,85.0,null,82.0,80.0,77.0,71.0,88.0,69.0,82.0,76.0,null,86.0,73.0,null,null,84.0,null,null,48.0,92.0,null,null,null,null,79.0,70.0,54.0,null,null,79.0,null,77.0,null,60.0,null,null,null,null,null,70.0,85.0,39.0,null,60.0,null,59.0,75.0,86.0,null,null,68.0,null,null,93.0,null,63.0,null,null,73.0,58.0,80.0,72.0,null,null,86.0,null,null,86.0,86.0,74.0,76.0,null,84.0,null,57.0,71.0,84.0,76.0,null,71.0,null,66.0,null,87.0,null,null,86.0,null,null,76.0,null,null,49.0,null,null,75.0,65.0,null,null,70.0,62.0,null,74.0,null,null,null,null,70.0,null,null,null,null,76.0,null,null,null,null,null,null,78.0,null,73.0,null,91.0,null,null,62.0,null,75.0,86.0,null,88.0,null,null,null,null,49.0,null,null,59.0,null,null,72.0,null,null,56.0,null,null,null,null,82.0,33.0,null,null,74.0,91.0,null,67.0,73.0,null,null,71.0,56.0,47.0,null,81.0,70.0,null,41.0,null,null,null,null,null,null,null,null,null,null,null,null,70.0,null,null,null,66.0,79.0,65.0,null,null,null,47.0,null,null,null,null,66.0,78.0,68.0,null,null,null,null,75.0,78.0,57.0,null,76.0,null,null,79.0,null,55.0,73.0,null,68.0,79.0,82.0,null,null,null,46.0,69.0,62.0,76.0,null,null,71.0,null,null,68.0,null,null,null,null,80.0,null,78.0,null,null,null,null,null,null,null,53.0,null,null,null,63.0,65.0,null,73.0,null,null,77.0,null,74.0,53.0,46.0,null,null,71.0,null,null,null,75.0,null,null,46.0,75.0,null,null,null,null,76.0,null,null,null,null,null,null,null,75.0,null,null,43.0,null,73.0,null,59.0,null,66.0,null,null,null,null,null,null,69.0,null,null,64.0,null,79.0,72.0,76.0,null,null,78.0,null,60.0,null,null,null,78.0,77.0,null,54.0,66.0,66.0,70.0,83.0,87.0,76.0,73.0,null,null,null,null,73.0,49.0,null,null,83.0,null,null,null,54.0,null,null,null,null,67.0,75.0,51.0,null,null,null,75.0,55.0,null,null,80.0,65.0,null,null,null,75.0,80.0,66.0,null,null,66.0,null,81.0,null,null,82.0,76.0,null,null,null,null,60.0,null,87.0,null,58.0,null,null,null,63.0,null,null,null,74.0,null,null,null,null,26.0,null,null,null,null,68.0,78.0,null,null,null,null,72.0,57.0,74.0,null,null,null,null,69.0,null,null,null,30.0,null,null,null,null,75.0,73.0,null,null,null,50.0,null,null,66.0,54.0,66.0,null,null,null,null,74.0,null,59.0,null,38.0,null,null,60.0,null,null,null,42.0,null,null,null,null,null,58.0,59.0,null,null,46.0,null,null,null,66.0,null,null,49.0,null,null,79.0,null,52.0,null,56.0,null,null,null,null,null,null,59.0,null,48.0,null,null,null,68.0,null,64.0,null,78.0,null,null,null,null,null,56.0,null,null,73.0,null,63.0,null,78.0,42.0,null,null,null,60.0,null,null,null,null,73.0,null,53.0,46.0,null,63.0,null,null,53.0,62.0,76.0,null,56.0,null,81.0,66.0,null,null,null,null,null,null,66.0,59.0,null,73.0,null,83.0,63.0,null,null,null,null,null,null,null,null,null,null,null,null,66.0,null,19.0,69.0,null,82.0,null,69.0,null,82.0,null,null,53.0,null,60.0,null,null,null,60.0,null,null,null,null,null,null,37.0,67.0,81.0,null,82.0,null,null,75.0,null,null,null,null,null,null,null,null,null,null,null,null,57.0,null,null,null,60.0,null,null,null,null,null,null,77.0,49.0,42.0,null,null,null,null,null,null,null,null,null,null,null,null,63.0,null,null,null,null,51.0,84.0,null,69.0,83.0,64.0,null,null,null,52.0,null,53.0,null,null,null,null,null,47.0,null,null,null,null,null,74.0,null,null,58.0,86.0,null,75.0,null,null,null,null,34.0,null,null,null,null,null,null,null,72.0,69.0,73.0,82.0,null,null,62.0,38.0,73.0,null,66.0,null,null,null,null,null,81.0,null,70.0,null,null,null,null,null,null,null,null,null,49.0,null,null,null,72.0,null,null,72.0,57.0,72.0,null,null,52.0,null,null,74.0,null,null,null,67.0,null,null,null,59.0,null,null,null,null,null,null,33.0,null,null,null,null,null,null,null,null,77.0,null,77.0,null,null,null,49.0,null,null,null,null,null,null,null,null,null,69.0,81.0,68.0,null,null,81.0,null,null,null,null,null,43.0,null,null,56.0,68.0,null,null,null,79.0,67.0,67.0,64.0,null,36.0,54.0,null,null,null,null,null,38.0,null,44.0,null,null,62.0,null,65.0,null,65.0,75.0,null,null,null,null,48.0,null,null,51.0,null,null,null,79.0,53.0,null,null,null,null,null,null,null,null,33.0,null,null,null,null,null,null,null,null,null,null,38.0,null,null,null,null,null,null,null,75.0,51.0,null,62.0,null,null,78.0,null,64.0,null,null,null,66.0,null,59.0,null,83.0,null,83.0,87.0,36.0,null,null,null,null,null,null,61.0,null,null,null,null,null,null,null,null,null,null,68.0,null,null,54.0,28.0,null,75.0,null,null,52.0,null,null,null,28.0,60.0,null,62.0,null,70.0,null,null,null,78.0,null,null,66.0,null,null,null,56.0,null,null,null,null,null,null,null,null,77.0,null,null,null,null,null,47.0,null,null,null,54.0,81.0,71.0,null,null,null,null,null,null,null,null,59.0,null,null,null,null,null,null,66.0,null,null,null,82.0,null,null,null,67.0,32.0,null,null,75.0,null,null,null,39.0,null,null,null,null,null,null,60.0,null,null,null,null,null,null,null,42.0,80.0,null,null,null,71.0,null,58.0,64.0,null,null,32.0,null,null,null,null,null,57.0,null,null,null,null,null,null,null,null,null,null,61.0,69.0,null,null,null,null,null,48.0,63.0,null,null,null,80.0,null,null,null,79.0,null,null,84.0,56.0,null,null,null,null,38.0,null,null,null,null,null,null,null,null,null,80.0,null,null,null,null,null,null,null,null,null,79.0,null,null,null,79.0,null,null,68.0,null,null,null,null,null,null,46.0,null,null,null,null,74.0,null,null,null,null,null,null,67.0,null,null,null,null,null,null,null,null,null,null,54.0,79.0,null,72.0,null,null,null,null,null,null,null,null,null,null,null,33.0,null,null,null,63.0,null,null,null,null,null,80.0,null,49.0,null,null,null,70.0,null,null,null,null,73.0,47.0,null,null,null,null,null,65.0,57.0,null,70.0,null,40.0,null,null,null,null,null,null,null,null,null,null,null,null,80.0,null,null,null,66.0,null,null,null,63.0,null,null,null,null,null,null,null,null,null,null,79.0,null,null,null,null,55.0,null,null,null,55.0,null,null,null,61.0,null,null,64.0,null,null,null,null,null,null,null,null,null,null,null,null,null,71.0,null,null,null,null,null,73.0,null,null,null,null,50.0,52.0,null,null,null,30.0,null,null,null,null,75.0,null,null,null,null,null,null,null,null,null,null,46.0,null,null,null,39.0,null,null,26.0,null,40.0,null,null,51.0,null,null,null,77.0,null,null,null,null,43.0,78.0,null,null,null,52.0,null,null,44.0,null,74.0,null,null,null,null,null,50.0,null,82.0,null,null,null,null,37.0,null,null,null,72.0,null,60.0,null,null,79.0,null,null,67.0,null,null,null,null,null,null,null,null,null,null,null,null,null,null,null,null,null,null,null,76.0,null,null,null,null,null,null,null,null,null,null,68.0,78.0,null,null,null,null,null,68.0,null,null,null,null,null,null,null,null,null,null,null,null,null,null,null,null,null,null,null,null,null,null,null,null,null,65.0,null,null,75.0,null,null,null,null,null,70.0,null,71.0,null,null,null,null,null,null,null,null,null,null,null,null,null,null,71.0,73.0,null,null,null,null,null,63.0,67.0,null,null,null,null,null,null,null,null,null,61.0,76.0,null,null,null,null,null,52.0,null,null,null,null,null,null,null,null,null,null,null,null,null,null,null,null,null,null,null,null,null,69.0,null,null,null,null,null,null,null,null,null,null,null,null,null,null,null,null,null,null,null,60.0,null,null,null,null,null,null,null,null,null,null,null,null,null,null,null,null,null,null,null,null,null,null,null,null,null,null,null,null,null,null,null,null,null,null,null,67.0,null,null,null,null,null,null,null,null,null,null,null,null,null,null,null,74.0,null,null,null,null,null,54.0,79.0,null,null,null,null,null,null,null,null,null,null,null,null,null,null,null,55.0,null,null,null,null,null,null,null,null,null,null,null,null,null,null,null,null,null,null,null,null,null,null,66.0,null,null,null,null,null,null,60.0,null,null,null,null,67.0,null,null,null,null,null,null,null,null,null,null,null,null,58.0,null,null,null,null,null,null,null,null,null,null,null,null,null,null,null,null,null,null,null,null,null,null,null,null,null,null,37.0,null,null,61.0,null,null,null,null,82.0,null,null,null,null,null,null,null,null,null,null,null,null,null,null],\"type\":\"box\"},{\"name\":\"Shooter\",\"y\":[null,88.0,null,87.0,83.0,83.0,94.0,88.0,88.0,94.0,94.0,73.0,91.0,87.0,71.0,94.0,95.0,null,null,83.0,null,84.0,84.0,85.0,88.0,93.0,94.0,97.0,83.0,91.0,94.0,76.0,85.0,93.0,81.0,68.0,68.0,84.0,77.0,81.0,null,86.0,null,null,96.0,88.0,85.0,null,89.0,78.0,80.0,null,82.0,82.0,null,85.0,84.0,72.0,89.0,80.0,79.0,88.0,84.0,75.0,90.0,77.0,80.0,82.0,85.0,null,74.0,89.0,91.0,91.0,null,86.0,88.0,87.0,78.0,76.0,null,96.0,97.0,75.0,89.0,84.0,null,82.0,73.0,77.0,92.0,71.0,74.0,null,87.0,78.0,82.0,82.0,96.0,84.0,87.0,69.0,91.0,73.0,88.0,80.0,null,90.0,null,64.0,73.0,83.0,95.0,null,72.0,89.0,81.0,88.0,67.0,null,83.0,63.0,93.0,86.0,null,88.0,null,87.0,96.0,90.0,84.0,80.0,83.0,63.0,null,78.0,null,95.0,82.0,94.0,null,null,73.0,83.0,null,72.0,null,82.0,81.0,86.0,null,81.0,null,79.0,55.0,86.0,79.0,88.0,90.0,null,80.0,74.0,null,90.0,null,80.0,84.0,81.0,null,57.0,83.0,79.0,83.0,70.0,73.0,null,94.0,89.0,null,89.0,80.0,89.0,80.0,83.0,null,null,73.0,81.0,84.0,81.0,88.0,74.0,79.0,73.0,84.0,92.0,null,81.0,61.0,null,75.0,null,null,63.0,79.0,86.0,81.0,89.0,73.0,69.0,75.0,71.0,null,null,89.0,77.0,65.0,74.0,70.0,null,45.0,69.0,43.0,92.0,null,null,81.0,84.0,79.0,null,82.0,78.0,70.0,74.0,null,73.0,66.0,65.0,58.0,67.0,69.0,82.0,89.0,91.0,64.0,72.0,75.0,null,81.0,65.0,68.0,84.0,86.0,84.0,67.0,null,55.0,null,86.0,88.0,76.0,null,70.0,79.0,73.0,68.0,70.0,81.0,null,77.0,76.0,89.0,76.0,76.0,null,70.0,71.0,67.0,77.0,81.0,75.0,86.0,78.0,null,82.0,48.0,81.0,85.0,65.0,76.0,77.0,72.0,78.0,74.0,67.0,60.0,49.0,77.0,70.0,78.0,77.0,70.0,80.0,78.0,53.0,null,null,80.0,72.0,null,48.0,81.0,69.0,null,85.0,63.0,null,65.0,95.0,51.0,null,null,89.0,78.0,null,59.0,60.0,85.0,83.0,null,72.0,74.0,null,73.0,74.0,87.0,91.0,null,77.0,73.0,null,90.0,65.0,89.0,null,76.0,67.0,79.0,84.0,null,78.0,63.0,86.0,80.0,94.0,null,88.0,null,null,64.0,84.0,60.0,83.0,null,88.0,74.0,67.0,80.0,71.0,32.0,76.0,null,null,null,80.0,70.0,75.0,91.0,72.0,81.0,84.0,90.0,null,77.0,43.0,64.0,77.0,87.0,80.0,null,90.0,74.0,null,77.0,78.0,85.0,75.0,62.0,87.0,71.0,60.0,67.0,69.0,73.0,86.0,76.0,80.0,72.0,59.0,75.0,null,null,null,68.0,74.0,77.0,72.0,77.0,74.0,58.0,81.0,58.0,91.0,72.0,61.0,43.0,76.0,83.0,66.0,77.0,73.0,81.0,79.0,null,34.0,78.0,null,null,71.0,72.0,null,null,69.0,50.0,61.0,81.0,null,61.0,null,72.0,null,36.0,null,72.0,80.0,null,null,67.0,62.0,72.0,82.0,79.0,null,82.0,53.0,null,85.0,71.0,82.0,58.0,null,65.0,null,89.0,75.0,76.0,69.0,71.0,74.0,null,81.0,75.0,70.0,null,80.0,null,null,null,74.0,88.0,82.0,84.0,null,80.0,81.0,74.0,87.0,39.0,68.0,null,null,84.0,75.0,77.0,76.0,84.0,null,74.0,70.0,null,null,79.0,81.0,96.0,73.0,78.0,60.0,77.0,54.0,null,77.0,null,74.0,null,72.0,80.0,84.0,71.0,70.0,null,88.0,63.0,49.0,null,null,null,75.0,null,79.0,84.0,null,62.0,null,60.0,89.0,69.0,50.0,69.0,null,48.0,59.0,48.0,null,70.0,63.0,81.0,60.0,69.0,null,78.0,null,null,85.0,null,60.0,61.0,66.0,84.0,63.0,52.0,76.0,null,null,69.0,87.0,74.0,67.0,76.0,49.0,79.0,79.0,63.0,null,null,null,85.0,81.0,83.0,null,null,null,77.0,66.0,87.0,58.0,72.0,61.0,82.0,75.0,43.0,45.0,null,84.0,80.0,null,76.0,85.0,69.0,70.0,null,60.0,null,null,null,65.0,null,58.0,70.0,76.0,75.0,56.0,null,47.0,69.0,null,90.0,null,null,67.0,null,null,68.0,null,54.0,null,47.0,null,null,null,73.0,71.0,74.0,69.0,70.0,null,80.0,null,78.0,48.0,84.0,42.0,70.0,75.0,88.0,77.0,81.0,null,null,null,null,null,72.0,75.0,null,73.0,79.0,82.0,61.0,null,58.0,null,76.0,null,60.0,66.0,50.0,81.0,56.0,58.0,70.0,null,61.0,68.0,72.0,76.0,65.0,84.0,71.0,74.0,75.0,null,64.0,null,64.0,61.0,61.0,52.0,74.0,62.0,null,51.0,null,null,60.0,58.0,null,63.0,50.0,58.0,76.0,68.0,null,52.0,62.0,64.0,82.0,43.0,null,null,62.0,null,65.0,72.0,77.0,null,51.0,79.0,68.0,69.0,39.0,51.0,61.0,83.0,48.0,74.0,71.0,35.0,null,77.0,45.0,81.0,70.0,null,48.0,56.0,44.0,54.0,null,82.0,80.0,84.0,69.0,71.0,null,78.0,null,68.0,73.0,73.0,57.0,72.0,41.0,null,61.0,74.0,45.0,83.0,62.0,61.0,null,null,70.0,84.0,82.0,32.0,null,null,66.0,55.0,64.0,74.0,74.0,null,56.0,64.0,75.0,61.0,null,85.0,71.0,52.0,71.0,null,35.0,80.0,null,68.0,59.0,50.0,null,79.0,75.0,81.0,81.0,null,77.0,77.0,68.0,73.0,96.0,67.0,null,49.0,77.0,null,71.0,null,65.0,70.0,73.0,76.0,66.0,27.0,null,null,54.0,50.0,null,null,null,78.0,null,null,62.0,51.0,null,null,null,null,60.0,37.0,83.0,null,45.0,79.0,50.0,63.0,53.0,null,null,74.0,37.0,46.0,80.0,64.0,null,44.0,null,null,null,39.0,63.0,null,58.0,72.0,null,54.0,74.0,null,62.0,44.0,55.0,76.0,null,73.0,null,48.0,63.0,73.0,null,75.0,58.0,51.0,70.0,null,null,59.0,51.0,50.0,60.0,35.0,53.0,57.0,null,null,62.0,null,74.0,54.0,28.0,71.0,64.0,null,54.0,null,76.0,83.0,72.0,null,null,87.0,null,58.0,62.0,null,null,null,78.0,54.0,55.0,69.0,39.0,null,null,73.0,null,52.0,54.0,null,null,78.0,44.0,43.0,38.0,72.0,82.0,56.0,78.0,null,null,71.0,85.0,null,null,null,null,37.0,84.0,36.0,77.0,null,85.0,null,null,75.0,73.0,30.0,66.0,null,56.0,88.0,43.0,73.0,75.0,31.0,56.0,null,49.0,79.0,78.0,69.0,null,35.0,44.0,91.0,85.0,52.0,null,82.0,64.0,null,null,39.0,63.0,60.0,38.0,null,null,57.0,null,83.0,72.0,66.0,35.0,37.0,57.0,62.0,78.0,46.0,36.0,70.0,null,79.0,null,null,44.0,null,65.0,54.0,null,54.0,null,67.0,null,36.0,null,22.0,79.0,33.0,72.0,59.0,null,null,65.0,56.0,null,null,83.0,null,null,66.0,63.0,70.0,76.0,45.0,55.0,null,32.0,null,null,72.0,null,null,79.0,64.0,83.0,66.0,86.0,78.0,72.0,null,56.0,80.0,54.0,58.0,57.0,null,50.0,null,35.0,null,53.0,73.0,44.0,82.0,71.0,null,null,54.0,null,68.0,76.0,48.0,null,43.0,55.0,63.0,78.0,78.0,null,null,76.0,76.0,77.0,33.0,66.0,75.0,78.0,null,83.0,null,null,null,78.0,null,79.0,62.0,null,null,null,82.0,61.0,76.0,45.0,null,59.0,71.0,89.0,null,71.0,72.0,null,null,null,null,48.0,70.0,74.0,63.0,31.0,35.0,64.0,65.0,71.0,35.0,null,67.0,60.0,null,38.0,null,69.0,null,null,59.0,null,null,null,null,null,null,67.0,null,50.0,50.0,72.0,null,null,null,61.0,null,39.0,83.0,68.0,69.0,52.0,44.0,45.0,65.0,null,54.0,55.0,null,75.0,68.0,46.0,null,null,70.0,77.0,72.0,81.0,79.0,73.0,60.0,36.0,null,null,78.0,82.0,null,null,null,56.0,null,null,46.0,85.0,59.0,48.0,null,null,null,null,78.0,null,null,56.0,84.0,86.0,57.0,63.0,null,null,80.0,63.0,52.0,85.0,89.0,null,70.0,null,null,67.0,51.0,null,60.0,71.0,null,71.0,47.0,null,67.0,78.0,79.0,null,73.0,62.0,78.0,40.0,null,null,null,69.0,null,null,89.0,null,null,68.0,null,81.0,89.0,55.0,null,58.0,64.0,null,39.0,33.0,null,81.0,null,null,84.0,null,78.0,null,74.0,72.0,46.0,null,null,50.0,null,63.0,74.0,30.0,67.0,71.0,null,null,39.0,45.0,null,null,null,76.0,93.0,36.0,51.0,57.0,59.0,null,87.0,33.0,40.0,null,null,76.0,null,null,84.0,49.0,null,48.0,66.0,72.0,86.0,74.0,null,null,80.0,null,null,null,61.0,null,76.0,71.0,80.0,null,58.0,70.0,59.0,null,63.0,null,null,40.0,null,61.0,null],\"type\":\"box\"},{\"name\":\"Simulation\",\"y\":[null,86.0,88.0,86.0,67.0,null,null,73.0,null,79.0,67.0,null,70.0,89.0,87.0,75.0,66.0,70.0,61.0,null,null,83.0,73.0,81.0,76.0,null,null,74.0,null,77.0,49.0,73.0,null,78.0,80.0,90.0,null,null,85.0,82.0,70.0,84.0,55.0,84.0,null,74.0,null,79.0,68.0,84.0,74.0,69.0,58.0,76.0,null,null,null,64.0,null,65.0,null,null,null,null,76.0,59.0,null,85.0,73.0,null,null,null,83.0,76.0,null,73.0,87.0,null,null,null,null,null,null,null,65.0,84.0,83.0,null,73.0,null,null,80.0,86.0,70.0,75.0,null,66.0,null,65.0,71.0,70.0,61.0,63.0,null,83.0,88.0,62.0,76.0,null,57.0,null,65.0,null,75.0,75.0,57.0,null,70.0,78.0,64.0,null,52.0,76.0,76.0,65.0,null,66.0,66.0,58.0,43.0,50.0,77.0,81.0,null,74.0,73.0,69.0,67.0,null,null,81.0,64.0,null,null,null,70.0,72.0,56.0,null,null,null,null,69.0,null,81.0,null,null,null,81.0,null,null,81.0,null,null,68.0,null,67.0,82.0,null,null,82.0,null,82.0,null,56.0,78.0,70.0,80.0,75.0,null,81.0,65.0,null,null,85.0,null,81.0,null,null,65.0,82.0,80.0,null,67.0,74.0,null,null,null,null,null,null,66.0,null,null,null,78.0,null,null,71.0,null,null,80.0,84.0,91.0,73.0,null,null,78.0,76.0,66.0,76.0,82.0,69.0,null,null,75.0,null,66.0,null,73.0,61.0,76.0,null,65.0,58.0,null,33.0,57.0,null,82.0,null,75.0,null,null,null,null,null,null,null,71.0,null,77.0,null,null,null,81.0,null,null,81.0,null,null,81.0,77.0,65.0,80.0,null,70.0,69.0,null,null,null,73.0,null,null,null,null,82.0,74.0,null,null,79.0,null,null,null,null,76.0,null,58.0,null,null,null,65.0,null,68.0,null,64.0,null,79.0,null,90.0,null,null,43.0,69.0,76.0,77.0,71.0,84.0,null,null,null,null,null,71.0,null,null,null,null,null,41.0,null,57.0,null,66.0,null,75.0,46.0,null,87.0,null,null,76.0,null,null,73.0,null,null,null,null,64.0,null,null,77.0,null,62.0,null,null,49.0,75.0,null,null,65.0,null,null,71.0,83.0,null,61.0,null,73.0,null,null,null,null,null,null,null,null,72.0,59.0,null,49.0,56.0,null,68.0,null,null,null,null,33.0,51.0,82.0,null,63.0,68.0,66.0,75.0,null,59.0,65.0,null,null,null,49.0,81.0,null,null,62.0,null,null,60.0,null,null,null,51.0,null,null,51.0,null,null,null,64.0,null,59.0,null,null,82.0,42.0,40.0,null,null,null,73.0,70.0,72.0,61.0,null,null,null,73.0,62.0,67.0,null,null,null,null,77.0,null,null,59.0,null,null,64.0,70.0,null,null,null,74.0,null,40.0,null,null,null,85.0,null,null,72.0,null,null,62.0,null,null,null,null,null,78.0,null,null,76.0,null,null,null,63.0,null,null,null,null,60.0,null,null,68.0,null,null,65.0,null,74.0,null,53.0,null,75.0,null,66.0,null,null,null,66.0,null,41.0,null,67.0,null,null,73.0,null,null,null,null,82.0,null,79.0,62.0,null,null,78.0,null,51.0,77.0,null,null,65.0,null,null,null,null,null,null,42.0,null,null,null,null,null,83.0,null,61.0,null,null,null,81.0,null,null,45.0,null,null,null,null,null,null,null,null,75.0,null,null,null,null,null,null,69.0,61.0,48.0,null,null,54.0,null,null,null,null,null,null,null,null,null,null,null,43.0,null,71.0,33.0,null,null,90.0,null,null,null,null,null,null,null,null,49.0,64.0,61.0,null,null,null,null,null,null,null,null,67.0,null,null,null,78.0,null,88.0,null,69.0,49.0,null,56.0,57.0,null,62.0,66.0,41.0,null,60.0,null,null,null,null,57.0,65.0,null,null,null,65.0,null,null,null,72.0,null,null,null,null,null,null,null,null,null,null,null,71.0,81.0,null,null,null,null,null,null,70.0,36.0,65.0,null,57.0,null,60.0,null,null,null,null,70.0,null,66.0,null,null,null,74.0,null,null,null,null,49.0,85.0,null,null,49.0,92.0,null,null,47.0,79.0,null,84.0,67.0,null,null,null,null,48.0,75.0,null,86.0,null,74.0,null,null,null,92.0,null,76.0,null,41.0,null,null,null,null,48.0,null,84.0,null,null,null,null,70.0,null,53.0,53.0,null,71.0,null,null,null,null,null,64.0,null,null,null,55.0,null,null,60.0,null,31.0,null,null,59.0,null,76.0,null,70.0,66.0,null,null,null,64.0,null,null,null,null,null,46.0,null,66.0,null,null,62.0,null,null,70.0,74.0,33.0,null,null,null,null,null,65.0,null,73.0,null,null,null,null,null,null,null,null,null,null,null,70.0,78.0,72.0,null,null,null,70.0,63.0,86.0,90.0,null,null,46.0,null,null,null,null,null,null,null,null,43.0,null,null,65.0,null,null,null,null,38.0,null,null,null,null,null,null,null,76.0,null,null,null,null,null,69.0,null,null,null,null,null,null,72.0,56.0,null,null,null,null,null,null,null,null,null,null,62.0,null,null,61.0,79.0,null,91.0,null,null,null,72.0,null,null,53.0,72.0,null,null,null,null,null,null,null,null,null,null,null,null,null],\"type\":\"box\"},{\"name\":\"Action\",\"y\":[97.0,95.0,97.0,95.0,97.0,97.0,null,98.0,98.0,88.0,88.0,null,95.0,92.0,96.0,null,95.0,85.0,95.0,87.0,96.0,94.0,94.0,95.0,89.0,80.0,91.0,96.0,97.0,84.0,90.0,85.0,90.0,84.0,90.0,91.0,86.0,88.0,92.0,80.0,62.0,94.0,null,82.0,91.0,86.0,null,96.0,86.0,76.0,94.0,null,91.0,91.0,80.0,80.0,null,null,93.0,80.0,70.0,87.0,93.0,null,null,77.0,64.0,null,88.0,96.0,78.0,78.0,72.0,null,null,null,72.0,null,83.0,89.0,92.0,70.0,93.0,80.0,76.0,76.0,null,null,60.0,87.0,86.0,85.0,77.0,91.0,62.0,87.0,91.0,74.0,72.0,75.0,81.0,93.0,94.0,84.0,85.0,85.0,83.0,90.0,null,80.0,81.0,73.0,84.0,null,95.0,86.0,84.0,null,89.0,null,71.0,null,91.0,80.0,null,null,78.0,null,92.0,null,82.0,79.0,null,null,71.0,62.0,89.0,78.0,84.0,null,90.0,76.0,null,null,80.0,72.0,71.0,76.0,80.0,null,null,92.0,80.0,null,71.0,null,null,80.0,80.0,81.0,83.0,78.0,null,84.0,89.0,null,74.0,85.0,89.0,55.0,null,null,null,82.0,64.0,88.0,87.0,76.0,null,68.0,null,93.0,null,null,74.0,78.0,71.0,73.0,null,82.0,80.0,null,83.0,68.0,89.0,75.0,null,null,57.0,47.0,76.0,71.0,null,83.0,null,55.0,null,null,79.0,null,88.0,71.0,null,64.0,96.0,82.0,92.0,81.0,79.0,56.0,79.0,null,83.0,83.0,64.0,null,81.0,86.0,null,85.0,96.0,75.0,84.0,78.0,78.0,null,null,null,73.0,79.0,null,74.0,74.0,89.0,75.0,73.0,null,68.0,69.0,63.0,null,79.0,75.0,85.0,65.0,75.0,93.0,null,33.0,85.0,71.0,74.0,61.0,77.0,89.0,null,80.0,null,null,55.0,79.0,83.0,89.0,72.0,null,null,69.0,null,85.0,null,77.0,null,60.0,60.0,77.0,80.0,68.0,76.0,87.0,73.0,84.0,79.0,84.0,null,83.0,null,93.0,70.0,79.0,78.0,80.0,78.0,75.0,null,85.0,74.0,72.0,73.0,null,76.0,89.0,69.0,83.0,77.0,75.0,null,78.0,75.0,null,76.0,68.0,null,null,null,52.0,87.0,78.0,76.0,61.0,79.0,null,91.0,63.0,80.0,76.0,63.0,null,86.0,87.0,59.0,65.0,81.0,75.0,84.0,76.0,87.0,59.0,64.0,52.0,76.0,null,null,96.0,76.0,null,73.0,53.0,null,51.0,79.0,91.0,88.0,56.0,65.0,null,null,84.0,null,null,83.0,67.0,73.0,79.0,83.0,79.0,null,94.0,85.0,75.0,66.0,76.0,75.0,null,null,70.0,59.0,47.0,85.0,76.0,null,90.0,80.0,71.0,77.0,65.0,83.0,null,75.0,82.0,91.0,83.0,null,71.0,86.0,73.0,67.0,86.0,77.0,86.0,null,null,61.0,71.0,70.0,64.0,81.0,72.0,81.0,77.0,86.0,72.0,85.0,66.0,78.0,82.0,93.0,82.0,75.0,75.0,null,78.0,77.0,84.0,76.0,88.0,87.0,null,74.0,null,null,null,78.0,78.0,null,null,73.0,79.0,84.0,77.0,83.0,87.0,92.0,null,81.0,71.0,90.0,73.0,80.0,80.0,59.0,61.0,48.0,73.0,74.0,70.0,76.0,57.0,71.0,88.0,70.0,null,null,69.0,61.0,null,null,null,62.0,null,70.0,79.0,71.0,78.0,84.0,77.0,82.0,61.0,90.0,80.0,null,73.0,null,55.0,76.0,72.0,null,73.0,null,null,83.0,65.0,84.0,80.0,61.0,78.0,63.0,null,51.0,null,75.0,57.0,82.0,null,null,null,74.0,null,63.0,null,86.0,null,75.0,null,45.0,83.0,null,48.0,85.0,83.0,74.0,65.0,null,85.0,57.0,68.0,73.0,null,81.0,null,52.0,null,38.0,79.0,null,91.0,null,71.0,null,60.0,55.0,95.0,60.0,72.0,69.0,69.0,54.0,67.0,80.0,79.0,74.0,null,null,77.0,null,null,86.0,82.0,55.0,55.0,null,71.0,null,80.0,73.0,74.0,null,null,55.0,null,null,null,null,79.0,60.0,39.0,85.0,46.0,49.0,null,73.0,59.0,67.0,86.0,58.0,67.0,78.0,65.0,null,65.0,77.0,null,null,77.0,75.0,null,84.0,null,null,63.0,null,85.0,null,42.0,71.0,82.0,null,null,79.0,71.0,67.0,81.0,null,66.0,null,62.0,null,63.0,83.0,null,null,64.0,67.0,71.0,71.0,60.0,71.0,69.0,70.0,73.0,null,null,68.0,null,null,54.0,null,null,84.0,68.0,null,81.0,61.0,67.0,88.0,null,null,81.0,82.0,55.0,44.0,null,62.0,80.0,93.0,null,79.0,87.0,null,71.0,null,93.0,null,67.0,74.0,70.0,null,48.0,null,58.0,73.0,70.0,null,71.0,null,62.0,84.0,62.0,68.0,71.0,52.0,43.0,35.0,null,90.0,72.0,null,86.0,83.0,null,88.0,77.0,null,66.0,null,80.0,44.0,58.0,null,null,55.0,68.0,38.0,73.0,85.0,77.0,null,52.0,76.0,60.0,null,82.0,null,null,45.0,null,57.0,null,74.0,66.0,58.0,75.0,null,78.0,62.0,77.0,null,77.0,78.0,null,74.0,null,67.0,64.0,null,83.0,77.0,58.0,null,83.0,84.0,80.0,94.0,null,80.0,null,67.0,75.0,null,null,70.0,86.0,null,null,47.0,82.0,58.0,null,null,85.0,47.0,41.0,83.0,62.0,75.0,62.0,69.0,82.0,59.0,null,null,null,null,69.0,47.0,60.0,82.0,91.0,84.0,46.0,87.0,70.0,71.0,null,61.0,82.0,78.0,68.0,58.0,69.0,null,null,74.0,76.0,59.0,53.0,55.0,56.0,62.0,null,76.0,73.0,56.0,47.0,null,83.0,62.0,44.0,83.0,54.0,78.0,null,null,null,65.0,67.0,null,64.0,null,null,61.0,54.0,55.0,null,null,69.0,49.0,78.0,76.0,65.0,null,null,66.0,null,58.0,56.0,null,85.0,null,null,87.0,73.0,70.0,72.0,82.0,null,null,null,null,null,60.0,null,null,90.0,87.0,69.0,34.0,59.0,null,null,48.0,79.0,55.0,54.0,59.0,85.0,81.0,74.0,null,69.0,83.0,null,null,null,80.0,null,null,64.0,null,null,41.0,67.0,63.0,70.0,75.0,46.0,null,70.0,null,65.0,null,null,69.0,null,null,null,null,null,53.0,58.0,72.0,38.0,null,61.0,null,null,77.0,70.0,47.0,64.0,78.0,null,56.0,null,50.0,null,85.0,68.0,83.0,null,69.0,null,79.0,86.0,53.0,57.0,55.0,65.0,null,71.0,null,null,74.0,null,73.0,58.0,null,null,68.0,43.0,51.0,null,43.0,62.0,74.0,77.0,null,null,64.0,68.0,null,76.0,null,56.0,68.0,null,null,null,null,null,61.0,null,64.0,60.0,null,null,61.0,59.0,69.0,80.0,null,65.0,70.0,null,58.0,54.0,46.0,77.0,81.0,null,70.0,null,null,70.0,52.0,81.0,80.0,55.0,null,58.0,null,null,null,56.0,69.0,50.0,68.0,43.0,null,51.0,null,null,null,67.0,null,49.0,null,78.0,null,71.0,null,71.0,86.0,57.0,53.0,77.0,null,null,55.0,null,77.0,36.0,77.0,null,61.0,84.0,null,null,null,38.0,null,null,null,77.0,null,null,66.0,null,null,41.0,43.0,67.0,82.0,82.0,null,70.0,61.0,null,75.0,null,71.0,38.0,47.0,74.0,65.0,null,78.0,null,null,50.0,84.0,null,79.0,54.0,49.0,56.0,null,null,67.0,80.0,null,null,28.0,76.0,63.0,51.0,62.0,null,null,65.0,74.0,80.0,null,68.0,52.0,null,79.0,73.0,null,69.0,59.0,68.0,53.0,60.0,72.0,null,null,84.0,null,null,null,63.0,76.0,60.0,83.0,null,77.0,null,null,null,84.0,null,68.0,63.0,null,59.0,null,85.0,39.0,71.0,80.0,null,65.0,null,null,null,27.0,71.0,86.0,81.0,69.0,62.0,57.0,66.0,73.0,null,73.0,61.0,null,null,null,null,null,67.0,56.0,null,69.0,null,null,57.0,79.0,62.0,52.0,null,null,58.0,null,54.0,null,null,null,44.0,69.0,null,68.0,62.0,62.0,58.0,67.0,null,59.0,null,78.0,54.0,47.0,55.0,66.0,null,63.0,null,72.0,null,45.0,65.0,null,null,41.0,null,75.0,44.0,null,72.0,68.0,null,72.0,75.0,null,91.0,92.0,43.0,64.0,45.0,70.0,null,59.0,null,null,63.0,71.0,65.0,null,72.0,57.0,74.0,64.0,null,null,73.0,78.0,68.0,null,32.0,null,null,26.0,null,81.0,59.0,null,69.0,41.0,81.0,null,null,46.0,null,null,49.0,58.0,null,59.0,73.0,62.0,66.0,null,65.0,75.0,null,53.0,66.0,null,46.0,74.0,null,76.0,60.0,73.0,null,null,69.0,56.0,76.0,null,70.0,70.0,68.0,60.0,74.0,null,67.0,73.0,null,null,null,59.0,61.0,64.0,null,60.0,null,null,null,70.0,null,77.0,68.0,null,47.0,76.0,null,65.0,56.0,61.0,86.0,50.0,null,69.0,85.0,61.0,40.0,null,54.0,null,90.0,null,58.0,59.0,56.0,57.0,58.0,null,null,59.0,69.0,null,null,68.0,78.0,71.0,null,70.0,65.0,84.0,71.0,null,61.0,null,null,null,55.0,71.0,null,60.0,75.0,null,null,null,null,78.0,null,64.0,68.0,null,72.0,41.0,65.0,81.0,null,null,null,60.0,69.0,null,75.0,null,61.0,41.0,62.0,68.0,77.0,null,null,65.0,69.0,56.0,null,null,40.0,null,73.0,53.0,55.0,null,51.0,null,55.0,68.0,49.0,59.0,55.0,null,null,64.0,63.0,null,null,null,null,67.0,null,null,59.0,75.0,74.0,78.0,71.0,80.0,null,56.0,null,null,null,null,69.0,86.0,76.0,30.0,null,57.0,85.0,42.0,65.0,null,null,62.0,38.0,63.0,63.0,70.0,null,null,64.0,null,null,57.0,43.0,null,50.0,53.0,63.0,39.0,58.0,62.0,79.0,null,57.0,null,76.0,82.0,76.0,67.0,83.0,null,81.0,58.0,52.0,71.0,null,null,null,null,60.0,61.0,null,null,50.0,63.0,68.0,null,62.0,75.0,null,49.0,50.0,67.0,null,59.0,42.0,null,69.0,47.0,null,80.0,null,65.0,63.0,null,77.0,null,null,79.0,68.0,68.0,64.0,47.0,89.0,84.0,null,58.0,null,27.0,58.0,null,81.0,66.0,59.0,57.0,null,74.0,null,null,null,77.0,82.0,null,62.0,61.0,64.0,51.0,null,null,null,74.0,null,null,null,null,null,null,null,null,null,82.0,null,58.0,null,68.0,77.0,null,null,86.0,80.0,46.0,49.0,58.0,49.0,88.0,49.0,70.0,null,null,80.0,61.0,null,null,58.0,60.0,72.0,80.0,null,61.0,null,70.0,null,51.0,null,null,43.0,null,66.0,40.0,46.0,null,null,55.0,null,70.0,null,null,null,85.0,null,null,74.0,54.0,83.0,72.0,79.0,47.0,43.0,81.0,69.0,38.0,65.0,88.0,55.0,71.0,78.0,40.0,53.0,68.0,54.0,33.0,null,null,55.0,70.0,null,null,40.0,72.0,73.0,71.0,null,null,null,null,67.0,53.0,null,36.0,73.0,65.0,62.0,72.0,71.0,null,75.0,67.0,53.0,49.0,71.0,65.0,null,58.0,null,65.0,null,null,83.0,53.0,47.0,55.0,57.0,63.0,58.0,51.0,78.0,null,70.0,null,null,69.0,64.0,72.0,61.0,74.0,49.0,null,null,null,60.0,63.0,74.0,56.0,62.0,60.0,null,null,65.0,63.0,69.0,null,null,49.0,null,null,82.0,73.0,70.0,70.0,71.0,58.0,82.0,80.0,null,null,67.0,64.0,68.0,null,55.0,82.0,74.0,null,72.0,67.0,null,null,68.0,55.0,76.0,86.0,44.0,62.0,66.0,65.0,null,76.0,null,64.0,51.0,71.0,73.0,72.0,null,null,null,84.0,null,null,null,null,54.0,72.0,64.0,69.0,null,65.0,71.0,60.0,56.0,63.0,58.0,52.0,null,76.0,70.0,null,null,null,67.0,68.0,null,62.0,51.0,null,38.0,null,51.0,65.0,null,75.0,null,null,61.0,null,null,null,59.0,null,74.0,null,null,52.0,69.0,65.0,null,71.0,54.0,56.0,null,72.0,60.0,82.0,61.0,77.0,null,48.0,58.0,57.0,null,71.0,65.0,null,47.0,null,null,46.0,null,63.0,48.0,35.0,null,73.0,58.0,51.0,78.0,67.0,null,null,53.0,68.0,54.0,73.0,45.0,57.0,58.0,50.0,61.0,null,76.0,null,null,null,null,null,74.0,69.0,42.0,null,65.0,null,59.0,null,76.0,66.0,75.0,81.0,51.0,75.0,71.0,67.0,51.0,56.0,null,null,66.0,null,null,null,null,61.0,63.0,50.0,null,null,null,null,null,null,null,70.0,null,null,null,63.0,60.0,null,null,68.0,null,50.0,null,59.0,60.0,78.0,null,null,null,75.0,56.0,65.0,53.0,81.0,85.0,null,null,null,30.0,null,53.0,null,55.0,75.0,null,57.0,74.0,null,null,null,83.0,null,null,47.0,null,null,43.0,56.0,51.0,50.0,null,null,null,null,null,54.0,null,null,73.0,null,84.0,null,84.0,66.0,null,null,null,null,null,null,74.0,39.0,74.0,62.0,63.0,null,66.0,83.0,59.0,59.0,null,74.0,null,80.0,60.0,50.0,null,null,74.0,38.0,null,null,null,null,35.0,null,null,81.0,null,null,64.0,39.0,null,54.0,19.0,71.0,79.0,null,null,null,null,null,null,73.0,50.0,null,null,45.0,51.0,75.0,48.0,63.0,58.0,63.0,null,58.0,null,null,78.0,30.0,null,null,60.0,46.0,null,66.0,null,47.0,50.0,null,null,null,76.0,null,null,null,59.0,null,53.0,null,null,null,null,null,41.0,65.0,52.0,63.0,50.0,39.0,28.0,44.0,null,56.0,79.0,null,null,82.0,null,80.0,70.0,null,61.0,null,83.0,48.0,86.0,65.0,62.0,null,24.0,80.0,42.0,67.0,68.0,null,67.0,48.0,61.0,null,61.0,57.0,59.0,null,39.0,52.0,null,null,73.0,null,68.0,61.0,null,null,36.0,null,null,84.0,null,null,59.0,81.0,null,53.0,null,53.0,null,null,null,null,68.0,52.0,null,null,null,null,64.0,33.0,53.0,64.0,33.0,63.0,49.0,null,65.0,null,null,28.0,null,null,86.0,null,null,74.0,65.0,45.0,72.0,null,null,null,null,50.0,75.0,50.0,73.0,74.0,68.0,77.0,73.0,55.0,57.0,78.0,66.0,null,54.0,79.0,null,null,70.0,68.0,null,62.0,72.0,62.0,71.0,77.0,null,null,45.0,81.0,null,67.0,74.0,null,null,null,75.0,25.0,null,67.0,53.0,39.0,68.0,null,null,null,null,37.0,63.0,null,null,null,56.0,70.0,39.0,50.0,79.0,56.0,null,null,null,null,72.0,null,null,null,59.0,76.0,50.0,59.0,null,64.0,50.0,66.0,null,77.0,49.0,null,58.0,45.0,79.0,44.0,null,48.0,null,null,53.0,76.0,null,43.0,56.0,null,null,64.0,null,83.0,55.0,null,null,45.0,null,null,null,50.0,null,null,null,59.0,null,70.0,null,52.0,74.0,81.0,61.0,null,null,null,72.0,52.0,66.0,51.0,null,34.0,39.0,null,null,60.0,null,70.0,null,53.0,53.0,null,85.0,null,null,null,33.0,65.0,65.0,37.0,75.0,null,null,null,null,null,null,null,77.0,77.0,null,null,36.0,null,54.0,43.0,47.0,46.0,67.0,73.0,53.0,53.0,55.0,57.0,56.0,60.0,71.0,null,null,null,null,null,null,null,62.0,71.0,54.0,74.0,null,54.0,null,null,61.0,62.0,null,60.0,null,null,null,63.0,null,null,null,null,63.0,null,null,null,null,null,null,58.0,44.0,52.0,94.0,null,null,57.0,null,71.0,56.0,63.0,46.0,44.0,null,71.0,43.0,70.0,69.0,77.0,null,79.0,85.0,null,58.0,null,69.0,null,67.0,69.0,null,null,null,null,null,78.0,63.0,76.0,43.0,76.0,null,null,39.0,null,71.0,68.0,null,null,66.0,50.0,62.0,28.0,72.0,55.0,null,null,63.0,null,74.0,null,70.0,54.0,70.0,60.0,null,null,null,null,null,null,null,51.0,null,60.0,null,64.0,70.0,null,null,null,69.0,null,null,null,null,51.0,null,60.0,null,78.0,null,52.0,null,65.0,null,62.0,20.0,78.0,null,64.0,null,null,62.0,58.0,40.0,62.0,null,80.0,null,null,49.0,65.0,66.0,null,29.0,57.0,71.0,69.0,78.0,68.0,61.0,null,72.0,74.0,80.0,66.0,69.0,null,null,null,74.0,null,null,52.0,null,null,91.0,null,55.0,60.0,62.0,63.0,null,null,null,null,null,70.0,null,70.0,null,33.0,60.0,null,null,null,null,40.0,null,62.0,27.0,null,null,null,66.0,73.0,null,null,null,null,null,47.0,null,null,null,null,null,61.0,null,67.0,32.0,50.0,null,null,70.0,null,44.0,null,69.0,59.0,34.0,71.0,null,null,null,null,75.0,null,72.0,58.0,47.0,null,null,73.0,null,null,75.0,null,null,null,56.0,79.0,null,58.0,55.0,null,56.0,null,null,null,null,null,null,null,70.0,null,null,null,57.0,61.0,73.0,null,63.0,86.0,55.0,null,null,null,null,83.0,null,57.0,48.0,51.0,55.0,null,null,64.0,83.0,32.0,null,51.0,49.0,70.0,63.0,null,66.0,null,55.0,null,null,37.0,null,null,null,null,68.0,null,null,76.0,67.0,68.0,null,null,null,null,null,null,null,67.0,68.0,null,68.0,76.0,80.0,null,null,null,null,null,null,71.0,null,null,null,null,55.0,null,null,null,null,63.0,null,null,null,66.0,66.0,null,null,null,null,54.0,43.0,59.0,null,62.0,60.0,null,58.0,58.0,null,29.0,69.0,null,null,null,null,30.0,60.0,78.0,null,42.0,48.0,77.0,null,59.0,45.0,54.0,null,44.0,null,null,null,27.0,73.0,50.0,60.0,64.0,null,59.0,null,null,62.0,null,33.0,null,65.0,70.0,65.0,null,null,53.0,null,76.0,null,53.0,35.0,43.0,65.0,null,null,42.0,58.0,69.0,57.0,71.0,null,null,null,66.0,null,null,null,null,59.0,41.0,null,66.0,null,null,59.0,null,57.0,61.0,67.0,null,58.0,null,61.0,null,79.0,72.0,66.0,null,null,null,null,48.0,null,null,71.0,53.0,null,null,null,37.0,null,null,null,null,64.0,null,null,null,null,null,null,73.0,64.0,65.0,null,null,40.0,64.0,55.0,null,56.0,30.0,57.0,66.0,84.0,68.0,null,null,75.0,null,null,null,null,46.0,null,null,null,50.0,null,null,63.0,null,null,75.0,null,null,null,39.0,null,null,88.0,null,null,null,null,35.0,null,null,null,49.0,66.0,null,null,55.0,68.0,null,null,61.0,70.0,60.0,null,null,null,null,null,null,null,null,47.0,43.0,null,42.0,null,null,null,null,68.0,null,75.0,37.0,null,null,46.0,45.0,null,42.0,78.0,null,null,47.0,61.0,78.0,65.0,null,null,66.0,null,null,84.0,null,null,null,null,53.0,77.0,52.0,null,null,null,62.0,59.0,78.0,94.0,null,null,60.0,48.0,null,null,null,null,42.0,null,51.0,72.0,null,null,null,null,75.0,38.0,null,58.0,null,49.0,58.0,69.0,53.0,63.0,54.0,null,63.0,73.0,67.0,56.0,null,72.0,null,null,null,null,null,null,null,null,null,null,54.0,null,50.0,null,83.0,null,73.0,null,63.0,null,null,null,null,null,null,55.0,null,60.0,null,82.0,null,48.0,null,null,null,null,null,null,null,null,null,71.0,null,null,null,null,null,null,75.0,null,null,null,null,73.0,84.0,null,null,79.0,80.0,null,null,56.0,null,null,64.0,null,null,null,74.0,null,null,null,null,null,67.0,null,78.0,null,null,null,null,null,56.0,43.0,null,null,null,null,null,null,null,58.0,null,59.0,null,null,57.0,null,64.0,null,null,null,54.0,null,null,null,76.0,70.0,null,null,70.0,null,73.0,null,44.0,null,null,73.0,null,null,82.0,null,39.0,63.0,null,null,null,null,null,null,null,79.0,null,null,57.0,null,77.0,null,null,null,null,null,null,82.0,null,null,75.0,null,74.0,null,66.0,null,55.0,null,null,null,null,46.0,59.0,57.0,72.0,null,72.0,null,null,null,null,null,null,null,null,62.0,null,null,null,57.0,null,null,null,null,null,null,86.0,58.0,null,53.0,null,null,null,null,66.0,65.0,null,null,null,null,51.0,null,null,null,null,null,null,52.0,73.0,null,73.0,null,null,67.0,null,59.0,null,null,null,71.0,null,null,null,53.0,null,null,57.0,null,null,64.0,null,null,null,null,null,null,null,null,55.0,null,null,null,null,52.0,null,59.0,52.0,null,null,null,null,79.0,null,null,null,73.0,null,null,null,70.0,26.0,null,null,null,null,null,null,null,null,74.0,null,67.0,null,null,null,null,null,23.0,null,null,null,65.0,null,62.0,null,null,null,null,null,72.0,null,null,82.0,null,74.0,null,null,null,39.0,null,46.0,null,52.0,null,null,null,null,null,48.0,50.0,null,null,null,82.0,null,null,null,null,null,42.0,null,null,null,null,null,62.0,null,null,null,75.0,null,null,null,52.0,null,null,null,null,57.0,null,59.0,65.0,null,null,null,null,60.0,31.0,null,null,null,null,null,null,86.0,50.0,null,null,null,null,null,null,null,null,null,null,66.0,null,null,null,null,67.0,null,66.0,null,67.0,null,null,65.0,null,72.0,null,null,null,null,null,77.0,null,null,26.0,null,null,80.0,93.0,null,69.0,null,null,null,null,null,null,null,null,null,75.0,null,null,null,null,null,null,null,null,56.0,57.0,null,null,77.0,null,null,null,null,null,27.0,null,null,76.0,null,null,null,null,null,null,null,67.0,44.0,null,null,null,null,79.0,null,52.0,null,null,42.0,null,35.0,null,null,null,null,51.0,null,null,null,58.0,null,null,null,null,null,null,null,78.0,null,null,null,null,65.0,70.0,80.0,null,null,null,null,null,null,null,81.0,null,null,null,74.0,null,46.0,null,null,null,null,null,null,null,80.0,null,67.0,null,null],\"type\":\"box\"},{\"name\":\"Fighting\",\"y\":[93.0,null,96.0,92.0,null,89.0,null,null,94.0,null,85.0,88.0,null,79.0,null,null,null,null,67.0,null,73.0,null,null,93.0,84.0,null,null,null,null,83.0,79.0,null,null,80.0,79.0,66.0,null,null,71.0,79.0,86.0,83.0,92.0,null,76.0,80.0,77.0,null,null,72.0,81.0,null,94.0,87.0,null,84.0,83.0,null,null,83.0,null,72.0,null,85.0,84.0,null,null,88.0,null,93.0,null,null,85.0,86.0,85.0,null,null,null,71.0,null,85.0,null,87.0,81.0,86.0,84.0,null,null,74.0,84.0,null,80.0,71.0,69.0,78.0,null,85.0,76.0,null,68.0,78.0,72.0,81.0,83.0,79.0,84.0,69.0,74.0,85.0,40.0,null,null,null,86.0,75.0,75.0,null,80.0,74.0,93.0,72.0,74.0,76.0,null,92.0,59.0,null,81.0,78.0,77.0,null,79.0,null,null,77.0,78.0,75.0,88.0,74.0,null,71.0,82.0,64.0,79.0,84.0,null,75.0,60.0,73.0,null,74.0,86.0,null,53.0,null,57.0,null,null,81.0,null,null,72.0,81.0,null,81.0,null,70.0,null,null,78.0,86.0,74.0,72.0,93.0,73.0,null,null,null,65.0,null,72.0,null,85.0,null,78.0,null,78.0,85.0,57.0,74.0,null,null,null,null,58.0,75.0,51.0,88.0,32.0,null,48.0,77.0,71.0,87.0,73.0,81.0,68.0,null,68.0,null,null,null,70.0,70.0,84.0,null,55.0,80.0,85.0,75.0,68.0,null,74.0,74.0,80.0,56.0,70.0,73.0,81.0,83.0,58.0,66.0,64.0,null,72.0,null,null,null,null,61.0,83.0,75.0,85.0,62.0,49.0,72.0,null,83.0,null,82.0,null,56.0,79.0,79.0,74.0,null,75.0,73.0,null,null,null,null,null,61.0,81.0,75.0,84.0,87.0,null,null,null,null,81.0,66.0,null,71.0,null,62.0,null,null,72.0,54.0,61.0,null,null,72.0,null,77.0,null,55.0,48.0,null,null,null,86.0,49.0,null,null,71.0,66.0,null,67.0,79.0,null,87.0,null,98.0,74.0,75.0,83.0,null,76.0,null,59.0,null,76.0,79.0,59.0,80.0,83.0,61.0,66.0,null,null,null,67.0,76.0,null,58.0,null,68.0,null,58.0,82.0,85.0,null,32.0,54.0,null,null,83.0,null,81.0,77.0,61.0,73.0,null,55.0,49.0,80.0,null,null,null,null,null,null,72.0,58.0,null,68.0,null,46.0,84.0,89.0,null,65.0,null,66.0,null,null,73.0,null,52.0,null,63.0,null,70.0,null,null,64.0,null,84.0,null,53.0,null,81.0,null,null,51.0,null,null,null,61.0,null,null,null,null,71.0,71.0,null,null,null,null,61.0,61.0,null,80.0,62.0,null,56.0,null,null,null,26.0,null,null,null,74.0,51.0,74.0,28.0,null,82.0,48.0,null,57.0,67.0,null,63.0,null,null,64.0,null,73.0,75.0,null,23.0,null,null,null,68.0,61.0,54.0,82.0,79.0,36.0,null,null,null,75.0,59.0,null,70.0,54.0,58.0,null,null,87.0,null,null,null,53.0,null,null,50.0,null,66.0,null,77.0,49.0,null,57.0,null,null,null,null,64.0,null,null,74.0,null,77.0,44.0,63.0,null,60.0,82.0,79.0,null,null,74.0,79.0,null,83.0,null,null,74.0,null,86.0,63.0,null,null,59.0,null,null,null,null,null,63.0,null,null,null,null,84.0,null,65.0,null,26.0,null,55.0,75.0,62.0,null,83.0,91.0,null,77.0,null,50.0,63.0,62.0,null,null,null,null,79.0,null,null,47.0,57.0,61.0,71.0,null,65.0,null,null,59.0,43.0,null,null,54.0,null,null,null,null,null,null,63.0,43.0,69.0,null,82.0,68.0,77.0,71.0,70.0,null,56.0,null,83.0,64.0,37.0,null,66.0,75.0,54.0,null,66.0,72.0,null,null,null,80.0,57.0,null,71.0,null,null,null,null,null,null,null,71.0,28.0,null,73.0,null,null,58.0,62.0,80.0,74.0,null,63.0,null,59.0,73.0,49.0,null,null,null,null,null,73.0,null,null,71.0,null,null,85.0,34.0,null,null,null,null,null,null,null,null,null,85.0,49.0,66.0,null,null,46.0,null,80.0,null,null,null,67.0,null,null,null,null,null,null,null,null,null,null,null,null,null,61.0,null,38.0,44.0,null,null,null,null,null,55.0,null,null,null,58.0,null,79.0,24.0,70.0,53.0,null,73.0,54.0,null,null,null,null,null,45.0,55.0,37.0,null,60.0,null,35.0,null,null,null,null,null,null,33.0,67.0,null,null,null,null,null,null,null,74.0,null,null,74.0,null,null,null,null,null,null,null,null,49.0,76.0,null,50.0,null,null,68.0,60.0,null,null,null,60.0,null,null,null,null,58.0,46.0,null,null,null,null,60.0,77.0,null,null,60.0,null,null,null,null,70.0,61.0,null,71.0,37.0,75.0,61.0,null,null,null,null,null,null,null,null,null,null,null,null,68.0,null,null,null,null,null,61.0,38.0,null,null,null,80.0,null,76.0,null,null,null,null,null,null,null,null,null,76.0,null,null,null,null,null,null,null,null,null,null,null,26.0,null,null,null,null,58.0,null,79.0,null,58.0,null,62.0,null,null,40.0,65.0,null,null,null,null,null,43.0,null,64.0,null,null,null,null,75.0,null,null,null,null,56.0,null,null,null,null,null,null,null,53.0,null,null,49.0,null,81.0],\"type\":\"box\"},{\"name\":\"Adventure\",\"y\":[null,81.0,81.0,null,null,89.0,null,87.0,null,89.0,83.0,73.0,84.0,null,null,82.0,null,null,null,null,79.0,70.0,null,null,68.0,null,86.0,null,null,null,null,65.0,null,null,88.0,62.0,77.0,60.0,72.0,78.0,null,78.0,52.0,null,71.0,81.0,null,84.0,null,null,89.0,null,null,null,66.0,null,null,39.0,62.0,null,null,null,null,78.0,79.0,null,73.0,null,null,null,null,null,null,null,null,null,87.0,null,68.0,70.0,null,null,null,50.0,null,68.0,78.0,null,null,null,55.0,52.0,69.0,60.0,null,56.0,70.0,58.0,null,null,null,78.0,70.0,null,null,null,null,null,78.0,92.0,null,58.0,82.0,64.0,null,76.0,null,null,null,null,null,68.0,null,53.0,null,93.0,85.0,null,57.0,72.0,null,null,null,83.0,55.0,70.0,null,null,null,null,null,null,null,null,null,null,35.0,null,65.0,60.0,null,64.0,69.0,null,65.0,null,null,null,null,null,52.0,80.0,82.0,null,65.0,null,36.0,61.0,62.0,45.0,67.0,null,70.0,null,null,72.0,null,52.0,null,56.0,57.0,null,51.0,null,null,null,null,null,null,null,null,null,70.0,88.0,null,78.0,null,46.0,63.0,81.0,null,null,null,57.0,83.0,51.0,null,null,null,null,null,75.0,null,null,null,65.0,74.0,66.0,48.0,null,null,null,null,null,null,null,null,null,39.0,null,54.0,null,null,null,null,null,69.0,63.0,null,null,25.0,null,92.0,null,78.0,null,83.0,67.0,null,null,null,null,null,null,78.0,null,null,57.0,null,50.0,null,null,null,75.0,74.0,null,null,null,null,78.0,67.0,null,59.0,null,null,72.0,null,57.0,39.0,60.0,39.0,null,null,68.0,null,39.0,null,null,null,null,null,null,null,49.0,null,59.0,null,null,null,null,null,null,null,49.0,42.0,null,62.0,71.0,25.0,69.0,null,53.0,null,37.0,null,68.0,77.0,null,null,null,null,64.0,62.0,62.0,60.0,null,77.0,null,null,null,null,null,null,83.0,null,66.0,74.0,88.0,null,null,67.0,null,null,null,null,null,76.0,59.0,null,72.0,null,null,null,38.0,null,60.0,71.0,null,null,66.0,null,null,81.0,35.0,null,50.0,85.0,null,75.0,69.0,54.0,64.0,null,null,null,null,null,null,null,null,null,59.0,null,null,66.0,null,67.0,43.0,50.0,71.0,null,86.0,null,null,null,75.0,null,null,null,45.0,null,null,63.0,null,55.0,77.0,null,null,null,null,65.0,null,null,72.0,null,null,null,62.0,null,null,null,49.0,null,85.0,57.0,null,69.0,39.0,40.0,67.0,null,null,null,null,64.0,null,null,50.0,60.0,null,82.0,null,84.0,null,null,null,null,62.0,null,null,56.0,null,null,null,70.0,53.0,null,43.0,17.0,84.0,null,null,62.0,null,83.0,null,null,68.0,null,null,null,null,null,null,null,null,null,null,59.0,79.0,null,null,null,null,60.0,null,86.0,null,null,54.0,64.0,null,null,66.0,null,null,null,65.0,null,69.0,null,null,null,72.0,null,64.0,null,null,47.0,60.0,null,null,46.0,null,null,null,null,null,null,null,null,null,null,null,null,null,null,60.0,51.0,null,null,null,null,null,65.0,54.0,null,null,null,81.0,75.0,null,null,null,null,50.0,null,null,null,null,null,null,null,78.0,70.0,null,null,null,null,null,null,null,null,50.0,null,null,null,75.0,null,null,null,null,null,null,61.0,null,null,null,73.0,null,72.0,61.0,80.0,null,63.0,null,65.0,null,null,null,null,null,null,null,null,54.0,72.0,58.0,null,74.0,null,53.0,null,null,null,null,null,83.0,null,83.0,null,null,null,47.0,null,null,null,77.0,75.0,65.0,65.0,null,null,66.0,null,null,null,80.0,null,null,61.0,null,null,55.0,60.0,null,null,null,null,null,null,null,null,null,null,null,34.0,null,null,null,null,66.0,76.0,null,null,null,75.0,null,null,null,null,37.0,null,null,null,null,null,null,66.0,null,null,null,null,77.0,null,81.0,null,null,null,null,null,null,null,null,null,71.0,null,null,null,null,null,null,null,null,null,null,null,null,null,null,null,null,71.0,76.0,null,null,null,null,null,null,null,null,34.0,78.0,null,null,null,48.0,null,null,83.0,58.0,null,79.0,null,null,null,67.0,null,null,null,null,null,null,null,81.0,43.0,null,null,66.0,null,null,null,null,null,null,null,null,null,null,null,null,72.0,null,null,null,null,null,null,null,null,null,null,null,null,null,null,null,null,47.0,null,73.0,null,null,null,null,null,41.0,null,60.0,null,null,null,null,null,null,null,null,null,null,null,null,null,67.0,null,66.0,64.0,null,null,null,null,null,75.0,null,null,null,null,null,null,null,null,77.0,null,null,null,59.0,null,null,null,null,null,null,null,null,null,null,null,null,null,null,null,null,null,null,null,null,null,null,null,null,null,null,null,null,null,null,null,88.0,null,null,null,null,null,null,null,null,null,null,null,null,null,null,72.0,null,null,null,null,null,null,null,null,null,83.0,null,null,null,null,null,null,null,null,71.0,null,null,null,69.0,null,null,null,null,null,null,null,26.0,null,null,null,null,null,82.0,null,null,null,43.0,55.0,70.0,null,null,null,null,null,null,null,null,null,null,null,null,null,null,null,67.0,null,null,null,null,null,null,54.0,null,null,null,null,null,null,null,null,null,null,null,null,null,null,null,null,null,null,66.0,null,null,null,null,null,62.0,null,null,null,null,39.0,null,null,null,null,null,null,null,null,null,null,null,null,null,64.0,null,81.0,null,null,null,null,null,48.0,null,null,null,36.0,null,null,null,null,null,null,null,null,null,57.0,null,null,null,null,null,null,63.0,null,85.0,null,null,null,null,null,null,null,null,null,null,null,null,null,null,null,null,null,null,null,63.0,null,null,null,null,null,null,47.0,null,null,null,null,null,null,null,66.0,null,null,null,null,null,66.0,null,null,null,null,null,null,null,null,null,64.0,null,null,null,null,null,77.0,null,null,null,null,null,null,null,54.0,null,null,null,null,null,null,null,null,79.0,null,null,null,67.0,null,null,null,null,null,null,null,null,42.0,null,null,null,null,null,null,null,null,null,null,null,null,null,null,null,null,77.0,null,null,null,null,91.0,null,null,null,null,null,null,null,null,null,null,null,71.0,null,null,null,null,80.0,75.0,null,null,null,null,null,null,null,null,null,null,null,null,null,null,null,null,null,null,null,null,null,null,null,null,null,null,null,null,null,null,null,null,null,null,null,null,null,null,null,null,null,null,null,null,null,null,null,null,null,null,null,null,null,null,null,null,null,null,null,null,null,null,null,null,null,null,66.0,null,65.0,null,null,null,null,null,null,null,null,null,66.0,null,null,null,null,null,null,null,null,null,null,null,null,null,null,null,null,null,null,null,null,null,null,null,null,null,null,null,null,null,null,null,null,54.0,69.0,null,61.0,null,null,null,null,null,70.0,69.0,null,null,null,null,null,null,null,null,null,null,55.0,null,null,null,null,null,null,null,null,null,null,null,null,null,null,null,null,null,null,null,null,null,null,null,null,null,null,null,null,null,null,null,null,null,null,null,null,null,63.0,null],\"type\":\"box\"},{\"name\":\"Strategy\",\"y\":[null,null,93.0,null,null,null,null,82.0,null,null,null,null,90.0,86.0,89.0,null,null,88.0,59.0,83.0,null,null,65.0,74.0,90.0,84.0,87.0,81.0,null,90.0,null,44.0,88.0,75.0,77.0,85.0,null,null,84.0,null,null,69.0,null,85.0,70.0,84.0,null,76.0,89.0,null,null,92.0,null,69.0,81.0,76.0,89.0,null,null,null,90.0,null,null,null,86.0,null,null,90.0,null,null,null,null,89.0,null,null,null,null,null,75.0,null,null,88.0,null,null,76.0,null,null,78.0,82.0,85.0,71.0,null,80.0,80.0,null,70.0,null,null,null,70.0,null,null,76.0,null,76.0,null,null,44.0,90.0,null,null,null,60.0,null,81.0,null,null,null,81.0,null,null,81.0,null,77.0,null,75.0,75.0,80.0,null,77.0,null,null,76.0,null,67.0,null,null,81.0,72.0,null,null,79.0,null,null,null,null,null,null,null,null,77.0,null,74.0,null,null,null,87.0,60.0,79.0,49.0,null,null,null,null,59.0,null,81.0,null,76.0,null,78.0,78.0,66.0,89.0,null,null,73.0,null,null,null,null,null,null,null,72.0,null,88.0,null,null,80.0,null,88.0,null,null,80.0,61.0,58.0,null,75.0,47.0,47.0,69.0,null,null,78.0,null,null,null,null,null,68.0,72.0,null,null,null,78.0,null,null,85.0,null,66.0,null,77.0,null,null,null,null,59.0,null,null,null,null,null,null,null,67.0,null,null,null,null,51.0,68.0,null,null,null,94.0,47.0,null,null,73.0,null,null,null,null,58.0,53.0,77.0,null,null,48.0,78.0,null,null,null,null,null,66.0,null,88.0,null,null,null,null,null,null,79.0,null,null,null,80.0,92.0,null,null,86.0,null,62.0,null,null,null,null,null,70.0,50.0,null,49.0,null,null,86.0,68.0,null,null,null,null,64.0,null,null,68.0,54.0,82.0,55.0,null,null,null,68.0,81.0,63.0,78.0,null,null,null,51.0,75.0,null,72.0,null,92.0,null,null,null,null,null,null,null,null,null,null,48.0,88.0,null,73.0,65.0,null,null,null,60.0,92.0,null,57.0,null,null,71.0,null,69.0,80.0,null,null,null,46.0,56.0,null,null,76.0,null,null,89.0,null,null,63.0,null,79.0,64.0,null,64.0,70.0,null,80.0,null,null,null,70.0,null,64.0,null,64.0,null,null,null,75.0,71.0,null,64.0,82.0,82.0,73.0,64.0,67.0,null,77.0,69.0,null,null,null,69.0,78.0,74.0,62.0,null,null,35.0,null,null,null,61.0,null,null,69.0,null,61.0,67.0,71.0,null,null,81.0,61.0,null,57.0,70.0,38.0,null,null,null,63.0,null,69.0,null,null,null,72.0,null,null,null,null,59.0,null,42.0,75.0,78.0,null,83.0,66.0,null,null,null,77.0,null,null,87.0,63.0,null,79.0,86.0,79.0,73.0,81.0,null,79.0,88.0,null,null,69.0,87.0,93.0,69.0,86.0,72.0,79.0,null,null,74.0,80.0,78.0,null,59.0,58.0,null,75.0,70.0,null,78.0,77.0,84.0,66.0,87.0,null,null,null,69.0,89.0,68.0,69.0,66.0,null,null,50.0,53.0,null,null,null,81.0,null,66.0,74.0,64.0,null,null,null,null,null,80.0,null,89.0,null,53.0,58.0,null,null,null,null,null,63.0,84.0,null,null,null,null,null,null,62.0,null,80.0,83.0,null,77.0,79.0,null,null,null,null,67.0,57.0,null,null,null,78.0,87.0,null,61.0,68.0,null,null,null,null,64.0,74.0,73.0,null,null,null,null,74.0,75.0,null,76.0,66.0,71.0,40.0,null,71.0,null,63.0,null,null,76.0,null,59.0,45.0,null,78.0,null,68.0,null,null,null,null,null,null,81.0,84.0,null,93.0,69.0,59.0,null,null,42.0,null,null,null,67.0,null,null,null,70.0,62.0,71.0,50.0,null,67.0,null,null,63.0,null,72.0,75.0,null,null,null,67.0,null,71.0,72.0,null,56.0,null,57.0,75.0,null,null,70.0,null,null,null,null,null,null,74.0,75.0,63.0,null,null,70.0,null,80.0,null,65.0,72.0,null,66.0,null,86.0,null,75.0,71.0,null,null,null,null,null,76.0,null,71.0,null,null,null,69.0,null,null,null,null,51.0,null,null,60.0],\"type\":\"box\"},{\"name\":\"nan\",\"y\":[],\"type\":\"box\"}],                        {\"template\":{\"data\":{\"barpolar\":[{\"marker\":{\"line\":{\"color\":\"#E5ECF6\",\"width\":0.5},\"pattern\":{\"fillmode\":\"overlay\",\"size\":10,\"solidity\":0.2}},\"type\":\"barpolar\"}],\"bar\":[{\"error_x\":{\"color\":\"#2a3f5f\"},\"error_y\":{\"color\":\"#2a3f5f\"},\"marker\":{\"line\":{\"color\":\"#E5ECF6\",\"width\":0.5},\"pattern\":{\"fillmode\":\"overlay\",\"size\":10,\"solidity\":0.2}},\"type\":\"bar\"}],\"carpet\":[{\"aaxis\":{\"endlinecolor\":\"#2a3f5f\",\"gridcolor\":\"white\",\"linecolor\":\"white\",\"minorgridcolor\":\"white\",\"startlinecolor\":\"#2a3f5f\"},\"baxis\":{\"endlinecolor\":\"#2a3f5f\",\"gridcolor\":\"white\",\"linecolor\":\"white\",\"minorgridcolor\":\"white\",\"startlinecolor\":\"#2a3f5f\"},\"type\":\"carpet\"}],\"choropleth\":[{\"colorbar\":{\"outlinewidth\":0,\"ticks\":\"\"},\"type\":\"choropleth\"}],\"contourcarpet\":[{\"colorbar\":{\"outlinewidth\":0,\"ticks\":\"\"},\"type\":\"contourcarpet\"}],\"contour\":[{\"colorbar\":{\"outlinewidth\":0,\"ticks\":\"\"},\"colorscale\":[[0.0,\"#0d0887\"],[0.1111111111111111,\"#46039f\"],[0.2222222222222222,\"#7201a8\"],[0.3333333333333333,\"#9c179e\"],[0.4444444444444444,\"#bd3786\"],[0.5555555555555556,\"#d8576b\"],[0.6666666666666666,\"#ed7953\"],[0.7777777777777778,\"#fb9f3a\"],[0.8888888888888888,\"#fdca26\"],[1.0,\"#f0f921\"]],\"type\":\"contour\"}],\"heatmapgl\":[{\"colorbar\":{\"outlinewidth\":0,\"ticks\":\"\"},\"colorscale\":[[0.0,\"#0d0887\"],[0.1111111111111111,\"#46039f\"],[0.2222222222222222,\"#7201a8\"],[0.3333333333333333,\"#9c179e\"],[0.4444444444444444,\"#bd3786\"],[0.5555555555555556,\"#d8576b\"],[0.6666666666666666,\"#ed7953\"],[0.7777777777777778,\"#fb9f3a\"],[0.8888888888888888,\"#fdca26\"],[1.0,\"#f0f921\"]],\"type\":\"heatmapgl\"}],\"heatmap\":[{\"colorbar\":{\"outlinewidth\":0,\"ticks\":\"\"},\"colorscale\":[[0.0,\"#0d0887\"],[0.1111111111111111,\"#46039f\"],[0.2222222222222222,\"#7201a8\"],[0.3333333333333333,\"#9c179e\"],[0.4444444444444444,\"#bd3786\"],[0.5555555555555556,\"#d8576b\"],[0.6666666666666666,\"#ed7953\"],[0.7777777777777778,\"#fb9f3a\"],[0.8888888888888888,\"#fdca26\"],[1.0,\"#f0f921\"]],\"type\":\"heatmap\"}],\"histogram2dcontour\":[{\"colorbar\":{\"outlinewidth\":0,\"ticks\":\"\"},\"colorscale\":[[0.0,\"#0d0887\"],[0.1111111111111111,\"#46039f\"],[0.2222222222222222,\"#7201a8\"],[0.3333333333333333,\"#9c179e\"],[0.4444444444444444,\"#bd3786\"],[0.5555555555555556,\"#d8576b\"],[0.6666666666666666,\"#ed7953\"],[0.7777777777777778,\"#fb9f3a\"],[0.8888888888888888,\"#fdca26\"],[1.0,\"#f0f921\"]],\"type\":\"histogram2dcontour\"}],\"histogram2d\":[{\"colorbar\":{\"outlinewidth\":0,\"ticks\":\"\"},\"colorscale\":[[0.0,\"#0d0887\"],[0.1111111111111111,\"#46039f\"],[0.2222222222222222,\"#7201a8\"],[0.3333333333333333,\"#9c179e\"],[0.4444444444444444,\"#bd3786\"],[0.5555555555555556,\"#d8576b\"],[0.6666666666666666,\"#ed7953\"],[0.7777777777777778,\"#fb9f3a\"],[0.8888888888888888,\"#fdca26\"],[1.0,\"#f0f921\"]],\"type\":\"histogram2d\"}],\"histogram\":[{\"marker\":{\"pattern\":{\"fillmode\":\"overlay\",\"size\":10,\"solidity\":0.2}},\"type\":\"histogram\"}],\"mesh3d\":[{\"colorbar\":{\"outlinewidth\":0,\"ticks\":\"\"},\"type\":\"mesh3d\"}],\"parcoords\":[{\"line\":{\"colorbar\":{\"outlinewidth\":0,\"ticks\":\"\"}},\"type\":\"parcoords\"}],\"pie\":[{\"automargin\":true,\"type\":\"pie\"}],\"scatter3d\":[{\"line\":{\"colorbar\":{\"outlinewidth\":0,\"ticks\":\"\"}},\"marker\":{\"colorbar\":{\"outlinewidth\":0,\"ticks\":\"\"}},\"type\":\"scatter3d\"}],\"scattercarpet\":[{\"marker\":{\"colorbar\":{\"outlinewidth\":0,\"ticks\":\"\"}},\"type\":\"scattercarpet\"}],\"scattergeo\":[{\"marker\":{\"colorbar\":{\"outlinewidth\":0,\"ticks\":\"\"}},\"type\":\"scattergeo\"}],\"scattergl\":[{\"marker\":{\"colorbar\":{\"outlinewidth\":0,\"ticks\":\"\"}},\"type\":\"scattergl\"}],\"scattermapbox\":[{\"marker\":{\"colorbar\":{\"outlinewidth\":0,\"ticks\":\"\"}},\"type\":\"scattermapbox\"}],\"scatterpolargl\":[{\"marker\":{\"colorbar\":{\"outlinewidth\":0,\"ticks\":\"\"}},\"type\":\"scatterpolargl\"}],\"scatterpolar\":[{\"marker\":{\"colorbar\":{\"outlinewidth\":0,\"ticks\":\"\"}},\"type\":\"scatterpolar\"}],\"scatter\":[{\"marker\":{\"colorbar\":{\"outlinewidth\":0,\"ticks\":\"\"}},\"type\":\"scatter\"}],\"scatterternary\":[{\"marker\":{\"colorbar\":{\"outlinewidth\":0,\"ticks\":\"\"}},\"type\":\"scatterternary\"}],\"surface\":[{\"colorbar\":{\"outlinewidth\":0,\"ticks\":\"\"},\"colorscale\":[[0.0,\"#0d0887\"],[0.1111111111111111,\"#46039f\"],[0.2222222222222222,\"#7201a8\"],[0.3333333333333333,\"#9c179e\"],[0.4444444444444444,\"#bd3786\"],[0.5555555555555556,\"#d8576b\"],[0.6666666666666666,\"#ed7953\"],[0.7777777777777778,\"#fb9f3a\"],[0.8888888888888888,\"#fdca26\"],[1.0,\"#f0f921\"]],\"type\":\"surface\"}],\"table\":[{\"cells\":{\"fill\":{\"color\":\"#EBF0F8\"},\"line\":{\"color\":\"white\"}},\"header\":{\"fill\":{\"color\":\"#C8D4E3\"},\"line\":{\"color\":\"white\"}},\"type\":\"table\"}]},\"layout\":{\"annotationdefaults\":{\"arrowcolor\":\"#2a3f5f\",\"arrowhead\":0,\"arrowwidth\":1},\"autotypenumbers\":\"strict\",\"coloraxis\":{\"colorbar\":{\"outlinewidth\":0,\"ticks\":\"\"}},\"colorscale\":{\"diverging\":[[0,\"#8e0152\"],[0.1,\"#c51b7d\"],[0.2,\"#de77ae\"],[0.3,\"#f1b6da\"],[0.4,\"#fde0ef\"],[0.5,\"#f7f7f7\"],[0.6,\"#e6f5d0\"],[0.7,\"#b8e186\"],[0.8,\"#7fbc41\"],[0.9,\"#4d9221\"],[1,\"#276419\"]],\"sequential\":[[0.0,\"#0d0887\"],[0.1111111111111111,\"#46039f\"],[0.2222222222222222,\"#7201a8\"],[0.3333333333333333,\"#9c179e\"],[0.4444444444444444,\"#bd3786\"],[0.5555555555555556,\"#d8576b\"],[0.6666666666666666,\"#ed7953\"],[0.7777777777777778,\"#fb9f3a\"],[0.8888888888888888,\"#fdca26\"],[1.0,\"#f0f921\"]],\"sequentialminus\":[[0.0,\"#0d0887\"],[0.1111111111111111,\"#46039f\"],[0.2222222222222222,\"#7201a8\"],[0.3333333333333333,\"#9c179e\"],[0.4444444444444444,\"#bd3786\"],[0.5555555555555556,\"#d8576b\"],[0.6666666666666666,\"#ed7953\"],[0.7777777777777778,\"#fb9f3a\"],[0.8888888888888888,\"#fdca26\"],[1.0,\"#f0f921\"]]},\"colorway\":[\"#636efa\",\"#EF553B\",\"#00cc96\",\"#ab63fa\",\"#FFA15A\",\"#19d3f3\",\"#FF6692\",\"#B6E880\",\"#FF97FF\",\"#FECB52\"],\"font\":{\"color\":\"#2a3f5f\"},\"geo\":{\"bgcolor\":\"white\",\"lakecolor\":\"white\",\"landcolor\":\"#E5ECF6\",\"showlakes\":true,\"showland\":true,\"subunitcolor\":\"white\"},\"hoverlabel\":{\"align\":\"left\"},\"hovermode\":\"closest\",\"mapbox\":{\"style\":\"light\"},\"paper_bgcolor\":\"white\",\"plot_bgcolor\":\"#E5ECF6\",\"polar\":{\"angularaxis\":{\"gridcolor\":\"white\",\"linecolor\":\"white\",\"ticks\":\"\"},\"bgcolor\":\"#E5ECF6\",\"radialaxis\":{\"gridcolor\":\"white\",\"linecolor\":\"white\",\"ticks\":\"\"}},\"scene\":{\"xaxis\":{\"backgroundcolor\":\"#E5ECF6\",\"gridcolor\":\"white\",\"gridwidth\":2,\"linecolor\":\"white\",\"showbackground\":true,\"ticks\":\"\",\"zerolinecolor\":\"white\"},\"yaxis\":{\"backgroundcolor\":\"#E5ECF6\",\"gridcolor\":\"white\",\"gridwidth\":2,\"linecolor\":\"white\",\"showbackground\":true,\"ticks\":\"\",\"zerolinecolor\":\"white\"},\"zaxis\":{\"backgroundcolor\":\"#E5ECF6\",\"gridcolor\":\"white\",\"gridwidth\":2,\"linecolor\":\"white\",\"showbackground\":true,\"ticks\":\"\",\"zerolinecolor\":\"white\"}},\"shapedefaults\":{\"line\":{\"color\":\"#2a3f5f\"}},\"ternary\":{\"aaxis\":{\"gridcolor\":\"white\",\"linecolor\":\"white\",\"ticks\":\"\"},\"baxis\":{\"gridcolor\":\"white\",\"linecolor\":\"white\",\"ticks\":\"\"},\"bgcolor\":\"#E5ECF6\",\"caxis\":{\"gridcolor\":\"white\",\"linecolor\":\"white\",\"ticks\":\"\"}},\"title\":{\"x\":0.05},\"xaxis\":{\"automargin\":true,\"gridcolor\":\"white\",\"linecolor\":\"white\",\"ticks\":\"\",\"title\":{\"standoff\":15},\"zerolinecolor\":\"white\",\"zerolinewidth\":2},\"yaxis\":{\"automargin\":true,\"gridcolor\":\"white\",\"linecolor\":\"white\",\"ticks\":\"\",\"title\":{\"standoff\":15},\"zerolinecolor\":\"white\",\"zerolinewidth\":2}}}},                        {\"responsive\": true}                    ).then(function(){\n",
              "                            \n",
              "var gd = document.getElementById('1edb036d-3773-4613-a259-49cca918261d');\n",
              "var x = new MutationObserver(function (mutations, observer) {{\n",
              "        var display = window.getComputedStyle(gd).display;\n",
              "        if (!display || display === 'none') {{\n",
              "            console.log([gd, 'removed!']);\n",
              "            Plotly.purge(gd);\n",
              "            observer.disconnect();\n",
              "        }}\n",
              "}});\n",
              "\n",
              "// Listen for the removal of the full notebook cells\n",
              "var notebookContainer = gd.closest('#notebook-container');\n",
              "if (notebookContainer) {{\n",
              "    x.observe(notebookContainer, {childList: true});\n",
              "}}\n",
              "\n",
              "// Listen for the clearing of the current output cell\n",
              "var outputEl = gd.closest('.output');\n",
              "if (outputEl) {{\n",
              "    x.observe(outputEl, {childList: true});\n",
              "}}\n",
              "\n",
              "                        })                };                            </script>        </div>\n",
              "</body>\n",
              "</html>"
            ]
          },
          "metadata": {}
        }
      ]
    },
    {
      "cell_type": "markdown",
      "source": [
        "Рассматриваем наш датасет как генеральную совокупность. Выберем из него спортивные игры"
      ],
      "metadata": {
        "id": "WOP6pEPMujzz"
      }
    },
    {
      "cell_type": "code",
      "source": [
        "all_games = data.loc[:,['Critic_Score', 'Critic_Count']] # все игры\n",
        "all_games.dropna(inplace = True)"
      ],
      "metadata": {
        "id": "B7divr3YMChT"
      },
      "execution_count": null,
      "outputs": []
    },
    {
      "cell_type": "code",
      "source": [
        "sports = data.loc[data['Genre'] =='Sports',['Critic_Score', 'Critic_Count']] # спортивные игры\n",
        "sports.dropna(inplace = True)"
      ],
      "metadata": {
        "id": "KG5P543w4jVg"
      },
      "execution_count": null,
      "outputs": []
    },
    {
      "cell_type": "code",
      "source": [
        "df = []\n",
        "df.append(go.Box(y=all_games.Critic_Score, name = 'all games'))\n",
        "df.append(go.Box(y=sports.Critic_Score,    name='sport games'))\n",
        "iplot(df, show_link = False)"
      ],
      "metadata": {
        "colab": {
          "base_uri": "https://localhost:8080/"
        },
        "id": "Y_dWJIfZLsLE",
        "outputId": "1f17e2c8-9ea8-42fc-bf81-9bb48da862f0"
      },
      "execution_count": null,
      "outputs": [
        {
          "output_type": "display_data",
          "data": {
            "text/html": [
              "<html>\n",
              "<head><meta charset=\"utf-8\" /></head>\n",
              "<body>\n",
              "    <div>            <script src=\"https://cdnjs.cloudflare.com/ajax/libs/mathjax/2.7.5/MathJax.js?config=TeX-AMS-MML_SVG\"></script><script type=\"text/javascript\">if (window.MathJax) {MathJax.Hub.Config({SVG: {font: \"STIX-Web\"}});}</script>                <script type=\"text/javascript\">window.PlotlyConfig = {MathJaxConfig: 'local'};</script>\n",
              "        <script src=\"https://cdn.plot.ly/plotly-2.8.3.min.js\"></script>                <div id=\"a9a6abb5-9ced-4b98-936e-95535ba9f321\" class=\"plotly-graph-div\" style=\"height:525px; width:100%;\"></div>            <script type=\"text/javascript\">                                    window.PLOTLYENV=window.PLOTLYENV || {};                                    if (document.getElementById(\"a9a6abb5-9ced-4b98-936e-95535ba9f321\")) {                    Plotly.newPlot(                        \"a9a6abb5-9ced-4b98-936e-95535ba9f321\",                        [{\"name\":\"all games\",\"y\":[76.0,82.0,80.0,89.0,58.0,87.0,91.0,80.0,61.0,80.0,97.0,95.0,77.0,97.0,95.0,77.0,95.0,88.0,87.0,83.0,83.0,94.0,88.0,97.0,93.0,85.0,88.0,97.0,86.0,94.0,89.0,97.0,98.0,96.0,90.0,84.0,94.0,98.0,73.0,74.0,78.0,91.0,92.0,87.0,93.0,74.0,71.0,94.0,88.0,72.0,96.0,82.0,95.0,68.0,62.0,88.0,92.0,86.0,90.0,83.0,88.0,83.0,85.0,97.0,84.0,84.0,85.0,49.0,85.0,87.0,96.0,95.0,91.0,88.0,92.0,82.0,88.0,74.0,93.0,92.0,94.0,96.0,74.0,95.0,86.0,85.0,87.0,97.0,92.0,76.0,85.0,83.0,95.0,92.0,93.0,87.0,91.0,73.0,94.0,82.0,96.0,94.0,94.0,92.0,95.0,95.0,89.0,87.0,89.0,76.0,80.0,67.0,91.0,81.0,92.0,84.0,81.0,96.0,97.0,93.0,66.0,85.0,93.0,83.0,94.0,84.0,85.0,81.0,90.0,85.0,94.0,84.0,89.0,85.0,90.0,88.0,68.0,92.0,80.0,84.0,90.0,89.0,91.0,86.0,92.0,82.0,68.0,93.0,88.0,88.0,93.0,81.0,92.0,88.0,80.0,62.0,94.0,98.0,82.0,91.0,73.0,86.0,96.0,86.0,86.0,91.0,91.0,85.0,84.0,84.0,76.0,77.0,94.0,81.0,77.0,97.0,86.0,94.0,82.0,56.0,86.0,87.0,93.0,89.0,79.0,91.0,91.0,80.0,88.0,84.0,85.0,80.0,80.0,80.0,80.0,94.0,95.0,96.0,91.0,88.0,93.0,84.0,90.0,56.0,80.0,85.0,85.0,61.0,89.0,92.0,70.0,87.0,93.0,90.0,84.0,81.0,90.0,86.0,94.0,87.0,88.0,84.0,91.0,76.0,78.0,59.0,80.0,68.0,77.0,79.0,64.0,85.0,91.0,88.0,81.0,94.0,67.0,74.0,82.0,90.0,82.0,96.0,86.0,91.0,82.0,64.0,78.0,85.0,84.0,70.0,78.0,72.0,72.0,88.0,89.0,72.0,83.0,89.0,84.0,80.0,92.0,79.0,88.0,71.0,83.0,84.0,79.0,70.0,93.0,80.0,88.0,91.0,68.0,76.0,76.0,75.0,90.0,77.0,60.0,87.0,80.0,86.0,85.0,82.0,77.0,86.0,84.0,63.0,83.0,81.0,85.0,88.0,91.0,62.0,83.0,82.0,89.0,89.0,87.0,83.0,87.0,73.0,88.0,82.0,83.0,82.0,81.0,93.0,91.0,74.0,96.0,67.0,94.0,75.0,74.0,66.0,70.0,89.0,72.0,75.0,93.0,87.0,81.0,93.0,87.0,91.0,91.0,73.0,88.0,73.0,82.0,93.0,94.0,85.0,84.0,64.0,85.0,86.0,88.0,87.0,79.0,93.0,85.0,76.0,78.0,91.0,73.0,93.0,67.0,85.0,61.0,76.0,83.0,81.0,87.0,83.0,84.0,85.0,96.0,97.0,90.0,75.0,80.0,89.0,87.0,89.0,81.0,89.0,83.0,83.0,84.0,73.0,81.0,84.0,79.0,69.0,95.0,86.0,89.0,82.0,78.0,84.0,73.0,84.0,93.0,79.0,83.0,77.0,92.0,85.0,85.0,84.0,89.0,84.0,71.0,79.0,78.0,80.0,90.0,82.0,90.0,90.0,74.0,71.0,91.0,84.0,79.0,87.0,73.0,80.0,80.0,78.0,72.0,73.0,83.0,86.0,73.0,87.0,83.0,80.0,75.0,87.0,78.0,50.0,82.0,79.0,25.0,92.0,70.0,85.0,92.0,90.0,82.0,87.0,83.0,83.0,82.0,81.0,83.0,79.0,78.0,84.0,82.0,71.0,73.0,66.0,77.0,82.0,62.0,82.0,73.0,91.0,83.0,71.0,96.0,62.0,85.0,83.0,42.0,85.0,81.0,73.0,71.0,89.0,78.0,84.0,86.0,66.0,84.0,86.0,90.0,75.0,76.0,80.0,77.0,78.0,82.0,72.0,76.0,68.0,71.0,81.0,88.0,80.0,76.0,87.0,84.0,87.0,79.0,80.0,83.0,87.0,74.0,69.0,77.0,74.0,79.0,80.0,91.0,92.0,84.0,80.0,73.0,71.0,92.0,79.0,92.0,88.0,80.0,88.0,94.0,81.0,80.0,81.0,82.0,82.0,80.0,82.0,74.0,79.0,66.0,69.0,90.0,83.0,64.0,77.0,87.0,62.0,85.0,90.0,89.0,78.0,84.0,81.0,84.0,73.0,86.0,83.0,84.0,89.0,74.0,85.0,90.0,44.0,77.0,69.0,80.0,95.0,64.0,72.0,49.0,73.0,71.0,83.0,89.0,55.0,88.0,82.0,92.0,72.0,75.0,59.0,72.0,82.0,73.0,78.0,86.0,48.0,86.0,89.0,73.0,62.0,89.0,70.0,81.0,92.0,64.0,89.0,88.0,76.0,71.0,87.0,76.0,75.0,80.0,80.0,56.0,68.0,81.0,85.0,88.0,69.0,67.0,93.0,90.0,80.0,71.0,87.0,78.0,87.0,77.0,83.0,63.0,93.0,79.0,72.0,86.0,88.0,80.0,57.0,80.0,92.0,84.0,83.0,86.0,79.0,90.0,69.0,70.0,85.0,74.0,29.0,81.0,88.0,49.0,82.0,76.0,78.0,86.0,71.0,74.0,71.0,70.0,73.0,94.0,84.0,76.0,87.0,82.0,80.0,87.0,67.0,80.0,70.0,83.0,82.0,72.0,85.0,89.0,96.0,82.0,94.0,68.0,88.0,83.0,80.0,89.0,87.0,75.0,90.0,85.0,57.0,47.0,87.0,75.0,76.0,84.0,75.0,91.0,83.0,84.0,71.0,70.0,84.0,80.0,82.0,83.0,81.0,83.0,65.0,55.0,83.0,55.0,78.0,63.0,92.0,54.0,78.0,78.0,79.0,61.0,82.0,91.0,80.0,78.0,88.0,89.0,84.0,83.0,65.0,20.0,95.0,87.0,74.0,71.0,82.0,94.0,64.0,53.0,96.0,63.0,37.0,64.0,78.0,82.0,90.0,79.0,92.0,67.0,73.0,93.0,90.0,83.0,87.0,87.0,84.0,94.0,83.0,86.0,71.0,79.0,44.0,93.0,78.0,83.0,81.0,83.0,79.0,72.0,89.0,77.0,71.0,56.0,77.0,79.0,68.0,72.0,88.0,83.0,82.0,92.0,70.0,89.0,89.0,81.0,90.0,88.0,86.0,84.0,74.0,61.0,83.0,92.0,80.0,77.0,76.0,81.0,69.0,64.0,81.0,86.0,72.0,83.0,94.0,85.0,96.0,74.0,53.0,75.0,69.0,85.0,76.0,76.0,66.0,84.0,78.0,90.0,79.0,78.0,72.0,80.0,55.0,64.0,84.0,79.0,84.0,83.0,38.0,54.0,58.0,73.0,71.0,86.0,79.0,74.0,89.0,79.0,74.0,88.0,80.0,88.0,69.0,90.0,87.0,80.0,64.0,82.0,89.0,81.0,74.0,75.0,38.0,83.0,88.0,87.0,73.0,76.0,90.0,68.0,69.0,84.0,85.0,93.0,80.0,76.0,84.0,91.0,63.0,91.0,80.0,81.0,67.0,79.0,75.0,85.0,57.0,60.0,83.0,68.0,65.0,82.0,85.0,75.0,93.0,33.0,79.0,86.0,84.0,81.0,76.0,87.0,85.0,76.0,54.0,83.0,70.0,85.0,73.0,71.0,94.0,59.0,85.0,73.0,74.0,71.0,88.0,91.0,61.0,77.0,71.0,52.0,65.0,84.0,83.0,63.0,64.0,94.0,93.0,59.0,64.0,89.0,80.0,89.0,81.0,80.0,76.0,77.0,85.0,55.0,79.0,87.0,91.0,87.0,87.0,79.0,83.0,89.0,72.0,88.0,79.0,86.0,86.0,88.0,69.0,81.0,85.0,64.0,77.0,60.0,86.0,86.0,77.0,81.0,60.0,77.0,89.0,81.0,80.0,89.0,86.0,65.0,80.0,78.0,80.0,68.0,75.0,83.0,64.0,73.0,76.0,63.0,60.0,88.0,87.0,82.0,73.0,81.0,84.0,79.0,84.0,82.0,73.0,84.0,81.0,79.0,84.0,92.0,84.0,88.0,74.0,84.0,71.0,80.0,74.0,79.0,73.0,84.0,90.0,83.0,92.0,57.0,74.0,83.0,93.0,84.0,91.0,93.0,70.0,73.0,74.0,81.0,79.0,69.0,91.0,61.0,78.0,94.0,89.0,63.0,78.0,80.0,78.0,80.0,78.0,68.0,75.0,85.0,49.0,67.0,56.0,75.0,74.0,84.0,79.0,72.0,66.0,77.0,85.0,73.0,76.0,67.0,89.0,93.0,73.0,69.0,76.0,91.0,83.0,59.0,77.0,84.0,85.0,75.0,65.0,75.0,30.0,86.0,71.0,57.0,69.0,78.0,85.0,80.0,79.0,68.0,85.0,59.0,75.0,65.0,86.0,76.0,68.0,63.0,83.0,64.0,79.0,86.0,88.0,69.0,74.0,52.0,87.0,81.0,52.0,87.0,85.0,78.0,78.0,76.0,61.0,79.0,76.0,32.0,83.0,91.0,70.0,57.0,63.0,80.0,76.0,80.0,70.0,75.0,63.0,82.0,78.0,63.0,80.0,86.0,89.0,89.0,84.0,71.0,70.0,73.0,85.0,69.0,85.0,86.0,73.0,86.0,83.0,76.0,75.0,71.0,87.0,85.0,59.0,73.0,78.0,82.0,90.0,65.0,70.0,92.0,68.0,55.0,81.0,81.0,71.0,83.0,89.0,75.0,84.0,68.0,76.0,76.0,87.0,59.0,78.0,88.0,77.0,95.0,64.0,77.0,70.0,52.0,76.0,62.0,72.0,57.0,96.0,84.0,81.0,65.0,74.0,84.0,81.0,76.0,85.0,70.0,83.0,79.0,43.0,85.0,77.0,88.0,88.0,45.0,78.0,83.0,73.0,69.0,43.0,86.0,53.0,83.0,76.0,92.0,68.0,62.0,51.0,79.0,91.0,81.0,88.0,74.0,56.0,65.0,76.0,84.0,81.0,81.0,73.0,79.0,87.0,80.0,50.0,83.0,67.0,84.0,79.0,85.0,79.0,73.0,82.0,73.0,57.0,78.0,82.0,82.0,80.0,78.0,77.0,71.0,86.0,79.0,93.0,83.0,70.0,88.0,79.0,74.0,69.0,84.0,82.0,94.0,87.0,75.0,69.0,85.0,81.0,74.0,76.0,86.0,80.0,61.0,87.0,73.0,80.0,77.0,77.0,86.0,75.0,66.0,97.0,68.0,83.0,92.0,54.0,75.0,47.0,65.0,74.0,66.0,76.0,84.0,88.0,73.0,90.0,85.0,75.0,58.0,91.0,70.0,40.0,67.0,69.0,59.0,47.0,82.0,73.0,85.0,76.0,76.0,86.0,88.0,60.0,70.0,75.0,66.0,75.0,81.0,90.0,65.0,89.0,84.0,80.0,89.0,71.0,91.0,64.0,77.0,87.0,72.0,65.0,63.0,83.0,72.0,84.0,87.0,71.0,83.0,75.0,75.0,81.0,44.0,89.0,82.0,61.0,82.0,70.0,92.0,80.0,83.0,81.0,91.0,80.0,83.0,42.0,74.0,73.0,65.0,86.0,46.0,83.0,71.0,81.0,68.0,79.0,88.0,86.0,73.0,84.0,75.0,67.0,82.0,86.0,77.0,86.0,93.0,78.0,79.0,65.0,72.0,72.0,70.0,90.0,86.0,54.0,61.0,48.0,71.0,84.0,83.0,83.0,66.0,92.0,70.0,80.0,51.0,74.0,80.0,64.0,81.0,72.0,90.0,81.0,86.0,77.0,76.0,51.0,67.0,86.0,92.0,73.0,72.0,87.0,79.0,79.0,82.0,85.0,83.0,55.0,88.0,66.0,87.0,70.0,51.0,70.0,78.0,75.0,89.0,58.0,71.0,79.0,80.0,75.0,77.0,91.0,54.0,44.0,59.0,78.0,86.0,82.0,82.0,87.0,93.0,81.0,88.0,82.0,75.0,66.0,85.0,75.0,81.0,89.0,54.0,79.0,78.0,77.0,84.0,86.0,87.0,88.0,76.0,76.0,85.0,65.0,77.0,82.0,71.0,81.0,88.0,70.0,85.0,52.0,69.0,71.0,60.0,63.0,87.0,60.0,71.0,74.0,78.0,78.0,79.0,75.0,79.0,73.0,68.0,73.0,70.0,73.0,81.0,79.0,84.0,77.0,86.0,64.0,78.0,83.0,83.0,47.0,87.0,92.0,83.0,79.0,77.0,79.0,70.0,90.0,85.0,64.0,70.0,81.0,85.0,71.0,90.0,83.0,71.0,61.0,66.0,77.0,73.0,39.0,66.0,76.0,80.0,80.0,89.0,59.0,71.0,63.0,86.0,61.0,65.0,81.0,80.0,85.0,82.0,87.0,48.0,73.0,60.0,79.0,59.0,79.0,74.0,70.0,78.0,76.0,77.0,76.0,63.0,92.0,90.0,57.0,86.0,59.0,81.0,56.0,75.0,76.0,80.0,78.0,77.0,71.0,78.0,73.0,90.0,76.0,88.0,70.0,70.0,71.0,70.0,74.0,74.0,73.0,50.0,71.0,69.0,61.0,86.0,82.0,85.0,68.0,71.0,76.0,68.0,91.0,67.0,83.0,77.0,84.0,85.0,76.0,77.0,62.0,83.0,85.0,83.0,81.0,75.0,80.0,80.0,70.0,70.0,79.0,68.0,71.0,86.0,78.0,84.0,78.0,84.0,78.0,51.0,77.0,82.0,74.0,61.0,90.0,93.0,75.0,86.0,82.0,88.0,76.0,48.0,69.0,81.0,80.0,80.0,68.0,69.0,63.0,73.0,69.0,87.0,83.0,85.0,88.0,65.0,65.0,62.0,76.0,92.0,55.0,77.0,72.0,73.0,58.0,76.0,80.0,76.0,81.0,74.0,53.0,72.0,76.0,72.0,71.0,83.0,73.0,81.0,88.0,81.0,71.0,82.0,83.0,65.0,86.0,72.0,64.0,75.0,85.0,78.0,74.0,84.0,80.0,61.0,71.0,78.0,63.0,84.0,83.0,68.0,84.0,62.0,83.0,86.0,77.0,51.0,67.0,89.0,86.0,57.0,82.0,75.0,78.0,60.0,49.0,57.0,82.0,77.0,78.0,79.0,83.0,77.0,69.0,84.0,84.0,75.0,82.0,70.0,78.0,91.0,81.0,86.0,65.0,83.0,75.0,53.0,78.0,77.0,90.0,74.0,63.0,75.0,86.0,78.0,73.0,86.0,66.0,81.0,60.0,86.0,78.0,70.0,73.0,80.0,74.0,75.0,60.0,76.0,75.0,75.0,80.0,79.0,45.0,80.0,87.0,83.0,49.0,78.0,72.0,84.0,86.0,68.0,57.0,57.0,73.0,71.0,48.0,74.0,79.0,85.0,34.0,83.0,76.0,74.0,70.0,78.0,65.0,75.0,87.0,84.0,76.0,83.0,82.0,64.0,72.0,53.0,69.0,55.0,65.0,81.0,71.0,85.0,74.0,79.0,86.0,57.0,68.0,88.0,73.0,85.0,81.0,80.0,72.0,87.0,48.0,71.0,81.0,57.0,81.0,53.0,78.0,66.0,52.0,70.0,70.0,38.0,69.0,84.0,77.0,81.0,45.0,46.0,57.0,79.0,69.0,66.0,76.0,56.0,94.0,52.0,85.0,91.0,63.0,65.0,52.0,81.0,39.0,87.0,95.0,51.0,71.0,60.0,67.0,81.0,76.0,89.0,55.0,95.0,81.0,58.0,60.0,86.0,72.0,72.0,81.0,69.0,78.0,82.0,83.0,75.0,62.0,81.0,76.0,69.0,59.0,80.0,54.0,76.0,79.0,63.0,67.0,70.0,69.0,91.0,65.0,80.0,79.0,84.0,74.0,60.0,74.0,85.0,77.0,83.0,86.0,79.0,87.0,82.0,49.0,72.0,74.0,85.0,72.0,55.0,55.0,79.0,55.0,76.0,78.0,76.0,79.0,80.0,86.0,72.0,88.0,79.0,84.0,71.0,86.0,75.0,80.0,74.0,64.0,74.0,65.0,73.0,74.0,65.0,70.0,76.0,68.0,74.0,73.0,55.0,79.0,79.0,83.0,83.0,72.0,86.0,77.0,90.0,74.0,75.0,82.0,93.0,84.0,66.0,91.0,75.0,81.0,87.0,87.0,79.0,92.0,86.0,89.0,60.0,93.0,91.0,39.0,66.0,66.0,73.0,43.0,85.0,48.0,46.0,49.0,75.0,68.0,77.0,73.0,59.0,83.0,77.0,82.0,65.0,50.0,89.0,67.0,81.0,86.0,58.0,78.0,73.0,79.0,90.0,67.0,84.0,89.0,68.0,63.0,78.0,86.0,92.0,66.0,65.0,66.0,58.0,85.0,90.0,43.0,80.0,73.0,71.0,65.0,65.0,70.0,89.0,77.0,40.0,68.0,62.0,65.0,76.0,75.0,50.0,77.0,75.0,84.0,77.0,82.0,78.0,63.0,81.0,68.0,89.0,70.0,66.0,89.0,85.0,72.0,67.0,85.0,82.0,82.0,42.0,80.0,85.0,76.0,79.0,69.0,71.0,74.0,82.0,84.0,84.0,60.0,89.0,79.0,74.0,78.0,71.0,67.0,81.0,63.0,86.0,68.0,73.0,66.0,69.0,81.0,77.0,62.0,67.0,78.0,65.0,65.0,80.0,61.0,58.0,74.0,63.0,69.0,70.0,83.0,88.0,70.0,78.0,83.0,81.0,92.0,81.0,94.0,64.0,67.0,76.0,71.0,63.0,71.0,60.0,77.0,71.0,88.0,69.0,70.0,73.0,73.0,63.0,74.0,89.0,60.0,76.0,60.0,47.0,82.0,85.0,84.0,89.0,60.0,80.0,63.0,77.0,68.0,59.0,80.0,54.0,64.0,64.0,64.0,67.0,84.0,54.0,60.0,64.0,68.0,84.0,72.0,60.0,50.0,74.0,83.0,58.0,79.0,61.0,85.0,88.0,81.0,61.0,75.0,67.0,88.0,78.0,64.0,57.0,84.0,74.0,74.0,63.0,67.0,82.0,73.0,81.0,91.0,82.0,78.0,73.0,88.0,55.0,80.0,78.0,44.0,60.0,68.0,71.0,32.0,70.0,82.0,75.0,89.0,82.0,62.0,80.0,93.0,89.0,88.0,76.0,54.0,78.0,62.0,76.0,79.0,90.0,87.0,77.0,78.0,82.0,89.0,70.0,71.0,75.0,71.0,46.0,93.0,72.0,86.0,48.0,80.0,68.0,67.0,74.0,70.0,88.0,80.0,50.0,48.0,68.0,73.0,82.0,72.0,58.0,70.0,56.0,73.0,81.0,75.0,91.0,72.0,70.0,86.0,71.0,49.0,81.0,84.0,87.0,90.0,46.0,77.0,70.0,70.0,79.0,64.0,85.0,58.0,76.0,71.0,62.0,89.0,84.0,67.0,75.0,59.0,86.0,45.0,80.0,43.0,51.0,64.0,88.0,62.0,60.0,72.0,68.0,71.0,61.0,77.0,32.0,63.0,52.0,87.0,81.0,82.0,43.0,35.0,81.0,90.0,72.0,69.0,72.0,60.0,90.0,71.0,69.0,62.0,56.0,44.0,80.0,86.0,70.0,88.0,83.0,73.0,90.0,62.0,72.0,88.0,73.0,77.0,82.0,74.0,60.0,81.0,66.0,81.0,80.0,82.0,44.0,48.0,58.0,90.0,67.0,77.0,58.0,55.0,68.0,33.0,73.0,74.0,81.0,90.0,68.0,89.0,38.0,74.0,73.0,70.0,83.0,84.0,86.0,84.0,77.0,42.0,85.0,71.0,78.0,71.0,91.0,79.0,77.0,91.0,52.0,78.0,79.0,70.0,90.0,76.0,85.0,85.0,63.0,78.0,75.0,62.0,60.0,89.0,82.0,81.0,86.0,87.0,87.0,45.0,73.0,88.0,91.0,71.0,57.0,56.0,77.0,74.0,60.0,80.0,70.0,67.0,63.0,74.0,69.0,67.0,73.0,66.0,87.0,58.0,75.0,73.0,78.0,78.0,77.0,62.0,83.0,77.0,83.0,86.0,66.0,77.0,78.0,64.0,66.0,81.0,63.0,65.0,76.0,78.0,55.0,71.0,81.0,80.0,74.0,77.0,80.0,50.0,68.0,67.0,56.0,68.0,64.0,72.0,56.0,47.0,72.0,71.0,91.0,81.0,72.0,83.0,77.0,75.0,58.0,59.0,77.0,75.0,76.0,88.0,78.0,68.0,83.0,84.0,47.0,80.0,94.0,80.0,68.0,81.0,67.0,68.0,76.0,93.0,82.0,75.0,81.0,92.0,70.0,63.0,72.0,67.0,86.0,79.0,70.0,68.0,76.0,41.0,74.0,67.0,82.0,75.0,47.0,77.0,74.0,80.0,77.0,70.0,80.0,82.0,66.0,75.0,88.0,72.0,82.0,70.0,75.0,58.0,84.0,84.0,81.0,77.0,85.0,78.0,69.0,87.0,74.0,89.0,55.0,71.0,67.0,58.0,80.0,47.0,81.0,59.0,80.0,41.0,88.0,83.0,58.0,46.0,81.0,78.0,62.0,83.0,85.0,78.0,75.0,78.0,51.0,87.0,58.0,82.0,78.0,78.0,62.0,70.0,69.0,91.0,82.0,89.0,72.0,71.0,59.0,63.0,72.0,69.0,81.0,88.0,56.0,73.0,75.0,69.0,61.0,47.0,43.0,60.0,82.0,91.0,68.0,84.0,76.0,83.0,66.0,81.0,82.0,55.0,66.0,76.0,77.0,69.0,41.0,79.0,46.0,89.0,68.0,73.0,87.0,68.0,73.0,70.0,86.0,79.0,90.0,56.0,76.0,68.0,71.0,75.0,61.0,65.0,68.0,78.0,82.0,81.0,78.0,79.0,52.0,74.0,68.0,73.0,80.0,78.0,90.0,58.0,78.0,77.0,69.0,70.0,81.0,74.0,71.0,76.0,59.0,47.0,70.0,53.0,53.0,94.0,74.0,77.0,67.0,64.0,80.0,34.0,76.0,69.0,55.0,85.0,56.0,78.0,82.0,62.0,74.0,75.0,91.0,62.0,76.0,80.0,56.0,70.0,66.0,71.0,73.0,82.0,76.0,78.0,68.0,77.0,73.0,56.0,55.0,51.0,47.0,88.0,83.0,81.0,86.0,81.0,62.0,60.0,44.0,83.0,54.0,73.0,75.0,83.0,78.0,63.0,80.0,71.0,76.0,78.0,72.0,81.0,88.0,59.0,83.0,66.0,68.0,56.0,65.0,89.0,65.0,68.0,80.0,82.0,80.0,67.0,84.0,69.0,64.0,50.0,70.0,81.0,61.0,75.0,83.0,54.0,70.0,55.0,57.0,84.0,81.0,58.0,69.0,66.0,59.0,64.0,57.0,49.0,61.0,78.0,85.0,81.0,77.0,78.0,76.0,65.0,61.0,56.0,76.0,72.0,43.0,69.0,72.0,57.0,66.0,36.0,72.0,84.0,58.0,81.0,58.0,56.0,62.0,85.0,78.0,79.0,87.0,55.0,73.0,77.0,72.0,80.0,80.0,78.0,81.0,73.0,70.0,72.0,82.0,82.0,80.0,50.0,81.0,68.0,72.0,80.0,65.0,43.0,72.0,61.0,60.0,67.0,78.0,53.0,79.0,62.0,83.0,72.0,90.0,87.0,37.0,82.0,69.0,75.0,84.0,82.0,54.0,68.0,34.0,79.0,65.0,58.0,60.0,82.0,59.0,69.0,74.0,66.0,64.0,85.0,41.0,48.0,79.0,82.0,70.0,79.0,56.0,55.0,46.0,75.0,54.0,70.0,59.0,79.0,85.0,62.0,69.0,85.0,71.0,81.0,76.0,74.0,53.0,69.0,53.0,70.0,80.0,67.0,62.0,69.0,74.0,65.0,76.0,83.0,85.0,71.0,59.0,45.0,76.0,71.0,49.0,64.0,61.0,59.0,82.0,57.0,80.0,50.0,77.0,65.0,64.0,72.0,72.0,63.0,58.0,70.0,67.0,86.0,89.0,65.0,41.0,67.0,71.0,63.0,70.0,86.0,75.0,46.0,83.0,89.0,66.0,70.0,75.0,75.0,79.0,76.0,65.0,68.0,69.0,69.0,76.0,76.0,69.0,71.0,82.0,86.0,53.0,58.0,77.0,72.0,80.0,56.0,83.0,74.0,79.0,80.0,68.0,38.0,85.0,73.0,79.0,81.0,61.0,77.0,84.0,50.0,75.0,78.0,70.0,70.0,70.0,44.0,89.0,47.0,78.0,64.0,58.0,69.0,84.0,74.0,78.0,80.0,56.0,80.0,88.0,80.0,50.0,73.0,85.0,68.0,83.0,66.0,69.0,79.0,74.0,81.0,71.0,86.0,53.0,57.0,59.0,55.0,65.0,88.0,71.0,92.0,53.0,75.0,82.0,70.0,84.0,74.0,73.0,80.0,63.0,78.0,58.0,60.0,73.0,58.0,65.0,72.0,69.0,88.0,74.0,80.0,68.0,43.0,88.0,51.0,73.0,43.0,76.0,62.0,74.0,81.0,77.0,45.0,81.0,51.0,81.0,73.0,74.0,64.0,68.0,71.0,74.0,82.0,47.0,77.0,71.0,68.0,57.0,89.0,87.0,66.0,64.0,76.0,90.0,92.0,74.0,53.0,80.0,46.0,70.0,56.0,88.0,68.0,74.0,54.0,74.0,79.0,65.0,39.0,81.0,68.0,84.0,64.0,76.0,91.0,78.0,69.0,61.0,73.0,70.0,88.0,55.0,64.0,79.0,47.0,70.0,60.0,71.0,72.0,71.0,61.0,84.0,80.0,84.0,78.0,81.0,45.0,59.0,76.0,69.0,70.0,80.0,65.0,75.0,70.0,75.0,77.0,76.0,76.0,75.0,74.0,84.0,58.0,54.0,76.0,66.0,77.0,46.0,77.0,76.0,46.0,82.0,75.0,65.0,81.0,70.0,76.0,74.0,70.0,56.0,69.0,80.0,70.0,52.0,81.0,80.0,77.0,55.0,61.0,59.0,79.0,68.0,76.0,62.0,63.0,81.0,96.0,58.0,73.0,84.0,53.0,75.0,81.0,69.0,78.0,50.0,59.0,75.0,75.0,56.0,60.0,77.0,84.0,69.0,66.0,87.0,54.0,50.0,74.0,62.0,68.0,43.0,71.0,43.0,51.0,79.0,77.0,72.0,93.0,73.0,60.0,59.0,68.0,76.0,67.0,85.0,76.0,49.0,78.0,59.0,71.0,61.0,51.0,66.0,87.0,81.0,66.0,77.0,73.0,71.0,80.0,86.0,57.0,73.0,53.0,81.0,77.0,76.0,67.0,61.0,73.0,55.0,76.0,74.0,57.0,85.0,71.0,66.0,77.0,57.0,36.0,77.0,66.0,61.0,84.0,62.0,71.0,69.0,65.0,94.0,38.0,72.0,70.0,71.0,87.0,75.0,49.0,69.0,77.0,63.0,92.0,44.0,79.0,66.0,72.0,63.0,79.0,41.0,43.0,62.0,67.0,64.0,82.0,79.0,80.0,68.0,58.0,82.0,90.0,66.0,84.0,65.0,72.0,70.0,61.0,76.0,75.0,68.0,65.0,71.0,53.0,71.0,71.0,82.0,33.0,86.0,38.0,78.0,78.0,51.0,72.0,70.0,77.0,47.0,70.0,74.0,65.0,78.0,54.0,52.0,60.0,70.0,88.0,92.0,78.0,83.0,60.0,84.0,68.0,57.0,63.0,50.0,49.0,84.0,83.0,79.0,53.0,82.0,73.0,54.0,55.0,49.0,70.0,70.0,56.0,70.0,61.0,72.0,81.0,78.0,75.0,73.0,77.0,68.0,67.0,80.0,82.0,72.0,28.0,54.0,76.0,76.0,66.0,63.0,80.0,66.0,39.0,86.0,51.0,84.0,66.0,55.0,62.0,77.0,70.0,75.0,74.0,85.0,79.0,65.0,65.0,84.0,83.0,51.0,74.0,80.0,85.0,66.0,68.0,73.0,72.0,85.0,73.0,59.0,73.0,68.0,56.0,52.0,62.0,81.0,79.0,79.0,55.0,73.0,81.0,71.0,75.0,82.0,67.0,60.0,69.0,48.0,87.0,58.0,81.0,85.0,89.0,76.0,69.0,59.0,68.0,83.0,53.0,50.0,73.0,71.0,77.0,60.0,70.0,72.0,70.0,86.0,51.0,84.0,49.0,63.0,54.0,58.0,81.0,80.0,73.0,91.0,59.0,76.0,60.0,57.0,72.0,83.0,53.0,77.0,45.0,31.0,49.0,78.0,79.0,81.0,69.0,84.0,76.0,77.0,63.0,85.0,69.0,68.0,63.0,81.0,59.0,73.0,79.0,71.0,56.0,83.0,48.0,85.0,66.0,39.0,67.0,71.0,80.0,81.0,65.0,75.0,79.0,49.0,59.0,48.0,66.0,87.0,27.0,70.0,68.0,71.0,85.0,69.0,63.0,81.0,83.0,81.0,77.0,59.0,60.0,86.0,83.0,61.0,86.0,35.0,81.0,85.0,69.0,62.0,69.0,57.0,98.0,89.0,66.0,66.0,74.0,75.0,73.0,83.0,73.0,77.0,61.0,65.0,75.0,72.0,75.0,78.0,75.0,65.0,45.0,80.0,80.0,76.0,70.0,91.0,67.0,54.0,69.0,56.0,69.0,60.0,75.0,59.0,85.0,77.0,71.0,47.0,57.0,79.0,62.0,60.0,82.0,52.0,75.0,69.0,61.0,58.0,67.0,75.0,66.0,54.0,88.0,77.0,72.0,75.0,78.0,78.0,75.0,87.0,44.0,64.0,51.0,76.0,73.0,69.0,65.0,91.0,84.0,82.0,79.0,75.0,63.0,68.0,80.0,62.0,62.0,77.0,52.0,58.0,59.0,67.0,70.0,80.0,79.0,78.0,74.0,83.0,82.0,59.0,86.0,78.0,60.0,84.0,69.0,75.0,76.0,61.0,54.0,84.0,66.0,74.0,47.0,74.0,83.0,62.0,75.0,69.0,55.0,55.0,88.0,74.0,80.0,66.0,63.0,65.0,70.0,72.0,76.0,74.0,26.0,71.0,45.0,60.0,86.0,65.0,65.0,41.0,69.0,75.0,76.0,75.0,75.0,80.0,66.0,44.0,87.0,77.0,66.0,89.0,50.0,72.0,68.0,72.0,67.0,79.0,82.0,76.0,85.0,75.0,74.0,91.0,67.0,74.0,75.0,73.0,92.0,43.0,79.0,88.0,81.0,58.0,63.0,64.0,85.0,67.0,45.0,55.0,59.0,70.0,76.0,82.0,49.0,76.0,68.0,78.0,79.0,70.0,75.0,59.0,79.0,87.0,60.0,72.0,74.0,63.0,55.0,82.0,58.0,63.0,81.0,64.0,63.0,72.0,75.0,52.0,87.0,53.0,63.0,82.0,71.0,80.0,65.0,50.0,61.0,72.0,57.0,85.0,77.0,70.0,77.0,74.0,64.0,58.0,70.0,72.0,59.0,73.0,58.0,61.0,82.0,73.0,63.0,49.0,78.0,68.0,79.0,32.0,79.0,82.0,62.0,66.0,76.0,26.0,85.0,65.0,81.0,60.0,59.0,69.0,79.0,81.0,41.0,81.0,67.0,73.0,58.0,71.0,73.0,74.0,46.0,85.0,78.0,82.0,73.0,52.0,49.0,26.0,58.0,32.0,66.0,54.0,59.0,54.0,73.0,73.0,62.0,76.0,27.0,83.0,72.0,66.0,62.0,83.0,81.0,68.0,78.0,78.0,59.0,65.0,36.0,61.0,81.0,75.0,62.0,53.0,77.0,53.0,69.0,66.0,77.0,79.0,48.0,63.0,61.0,45.0,90.0,46.0,63.0,74.0,82.0,77.0,73.0,62.0,76.0,60.0,73.0,65.0,55.0,67.0,74.0,68.0,46.0,64.0,49.0,69.0,77.0,56.0,72.0,79.0,76.0,57.0,52.0,48.0,70.0,85.0,70.0,68.0,71.0,72.0,60.0,57.0,74.0,90.0,77.0,74.0,72.0,67.0,73.0,67.0,88.0,59.0,66.0,87.0,69.0,61.0,62.0,64.0,60.0,82.0,58.0,80.0,87.0,64.0,67.0,60.0,72.0,60.0,72.0,61.0,68.0,82.0,58.0,74.0,69.0,43.0,69.0,76.0,70.0,74.0,70.0,84.0,75.0,76.0,77.0,77.0,65.0,68.0,71.0,68.0,43.0,47.0,30.0,83.0,81.0,79.0,45.0,49.0,76.0,84.0,71.0,60.0,71.0,80.0,65.0,76.0,56.0,75.0,84.0,70.0,61.0,62.0,59.0,80.0,80.0,72.0,86.0,72.0,76.0,50.0,48.0,75.0,70.0,69.0,82.0,85.0,73.0,72.0,69.0,58.0,61.0,66.0,40.0,70.0,73.0,58.0,92.0,54.0,90.0,76.0,61.0,58.0,59.0,71.0,56.0,85.0,68.0,57.0,58.0,52.0,75.0,69.0,59.0,56.0,69.0,70.0,64.0,82.0,58.0,69.0,76.0,46.0,68.0,50.0,84.0,60.0,71.0,76.0,78.0,56.0,80.0,71.0,70.0,65.0,84.0,71.0,57.0,82.0,70.0,66.0,54.0,66.0,61.0,54.0,65.0,55.0,71.0,89.0,55.0,59.0,78.0,71.0,60.0,65.0,55.0,56.0,91.0,57.0,80.0,58.0,74.0,75.0,65.0,65.0,59.0,66.0,71.0,69.0,78.0,79.0,78.0,51.0,64.0,67.0,68.0,38.0,72.0,41.0,61.0,81.0,57.0,80.0,41.0,78.0,65.0,78.0,81.0,57.0,87.0,71.0,64.0,60.0,49.0,62.0,67.0,79.0,81.0,69.0,73.0,67.0,79.0,70.0,60.0,76.0,89.0,69.0,69.0,78.0,75.0,62.0,61.0,41.0,71.0,75.0,62.0,62.0,71.0,77.0,68.0,77.0,76.0,42.0,84.0,84.0,68.0,56.0,65.0,66.0,69.0,78.0,79.0,75.0,71.0,78.0,52.0,78.0,66.0,71.0,56.0,41.0,58.0,63.0,47.0,59.0,45.0,69.0,87.0,46.0,40.0,75.0,46.0,89.0,73.0,53.0,55.0,90.0,87.0,76.0,51.0,84.0,81.0,56.0,82.0,55.0,68.0,49.0,50.0,59.0,53.0,55.0,63.0,80.0,83.0,76.0,67.0,64.0,70.0,63.0,61.0,68.0,73.0,59.0,81.0,78.0,66.0,59.0,73.0,44.0,49.0,77.0,70.0,67.0,67.0,66.0,55.0,77.0,59.0,88.0,64.0,70.0,68.0,64.0,78.0,75.0,53.0,74.0,54.0,80.0,78.0,71.0,47.0,80.0,58.0,49.0,79.0,77.0,58.0,46.0,87.0,73.0,63.0,77.0,68.0,89.0,73.0,84.0,77.0,94.0,79.0,56.0,71.0,81.0,74.0,46.0,69.0,52.0,65.0,52.0,56.0,64.0,69.0,62.0,80.0,64.0,77.0,86.0,67.0,71.0,93.0,76.0,30.0,53.0,64.0,59.0,57.0,73.0,88.0,71.0,71.0,85.0,48.0,83.0,42.0,79.0,72.0,68.0,53.0,49.0,74.0,65.0,64.0,78.0,65.0,78.0,36.0,62.0,76.0,38.0,81.0,75.0,63.0,69.0,87.0,57.0,63.0,70.0,56.0,64.0,57.0,57.0,83.0,43.0,70.0,89.0,51.0,55.0,67.0,65.0,59.0,50.0,53.0,83.0,74.0,77.0,80.0,82.0,63.0,56.0,39.0,58.0,88.0,62.0,63.0,71.0,64.0,66.0,75.0,43.0,79.0,79.0,51.0,80.0,73.0,78.0,57.0,68.0,48.0,80.0,76.0,82.0,63.0,63.0,76.0,71.0,84.0,67.0,83.0,83.0,70.0,42.0,70.0,53.0,56.0,67.0,64.0,88.0,78.0,75.0,88.0,80.0,81.0,42.0,67.0,58.0,80.0,52.0,51.0,60.0,68.0,71.0,70.0,75.0,83.0,77.0,81.0,60.0,61.0,64.0,77.0,81.0,53.0,61.0,50.0,63.0,77.0,73.0,70.0,59.0,72.0,63.0,68.0,71.0,53.0,62.0,87.0,46.0,75.0,49.0,85.0,50.0,57.0,67.0,63.0,59.0,65.0,77.0,43.0,42.0,53.0,69.0,51.0,47.0,53.0,80.0,62.0,46.0,70.0,56.0,65.0,61.0,56.0,74.0,62.0,73.0,72.0,63.0,62.0,76.0,77.0,66.0,59.0,85.0,79.0,68.0,63.0,68.0,56.0,85.0,73.0,64.0,81.0,77.0,35.0,47.0,66.0,72.0,88.0,75.0,89.0,70.0,90.0,75.0,84.0,53.0,61.0,88.0,53.0,63.0,69.0,52.0,58.0,78.0,73.0,27.0,48.0,71.0,58.0,81.0,57.0,66.0,73.0,59.0,70.0,57.0,66.0,79.0,74.0,55.0,74.0,59.0,82.0,61.0,82.0,87.0,71.0,86.0,71.0,75.0,77.0,58.0,73.0,90.0,73.0,87.0,82.0,79.0,55.0,79.0,61.0,83.0,79.0,39.0,63.0,50.0,41.0,76.0,62.0,62.0,55.0,59.0,61.0,64.0,64.0,51.0,74.0,72.0,60.0,58.0,66.0,75.0,78.0,84.0,79.0,69.0,88.0,77.0,82.0,42.0,58.0,66.0,54.0,61.0,61.0,50.0,61.0,77.0,72.0,68.0,73.0,69.0,76.0,47.0,80.0,66.0,70.0,67.0,61.0,77.0,47.0,72.0,86.0,52.0,80.0,81.0,46.0,49.0,56.0,58.0,19.0,58.0,53.0,33.0,58.0,69.0,66.0,66.0,59.0,80.0,82.0,49.0,88.0,49.0,70.0,69.0,51.0,67.0,70.0,78.0,71.0,80.0,60.0,61.0,61.0,58.0,72.0,82.0,60.0,75.0,60.0,72.0,62.0,80.0,92.0,57.0,63.0,61.0,53.0,70.0,70.0,69.0,63.0,51.0,68.0,49.0,67.0,47.0,80.0,56.0,43.0,52.0,60.0,63.0,57.0,66.0,68.0,82.0,69.0,40.0,46.0,64.0,76.0,61.0,56.0,47.0,69.0,68.0,72.0,76.0,55.0,83.0,25.0,70.0,60.0,65.0,67.0,84.0,85.0,76.0,84.0,63.0,71.0,92.0,73.0,74.0,68.0,70.0,26.0,63.0,75.0,74.0,83.0,74.0,54.0,76.0,78.0,83.0,65.0,77.0,72.0,79.0,60.0,83.0,67.0,78.0,63.0,47.0,69.0,80.0,61.0,43.0,74.0,37.0,67.0,81.0,64.0,85.0,69.0,38.0,65.0,53.0,57.0,88.0,79.0,55.0,91.0,71.0,51.0,74.0,74.0,64.0,76.0,78.0,40.0,81.0,28.0,77.0,53.0,39.0,67.0,68.0,68.0,64.0,80.0,78.0,89.0,82.0,82.0,32.0,79.0,68.0,54.0,69.0,74.0,33.0,61.0,48.0,58.0,55.0,70.0,61.0,75.0,40.0,57.0,72.0,73.0,78.0,71.0,33.0,68.0,76.0,52.0,69.0,89.0,69.0,87.0,72.0,74.0,67.0,51.0,62.0,79.0,63.0,70.0,70.0,64.0,75.0,53.0,57.0,82.0,72.0,90.0,67.0,72.0,70.0,71.0,52.0,53.0,51.0,79.0,81.0,36.0,36.0,63.0,73.0,68.0,87.0,70.0,57.0,65.0,62.0,82.0,43.0,75.0,45.0,72.0,68.0,76.0,40.0,86.0,60.0,64.0,65.0,68.0,37.0,60.0,58.0,75.0,71.0,66.0,75.0,90.0,74.0,67.0,77.0,53.0,75.0,71.0,78.0,63.0,76.0,66.0,77.0,62.0,49.0,71.0,50.0,65.0,62.0,49.0,58.0,59.0,65.0,80.0,65.0,59.0,42.0,78.0,58.0,85.0,83.0,83.0,53.0,47.0,73.0,55.0,51.0,65.0,76.0,57.0,70.0,57.0,63.0,59.0,58.0,67.0,75.0,58.0,57.0,68.0,51.0,78.0,76.0,70.0,81.0,72.0,65.0,67.0,69.0,64.0,72.0,68.0,61.0,74.0,57.0,49.0,53.0,71.0,63.0,78.0,71.0,60.0,49.0,50.0,69.0,52.0,63.0,62.0,46.0,74.0,66.0,51.0,56.0,23.0,66.0,57.0,64.0,62.0,85.0,60.0,79.0,82.0,65.0,77.0,43.0,81.0,84.0,69.0,83.0,63.0,79.0,64.0,75.0,72.0,74.0,69.0,64.0,85.0,49.0,76.0,66.0,82.0,68.0,61.0,54.0,73.0,79.0,62.0,70.0,82.0,70.0,61.0,71.0,52.0,68.0,65.0,76.0,58.0,72.0,82.0,77.0,80.0,53.0,67.0,62.0,67.0,64.0,79.0,80.0,68.0,47.0,60.0,72.0,55.0,78.0,60.0,82.0,67.0,61.0,57.0,51.0,74.0,72.0,67.0,49.0,59.0,79.0,59.0,82.0,83.0,51.0,68.0,55.0,76.0,68.0,74.0,86.0,69.0,74.0,44.0,79.0,63.0,55.0,81.0,62.0,69.0,66.0,74.0,65.0,77.0,65.0,76.0,80.0,36.0,64.0,51.0,51.0,71.0,69.0,73.0,72.0,68.0,55.0,39.0,72.0,51.0,80.0,58.0,61.0,57.0,64.0,86.0,82.0,61.0,61.0,84.0,76.0,83.0,39.0,48.0,75.0,74.0,73.0,71.0,54.0,75.0,44.0,72.0,59.0,47.0,64.0,60.0,69.0,54.0,54.0,73.0,39.0,76.0,34.0,64.0,70.0,35.0,48.0,69.0,59.0,65.0,65.0,71.0,75.0,84.0,60.0,56.0,49.0,68.0,57.0,63.0,71.0,51.0,38.0,58.0,77.0,52.0,59.0,45.0,75.0,83.0,81.0,79.0,76.0,67.0,70.0,70.0,81.0,72.0,69.0,61.0,62.0,67.0,68.0,62.0,73.0,82.0,51.0,48.0,39.0,59.0,38.0,81.0,67.0,68.0,38.0,47.0,59.0,75.0,83.0,56.0,54.0,63.0,60.0,67.0,81.0,51.0,65.0,85.0,62.0,56.0,87.0,44.0,53.0,59.0,58.0,38.0,91.0,75.0,78.0,73.0,54.0,68.0,61.0,39.0,63.0,49.0,31.0,59.0,44.0,61.0,66.0,66.0,73.0,72.0,71.0,66.0,72.0,61.0,66.0,72.0,59.0,82.0,74.0,82.0,74.0,70.0,42.0,80.0,69.0,87.0,58.0,73.0,59.0,51.0,84.0,52.0,69.0,69.0,52.0,68.0,65.0,71.0,53.0,71.0,64.0,54.0,56.0,52.0,75.0,72.0,60.0,81.0,82.0,68.0,79.0,61.0,77.0,70.0,48.0,58.0,57.0,71.0,65.0,62.0,83.0,63.0,53.0,78.0,71.0,47.0,69.0,46.0,63.0,48.0,35.0,68.0,73.0,80.0,58.0,51.0,78.0,73.0,36.0,56.0,73.0,67.0,72.0,49.0,70.0,49.0,42.0,65.0,53.0,49.0,68.0,64.0,50.0,54.0,42.0,72.0,73.0,72.0,45.0,72.0,57.0,76.0,72.0,57.0,58.0,62.0,65.0,50.0,61.0,41.0,40.0,68.0,72.0,77.0,57.0,72.0,62.0,44.0,76.0,71.0,77.0,71.0,52.0,61.0,65.0,74.0,94.0,74.0,75.0,71.0,69.0,64.0,61.0,68.0,83.0,66.0,71.0,25.0,74.0,42.0,69.0,72.0,65.0,47.0,73.0,59.0,77.0,49.0,59.0,53.0,74.0,59.0,49.0,70.0,76.0,72.0,66.0,66.0,75.0,45.0,66.0,83.0,61.0,67.0,37.0,73.0,81.0,51.0,68.0,75.0,71.0,83.0,67.0,51.0,67.0,77.0,77.0,62.0,47.0,52.0,55.0,61.0,52.0,74.0,56.0,57.0,74.0,59.0,66.0,75.0,71.0,37.0,61.0,63.0,70.0,59.0,50.0,73.0,58.0,53.0,69.0,86.0,73.0,64.0,55.0,62.0,78.0,84.0,77.0,33.0,62.0,77.0,82.0,38.0,77.0,74.0,67.0,61.0,70.0,32.0,82.0,89.0,72.0,67.0,84.0,77.0,77.0,66.0,64.0,63.0,60.0,62.0,68.0,44.0,50.0,62.0,55.0,57.0,82.0,59.0,60.0,63.0,38.0,60.0,64.0,73.0,80.0,77.0,55.0,78.0,89.0,36.0,74.0,74.0,75.0,77.0,78.0,73.0,89.0,83.0,48.0,48.0,77.0,75.0,71.0,44.0,56.0,65.0,78.0,53.0,74.0,77.0,54.0,81.0,81.0,70.0,86.0,57.0,49.0,85.0,56.0,62.0,64.0,26.0,61.0,66.0,67.0,77.0,65.0,75.0,77.0,30.0,53.0,63.0,72.0,60.0,55.0,82.0,75.0,57.0,89.0,75.0,75.0,74.0,51.0,81.0,79.0,61.0,83.0,62.0,54.0,64.0,78.0,83.0,83.0,59.0,47.0,83.0,74.0,62.0,43.0,85.0,56.0,71.0,51.0,52.0,50.0,40.0,77.0,52.0,71.0,69.0,66.0,79.0,60.0,54.0,83.0,74.0,63.0,66.0,73.0,39.0,88.0,64.0,81.0,35.0,84.0,84.0,70.0,65.0,68.0,75.0,90.0,66.0,67.0,76.0,65.0,80.0,66.0,65.0,80.0,74.0,68.0,81.0,39.0,68.0,69.0,59.0,43.0,74.0,74.0,65.0,62.0,71.0,74.0,66.0,54.0,83.0,86.0,63.0,50.0,80.0,80.0,64.0,66.0,58.0,76.0,56.0,83.0,63.0,59.0,64.0,56.0,68.0,59.0,59.0,74.0,83.0,80.0,69.0,60.0,50.0,58.0,43.0,79.0,75.0,50.0,82.0,82.0,61.0,76.0,66.0,81.0,74.0,59.0,81.0,38.0,70.0,76.0,78.0,74.0,68.0,44.0,79.0,35.0,81.0,84.0,59.0,40.0,63.0,81.0,67.0,65.0,64.0,81.0,77.0,68.0,65.0,72.0,67.0,72.0,64.0,39.0,80.0,54.0,47.0,19.0,77.0,71.0,54.0,79.0,62.0,64.0,88.0,79.0,69.0,60.0,78.0,38.0,77.0,64.0,85.0,65.0,62.0,68.0,73.0,96.0,90.0,53.0,36.0,70.0,79.0,54.0,93.0,67.0,60.0,53.0,71.0,73.0,50.0,93.0,49.0,63.0,54.0,55.0,65.0,71.0,66.0,64.0,45.0,87.0,51.0,72.0,82.0,77.0,68.0,75.0,77.0,48.0,63.0,83.0,58.0,78.0,63.0,38.0,72.0,60.0,58.0,56.0,71.0,58.0,81.0,75.0,78.0,30.0,44.0,67.0,62.0,60.0,76.0,46.0,68.0,77.0,54.0,35.0,62.0,74.0,84.0,66.0,65.0,35.0,65.0,65.0,75.0,70.0,73.0,69.0,80.0,88.0,47.0,50.0,49.0,79.0,65.0,68.0,76.0,57.0,72.0,76.0,66.0,49.0,69.0,59.0,58.0,48.0,53.0,27.0,80.0,49.0,50.0,26.0,73.0,51.0,65.0,72.0,72.0,71.0,41.0,65.0,52.0,64.0,85.0,79.0,63.0,76.0,50.0,39.0,79.0,53.0,58.0,28.0,44.0,69.0,79.0,75.0,61.0,76.0,70.0,55.0,56.0,79.0,82.0,80.0,92.0,60.0,65.0,69.0,80.0,57.0,75.0,79.0,42.0,62.0,86.0,54.0,78.0,80.0,64.0,54.0,63.0,67.0,50.0,74.0,70.0,61.0,80.0,88.0,66.0,58.0,56.0,33.0,42.0,73.0,83.0,91.0,48.0,76.0,62.0,61.0,76.0,83.0,62.0,77.0,48.0,86.0,72.0,78.0,66.0,65.0,62.0,77.0,73.0,68.0,24.0,80.0,62.0,42.0,41.0,59.0,78.0,67.0,68.0,67.0,39.0,63.0,48.0,61.0,58.0,51.0,70.0,61.0,57.0,84.0,38.0,59.0,50.0,74.0,73.0,39.0,53.0,52.0,68.0,73.0,63.0,68.0,64.0,68.0,85.0,60.0,72.0,57.0,63.0,61.0,75.0,60.0,60.0,37.0,47.0,70.0,69.0,83.0,75.0,51.0,70.0,74.0,45.0,62.0,79.0,83.0,36.0,75.0,71.0,84.0,71.0,50.0,67.0,74.0,86.0,79.0,70.0,59.0,81.0,61.0,63.0,53.0,59.0,53.0,62.0,79.0,53.0,49.0,60.0,50.0,78.0,62.0,78.0,64.0,77.0,70.0,66.0,51.0,79.0,68.0,49.0,59.0,66.0,52.0,68.0,74.0,73.0,66.0,37.0,46.0,60.0,64.0,67.0,69.0,86.0,33.0,53.0,64.0,76.0,33.0,43.0,75.0,68.0,50.0,63.0,49.0,65.0,59.0,63.0,47.0,59.0,71.0,55.0,47.0,72.0,68.0,80.0,65.0,64.0,59.0,86.0,62.0,83.0,57.0,28.0,65.0,86.0,56.0,44.0,70.0,66.0,61.0,71.0,70.0,66.0,73.0,74.0,70.0,89.0,69.0,39.0,65.0,45.0,83.0,87.0,64.0,72.0,36.0,63.0,69.0,52.0,69.0,65.0,76.0,90.0,88.0,36.0,39.0,59.0,74.0,66.0,59.0,68.0,50.0,75.0,43.0,63.0,61.0,75.0,66.0,56.0,64.0,84.0,50.0,25.0,73.0,74.0,53.0,58.0,64.0,72.0,61.0,68.0,45.0,77.0,73.0,55.0,75.0,57.0,54.0,78.0,84.0,57.0,66.0,66.0,63.0,68.0,54.0,65.0,89.0,54.0,81.0,74.0,73.0,65.0,21.0,79.0,55.0,77.0,70.0,68.0,59.0,78.0,62.0,67.0,68.0,66.0,77.0,45.0,19.0,61.0,74.0,76.0,62.0,72.0,50.0,62.0,71.0,77.0,49.0,69.0,44.0,63.0,45.0,55.0,68.0,76.0,68.0,76.0,72.0,67.0,54.0,40.0,81.0,81.0,54.0,67.0,74.0,73.0,82.0,75.0,25.0,28.0,75.0,52.0,63.0,55.0,67.0,63.0,70.0,44.0,53.0,39.0,68.0,75.0,81.0,48.0,65.0,63.0,73.0,43.0,69.0,51.0,37.0,63.0,52.0,66.0,80.0,75.0,58.0,82.0,66.0,26.0,68.0,55.0,59.0,75.0,51.0,56.0,70.0,72.0,70.0,57.0,77.0,41.0,68.0,75.0,68.0,39.0,81.0,71.0,77.0,88.0,58.0,50.0,28.0,63.0,60.0,79.0,56.0,62.0,55.0,76.0,62.0,70.0,59.0,67.0,51.0,71.0,72.0,58.0,70.0,59.0,50.0,60.0,76.0,50.0,73.0,35.0,59.0,64.0,49.0,50.0,78.0,66.0,65.0,53.0,56.0,85.0,57.0,71.0,48.0,69.0,55.0,77.0,49.0,58.0,39.0,78.0,73.0,69.0,66.0,83.0,45.0,40.0,58.0,35.0,67.0,66.0,38.0,73.0,57.0,56.0,79.0,44.0,47.0,60.0,77.0,48.0,53.0,72.0,76.0,62.0,51.0,43.0,75.0,56.0,69.0,79.0,64.0,77.0,67.0,53.0,77.0,62.0,82.0,85.0,82.0,74.0,52.0,72.0,54.0,64.0,68.0,28.0,71.0,64.0,46.0,64.0,37.0,83.0,59.0,50.0,55.0,80.0,51.0,66.0,75.0,75.0,54.0,54.0,45.0,60.0,79.0,63.0,62.0,50.0,75.0,59.0,58.0,24.0,67.0,47.0,66.0,82.0,59.0,70.0,70.0,70.0,76.0,56.0,54.0,79.0,68.0,69.0,81.0,52.0,81.0,54.0,71.0,74.0,83.0,81.0,84.0,72.0,61.0,61.0,78.0,78.0,72.0,72.0,66.0,71.0,64.0,76.0,52.0,73.0,51.0,72.0,66.0,51.0,92.0,87.0,62.0,34.0,59.0,54.0,72.0,39.0,84.0,58.0,60.0,77.0,63.0,68.0,56.0,60.0,80.0,70.0,61.0,66.0,75.0,57.0,71.0,85.0,61.0,53.0,58.0,71.0,52.0,62.0,53.0,58.0,66.0,85.0,70.0,53.0,65.0,76.0,71.0,68.0,82.0,76.0,41.0,33.0,65.0,65.0,80.0,49.0,56.0,37.0,25.0,49.0,75.0,68.0,75.0,78.0,43.0,60.0,54.0,57.0,64.0,77.0,55.0,77.0,67.0,32.0,69.0,69.0,60.0,17.0,39.0,55.0,84.0,61.0,75.0,28.0,75.0,36.0,82.0,73.0,54.0,62.0,43.0,47.0,46.0,65.0,39.0,83.0,67.0,67.0,68.0,42.0,71.0,73.0,28.0,73.0,79.0,53.0,52.0,53.0,62.0,53.0,55.0,51.0,54.0,61.0,72.0,63.0,57.0,64.0,71.0,56.0,49.0,68.0,73.0,60.0,71.0,64.0,88.0,66.0,87.0,62.0,71.0,86.0,71.0,54.0,83.0,74.0,58.0,77.0,78.0,48.0,88.0,44.0,78.0,54.0,66.0,62.0,78.0,60.0,61.0,61.0,62.0,80.0,43.0,66.0,74.0,73.0,71.0,65.0,77.0,60.0,59.0,79.0,61.0,65.0,70.0,46.0,63.0,87.0,64.0,63.0,60.0,68.0,38.0,92.0,42.0,61.0,84.0,70.0,72.0,82.0,56.0,76.0,80.0,57.0,64.0,86.0,58.0,62.0,55.0,78.0,63.0,44.0,58.0,78.0,71.0,52.0,46.0,94.0,60.0,58.0,67.0,46.0,51.0,59.0,64.0,77.0,66.0,86.0,81.0,73.0,57.0,75.0,71.0,73.0,56.0,71.0,63.0,85.0,71.0,72.0,46.0,70.0,32.0,45.0,74.0,44.0,93.0,85.0,80.0,65.0,79.0,71.0,68.0,49.0,48.0,70.0,43.0,70.0,69.0,54.0,77.0,45.0,57.0,79.0,69.0,45.0,85.0,64.0,65.0,58.0,80.0,71.0,58.0,46.0,44.0,67.0,37.0,69.0,43.0,66.0,84.0,67.0,61.0,69.0,46.0,69.0,67.0,53.0,36.0,36.0,83.0,71.0,56.0,74.0,77.0,90.0,77.0,67.0,72.0,73.0,78.0,56.0,48.0,63.0,63.0,76.0,75.0,43.0,85.0,76.0,76.0,39.0,75.0,71.0,53.0,55.0,59.0,58.0,77.0,68.0,67.0,45.0,65.0,71.0,80.0,78.0,66.0,42.0,82.0,85.0,50.0,62.0,28.0,72.0,61.0,79.0,55.0,65.0,78.0,75.0,84.0,20.0,73.0,56.0,63.0,70.0,30.0,66.0,56.0,51.0,42.0,74.0,75.0,70.0,89.0,54.0,45.0,70.0,69.0,62.0,60.0,63.0,82.0,48.0,38.0,88.0,62.0,72.0,52.0,43.0,73.0,76.0,79.0,85.0,72.0,76.0,34.0,64.0,65.0,75.0,51.0,64.0,70.0,61.0,82.0,31.0,48.0,47.0,56.0,73.0,80.0,77.0,60.0,60.0,64.0,82.0,49.0,63.0,45.0,77.0,74.0,66.0,64.0,79.0,57.0,78.0,69.0,70.0,78.0,61.0,61.0,48.0,90.0,69.0,69.0,47.0,82.0,80.0,69.0,46.0,71.0,76.0,75.0,35.0,77.0,51.0,78.0,60.0,61.0,54.0,44.0,78.0,52.0,65.0,36.0,62.0,20.0,78.0,91.0,72.0,85.0,85.0,49.0,66.0,70.0,86.0,61.0,69.0,74.0,54.0,79.0,56.0,64.0,69.0,51.0,79.0,43.0,63.0,62.0,73.0,52.0,46.0,58.0,40.0,59.0,62.0,83.0,82.0,51.0,80.0,64.0,80.0,68.0,80.0,66.0,70.0,49.0,39.0,57.0,65.0,66.0,43.0,49.0,29.0,60.0,83.0,57.0,46.0,63.0,71.0,69.0,78.0,76.0,68.0,58.0,61.0,51.0,72.0,72.0,60.0,74.0,61.0,80.0,66.0,63.0,38.0,51.0,64.0,49.0,71.0,33.0,69.0,74.0,56.0,33.0,67.0,64.0,67.0,71.0,74.0,72.0,52.0,75.0,67.0,90.0,51.0,57.0,49.0,28.0,55.0,91.0,82.0,55.0,60.0,65.0,78.0,62.0,80.0,83.0,75.0,63.0,53.0,69.0,54.0,75.0,67.0,71.0,72.0,66.0,35.0,73.0,74.0,37.0,73.0,65.0,82.0,69.0,67.0,81.0,75.0,57.0,62.0,71.0,75.0,78.0,86.0,46.0,54.0,55.0,70.0,67.0,79.0,64.0,72.0,70.0,72.0,50.0,71.0,74.0,50.0,59.0,36.0,75.0,33.0,78.0,60.0,82.0,82.0,51.0,47.0,40.0,83.0,61.0,70.0,49.0,47.0,75.0,79.0,62.0,27.0,78.0,70.0,50.0,75.0,82.0,73.0,61.0,64.0,64.0,72.0,67.0,61.0,41.0,58.0,71.0,68.0,56.0,66.0,33.0,77.0,38.0,69.0,73.0,89.0,75.0,44.0,44.0,63.0,67.0,65.0,54.0,70.0,66.0,37.0,47.0,37.0,54.0,70.0,80.0,46.0,50.0,61.0,69.0,49.0,67.0,78.0,78.0,42.0,23.0,32.0,50.0,74.0,75.0,70.0,67.0,62.0,47.0,83.0,70.0,44.0,44.0,62.0,69.0,59.0,34.0,36.0,71.0,83.0,67.0,73.0,32.0,77.0,47.0,61.0,49.0,22.0,36.0,75.0,63.0,55.0,72.0,49.0,79.0,58.0,47.0,56.0,87.0,33.0,57.0,67.0,72.0,35.0,73.0,73.0,75.0,59.0,83.0,82.0,78.0,56.0,73.0,79.0,58.0,55.0,72.0,65.0,58.0,61.0,57.0,56.0,75.0,65.0,88.0,19.0,80.0,63.0,57.0,70.0,56.0,79.0,40.0,70.0,56.0,82.0,65.0,84.0,57.0,61.0,73.0,24.0,70.0,69.0,73.0,61.0,69.0,49.0,63.0,53.0,56.0,86.0,55.0,74.0,50.0,73.0,56.0,57.0,83.0,69.0,57.0,74.0,47.0,80.0,48.0,72.0,89.0,64.0,51.0,54.0,83.0,55.0,61.0,67.0,75.0,66.0,71.0,60.0,64.0,81.0,72.0,83.0,66.0,58.0,44.0,54.0,62.0,51.0,69.0,66.0,32.0,63.0,81.0,61.0,41.0,74.0,53.0,66.0,51.0,49.0,80.0,55.0,63.0,70.0,60.0,63.0,66.0,85.0,55.0,68.0,70.0,45.0,69.0,37.0,60.0,70.0,76.0,55.0,70.0,61.0,45.0,83.0,78.0,79.0,37.0,67.0,74.0,79.0,59.0,57.0,68.0,72.0,55.0,32.0,73.0,65.0,57.0,57.0,60.0,76.0,82.0,83.0,72.0,67.0,68.0,65.0,61.0,66.0,35.0,55.0,40.0,83.0,67.0,47.0,70.0,68.0,68.0,57.0,38.0,65.0,55.0,27.0,59.0,54.0,68.0,76.0,79.0,48.0,76.0,80.0,47.0,61.0,64.0,71.0,65.0,60.0,72.0,77.0,55.0,81.0,75.0,55.0,66.0,48.0,71.0,63.0,65.0,83.0,36.0,65.0,66.0,61.0,86.0,78.0,72.0,66.0,72.0,51.0,66.0,64.0,81.0,66.0,65.0,56.0,80.0,36.0,70.0,54.0,70.0,54.0,61.0,33.0,58.0,57.0,67.0,52.0,43.0,63.0,44.0,59.0,80.0,62.0,80.0,60.0,44.0,68.0,69.0,66.0,50.0,61.0,71.0,58.0,58.0,29.0,79.0,69.0,65.0,59.0,30.0,35.0,83.0,53.0,60.0,53.0,83.0,78.0,71.0,72.0,42.0,55.0,71.0,60.0,48.0,77.0,73.0,44.0,74.0,59.0,61.0,45.0,54.0,44.0,69.0,47.0,74.0,71.0,27.0,42.0,73.0,50.0,81.0,60.0,64.0,74.0,82.0,71.0,59.0,71.0,67.0,25.0,70.0,68.0,88.0,62.0,60.0,33.0,81.0,60.0,73.0,64.0,58.0,78.0,70.0,65.0,54.0,70.0,65.0,68.0,67.0,62.0,34.0,69.0,53.0,37.0,19.0,50.0,76.0,52.0,68.0,76.0,86.0,60.0,68.0,82.0,81.0,77.0,59.0,59.0,48.0,53.0,65.0,63.0,42.0,35.0,75.0,30.0,43.0,60.0,78.0,84.0,65.0,72.0,42.0,70.0,53.0,58.0,83.0,70.0,69.0,57.0,80.0,43.0,66.0,71.0,66.0,36.0,64.0,55.0,62.0,63.0,50.0,66.0,76.0,65.0,76.0,59.0,75.0,78.0,59.0,57.0,76.0,74.0,57.0,41.0,51.0,60.0,71.0,58.0,68.0,80.0,52.0,66.0,43.0,81.0,59.0,78.0,57.0,61.0,77.0,67.0,75.0,67.0,58.0,58.0,72.0,61.0,46.0,58.0,61.0,54.0,46.0,79.0,72.0,49.0,70.0,66.0,66.0,71.0,74.0,69.0,76.0,70.0,76.0,70.0,37.0,48.0,50.0,51.0,61.0,76.0,77.0,77.0,33.0,68.0,66.0,71.0,82.0,69.0,39.0,66.0,53.0,75.0,60.0,78.0,66.0,74.0,58.0,83.0,58.0,26.0,73.0,37.0,40.0,49.0,51.0,77.0,84.0,68.0,60.0,78.0,79.0,81.0,69.0,51.0,64.0,62.0,81.0,71.0,77.0,60.0,68.0,70.0,78.0,75.0,58.0,46.0,73.0,87.0,71.0,44.0,65.0,74.0,64.0,65.0,89.0,79.0,48.0,64.0,43.0,78.0,62.0,40.0,61.0,63.0,52.0,48.0,49.0,77.0,64.0,71.0,49.0,44.0,82.0,61.0,54.0,76.0,66.0,55.0,65.0,82.0,56.0,79.0,45.0,56.0,30.0,75.0,86.0,74.0,80.0,69.0,57.0,85.0,66.0,69.0,54.0,70.0,84.0,78.0,79.0,68.0,78.0,83.0,73.0,67.0,60.0,72.0,81.0,75.0,79.0,57.0,88.0,60.0,58.0,82.0,50.0,46.0,59.0,82.0,54.0,71.0,76.0,79.0,71.0,89.0,62.0,70.0,46.0,49.0,71.0,64.0,87.0,72.0,72.0,69.0,92.0,72.0,82.0,54.0,39.0,87.0,50.0,48.0,56.0,37.0,63.0,32.0,41.0,93.0,37.0,71.0,47.0,79.0,69.0,34.0,53.0,75.0,72.0,60.0,38.0,70.0,78.0,58.0,86.0,62.0,74.0,84.0,79.0,63.0,31.0,58.0,35.0,39.0,67.0,67.0,60.0,52.0,71.0,48.0,46.0,77.0,88.0,61.0,64.0,35.0,80.0,72.0,79.0,78.0,83.0,65.0,49.0,58.0,66.0,76.0,69.0,55.0,79.0,68.0,73.0,71.0,37.0,61.0,43.0,70.0,35.0,48.0,60.0,82.0,74.0,65.0,67.0,80.0,43.0,60.0,75.0,67.0,60.0,54.0,86.0,76.0,47.0,78.0,68.0,53.0,43.0,42.0,66.0,81.0,38.0,43.0,66.0,68.0,72.0,74.0,69.0,70.0,68.0,59.0,61.0,58.0,79.0,67.0,69.0,75.0,76.0,37.0,13.0,70.0,71.0,46.0,45.0,51.0,42.0,56.0,92.0,78.0,76.0,37.0,70.0,64.0,72.0,75.0,41.0,70.0,75.0,47.0,59.0,78.0,61.0,78.0,61.0,68.0,65.0,62.0,77.0,78.0,66.0,84.0,72.0,66.0,66.0,87.0,70.0,65.0,84.0,87.0,81.0,47.0,69.0,89.0,68.0,69.0,31.0,44.0,53.0,67.0,66.0,67.0,42.0,77.0,52.0,35.0,68.0,62.0,77.0,59.0,78.0,94.0,59.0,50.0,50.0,47.0,34.0,50.0,60.0,48.0,73.0,48.0,57.0,53.0,72.0,60.0,86.0,42.0,51.0,72.0,72.0,80.0,84.0,41.0,71.0,81.0,75.0,38.0,61.0,58.0,60.0,74.0,49.0,44.0,58.0,39.0,83.0,69.0,68.0,69.0,66.0,74.0,74.0,71.0,53.0,72.0,56.0,69.0,50.0,52.0,63.0,54.0,44.0,64.0,74.0,63.0,69.0,73.0,68.0,68.0,67.0,82.0,62.0,42.0,45.0,56.0,37.0,72.0,84.0,65.0,67.0,67.0,65.0,70.0,54.0,55.0,66.0,75.0,71.0,90.0,64.0,66.0,80.0,53.0,70.0,75.0,68.0,71.0,46.0,89.0,63.0,53.0,54.0,64.0,50.0,51.0,83.0,73.0,53.0,67.0,75.0,63.0,84.0,53.0,70.0,55.0,58.0,71.0,59.0,60.0,82.0,77.0,72.0,75.0,72.0,91.0,68.0,81.0,79.0,73.0,60.0,32.0,62.0,48.0,67.0,41.0,66.0,56.0,61.0,77.0,63.0,84.0,36.0,74.0,59.0,71.0,73.0,71.0,57.0,45.0,70.0,69.0,41.0,64.0,78.0,82.0,75.0,38.0,83.0,48.0,75.0,55.0,63.0,73.0,67.0,73.0,84.0,62.0,79.0,60.0,40.0,60.0,31.0,86.0,80.0,65.0,80.0,65.0,56.0,64.0,58.0,62.0,72.0,35.0,59.0,80.0,76.0,61.0,76.0,63.0,64.0,59.0,88.0,80.0,74.0,65.0,48.0,64.0,91.0,54.0,76.0,67.0,61.0,76.0,78.0,52.0,89.0,70.0,66.0,64.0,56.0,43.0,83.0,74.0,71.0,56.0,47.0,78.0,79.0,68.0,65.0,77.0,70.0,72.0,79.0,58.0,55.0,68.0,74.0,67.0,46.0,59.0,51.0,62.0,85.0,57.0,35.0,57.0,59.0,62.0,64.0,64.0,59.0,48.0,78.0,54.0,74.0,83.0,73.0,75.0,87.0,83.0,90.0,76.0,48.0,70.0,44.0,54.0,70.0,61.0,68.0,73.0,81.0,44.0,48.0,58.0,73.0,73.0,88.0,47.0,71.0,61.0,90.0,82.0,39.0,69.0,63.0,68.0,76.0,71.0,69.0,26.0,65.0,79.0,46.0,57.0,41.0,66.0,77.0,68.0,41.0,82.0,45.0,78.0,49.0,64.0,74.0,58.0,83.0,62.0,78.0,43.0,55.0,47.0,73.0,62.0,56.0,59.0,84.0,70.0,82.0,83.0,75.0,74.0,66.0,86.0,74.0,76.0,55.0,75.0,45.0,68.0,84.0,57.0,63.0,53.0,68.0,70.0,74.0,33.0,46.0,59.0,57.0,72.0,72.0,62.0,72.0,31.0,80.0,65.0,62.0,60.0,63.0,73.0,57.0,67.0,52.0,69.0,73.0,85.0,89.0,54.0,45.0,62.0,70.0,80.0,74.0,67.0,78.0,62.0,57.0,26.0,67.0,51.0,60.0,70.0,48.0,51.0,86.0,58.0,58.0,53.0,56.0,78.0,73.0,82.0,75.0,72.0,86.0,66.0,71.0,30.0,76.0,65.0,80.0,66.0,71.0,40.0,71.0,71.0,66.0,63.0,51.0,62.0,35.0,47.0,39.0,60.0,60.0,76.0,59.0,73.0,45.0,62.0,70.0,62.0,63.0,66.0,67.0,52.0,78.0,49.0,78.0,73.0,79.0,84.0,86.0,64.0,73.0,78.0,77.0,58.0,90.0,62.0,81.0,67.0,59.0,71.0,31.0,54.0,84.0,79.0,71.0,73.0,71.0,68.0,62.0,38.0,48.0,78.0,40.0,79.0,36.0,62.0,69.0,53.0,46.0,89.0,60.0,58.0,57.0,57.0,67.0,81.0,57.0,63.0,64.0,63.0,68.0,19.0,85.0,81.0,84.0,50.0,77.0,81.0,69.0,89.0,67.0,55.0,63.0,93.0,58.0,69.0,58.0,59.0,62.0,57.0,57.0,69.0,67.0,55.0,65.0,62.0,63.0,64.0,62.0,39.0,57.0,47.0,52.0,59.0,69.0,33.0,85.0,52.0,42.0,81.0,57.0,43.0,67.0,66.0,79.0,66.0,73.0,38.0,68.0,40.0,65.0,70.0,70.0,74.0,26.0,84.0,51.0,38.0,69.0,66.0,77.0,65.0,30.0,72.0,74.0,67.0,70.0,57.0,59.0,55.0,84.0,68.0,87.0,62.0,71.0,50.0,78.0,74.0,70.0,23.0,54.0,64.0,79.0,65.0,76.0,62.0,72.0,46.0,72.0,76.0,77.0,82.0,67.0,62.0,74.0,63.0,54.0,89.0,50.0,39.0,54.0,65.0,57.0,46.0,72.0,63.0,74.0,52.0,84.0,70.0,57.0,58.0,40.0,79.0,43.0,48.0,30.0,73.0,50.0,75.0,89.0,52.0,55.0,62.0,67.0,53.0,73.0,59.0,67.0,76.0,24.0,63.0,71.0,69.0,82.0,39.0,42.0,67.0,62.0,45.0,64.0,70.0,71.0,42.0,45.0,49.0,61.0,72.0,76.0,87.0,62.0,77.0,93.0,60.0,76.0,75.0,36.0,38.0,51.0,56.0,91.0,66.0,52.0,57.0,59.0,59.0,64.0,57.0,60.0,59.0,65.0,57.0,57.0,60.0,31.0,75.0,87.0,33.0,66.0,71.0,76.0,58.0,72.0,86.0,40.0,50.0,56.0,80.0,75.0,76.0,70.0,64.0,35.0,84.0,58.0,68.0,83.0,66.0,60.0,77.0,44.0,67.0,35.0,74.0,67.0,89.0,66.0,63.0,75.0,63.0,54.0,67.0,62.0,49.0,65.0,72.0,70.0,72.0,62.0,90.0,84.0,48.0,72.0,66.0,77.0,73.0,80.0,66.0,26.0,72.0,86.0,82.0,75.0,58.0,65.0,58.0,65.0,80.0,93.0,45.0,61.0,56.0,82.0,69.0,72.0,74.0,71.0,79.0,83.0,63.0,91.0,66.0,48.0,58.0,75.0,66.0,86.0,65.0,80.0,56.0,75.0,65.0,75.0,72.0,77.0,56.0,57.0,23.0,66.0,77.0,37.0,82.0,71.0,52.0,61.0,90.0,27.0,43.0,76.0,91.0,41.0,76.0,53.0,71.0,86.0,69.0,80.0,63.0,58.0,67.0,79.0,76.0,70.0,72.0,70.0,49.0,37.0,44.0,59.0,78.0,71.0,69.0,55.0,79.0,52.0,61.0,42.0,54.0,69.0,57.0,61.0,61.0,42.0,35.0,56.0,70.0,69.0,53.0,78.0,82.0,87.0,55.0,83.0,61.0,78.0,55.0,51.0,55.0,63.0,58.0,78.0,74.0,62.0,88.0,64.0,69.0,82.0,40.0,78.0,64.0,65.0,49.0,70.0,80.0,81.0,63.0,51.0,81.0,74.0,46.0,72.0,81.0,80.0,67.0,61.0,53.0,48.0,60.0,63.0],\"type\":\"box\"},{\"name\":\"sport games\",\"y\":[76.0,80.0,80.0,80.0,82.0,85.0,86.0,73.0,82.0,94.0,89.0,92.0,88.0,98.0,91.0,84.0,97.0,86.0,84.0,80.0,95.0,81.0,90.0,87.0,91.0,76.0,81.0,94.0,82.0,91.0,88.0,84.0,88.0,84.0,83.0,83.0,94.0,87.0,88.0,93.0,93.0,67.0,85.0,81.0,85.0,89.0,78.0,84.0,84.0,80.0,90.0,90.0,90.0,84.0,79.0,87.0,78.0,83.0,83.0,87.0,50.0,90.0,83.0,84.0,77.0,83.0,85.0,83.0,42.0,85.0,86.0,66.0,78.0,82.0,79.0,80.0,81.0,82.0,62.0,90.0,84.0,64.0,86.0,80.0,81.0,90.0,87.0,69.0,85.0,88.0,76.0,86.0,70.0,87.0,80.0,82.0,81.0,92.0,82.0,91.0,87.0,67.0,93.0,90.0,87.0,94.0,44.0,93.0,78.0,83.0,83.0,88.0,92.0,89.0,88.0,77.0,76.0,69.0,83.0,74.0,90.0,80.0,38.0,69.0,87.0,82.0,81.0,38.0,84.0,91.0,67.0,82.0,76.0,85.0,88.0,91.0,59.0,80.0,81.0,88.0,81.0,79.0,84.0,82.0,90.0,93.0,73.0,63.0,66.0,84.0,85.0,30.0,79.0,68.0,85.0,86.0,52.0,76.0,83.0,82.0,80.0,89.0,73.0,92.0,68.0,83.0,95.0,57.0,77.0,88.0,86.0,83.0,62.0,74.0,81.0,80.0,86.0,75.0,74.0,77.0,97.0,92.0,84.0,73.0,76.0,88.0,70.0,89.0,71.0,89.0,82.0,70.0,80.0,81.0,82.0,65.0,72.0,90.0,83.0,73.0,79.0,82.0,80.0,75.0,82.0,87.0,81.0,85.0,81.0,85.0,85.0,69.0,63.0,86.0,83.0,47.0,83.0,79.0,79.0,90.0,83.0,86.0,80.0,87.0,78.0,76.0,86.0,81.0,80.0,78.0,70.0,74.0,85.0,68.0,76.0,68.0,83.0,77.0,85.0,80.0,80.0,86.0,76.0,69.0,65.0,81.0,83.0,81.0,88.0,72.0,85.0,83.0,84.0,86.0,77.0,82.0,78.0,82.0,78.0,77.0,91.0,83.0,78.0,60.0,78.0,73.0,80.0,49.0,72.0,74.0,87.0,83.0,82.0,55.0,81.0,81.0,70.0,81.0,69.0,94.0,81.0,82.0,83.0,75.0,76.0,65.0,74.0,87.0,79.0,88.0,79.0,64.0,68.0,79.0,79.0,83.0,77.0,90.0,75.0,91.0,92.0,86.0,75.0,68.0,77.0,83.0,82.0,89.0,81.0,90.0,63.0,86.0,85.0,40.0,82.0,89.0,89.0,82.0,80.0,81.0,65.0,61.0,74.0,88.0,83.0,63.0,82.0,84.0,80.0,50.0,79.0,85.0,84.0,78.0,73.0,88.0,82.0,88.0,78.0,76.0,77.0,82.0,89.0,48.0,80.0,73.0,82.0,72.0,46.0,70.0,79.0,64.0,76.0,89.0,86.0,60.0,72.0,69.0,60.0,71.0,44.0,70.0,88.0,73.0,90.0,72.0,73.0,74.0,81.0,90.0,84.0,86.0,79.0,91.0,78.0,70.0,90.0,85.0,86.0,88.0,56.0,77.0,66.0,78.0,63.0,55.0,77.0,68.0,72.0,91.0,81.0,88.0,76.0,93.0,81.0,80.0,80.0,75.0,84.0,81.0,87.0,89.0,80.0,81.0,88.0,46.0,78.0,78.0,78.0,78.0,63.0,81.0,79.0,73.0,90.0,76.0,75.0,78.0,80.0,90.0,81.0,94.0,64.0,76.0,85.0,82.0,76.0,71.0,82.0,77.0,88.0,81.0,59.0,68.0,80.0,82.0,81.0,70.0,81.0,84.0,78.0,80.0,78.0,80.0,81.0,72.0,69.0,56.0,70.0,71.0,76.0,69.0,65.0,59.0,89.0,66.0,75.0,69.0,83.0,80.0,85.0,84.0,50.0,70.0,44.0,89.0,58.0,69.0,88.0,73.0,73.0,88.0,88.0,76.0,81.0,71.0,92.0,88.0,74.0,81.0,76.0,78.0,70.0,88.0,80.0,84.0,76.0,65.0,76.0,56.0,77.0,59.0,84.0,62.0,79.0,60.0,68.0,87.0,81.0,76.0,67.0,69.0,71.0,75.0,49.0,92.0,79.0,65.0,68.0,53.0,86.0,51.0,77.0,70.0,52.0,92.0,73.0,70.0,72.0,73.0,68.0,76.0,66.0,80.0,84.0,74.0,85.0,85.0,66.0,73.0,59.0,73.0,75.0,82.0,58.0,83.0,51.0,58.0,91.0,59.0,53.0,31.0,77.0,63.0,69.0,79.0,66.0,85.0,81.0,83.0,85.0,45.0,75.0,88.0,78.0,75.0,77.0,70.0,79.0,78.0,60.0,83.0,69.0,88.0,74.0,76.0,26.0,71.0,60.0,75.0,89.0,75.0,63.0,85.0,78.0,70.0,87.0,72.0,74.0,63.0,55.0,63.0,50.0,77.0,70.0,72.0,59.0,67.0,71.0,73.0,82.0,52.0,73.0,63.0,82.0,77.0,48.0,72.0,72.0,88.0,64.0,60.0,72.0,76.0,68.0,83.0,60.0,80.0,70.0,82.0,58.0,56.0,82.0,76.0,56.0,80.0,57.0,82.0,54.0,55.0,78.0,65.0,55.0,65.0,79.0,67.0,61.0,57.0,79.0,89.0,78.0,62.0,71.0,84.0,68.0,79.0,71.0,78.0,41.0,63.0,87.0,75.0,56.0,53.0,61.0,68.0,78.0,44.0,77.0,55.0,53.0,79.0,58.0,68.0,89.0,71.0,46.0,64.0,80.0,77.0,53.0,64.0,79.0,87.0,57.0,56.0,74.0,71.0,51.0,80.0,64.0,83.0,77.0,81.0,64.0,87.0,77.0,43.0,51.0,46.0,70.0,59.0,85.0,70.0,90.0,53.0,63.0,69.0,78.0,71.0,73.0,70.0,75.0,73.0,90.0,79.0,61.0,79.0,41.0,62.0,55.0,58.0,75.0,78.0,88.0,77.0,61.0,72.0,76.0,66.0,51.0,67.0,70.0,61.0,72.0,92.0,67.0,80.0,57.0,82.0,69.0,83.0,67.0,84.0,76.0,70.0,63.0,65.0,53.0,79.0,91.0,64.0,39.0,67.0,68.0,80.0,78.0,89.0,32.0,79.0,68.0,74.0,76.0,79.0,90.0,72.0,79.0,81.0,36.0,82.0,45.0,68.0,75.0,77.0,76.0,80.0,57.0,68.0,65.0,57.0,85.0,79.0,79.0,76.0,66.0,76.0,61.0,57.0,49.0,74.0,69.0,55.0,81.0,73.0,47.0,54.0,54.0,65.0,71.0,38.0,75.0,83.0,81.0,81.0,67.0,59.0,83.0,63.0,60.0,81.0,85.0,87.0,53.0,59.0,78.0,68.0,39.0,63.0,31.0,61.0,66.0,73.0,71.0,66.0,72.0,70.0,69.0,58.0,75.0,79.0,71.0,80.0,56.0,72.0,64.0,76.0,68.0,77.0,61.0,68.0,83.0,49.0,66.0,83.0,77.0,52.0,37.0,59.0,69.0,86.0,55.0,61.0,89.0,72.0,84.0,77.0,82.0,73.0,78.0,89.0,81.0,57.0,62.0,66.0,67.0,63.0,89.0,81.0,62.0,54.0,83.0,77.0,66.0,75.0,65.0,69.0,54.0,80.0,64.0,78.0,44.0,81.0,84.0,65.0,64.0,77.0,65.0,72.0,54.0,79.0,78.0,62.0,53.0,53.0,65.0,72.0,82.0,76.0,68.0,77.0,54.0,88.0,49.0,49.0,58.0,80.0,71.0,76.0,79.0,70.0,79.0,42.0,80.0,63.0,48.0,76.0,59.0,39.0,70.0,74.0,64.0,85.0,72.0,70.0,74.0,79.0,59.0,66.0,76.0,63.0,56.0,70.0,66.0,70.0,39.0,64.0,69.0,52.0,69.0,76.0,90.0,59.0,84.0,89.0,73.0,21.0,59.0,66.0,45.0,19.0,49.0,63.0,67.0,75.0,70.0,81.0,66.0,80.0,77.0,88.0,58.0,76.0,58.0,65.0,48.0,55.0,73.0,58.0,60.0,72.0,51.0,85.0,82.0,72.0,68.0,63.0,58.0,24.0,67.0,79.0,69.0,61.0,71.0,60.0,68.0,71.0,85.0,61.0,76.0,80.0,49.0,57.0,69.0,55.0,75.0,82.0,67.0,77.0,70.0,46.0,76.0,62.0,58.0,67.0,74.0,71.0,36.0,74.0,77.0,90.0,56.0,77.0,78.0,61.0,20.0,45.0,82.0,65.0,48.0,63.0,66.0,78.0,61.0,80.0,71.0,75.0,78.0,72.0,86.0,61.0,69.0,74.0,69.0,83.0,57.0,76.0,49.0,67.0,28.0,82.0,80.0,53.0,75.0,72.0,51.0,41.0,70.0,42.0,47.0,44.0,83.0,32.0,36.0,87.0,75.0,84.0,73.0,81.0,60.0,85.0,70.0,65.0,82.0,47.0,57.0,55.0,36.0,51.0,70.0,61.0,80.0,44.0,79.0,42.0,81.0,25.0,70.0,88.0,62.0,69.0,86.0,53.0,80.0,50.0,76.0,59.0,74.0,71.0,80.0,43.0,58.0,72.0,82.0,58.0,51.0,62.0,68.0,61.0,48.0,56.0,75.0,69.0,70.0,78.0,60.0,57.0,60.0,79.0,87.0,72.0,72.0,39.0,37.0,32.0,41.0,62.0,46.0,80.0,76.0,37.0,43.0,54.0,68.0,66.0,67.0,76.0,64.0,72.0,66.0,70.0,81.0,44.0,67.0,35.0,59.0,57.0,72.0,71.0,44.0,74.0,67.0,63.0,64.0,53.0,67.0,59.0,32.0,41.0,57.0,75.0,40.0,48.0,64.0,61.0,35.0,62.0,74.0,75.0,90.0,71.0,68.0,41.0,49.0,83.0,78.0,75.0,45.0,68.0,48.0,30.0,49.0,62.0,71.0,31.0,71.0,38.0,19.0,77.0,63.0,69.0,67.0,62.0,68.0,30.0,68.0,87.0,76.0,62.0,57.0,73.0,89.0,52.0,62.0,73.0,59.0,63.0,49.0,38.0,66.0,59.0,77.0,89.0,90.0,73.0,82.0,71.0,83.0,43.0,91.0,78.0,57.0,78.0,78.0,88.0],\"type\":\"box\"}],                        {\"template\":{\"data\":{\"barpolar\":[{\"marker\":{\"line\":{\"color\":\"#E5ECF6\",\"width\":0.5},\"pattern\":{\"fillmode\":\"overlay\",\"size\":10,\"solidity\":0.2}},\"type\":\"barpolar\"}],\"bar\":[{\"error_x\":{\"color\":\"#2a3f5f\"},\"error_y\":{\"color\":\"#2a3f5f\"},\"marker\":{\"line\":{\"color\":\"#E5ECF6\",\"width\":0.5},\"pattern\":{\"fillmode\":\"overlay\",\"size\":10,\"solidity\":0.2}},\"type\":\"bar\"}],\"carpet\":[{\"aaxis\":{\"endlinecolor\":\"#2a3f5f\",\"gridcolor\":\"white\",\"linecolor\":\"white\",\"minorgridcolor\":\"white\",\"startlinecolor\":\"#2a3f5f\"},\"baxis\":{\"endlinecolor\":\"#2a3f5f\",\"gridcolor\":\"white\",\"linecolor\":\"white\",\"minorgridcolor\":\"white\",\"startlinecolor\":\"#2a3f5f\"},\"type\":\"carpet\"}],\"choropleth\":[{\"colorbar\":{\"outlinewidth\":0,\"ticks\":\"\"},\"type\":\"choropleth\"}],\"contourcarpet\":[{\"colorbar\":{\"outlinewidth\":0,\"ticks\":\"\"},\"type\":\"contourcarpet\"}],\"contour\":[{\"colorbar\":{\"outlinewidth\":0,\"ticks\":\"\"},\"colorscale\":[[0.0,\"#0d0887\"],[0.1111111111111111,\"#46039f\"],[0.2222222222222222,\"#7201a8\"],[0.3333333333333333,\"#9c179e\"],[0.4444444444444444,\"#bd3786\"],[0.5555555555555556,\"#d8576b\"],[0.6666666666666666,\"#ed7953\"],[0.7777777777777778,\"#fb9f3a\"],[0.8888888888888888,\"#fdca26\"],[1.0,\"#f0f921\"]],\"type\":\"contour\"}],\"heatmapgl\":[{\"colorbar\":{\"outlinewidth\":0,\"ticks\":\"\"},\"colorscale\":[[0.0,\"#0d0887\"],[0.1111111111111111,\"#46039f\"],[0.2222222222222222,\"#7201a8\"],[0.3333333333333333,\"#9c179e\"],[0.4444444444444444,\"#bd3786\"],[0.5555555555555556,\"#d8576b\"],[0.6666666666666666,\"#ed7953\"],[0.7777777777777778,\"#fb9f3a\"],[0.8888888888888888,\"#fdca26\"],[1.0,\"#f0f921\"]],\"type\":\"heatmapgl\"}],\"heatmap\":[{\"colorbar\":{\"outlinewidth\":0,\"ticks\":\"\"},\"colorscale\":[[0.0,\"#0d0887\"],[0.1111111111111111,\"#46039f\"],[0.2222222222222222,\"#7201a8\"],[0.3333333333333333,\"#9c179e\"],[0.4444444444444444,\"#bd3786\"],[0.5555555555555556,\"#d8576b\"],[0.6666666666666666,\"#ed7953\"],[0.7777777777777778,\"#fb9f3a\"],[0.8888888888888888,\"#fdca26\"],[1.0,\"#f0f921\"]],\"type\":\"heatmap\"}],\"histogram2dcontour\":[{\"colorbar\":{\"outlinewidth\":0,\"ticks\":\"\"},\"colorscale\":[[0.0,\"#0d0887\"],[0.1111111111111111,\"#46039f\"],[0.2222222222222222,\"#7201a8\"],[0.3333333333333333,\"#9c179e\"],[0.4444444444444444,\"#bd3786\"],[0.5555555555555556,\"#d8576b\"],[0.6666666666666666,\"#ed7953\"],[0.7777777777777778,\"#fb9f3a\"],[0.8888888888888888,\"#fdca26\"],[1.0,\"#f0f921\"]],\"type\":\"histogram2dcontour\"}],\"histogram2d\":[{\"colorbar\":{\"outlinewidth\":0,\"ticks\":\"\"},\"colorscale\":[[0.0,\"#0d0887\"],[0.1111111111111111,\"#46039f\"],[0.2222222222222222,\"#7201a8\"],[0.3333333333333333,\"#9c179e\"],[0.4444444444444444,\"#bd3786\"],[0.5555555555555556,\"#d8576b\"],[0.6666666666666666,\"#ed7953\"],[0.7777777777777778,\"#fb9f3a\"],[0.8888888888888888,\"#fdca26\"],[1.0,\"#f0f921\"]],\"type\":\"histogram2d\"}],\"histogram\":[{\"marker\":{\"pattern\":{\"fillmode\":\"overlay\",\"size\":10,\"solidity\":0.2}},\"type\":\"histogram\"}],\"mesh3d\":[{\"colorbar\":{\"outlinewidth\":0,\"ticks\":\"\"},\"type\":\"mesh3d\"}],\"parcoords\":[{\"line\":{\"colorbar\":{\"outlinewidth\":0,\"ticks\":\"\"}},\"type\":\"parcoords\"}],\"pie\":[{\"automargin\":true,\"type\":\"pie\"}],\"scatter3d\":[{\"line\":{\"colorbar\":{\"outlinewidth\":0,\"ticks\":\"\"}},\"marker\":{\"colorbar\":{\"outlinewidth\":0,\"ticks\":\"\"}},\"type\":\"scatter3d\"}],\"scattercarpet\":[{\"marker\":{\"colorbar\":{\"outlinewidth\":0,\"ticks\":\"\"}},\"type\":\"scattercarpet\"}],\"scattergeo\":[{\"marker\":{\"colorbar\":{\"outlinewidth\":0,\"ticks\":\"\"}},\"type\":\"scattergeo\"}],\"scattergl\":[{\"marker\":{\"colorbar\":{\"outlinewidth\":0,\"ticks\":\"\"}},\"type\":\"scattergl\"}],\"scattermapbox\":[{\"marker\":{\"colorbar\":{\"outlinewidth\":0,\"ticks\":\"\"}},\"type\":\"scattermapbox\"}],\"scatterpolargl\":[{\"marker\":{\"colorbar\":{\"outlinewidth\":0,\"ticks\":\"\"}},\"type\":\"scatterpolargl\"}],\"scatterpolar\":[{\"marker\":{\"colorbar\":{\"outlinewidth\":0,\"ticks\":\"\"}},\"type\":\"scatterpolar\"}],\"scatter\":[{\"marker\":{\"colorbar\":{\"outlinewidth\":0,\"ticks\":\"\"}},\"type\":\"scatter\"}],\"scatterternary\":[{\"marker\":{\"colorbar\":{\"outlinewidth\":0,\"ticks\":\"\"}},\"type\":\"scatterternary\"}],\"surface\":[{\"colorbar\":{\"outlinewidth\":0,\"ticks\":\"\"},\"colorscale\":[[0.0,\"#0d0887\"],[0.1111111111111111,\"#46039f\"],[0.2222222222222222,\"#7201a8\"],[0.3333333333333333,\"#9c179e\"],[0.4444444444444444,\"#bd3786\"],[0.5555555555555556,\"#d8576b\"],[0.6666666666666666,\"#ed7953\"],[0.7777777777777778,\"#fb9f3a\"],[0.8888888888888888,\"#fdca26\"],[1.0,\"#f0f921\"]],\"type\":\"surface\"}],\"table\":[{\"cells\":{\"fill\":{\"color\":\"#EBF0F8\"},\"line\":{\"color\":\"white\"}},\"header\":{\"fill\":{\"color\":\"#C8D4E3\"},\"line\":{\"color\":\"white\"}},\"type\":\"table\"}]},\"layout\":{\"annotationdefaults\":{\"arrowcolor\":\"#2a3f5f\",\"arrowhead\":0,\"arrowwidth\":1},\"autotypenumbers\":\"strict\",\"coloraxis\":{\"colorbar\":{\"outlinewidth\":0,\"ticks\":\"\"}},\"colorscale\":{\"diverging\":[[0,\"#8e0152\"],[0.1,\"#c51b7d\"],[0.2,\"#de77ae\"],[0.3,\"#f1b6da\"],[0.4,\"#fde0ef\"],[0.5,\"#f7f7f7\"],[0.6,\"#e6f5d0\"],[0.7,\"#b8e186\"],[0.8,\"#7fbc41\"],[0.9,\"#4d9221\"],[1,\"#276419\"]],\"sequential\":[[0.0,\"#0d0887\"],[0.1111111111111111,\"#46039f\"],[0.2222222222222222,\"#7201a8\"],[0.3333333333333333,\"#9c179e\"],[0.4444444444444444,\"#bd3786\"],[0.5555555555555556,\"#d8576b\"],[0.6666666666666666,\"#ed7953\"],[0.7777777777777778,\"#fb9f3a\"],[0.8888888888888888,\"#fdca26\"],[1.0,\"#f0f921\"]],\"sequentialminus\":[[0.0,\"#0d0887\"],[0.1111111111111111,\"#46039f\"],[0.2222222222222222,\"#7201a8\"],[0.3333333333333333,\"#9c179e\"],[0.4444444444444444,\"#bd3786\"],[0.5555555555555556,\"#d8576b\"],[0.6666666666666666,\"#ed7953\"],[0.7777777777777778,\"#fb9f3a\"],[0.8888888888888888,\"#fdca26\"],[1.0,\"#f0f921\"]]},\"colorway\":[\"#636efa\",\"#EF553B\",\"#00cc96\",\"#ab63fa\",\"#FFA15A\",\"#19d3f3\",\"#FF6692\",\"#B6E880\",\"#FF97FF\",\"#FECB52\"],\"font\":{\"color\":\"#2a3f5f\"},\"geo\":{\"bgcolor\":\"white\",\"lakecolor\":\"white\",\"landcolor\":\"#E5ECF6\",\"showlakes\":true,\"showland\":true,\"subunitcolor\":\"white\"},\"hoverlabel\":{\"align\":\"left\"},\"hovermode\":\"closest\",\"mapbox\":{\"style\":\"light\"},\"paper_bgcolor\":\"white\",\"plot_bgcolor\":\"#E5ECF6\",\"polar\":{\"angularaxis\":{\"gridcolor\":\"white\",\"linecolor\":\"white\",\"ticks\":\"\"},\"bgcolor\":\"#E5ECF6\",\"radialaxis\":{\"gridcolor\":\"white\",\"linecolor\":\"white\",\"ticks\":\"\"}},\"scene\":{\"xaxis\":{\"backgroundcolor\":\"#E5ECF6\",\"gridcolor\":\"white\",\"gridwidth\":2,\"linecolor\":\"white\",\"showbackground\":true,\"ticks\":\"\",\"zerolinecolor\":\"white\"},\"yaxis\":{\"backgroundcolor\":\"#E5ECF6\",\"gridcolor\":\"white\",\"gridwidth\":2,\"linecolor\":\"white\",\"showbackground\":true,\"ticks\":\"\",\"zerolinecolor\":\"white\"},\"zaxis\":{\"backgroundcolor\":\"#E5ECF6\",\"gridcolor\":\"white\",\"gridwidth\":2,\"linecolor\":\"white\",\"showbackground\":true,\"ticks\":\"\",\"zerolinecolor\":\"white\"}},\"shapedefaults\":{\"line\":{\"color\":\"#2a3f5f\"}},\"ternary\":{\"aaxis\":{\"gridcolor\":\"white\",\"linecolor\":\"white\",\"ticks\":\"\"},\"baxis\":{\"gridcolor\":\"white\",\"linecolor\":\"white\",\"ticks\":\"\"},\"bgcolor\":\"#E5ECF6\",\"caxis\":{\"gridcolor\":\"white\",\"linecolor\":\"white\",\"ticks\":\"\"}},\"title\":{\"x\":0.05},\"xaxis\":{\"automargin\":true,\"gridcolor\":\"white\",\"linecolor\":\"white\",\"ticks\":\"\",\"title\":{\"standoff\":15},\"zerolinecolor\":\"white\",\"zerolinewidth\":2},\"yaxis\":{\"automargin\":true,\"gridcolor\":\"white\",\"linecolor\":\"white\",\"ticks\":\"\",\"title\":{\"standoff\":15},\"zerolinecolor\":\"white\",\"zerolinewidth\":2}}}},                        {\"responsive\": true}                    ).then(function(){\n",
              "                            \n",
              "var gd = document.getElementById('a9a6abb5-9ced-4b98-936e-95535ba9f321');\n",
              "var x = new MutationObserver(function (mutations, observer) {{\n",
              "        var display = window.getComputedStyle(gd).display;\n",
              "        if (!display || display === 'none') {{\n",
              "            console.log([gd, 'removed!']);\n",
              "            Plotly.purge(gd);\n",
              "            observer.disconnect();\n",
              "        }}\n",
              "}});\n",
              "\n",
              "// Listen for the removal of the full notebook cells\n",
              "var notebookContainer = gd.closest('#notebook-container');\n",
              "if (notebookContainer) {{\n",
              "    x.observe(notebookContainer, {childList: true});\n",
              "}}\n",
              "\n",
              "// Listen for the clearing of the current output cell\n",
              "var outputEl = gd.closest('.output');\n",
              "if (outputEl) {{\n",
              "    x.observe(outputEl, {childList: true});\n",
              "}}\n",
              "\n",
              "                        })                };                            </script>        </div>\n",
              "</body>\n",
              "</html>"
            ]
          },
          "metadata": {}
        }
      ]
    },
    {
      "cell_type": "markdown",
      "source": [
        "Рассчитаем среднее и стандартные отклонения по группам"
      ],
      "metadata": {
        "id": "Q1-GE4ySu1VC"
      }
    },
    {
      "cell_type": "code",
      "source": [
        "all_games_mean = all_games.Critic_Score.mean()\n",
        "all_games_std = all_games.Critic_Score.std()\n",
        "sports_mean = sports.Critic_Score.mean()\n",
        "sports_std = sports.Critic_Score.std()\n",
        "print(f'Средняя оценка игр критиками независимо от жанра: {all_games_mean}, средняя оценка спортивных игр: {sports_mean}')\n",
        "print(f'Стандартное отклонение средней оценки игр критиками независимо от жанра: {all_games_std}, стандартное отклонение средней оценки спортивных игр: {sports_std}')"
      ],
      "metadata": {
        "colab": {
          "base_uri": "https://localhost:8080/"
        },
        "id": "8baR8rcyu_kM",
        "outputId": "f20e1cf3-6321-45d6-e42b-6678a2d13d7a"
      },
      "execution_count": null,
      "outputs": [
        {
          "output_type": "stream",
          "name": "stdout",
          "text": [
            "Средняя оценка игр критиками независимо от жанра: 68.96767850559173, средняя оценка спортивных игр: 71.96817420435511\n",
            "Стандартное отклонение средней оценки игр критиками независимо от жанра: 13.938164552843212, стандартное отклонение средней оценки спортивных игр: 13.878432513646741\n"
          ]
        }
      ]
    },
    {
      "cell_type": "markdown",
      "source": [
        "#### H0: Оценка критиками спортивных огр = средней оценке игр независимо от  жанра\n",
        "#### H1: Критики выше оценивают спортивные игры, чем игры других жанров"
      ],
      "metadata": {
        "id": "d0Fm-fQ1PiJV"
      }
    },
    {
      "cell_type": "code",
      "source": [
        "stat, p = st.ttest_1samp(a = sports['Critic_Score'], popmean = all_games_mean,  alternative = 'greater')\n",
        "print('Статистика = %.5f, p  =%.5f' % (stat, p))\n",
        "if p > 0.05:\n",
        "    print('Не отклоняем нулевую гипотезу - оценка игр независимо от жанра = оценке спортивных видеоигр')\n",
        "else:\n",
        "    print('Отклоняем нулевую гипотезу И принимаем альтернативную - оценка спортивных видеоигр >  оценки игр независимо от жанра')"
      ],
      "metadata": {
        "colab": {
          "base_uri": "https://localhost:8080/"
        },
        "id": "hytR5rR8vNi3",
        "outputId": "5a80eb9d-9291-49fa-cb05-9619d2b44dd6"
      },
      "execution_count": null,
      "outputs": [
        {
          "output_type": "stream",
          "name": "stdout",
          "text": [
            "Статистика = 7.47059, p  =0.00000\n",
            "Отклоняем нулевую гипотезу И принимаем альтернативную - оценка спортивных видеоигр >  оценки игр независимо от жанра\n"
          ]
        }
      ]
    },
    {
      "cell_type": "markdown",
      "source": [
        "### Критикам нравятся больше игры на PC или на PS4?"
      ],
      "metadata": {
        "id": "0C3f05Y5Nwk5"
      }
    },
    {
      "cell_type": "markdown",
      "source": [
        "Расссмотрим отдельно игры на PC и игры на PS4"
      ],
      "metadata": {
        "id": "Frp8R4bCQYBa"
      }
    },
    {
      "cell_type": "code",
      "source": [
        "games_pc = data.loc[data['Platform'] =='PC',['Critic_Score', 'Critic_Count']]\n",
        "games_pc.dropna(inplace = True)"
      ],
      "metadata": {
        "id": "8uBCEKoWNyxE"
      },
      "execution_count": null,
      "outputs": []
    },
    {
      "cell_type": "code",
      "source": [
        "games_ps4 = data.loc[data['Platform'] =='PS4',['Critic_Score', 'Critic_Count']]\n",
        "games_ps4.dropna(inplace = True)"
      ],
      "metadata": {
        "id": "wWwIlgPsEqun"
      },
      "execution_count": null,
      "outputs": []
    },
    {
      "cell_type": "code",
      "source": [
        "df = []\n",
        "for platform in ['PC', 'PS4']:\n",
        "    df.append(\n",
        "        go.Box(y=data[data.Platform==platform].Critic_Score, \n",
        "               name=platform)\n",
        "    )\n",
        "iplot(df, show_link = False)"
      ],
      "metadata": {
        "colab": {
          "base_uri": "https://localhost:8080/"
        },
        "id": "_aw6YsYhY5q5",
        "outputId": "f72310f8-28ed-4e97-f87b-6a44c5ecf6d2"
      },
      "execution_count": null,
      "outputs": [
        {
          "output_type": "display_data",
          "data": {
            "text/html": [
              "<html>\n",
              "<head><meta charset=\"utf-8\" /></head>\n",
              "<body>\n",
              "    <div>            <script src=\"https://cdnjs.cloudflare.com/ajax/libs/mathjax/2.7.5/MathJax.js?config=TeX-AMS-MML_SVG\"></script><script type=\"text/javascript\">if (window.MathJax) {MathJax.Hub.Config({SVG: {font: \"STIX-Web\"}});}</script>                <script type=\"text/javascript\">window.PlotlyConfig = {MathJaxConfig: 'local'};</script>\n",
              "        <script src=\"https://cdn.plot.ly/plotly-2.8.3.min.js\"></script>                <div id=\"d4b484b6-33b5-4062-8eb7-092079d73d7c\" class=\"plotly-graph-div\" style=\"height:525px; width:100%;\"></div>            <script type=\"text/javascript\">                                    window.PLOTLYENV=window.PLOTLYENV || {};                                    if (document.getElementById(\"d4b484b6-33b5-4062-8eb7-092079d73d7c\")) {                    Plotly.newPlot(                        \"d4b484b6-33b5-4062-8eb7-092079d73d7c\",                        [{\"name\":\"PC\",\"y\":[86.0,93.0,88.0,null,93.0,null,96.0,91.0,94.0,79.0,null,75.0,70.0,82.0,85.0,null,null,89.0,83.0,null,null,96.0,90.0,null,74.0,null,90.0,null,null,null,null,80.0,82.0,85.0,78.0,74.0,90.0,79.0,86.0,81.0,94.0,null,88.0,74.0,null,84.0,83.0,64.0,81.0,null,91.0,84.0,76.0,85.0,null,74.0,null,96.0,84.0,84.0,83.0,86.0,92.0,86.0,90.0,null,87.0,86.0,null,91.0,93.0,89.0,88.0,65.0,88.0,80.0,89.0,null,71.0,86.0,90.0,null,95.0,80.0,86.0,85.0,76.0,93.0,87.0,89.0,91.0,null,77.0,84.0,89.0,null,null,81.0,94.0,null,64.0,84.0,85.0,82.0,80.0,70.0,76.0,null,90.0,86.0,88.0,90.0,81.0,86.0,70.0,86.0,null,91.0,88.0,91.0,78.0,91.0,null,null,72.0,36.0,85.0,87.0,85.0,null,80.0,74.0,null,81.0,77.0,87.0,80.0,77.0,null,79.0,96.0,78.0,54.0,87.0,86.0,77.0,94.0,88.0,84.0,82.0,81.0,86.0,79.0,null,69.0,81.0,89.0,84.0,81.0,86.0,80.0,null,55.0,86.0,null,87.0,91.0,88.0,75.0,74.0,79.0,81.0,79.0,90.0,82.0,75.0,84.0,80.0,82.0,68.0,null,81.0,76.0,78.0,null,null,94.0,62.0,76.0,72.0,76.0,83.0,88.0,79.0,70.0,88.0,80.0,81.0,null,72.0,88.0,79.0,76.0,69.0,72.0,80.0,80.0,80.0,null,72.0,74.0,64.0,69.0,74.0,81.0,76.0,75.0,null,null,78.0,72.0,68.0,63.0,77.0,85.0,82.0,82.0,77.0,null,82.0,83.0,86.0,63.0,66.0,80.0,83.0,null,45.0,83.0,81.0,70.0,91.0,72.0,74.0,71.0,null,null,78.0,78.0,74.0,94.0,47.0,71.0,73.0,86.0,82.0,82.0,55.0,74.0,81.0,86.0,83.0,null,74.0,80.0,83.0,81.0,74.0,77.0,85.0,96.0,93.0,77.0,77.0,null,null,71.0,78.0,73.0,76.0,null,79.0,92.0,86.0,70.0,88.0,91.0,null,null,83.0,84.0,81.0,78.0,86.0,86.0,75.0,75.0,84.0,65.0,null,77.0,51.0,81.0,85.0,77.0,76.0,74.0,83.0,75.0,82.0,81.0,74.0,92.0,87.0,77.0,70.0,37.0,null,null,null,43.0,61.0,null,88.0,65.0,87.0,92.0,72.0,null,null,null,81.0,77.0,null,null,null,76.0,null,65.0,75.0,75.0,89.0,null,88.0,72.0,79.0,82.0,null,80.0,null,69.0,91.0,85.0,74.0,null,52.0,80.0,null,57.0,58.0,74.0,80.0,33.0,90.0,null,91.0,72.0,65.0,82.0,86.0,82.0,83.0,79.0,82.0,72.0,61.0,77.0,89.0,null,61.0,null,null,67.0,87.0,83.0,78.0,73.0,88.0,80.0,86.0,null,57.0,null,61.0,83.0,81.0,80.0,74.0,82.0,null,70.0,null,68.0,null,80.0,81.0,75.0,null,83.0,86.0,66.0,81.0,80.0,null,54.0,null,71.0,79.0,null,83.0,72.0,74.0,82.0,81.0,65.0,65.0,76.0,86.0,81.0,77.0,null,63.0,84.0,null,83.0,null,63.0,76.0,null,59.0,57.0,60.0,78.0,77.0,61.0,61.0,66.0,76.0,70.0,61.0,76.0,null,66.0,78.0,78.0,null,87.0,null,89.0,79.0,63.0,82.0,76.0,86.0,85.0,66.0,68.0,78.0,81.0,79.0,88.0,82.0,89.0,49.0,72.0,null,92.0,72.0,93.0,null,79.0,null,86.0,74.0,84.0,null,88.0,79.0,83.0,null,76.0,null,79.0,70.0,null,75.0,86.0,78.0,null,66.0,58.0,79.0,69.0,70.0,null,null,92.0,78.0,76.0,null,72.0,75.0,70.0,null,78.0,78.0,77.0,84.0,66.0,87.0,87.0,null,89.0,68.0,69.0,66.0,77.0,94.0,null,47.0,null,50.0,null,48.0,48.0,60.0,72.0,84.0,null,81.0,61.0,58.0,83.0,66.0,74.0,56.0,63.0,73.0,67.0,null,72.0,84.0,null,70.0,54.0,90.0,null,64.0,80.0,75.0,null,89.0,64.0,83.0,75.0,53.0,null,null,55.0,58.0,null,71.0,82.0,72.0,72.0,91.0,81.0,null,null,77.0,63.0,84.0,null,null,null,null,null,null,null,null,64.0,78.0,82.0,null,83.0,75.0,null,null,null,73.0,73.0,84.0,79.0,86.0,80.0,null,null,null,62.0,80.0,null,null,59.0,74.0,91.0,null,76.0,null,null,89.0,70.0,83.0,74.0,null,77.0,72.0,79.0,67.0,59.0,85.0,64.0,64.0,59.0,83.0,73.0,87.0,90.0,76.0,70.0,null,null,68.0,73.0,null,null,null,90.0,82.0,69.0,63.0,68.0,69.0,79.0,46.0,null,null,null,82.0,74.0,73.0,84.0,83.0,null,null,86.0,74.0,null,84.0,70.0,74.0,46.0,72.0,null,null,72.0,80.0,65.0,63.0,73.0,85.0,null,89.0,null,54.0,80.0,74.0,null,78.0,57.0,86.0,78.0,82.0,75.0,72.0,86.0,66.0,null,71.0,null,null,66.0,null,null,76.0,null,null,45.0,70.0,63.0,66.0,78.0,78.0,79.0,84.0,86.0,73.0,90.0,67.0,null,84.0,79.0,71.0,73.0,68.0,78.0,79.0,36.0,62.0,null,null,null,null,89.0,null,null,67.0,null,81.0,63.0,null,null,85.0,81.0,84.0,null,null,77.0,81.0,89.0,null,null,null,93.0,69.0,59.0,null,null,57.0,57.0,69.0,55.0,62.0,null,null,52.0,null,85.0,42.0,81.0,null,43.0,67.0,66.0,73.0,null,65.0,70.0,null,84.0,null,null,null,null,null,72.0,null,74.0,null,null,null,null,null,84.0,87.0,null,71.0,50.0,74.0,79.0,46.0,76.0,null,67.0,62.0,74.0,null,null,null,63.0,89.0,null,50.0,null,72.0,63.0,null,79.0,73.0,null,67.0,null,76.0,null,69.0,82.0,null,39.0,67.0,72.0,87.0,null,93.0,76.0,75.0,51.0,56.0,91.0,52.0,null,57.0,null,65.0,57.0,null,null,75.0,87.0,71.0,58.0,72.0,86.0,56.0,80.0,null,null,75.0,null,76.0,70.0,null,84.0,83.0,66.0,null,77.0,null,89.0,66.0,null,75.0,63.0,62.0,65.0,null,72.0,70.0,62.0,90.0,null,84.0,null,null,80.0,66.0,72.0,86.0,82.0,58.0,65.0,65.0,93.0,null,56.0,82.0,72.0,74.0,null,null,91.0,66.0,null,null,86.0,null,65.0,null,75.0,null,72.0,57.0,null,77.0,null,82.0,71.0,null,61.0,null,90.0,91.0,null,71.0,null,80.0,58.0,79.0,76.0,72.0,null,null,59.0,null,71.0,null,79.0,null,54.0,61.0,null,null,78.0,87.0,null,null,83.0,78.0,55.0,63.0,null,58.0,74.0,88.0,82.0,78.0,null,70.0,null,80.0,null,null,null,51.0,null,null,null,null,null,null,null,null,80.0,61.0,60.0,63.0],\"type\":\"box\"},{\"name\":\"PS4\",\"y\":[null,97.0,82.0,null,83.0,85.0,87.0,82.0,76.0,93.0,null,86.0,77.0,null,88.0,80.0,85.0,92.0,70.0,87.0,87.0,78.0,80.0,85.0,93.0,76.0,83.0,87.0,84.0,83.0,80.0,83.0,73.0,92.0,83.0,null,76.0,73.0,81.0,90.0,73.0,74.0,71.0,89.0,80.0,86.0,79.0,88.0,73.0,null,68.0,75.0,82.0,null,63.0,54.0,61.0,71.0,79.0,89.0,83.0,79.0,null,null,85.0,null,null,75.0,73.0,null,62.0,79.0,83.0,79.0,69.0,83.0,70.0,90.0,null,76.0,null,79.0,73.0,80.0,null,77.0,70.0,74.0,null,82.0,80.0,null,87.0,89.0,82.0,null,null,null,71.0,80.0,83.0,null,73.0,78.0,null,67.0,71.0,65.0,null,null,88.0,null,78.0,null,75.0,null,72.0,69.0,60.0,75.0,null,61.0,68.0,81.0,74.0,null,85.0,78.0,null,76.0,79.0,75.0,69.0,null,72.0,85.0,null,null,72.0,79.0,null,72.0,78.0,84.0,null,null,84.0,85.0,85.0,73.0,null,48.0,66.0,69.0,81.0,null,77.0,78.0,null,59.0,76.0,81.0,null,75.0,null,60.0,72.0,80.0,null,null,null,null,null,73.0,81.0,null,68.0,59.0,null,63.0,57.0,76.0,null,43.0,59.0,77.0,null,null,66.0,47.0,null,83.0,32.0,72.0,null,62.0,null,87.0,53.0,63.0,47.0,69.0,null,59.0,73.0,67.0,null,59.0,null,66.0,74.0,null,58.0,null,null,38.0,null,79.0,73.0,null,80.0,80.0,88.0,45.0,63.0,81.0,80.0,86.0,76.0,75.0,null,65.0,null,73.0,19.0,75.0,null,79.0,69.0,null,null,71.0,73.0,73.0,53.0,null,null,71.0,null,null,null,44.0,null,67.0,69.0,null,null,null,74.0,null,null,85.0,66.0,70.0,90.0,null,77.0,null,60.0,69.0,null,75.0,null,null,64.0,62.0,71.0,78.0,72.0,null,63.0,83.0,72.0,73.0,67.0,null,64.0,60.0,null,null,null,42.0,25.0,null,null,null,null,null,52.0,43.0,null,null,76.0,null,null,81.0,null,null,78.0,null,64.0,66.0,82.0,71.0,null,71.0,66.0,80.0,70.0,64.0,72.0,78.0,null,null,null,69.0,69.0,null,null,null,73.0,53.0,77.0,null,61.0,73.0,null,null,null,80.0,78.0,null,88.0,null,82.0,null,null,59.0,57.0,67.0,null,62.0,null,67.0,58.0,null,null,62.0,null,52.0,31.0,null,55.0,null,79.0,null,null,48.0,null,null,null,null,49.0,null,null,null,null,null,null,72.0,66.0,null,null,null,null,42.0,null,70.0,69.0,null,61.0,51.0,null],\"type\":\"box\"}],                        {\"template\":{\"data\":{\"barpolar\":[{\"marker\":{\"line\":{\"color\":\"#E5ECF6\",\"width\":0.5},\"pattern\":{\"fillmode\":\"overlay\",\"size\":10,\"solidity\":0.2}},\"type\":\"barpolar\"}],\"bar\":[{\"error_x\":{\"color\":\"#2a3f5f\"},\"error_y\":{\"color\":\"#2a3f5f\"},\"marker\":{\"line\":{\"color\":\"#E5ECF6\",\"width\":0.5},\"pattern\":{\"fillmode\":\"overlay\",\"size\":10,\"solidity\":0.2}},\"type\":\"bar\"}],\"carpet\":[{\"aaxis\":{\"endlinecolor\":\"#2a3f5f\",\"gridcolor\":\"white\",\"linecolor\":\"white\",\"minorgridcolor\":\"white\",\"startlinecolor\":\"#2a3f5f\"},\"baxis\":{\"endlinecolor\":\"#2a3f5f\",\"gridcolor\":\"white\",\"linecolor\":\"white\",\"minorgridcolor\":\"white\",\"startlinecolor\":\"#2a3f5f\"},\"type\":\"carpet\"}],\"choropleth\":[{\"colorbar\":{\"outlinewidth\":0,\"ticks\":\"\"},\"type\":\"choropleth\"}],\"contourcarpet\":[{\"colorbar\":{\"outlinewidth\":0,\"ticks\":\"\"},\"type\":\"contourcarpet\"}],\"contour\":[{\"colorbar\":{\"outlinewidth\":0,\"ticks\":\"\"},\"colorscale\":[[0.0,\"#0d0887\"],[0.1111111111111111,\"#46039f\"],[0.2222222222222222,\"#7201a8\"],[0.3333333333333333,\"#9c179e\"],[0.4444444444444444,\"#bd3786\"],[0.5555555555555556,\"#d8576b\"],[0.6666666666666666,\"#ed7953\"],[0.7777777777777778,\"#fb9f3a\"],[0.8888888888888888,\"#fdca26\"],[1.0,\"#f0f921\"]],\"type\":\"contour\"}],\"heatmapgl\":[{\"colorbar\":{\"outlinewidth\":0,\"ticks\":\"\"},\"colorscale\":[[0.0,\"#0d0887\"],[0.1111111111111111,\"#46039f\"],[0.2222222222222222,\"#7201a8\"],[0.3333333333333333,\"#9c179e\"],[0.4444444444444444,\"#bd3786\"],[0.5555555555555556,\"#d8576b\"],[0.6666666666666666,\"#ed7953\"],[0.7777777777777778,\"#fb9f3a\"],[0.8888888888888888,\"#fdca26\"],[1.0,\"#f0f921\"]],\"type\":\"heatmapgl\"}],\"heatmap\":[{\"colorbar\":{\"outlinewidth\":0,\"ticks\":\"\"},\"colorscale\":[[0.0,\"#0d0887\"],[0.1111111111111111,\"#46039f\"],[0.2222222222222222,\"#7201a8\"],[0.3333333333333333,\"#9c179e\"],[0.4444444444444444,\"#bd3786\"],[0.5555555555555556,\"#d8576b\"],[0.6666666666666666,\"#ed7953\"],[0.7777777777777778,\"#fb9f3a\"],[0.8888888888888888,\"#fdca26\"],[1.0,\"#f0f921\"]],\"type\":\"heatmap\"}],\"histogram2dcontour\":[{\"colorbar\":{\"outlinewidth\":0,\"ticks\":\"\"},\"colorscale\":[[0.0,\"#0d0887\"],[0.1111111111111111,\"#46039f\"],[0.2222222222222222,\"#7201a8\"],[0.3333333333333333,\"#9c179e\"],[0.4444444444444444,\"#bd3786\"],[0.5555555555555556,\"#d8576b\"],[0.6666666666666666,\"#ed7953\"],[0.7777777777777778,\"#fb9f3a\"],[0.8888888888888888,\"#fdca26\"],[1.0,\"#f0f921\"]],\"type\":\"histogram2dcontour\"}],\"histogram2d\":[{\"colorbar\":{\"outlinewidth\":0,\"ticks\":\"\"},\"colorscale\":[[0.0,\"#0d0887\"],[0.1111111111111111,\"#46039f\"],[0.2222222222222222,\"#7201a8\"],[0.3333333333333333,\"#9c179e\"],[0.4444444444444444,\"#bd3786\"],[0.5555555555555556,\"#d8576b\"],[0.6666666666666666,\"#ed7953\"],[0.7777777777777778,\"#fb9f3a\"],[0.8888888888888888,\"#fdca26\"],[1.0,\"#f0f921\"]],\"type\":\"histogram2d\"}],\"histogram\":[{\"marker\":{\"pattern\":{\"fillmode\":\"overlay\",\"size\":10,\"solidity\":0.2}},\"type\":\"histogram\"}],\"mesh3d\":[{\"colorbar\":{\"outlinewidth\":0,\"ticks\":\"\"},\"type\":\"mesh3d\"}],\"parcoords\":[{\"line\":{\"colorbar\":{\"outlinewidth\":0,\"ticks\":\"\"}},\"type\":\"parcoords\"}],\"pie\":[{\"automargin\":true,\"type\":\"pie\"}],\"scatter3d\":[{\"line\":{\"colorbar\":{\"outlinewidth\":0,\"ticks\":\"\"}},\"marker\":{\"colorbar\":{\"outlinewidth\":0,\"ticks\":\"\"}},\"type\":\"scatter3d\"}],\"scattercarpet\":[{\"marker\":{\"colorbar\":{\"outlinewidth\":0,\"ticks\":\"\"}},\"type\":\"scattercarpet\"}],\"scattergeo\":[{\"marker\":{\"colorbar\":{\"outlinewidth\":0,\"ticks\":\"\"}},\"type\":\"scattergeo\"}],\"scattergl\":[{\"marker\":{\"colorbar\":{\"outlinewidth\":0,\"ticks\":\"\"}},\"type\":\"scattergl\"}],\"scattermapbox\":[{\"marker\":{\"colorbar\":{\"outlinewidth\":0,\"ticks\":\"\"}},\"type\":\"scattermapbox\"}],\"scatterpolargl\":[{\"marker\":{\"colorbar\":{\"outlinewidth\":0,\"ticks\":\"\"}},\"type\":\"scatterpolargl\"}],\"scatterpolar\":[{\"marker\":{\"colorbar\":{\"outlinewidth\":0,\"ticks\":\"\"}},\"type\":\"scatterpolar\"}],\"scatter\":[{\"marker\":{\"colorbar\":{\"outlinewidth\":0,\"ticks\":\"\"}},\"type\":\"scatter\"}],\"scatterternary\":[{\"marker\":{\"colorbar\":{\"outlinewidth\":0,\"ticks\":\"\"}},\"type\":\"scatterternary\"}],\"surface\":[{\"colorbar\":{\"outlinewidth\":0,\"ticks\":\"\"},\"colorscale\":[[0.0,\"#0d0887\"],[0.1111111111111111,\"#46039f\"],[0.2222222222222222,\"#7201a8\"],[0.3333333333333333,\"#9c179e\"],[0.4444444444444444,\"#bd3786\"],[0.5555555555555556,\"#d8576b\"],[0.6666666666666666,\"#ed7953\"],[0.7777777777777778,\"#fb9f3a\"],[0.8888888888888888,\"#fdca26\"],[1.0,\"#f0f921\"]],\"type\":\"surface\"}],\"table\":[{\"cells\":{\"fill\":{\"color\":\"#EBF0F8\"},\"line\":{\"color\":\"white\"}},\"header\":{\"fill\":{\"color\":\"#C8D4E3\"},\"line\":{\"color\":\"white\"}},\"type\":\"table\"}]},\"layout\":{\"annotationdefaults\":{\"arrowcolor\":\"#2a3f5f\",\"arrowhead\":0,\"arrowwidth\":1},\"autotypenumbers\":\"strict\",\"coloraxis\":{\"colorbar\":{\"outlinewidth\":0,\"ticks\":\"\"}},\"colorscale\":{\"diverging\":[[0,\"#8e0152\"],[0.1,\"#c51b7d\"],[0.2,\"#de77ae\"],[0.3,\"#f1b6da\"],[0.4,\"#fde0ef\"],[0.5,\"#f7f7f7\"],[0.6,\"#e6f5d0\"],[0.7,\"#b8e186\"],[0.8,\"#7fbc41\"],[0.9,\"#4d9221\"],[1,\"#276419\"]],\"sequential\":[[0.0,\"#0d0887\"],[0.1111111111111111,\"#46039f\"],[0.2222222222222222,\"#7201a8\"],[0.3333333333333333,\"#9c179e\"],[0.4444444444444444,\"#bd3786\"],[0.5555555555555556,\"#d8576b\"],[0.6666666666666666,\"#ed7953\"],[0.7777777777777778,\"#fb9f3a\"],[0.8888888888888888,\"#fdca26\"],[1.0,\"#f0f921\"]],\"sequentialminus\":[[0.0,\"#0d0887\"],[0.1111111111111111,\"#46039f\"],[0.2222222222222222,\"#7201a8\"],[0.3333333333333333,\"#9c179e\"],[0.4444444444444444,\"#bd3786\"],[0.5555555555555556,\"#d8576b\"],[0.6666666666666666,\"#ed7953\"],[0.7777777777777778,\"#fb9f3a\"],[0.8888888888888888,\"#fdca26\"],[1.0,\"#f0f921\"]]},\"colorway\":[\"#636efa\",\"#EF553B\",\"#00cc96\",\"#ab63fa\",\"#FFA15A\",\"#19d3f3\",\"#FF6692\",\"#B6E880\",\"#FF97FF\",\"#FECB52\"],\"font\":{\"color\":\"#2a3f5f\"},\"geo\":{\"bgcolor\":\"white\",\"lakecolor\":\"white\",\"landcolor\":\"#E5ECF6\",\"showlakes\":true,\"showland\":true,\"subunitcolor\":\"white\"},\"hoverlabel\":{\"align\":\"left\"},\"hovermode\":\"closest\",\"mapbox\":{\"style\":\"light\"},\"paper_bgcolor\":\"white\",\"plot_bgcolor\":\"#E5ECF6\",\"polar\":{\"angularaxis\":{\"gridcolor\":\"white\",\"linecolor\":\"white\",\"ticks\":\"\"},\"bgcolor\":\"#E5ECF6\",\"radialaxis\":{\"gridcolor\":\"white\",\"linecolor\":\"white\",\"ticks\":\"\"}},\"scene\":{\"xaxis\":{\"backgroundcolor\":\"#E5ECF6\",\"gridcolor\":\"white\",\"gridwidth\":2,\"linecolor\":\"white\",\"showbackground\":true,\"ticks\":\"\",\"zerolinecolor\":\"white\"},\"yaxis\":{\"backgroundcolor\":\"#E5ECF6\",\"gridcolor\":\"white\",\"gridwidth\":2,\"linecolor\":\"white\",\"showbackground\":true,\"ticks\":\"\",\"zerolinecolor\":\"white\"},\"zaxis\":{\"backgroundcolor\":\"#E5ECF6\",\"gridcolor\":\"white\",\"gridwidth\":2,\"linecolor\":\"white\",\"showbackground\":true,\"ticks\":\"\",\"zerolinecolor\":\"white\"}},\"shapedefaults\":{\"line\":{\"color\":\"#2a3f5f\"}},\"ternary\":{\"aaxis\":{\"gridcolor\":\"white\",\"linecolor\":\"white\",\"ticks\":\"\"},\"baxis\":{\"gridcolor\":\"white\",\"linecolor\":\"white\",\"ticks\":\"\"},\"bgcolor\":\"#E5ECF6\",\"caxis\":{\"gridcolor\":\"white\",\"linecolor\":\"white\",\"ticks\":\"\"}},\"title\":{\"x\":0.05},\"xaxis\":{\"automargin\":true,\"gridcolor\":\"white\",\"linecolor\":\"white\",\"ticks\":\"\",\"title\":{\"standoff\":15},\"zerolinecolor\":\"white\",\"zerolinewidth\":2},\"yaxis\":{\"automargin\":true,\"gridcolor\":\"white\",\"linecolor\":\"white\",\"ticks\":\"\",\"title\":{\"standoff\":15},\"zerolinecolor\":\"white\",\"zerolinewidth\":2}}}},                        {\"responsive\": true}                    ).then(function(){\n",
              "                            \n",
              "var gd = document.getElementById('d4b484b6-33b5-4062-8eb7-092079d73d7c');\n",
              "var x = new MutationObserver(function (mutations, observer) {{\n",
              "        var display = window.getComputedStyle(gd).display;\n",
              "        if (!display || display === 'none') {{\n",
              "            console.log([gd, 'removed!']);\n",
              "            Plotly.purge(gd);\n",
              "            observer.disconnect();\n",
              "        }}\n",
              "}});\n",
              "\n",
              "// Listen for the removal of the full notebook cells\n",
              "var notebookContainer = gd.closest('#notebook-container');\n",
              "if (notebookContainer) {{\n",
              "    x.observe(notebookContainer, {childList: true});\n",
              "}}\n",
              "\n",
              "// Listen for the clearing of the current output cell\n",
              "var outputEl = gd.closest('.output');\n",
              "if (outputEl) {{\n",
              "    x.observe(outputEl, {childList: true});\n",
              "}}\n",
              "\n",
              "                        })                };                            </script>        </div>\n",
              "</body>\n",
              "</html>"
            ]
          },
          "metadata": {}
        }
      ]
    },
    {
      "cell_type": "markdown",
      "source": [
        "Рассчитаем среднее и стандартные отклонения по группам"
      ],
      "metadata": {
        "id": "0SYdU2ySEXmx"
      }
    },
    {
      "cell_type": "code",
      "source": [
        "games_pc_mean = games_pc.Critic_Score.mean()\n",
        "games_pc_std = games_pc.Critic_Score.std()\n",
        "games_ps4_mean = games_ps4.Critic_Score.mean()\n",
        "games_ps4_std = games_ps4.Critic_Score.std()\n",
        "print(f'Средняя оценка критиками игр на PC: {games_pc_mean}, средняя оценка игр на PS4: {games_ps4_mean}')\n",
        "print(f'Стандартное отклонение средней оценки критиками игр на PC: {games_pc_std}, стандартное отклонение средней оценки игр на PS4: {games_ps4_std}')"
      ],
      "metadata": {
        "colab": {
          "base_uri": "https://localhost:8080/"
        },
        "outputId": "9c42c60a-6a0e-44f2-9684-f5f55d8f7cd1",
        "id": "A8cGQLWQEXmx"
      },
      "execution_count": null,
      "outputs": [
        {
          "output_type": "stream",
          "name": "stdout",
          "text": [
            "Средняя оценка критиками игр на PC: 75.92867132867133, средняя оценка игр на PS4: 72.09126984126983\n",
            "Стандартное отклонение средней оценки критиками игр на PC: 11.170775336632445, стандартное отклонение средней оценки игр на PS4: 12.485992277826996\n"
          ]
        }
      ]
    },
    {
      "cell_type": "markdown",
      "source": [
        "#### H0: Средние оценка для игр на PC и игр на PS4 равны\n",
        "#### H1:  Критики выше оценивают игры на PC, чем игры на PS4"
      ],
      "metadata": {
        "id": "Mk2xbC53EXmy"
      }
    },
    {
      "cell_type": "markdown",
      "source": [
        "  Используем st.f_oneway для проверки нулевой гипотезы о равенстве дисперсий"
      ],
      "metadata": {
        "id": "GGMLuFniEXmy"
      }
    },
    {
      "cell_type": "code",
      "source": [
        "fvalue, pvalue = st.f_oneway(games_pc['Critic_Score'],games_ps4['Critic_Score'])\n",
        "print('Статистика=%.3f, p=%.6f' % (fvalue, pvalue))\n",
        "if pvalue > 0.05:\n",
        "    print('Не отклоняем нулевую гипотезу, средние, вероятно, одинаковые')\n",
        "else:\n",
        "    print('Отклоняем нулевую гипотезу, средние, вероятно, различаются')"
      ],
      "metadata": {
        "colab": {
          "base_uri": "https://localhost:8080/"
        },
        "outputId": "bf8b12ea-2056-46e4-dd9f-f1b64a3bed62",
        "id": "q3BXGUUmEXmy"
      },
      "execution_count": null,
      "outputs": [
        {
          "output_type": "stream",
          "name": "stdout",
          "text": [
            "Статистика=20.649, p=0.000006\n",
            "Отклоняем нулевую гипотезу, средние, вероятно, различаются\n"
          ]
        }
      ]
    },
    {
      "cell_type": "code",
      "source": [
        "stat, p = st.ttest_ind(games_pc['Critic_Score'],games_ps4['Critic_Score'], equal_var = False, alternative = 'greater')\n",
        "print('Статистика=%.5f, p=%.5f' % (stat, p))\n",
        "if p > 0.05:\n",
        "    print('Не отклоняем нулевую гипотезу - оценка игр на PC = оценке игр на PS4')\n",
        "else:\n",
        "    print('Отклоняем нулевую гипотезу И принимаем альтернативную - оценка игр на PC > оценки игр на PS4')"
      ],
      "metadata": {
        "colab": {
          "base_uri": "https://localhost:8080/"
        },
        "outputId": "fe42fbc7-1614-46c2-c859-efeacf4204de",
        "id": "zWpHMmnaEXmy"
      },
      "execution_count": null,
      "outputs": [
        {
          "output_type": "stream",
          "name": "stdout",
          "text": [
            "Статистика=4.30876, p=0.00001\n",
            "Отклоняем нулевую гипотезу И принимаем альтернативную - оценка игр на PC > оценки игр на PS4\n"
          ]
        }
      ]
    },
    {
      "cell_type": "markdown",
      "source": [
        "### Критикам больше нравятся стрелялки или стратегии? "
      ],
      "metadata": {
        "id": "0mlbVoC0NzSQ"
      }
    },
    {
      "cell_type": "code",
      "source": [
        "shooter = data.loc[data['Genre'] =='Shooter',['Critic_Score', 'Critic_Count']]\n",
        "shooter.dropna(inplace = True)"
      ],
      "metadata": {
        "id": "yIVneAFjPFQB"
      },
      "execution_count": null,
      "outputs": []
    },
    {
      "cell_type": "code",
      "source": [
        "strategy = data.loc[data['Genre'] =='Strategy',['Critic_Score', 'Critic_Count']]\n",
        "strategy.dropna(inplace = True)"
      ],
      "metadata": {
        "id": "JRqguPahH0uu"
      },
      "execution_count": null,
      "outputs": []
    },
    {
      "cell_type": "code",
      "source": [
        "df = []\n",
        "for genre in ['Shooter', 'Strategy']:\n",
        "    df.append(\n",
        "        go.Box(y=data[data.Genre==genre].Critic_Score, \n",
        "               name=genre)\n",
        "    )\n",
        "iplot(df, show_link = False)"
      ],
      "metadata": {
        "colab": {
          "base_uri": "https://localhost:8080/"
        },
        "id": "jOJKqsfpYNtJ",
        "outputId": "ad3749c8-8d5d-45a2-a45e-11d154b62854"
      },
      "execution_count": null,
      "outputs": [
        {
          "output_type": "display_data",
          "data": {
            "text/html": [
              "<html>\n",
              "<head><meta charset=\"utf-8\" /></head>\n",
              "<body>\n",
              "    <div>            <script src=\"https://cdnjs.cloudflare.com/ajax/libs/mathjax/2.7.5/MathJax.js?config=TeX-AMS-MML_SVG\"></script><script type=\"text/javascript\">if (window.MathJax) {MathJax.Hub.Config({SVG: {font: \"STIX-Web\"}});}</script>                <script type=\"text/javascript\">window.PlotlyConfig = {MathJaxConfig: 'local'};</script>\n",
              "        <script src=\"https://cdn.plot.ly/plotly-2.8.3.min.js\"></script>                <div id=\"3538a45c-56f6-4e7e-8dc2-6e9edbf895ad\" class=\"plotly-graph-div\" style=\"height:525px; width:100%;\"></div>            <script type=\"text/javascript\">                                    window.PLOTLYENV=window.PLOTLYENV || {};                                    if (document.getElementById(\"3538a45c-56f6-4e7e-8dc2-6e9edbf895ad\")) {                    Plotly.newPlot(                        \"3538a45c-56f6-4e7e-8dc2-6e9edbf895ad\",                        [{\"name\":\"Shooter\",\"y\":[null,88.0,null,87.0,83.0,83.0,94.0,88.0,88.0,94.0,94.0,73.0,91.0,87.0,71.0,94.0,95.0,null,null,83.0,null,84.0,84.0,85.0,88.0,93.0,94.0,97.0,83.0,91.0,94.0,76.0,85.0,93.0,81.0,68.0,68.0,84.0,77.0,81.0,null,86.0,null,null,96.0,88.0,85.0,null,89.0,78.0,80.0,null,82.0,82.0,null,85.0,84.0,72.0,89.0,80.0,79.0,88.0,84.0,75.0,90.0,77.0,80.0,82.0,85.0,null,74.0,89.0,91.0,91.0,null,86.0,88.0,87.0,78.0,76.0,null,96.0,97.0,75.0,89.0,84.0,null,82.0,73.0,77.0,92.0,71.0,74.0,null,87.0,78.0,82.0,82.0,96.0,84.0,87.0,69.0,91.0,73.0,88.0,80.0,null,90.0,null,64.0,73.0,83.0,95.0,null,72.0,89.0,81.0,88.0,67.0,null,83.0,63.0,93.0,86.0,null,88.0,null,87.0,96.0,90.0,84.0,80.0,83.0,63.0,null,78.0,null,95.0,82.0,94.0,null,null,73.0,83.0,null,72.0,null,82.0,81.0,86.0,null,81.0,null,79.0,55.0,86.0,79.0,88.0,90.0,null,80.0,74.0,null,90.0,null,80.0,84.0,81.0,null,57.0,83.0,79.0,83.0,70.0,73.0,null,94.0,89.0,null,89.0,80.0,89.0,80.0,83.0,null,null,73.0,81.0,84.0,81.0,88.0,74.0,79.0,73.0,84.0,92.0,null,81.0,61.0,null,75.0,null,null,63.0,79.0,86.0,81.0,89.0,73.0,69.0,75.0,71.0,null,null,89.0,77.0,65.0,74.0,70.0,null,45.0,69.0,43.0,92.0,null,null,81.0,84.0,79.0,null,82.0,78.0,70.0,74.0,null,73.0,66.0,65.0,58.0,67.0,69.0,82.0,89.0,91.0,64.0,72.0,75.0,null,81.0,65.0,68.0,84.0,86.0,84.0,67.0,null,55.0,null,86.0,88.0,76.0,null,70.0,79.0,73.0,68.0,70.0,81.0,null,77.0,76.0,89.0,76.0,76.0,null,70.0,71.0,67.0,77.0,81.0,75.0,86.0,78.0,null,82.0,48.0,81.0,85.0,65.0,76.0,77.0,72.0,78.0,74.0,67.0,60.0,49.0,77.0,70.0,78.0,77.0,70.0,80.0,78.0,53.0,null,null,80.0,72.0,null,48.0,81.0,69.0,null,85.0,63.0,null,65.0,95.0,51.0,null,null,89.0,78.0,null,59.0,60.0,85.0,83.0,null,72.0,74.0,null,73.0,74.0,87.0,91.0,null,77.0,73.0,null,90.0,65.0,89.0,null,76.0,67.0,79.0,84.0,null,78.0,63.0,86.0,80.0,94.0,null,88.0,null,null,64.0,84.0,60.0,83.0,null,88.0,74.0,67.0,80.0,71.0,32.0,76.0,null,null,null,80.0,70.0,75.0,91.0,72.0,81.0,84.0,90.0,null,77.0,43.0,64.0,77.0,87.0,80.0,null,90.0,74.0,null,77.0,78.0,85.0,75.0,62.0,87.0,71.0,60.0,67.0,69.0,73.0,86.0,76.0,80.0,72.0,59.0,75.0,null,null,null,68.0,74.0,77.0,72.0,77.0,74.0,58.0,81.0,58.0,91.0,72.0,61.0,43.0,76.0,83.0,66.0,77.0,73.0,81.0,79.0,null,34.0,78.0,null,null,71.0,72.0,null,null,69.0,50.0,61.0,81.0,null,61.0,null,72.0,null,36.0,null,72.0,80.0,null,null,67.0,62.0,72.0,82.0,79.0,null,82.0,53.0,null,85.0,71.0,82.0,58.0,null,65.0,null,89.0,75.0,76.0,69.0,71.0,74.0,null,81.0,75.0,70.0,null,80.0,null,null,null,74.0,88.0,82.0,84.0,null,80.0,81.0,74.0,87.0,39.0,68.0,null,null,84.0,75.0,77.0,76.0,84.0,null,74.0,70.0,null,null,79.0,81.0,96.0,73.0,78.0,60.0,77.0,54.0,null,77.0,null,74.0,null,72.0,80.0,84.0,71.0,70.0,null,88.0,63.0,49.0,null,null,null,75.0,null,79.0,84.0,null,62.0,null,60.0,89.0,69.0,50.0,69.0,null,48.0,59.0,48.0,null,70.0,63.0,81.0,60.0,69.0,null,78.0,null,null,85.0,null,60.0,61.0,66.0,84.0,63.0,52.0,76.0,null,null,69.0,87.0,74.0,67.0,76.0,49.0,79.0,79.0,63.0,null,null,null,85.0,81.0,83.0,null,null,null,77.0,66.0,87.0,58.0,72.0,61.0,82.0,75.0,43.0,45.0,null,84.0,80.0,null,76.0,85.0,69.0,70.0,null,60.0,null,null,null,65.0,null,58.0,70.0,76.0,75.0,56.0,null,47.0,69.0,null,90.0,null,null,67.0,null,null,68.0,null,54.0,null,47.0,null,null,null,73.0,71.0,74.0,69.0,70.0,null,80.0,null,78.0,48.0,84.0,42.0,70.0,75.0,88.0,77.0,81.0,null,null,null,null,null,72.0,75.0,null,73.0,79.0,82.0,61.0,null,58.0,null,76.0,null,60.0,66.0,50.0,81.0,56.0,58.0,70.0,null,61.0,68.0,72.0,76.0,65.0,84.0,71.0,74.0,75.0,null,64.0,null,64.0,61.0,61.0,52.0,74.0,62.0,null,51.0,null,null,60.0,58.0,null,63.0,50.0,58.0,76.0,68.0,null,52.0,62.0,64.0,82.0,43.0,null,null,62.0,null,65.0,72.0,77.0,null,51.0,79.0,68.0,69.0,39.0,51.0,61.0,83.0,48.0,74.0,71.0,35.0,null,77.0,45.0,81.0,70.0,null,48.0,56.0,44.0,54.0,null,82.0,80.0,84.0,69.0,71.0,null,78.0,null,68.0,73.0,73.0,57.0,72.0,41.0,null,61.0,74.0,45.0,83.0,62.0,61.0,null,null,70.0,84.0,82.0,32.0,null,null,66.0,55.0,64.0,74.0,74.0,null,56.0,64.0,75.0,61.0,null,85.0,71.0,52.0,71.0,null,35.0,80.0,null,68.0,59.0,50.0,null,79.0,75.0,81.0,81.0,null,77.0,77.0,68.0,73.0,96.0,67.0,null,49.0,77.0,null,71.0,null,65.0,70.0,73.0,76.0,66.0,27.0,null,null,54.0,50.0,null,null,null,78.0,null,null,62.0,51.0,null,null,null,null,60.0,37.0,83.0,null,45.0,79.0,50.0,63.0,53.0,null,null,74.0,37.0,46.0,80.0,64.0,null,44.0,null,null,null,39.0,63.0,null,58.0,72.0,null,54.0,74.0,null,62.0,44.0,55.0,76.0,null,73.0,null,48.0,63.0,73.0,null,75.0,58.0,51.0,70.0,null,null,59.0,51.0,50.0,60.0,35.0,53.0,57.0,null,null,62.0,null,74.0,54.0,28.0,71.0,64.0,null,54.0,null,76.0,83.0,72.0,null,null,87.0,null,58.0,62.0,null,null,null,78.0,54.0,55.0,69.0,39.0,null,null,73.0,null,52.0,54.0,null,null,78.0,44.0,43.0,38.0,72.0,82.0,56.0,78.0,null,null,71.0,85.0,null,null,null,null,37.0,84.0,36.0,77.0,null,85.0,null,null,75.0,73.0,30.0,66.0,null,56.0,88.0,43.0,73.0,75.0,31.0,56.0,null,49.0,79.0,78.0,69.0,null,35.0,44.0,91.0,85.0,52.0,null,82.0,64.0,null,null,39.0,63.0,60.0,38.0,null,null,57.0,null,83.0,72.0,66.0,35.0,37.0,57.0,62.0,78.0,46.0,36.0,70.0,null,79.0,null,null,44.0,null,65.0,54.0,null,54.0,null,67.0,null,36.0,null,22.0,79.0,33.0,72.0,59.0,null,null,65.0,56.0,null,null,83.0,null,null,66.0,63.0,70.0,76.0,45.0,55.0,null,32.0,null,null,72.0,null,null,79.0,64.0,83.0,66.0,86.0,78.0,72.0,null,56.0,80.0,54.0,58.0,57.0,null,50.0,null,35.0,null,53.0,73.0,44.0,82.0,71.0,null,null,54.0,null,68.0,76.0,48.0,null,43.0,55.0,63.0,78.0,78.0,null,null,76.0,76.0,77.0,33.0,66.0,75.0,78.0,null,83.0,null,null,null,78.0,null,79.0,62.0,null,null,null,82.0,61.0,76.0,45.0,null,59.0,71.0,89.0,null,71.0,72.0,null,null,null,null,48.0,70.0,74.0,63.0,31.0,35.0,64.0,65.0,71.0,35.0,null,67.0,60.0,null,38.0,null,69.0,null,null,59.0,null,null,null,null,null,null,67.0,null,50.0,50.0,72.0,null,null,null,61.0,null,39.0,83.0,68.0,69.0,52.0,44.0,45.0,65.0,null,54.0,55.0,null,75.0,68.0,46.0,null,null,70.0,77.0,72.0,81.0,79.0,73.0,60.0,36.0,null,null,78.0,82.0,null,null,null,56.0,null,null,46.0,85.0,59.0,48.0,null,null,null,null,78.0,null,null,56.0,84.0,86.0,57.0,63.0,null,null,80.0,63.0,52.0,85.0,89.0,null,70.0,null,null,67.0,51.0,null,60.0,71.0,null,71.0,47.0,null,67.0,78.0,79.0,null,73.0,62.0,78.0,40.0,null,null,null,69.0,null,null,89.0,null,null,68.0,null,81.0,89.0,55.0,null,58.0,64.0,null,39.0,33.0,null,81.0,null,null,84.0,null,78.0,null,74.0,72.0,46.0,null,null,50.0,null,63.0,74.0,30.0,67.0,71.0,null,null,39.0,45.0,null,null,null,76.0,93.0,36.0,51.0,57.0,59.0,null,87.0,33.0,40.0,null,null,76.0,null,null,84.0,49.0,null,48.0,66.0,72.0,86.0,74.0,null,null,80.0,null,null,null,61.0,null,76.0,71.0,80.0,null,58.0,70.0,59.0,null,63.0,null,null,40.0,null,61.0,null],\"type\":\"box\"},{\"name\":\"Strategy\",\"y\":[null,null,93.0,null,null,null,null,82.0,null,null,null,null,90.0,86.0,89.0,null,null,88.0,59.0,83.0,null,null,65.0,74.0,90.0,84.0,87.0,81.0,null,90.0,null,44.0,88.0,75.0,77.0,85.0,null,null,84.0,null,null,69.0,null,85.0,70.0,84.0,null,76.0,89.0,null,null,92.0,null,69.0,81.0,76.0,89.0,null,null,null,90.0,null,null,null,86.0,null,null,90.0,null,null,null,null,89.0,null,null,null,null,null,75.0,null,null,88.0,null,null,76.0,null,null,78.0,82.0,85.0,71.0,null,80.0,80.0,null,70.0,null,null,null,70.0,null,null,76.0,null,76.0,null,null,44.0,90.0,null,null,null,60.0,null,81.0,null,null,null,81.0,null,null,81.0,null,77.0,null,75.0,75.0,80.0,null,77.0,null,null,76.0,null,67.0,null,null,81.0,72.0,null,null,79.0,null,null,null,null,null,null,null,null,77.0,null,74.0,null,null,null,87.0,60.0,79.0,49.0,null,null,null,null,59.0,null,81.0,null,76.0,null,78.0,78.0,66.0,89.0,null,null,73.0,null,null,null,null,null,null,null,72.0,null,88.0,null,null,80.0,null,88.0,null,null,80.0,61.0,58.0,null,75.0,47.0,47.0,69.0,null,null,78.0,null,null,null,null,null,68.0,72.0,null,null,null,78.0,null,null,85.0,null,66.0,null,77.0,null,null,null,null,59.0,null,null,null,null,null,null,null,67.0,null,null,null,null,51.0,68.0,null,null,null,94.0,47.0,null,null,73.0,null,null,null,null,58.0,53.0,77.0,null,null,48.0,78.0,null,null,null,null,null,66.0,null,88.0,null,null,null,null,null,null,79.0,null,null,null,80.0,92.0,null,null,86.0,null,62.0,null,null,null,null,null,70.0,50.0,null,49.0,null,null,86.0,68.0,null,null,null,null,64.0,null,null,68.0,54.0,82.0,55.0,null,null,null,68.0,81.0,63.0,78.0,null,null,null,51.0,75.0,null,72.0,null,92.0,null,null,null,null,null,null,null,null,null,null,48.0,88.0,null,73.0,65.0,null,null,null,60.0,92.0,null,57.0,null,null,71.0,null,69.0,80.0,null,null,null,46.0,56.0,null,null,76.0,null,null,89.0,null,null,63.0,null,79.0,64.0,null,64.0,70.0,null,80.0,null,null,null,70.0,null,64.0,null,64.0,null,null,null,75.0,71.0,null,64.0,82.0,82.0,73.0,64.0,67.0,null,77.0,69.0,null,null,null,69.0,78.0,74.0,62.0,null,null,35.0,null,null,null,61.0,null,null,69.0,null,61.0,67.0,71.0,null,null,81.0,61.0,null,57.0,70.0,38.0,null,null,null,63.0,null,69.0,null,null,null,72.0,null,null,null,null,59.0,null,42.0,75.0,78.0,null,83.0,66.0,null,null,null,77.0,null,null,87.0,63.0,null,79.0,86.0,79.0,73.0,81.0,null,79.0,88.0,null,null,69.0,87.0,93.0,69.0,86.0,72.0,79.0,null,null,74.0,80.0,78.0,null,59.0,58.0,null,75.0,70.0,null,78.0,77.0,84.0,66.0,87.0,null,null,null,69.0,89.0,68.0,69.0,66.0,null,null,50.0,53.0,null,null,null,81.0,null,66.0,74.0,64.0,null,null,null,null,null,80.0,null,89.0,null,53.0,58.0,null,null,null,null,null,63.0,84.0,null,null,null,null,null,null,62.0,null,80.0,83.0,null,77.0,79.0,null,null,null,null,67.0,57.0,null,null,null,78.0,87.0,null,61.0,68.0,null,null,null,null,64.0,74.0,73.0,null,null,null,null,74.0,75.0,null,76.0,66.0,71.0,40.0,null,71.0,null,63.0,null,null,76.0,null,59.0,45.0,null,78.0,null,68.0,null,null,null,null,null,null,81.0,84.0,null,93.0,69.0,59.0,null,null,42.0,null,null,null,67.0,null,null,null,70.0,62.0,71.0,50.0,null,67.0,null,null,63.0,null,72.0,75.0,null,null,null,67.0,null,71.0,72.0,null,56.0,null,57.0,75.0,null,null,70.0,null,null,null,null,null,null,74.0,75.0,63.0,null,null,70.0,null,80.0,null,65.0,72.0,null,66.0,null,86.0,null,75.0,71.0,null,null,null,null,null,76.0,null,71.0,null,null,null,69.0,null,null,null,null,51.0,null,null,60.0],\"type\":\"box\"}],                        {\"template\":{\"data\":{\"barpolar\":[{\"marker\":{\"line\":{\"color\":\"#E5ECF6\",\"width\":0.5},\"pattern\":{\"fillmode\":\"overlay\",\"size\":10,\"solidity\":0.2}},\"type\":\"barpolar\"}],\"bar\":[{\"error_x\":{\"color\":\"#2a3f5f\"},\"error_y\":{\"color\":\"#2a3f5f\"},\"marker\":{\"line\":{\"color\":\"#E5ECF6\",\"width\":0.5},\"pattern\":{\"fillmode\":\"overlay\",\"size\":10,\"solidity\":0.2}},\"type\":\"bar\"}],\"carpet\":[{\"aaxis\":{\"endlinecolor\":\"#2a3f5f\",\"gridcolor\":\"white\",\"linecolor\":\"white\",\"minorgridcolor\":\"white\",\"startlinecolor\":\"#2a3f5f\"},\"baxis\":{\"endlinecolor\":\"#2a3f5f\",\"gridcolor\":\"white\",\"linecolor\":\"white\",\"minorgridcolor\":\"white\",\"startlinecolor\":\"#2a3f5f\"},\"type\":\"carpet\"}],\"choropleth\":[{\"colorbar\":{\"outlinewidth\":0,\"ticks\":\"\"},\"type\":\"choropleth\"}],\"contourcarpet\":[{\"colorbar\":{\"outlinewidth\":0,\"ticks\":\"\"},\"type\":\"contourcarpet\"}],\"contour\":[{\"colorbar\":{\"outlinewidth\":0,\"ticks\":\"\"},\"colorscale\":[[0.0,\"#0d0887\"],[0.1111111111111111,\"#46039f\"],[0.2222222222222222,\"#7201a8\"],[0.3333333333333333,\"#9c179e\"],[0.4444444444444444,\"#bd3786\"],[0.5555555555555556,\"#d8576b\"],[0.6666666666666666,\"#ed7953\"],[0.7777777777777778,\"#fb9f3a\"],[0.8888888888888888,\"#fdca26\"],[1.0,\"#f0f921\"]],\"type\":\"contour\"}],\"heatmapgl\":[{\"colorbar\":{\"outlinewidth\":0,\"ticks\":\"\"},\"colorscale\":[[0.0,\"#0d0887\"],[0.1111111111111111,\"#46039f\"],[0.2222222222222222,\"#7201a8\"],[0.3333333333333333,\"#9c179e\"],[0.4444444444444444,\"#bd3786\"],[0.5555555555555556,\"#d8576b\"],[0.6666666666666666,\"#ed7953\"],[0.7777777777777778,\"#fb9f3a\"],[0.8888888888888888,\"#fdca26\"],[1.0,\"#f0f921\"]],\"type\":\"heatmapgl\"}],\"heatmap\":[{\"colorbar\":{\"outlinewidth\":0,\"ticks\":\"\"},\"colorscale\":[[0.0,\"#0d0887\"],[0.1111111111111111,\"#46039f\"],[0.2222222222222222,\"#7201a8\"],[0.3333333333333333,\"#9c179e\"],[0.4444444444444444,\"#bd3786\"],[0.5555555555555556,\"#d8576b\"],[0.6666666666666666,\"#ed7953\"],[0.7777777777777778,\"#fb9f3a\"],[0.8888888888888888,\"#fdca26\"],[1.0,\"#f0f921\"]],\"type\":\"heatmap\"}],\"histogram2dcontour\":[{\"colorbar\":{\"outlinewidth\":0,\"ticks\":\"\"},\"colorscale\":[[0.0,\"#0d0887\"],[0.1111111111111111,\"#46039f\"],[0.2222222222222222,\"#7201a8\"],[0.3333333333333333,\"#9c179e\"],[0.4444444444444444,\"#bd3786\"],[0.5555555555555556,\"#d8576b\"],[0.6666666666666666,\"#ed7953\"],[0.7777777777777778,\"#fb9f3a\"],[0.8888888888888888,\"#fdca26\"],[1.0,\"#f0f921\"]],\"type\":\"histogram2dcontour\"}],\"histogram2d\":[{\"colorbar\":{\"outlinewidth\":0,\"ticks\":\"\"},\"colorscale\":[[0.0,\"#0d0887\"],[0.1111111111111111,\"#46039f\"],[0.2222222222222222,\"#7201a8\"],[0.3333333333333333,\"#9c179e\"],[0.4444444444444444,\"#bd3786\"],[0.5555555555555556,\"#d8576b\"],[0.6666666666666666,\"#ed7953\"],[0.7777777777777778,\"#fb9f3a\"],[0.8888888888888888,\"#fdca26\"],[1.0,\"#f0f921\"]],\"type\":\"histogram2d\"}],\"histogram\":[{\"marker\":{\"pattern\":{\"fillmode\":\"overlay\",\"size\":10,\"solidity\":0.2}},\"type\":\"histogram\"}],\"mesh3d\":[{\"colorbar\":{\"outlinewidth\":0,\"ticks\":\"\"},\"type\":\"mesh3d\"}],\"parcoords\":[{\"line\":{\"colorbar\":{\"outlinewidth\":0,\"ticks\":\"\"}},\"type\":\"parcoords\"}],\"pie\":[{\"automargin\":true,\"type\":\"pie\"}],\"scatter3d\":[{\"line\":{\"colorbar\":{\"outlinewidth\":0,\"ticks\":\"\"}},\"marker\":{\"colorbar\":{\"outlinewidth\":0,\"ticks\":\"\"}},\"type\":\"scatter3d\"}],\"scattercarpet\":[{\"marker\":{\"colorbar\":{\"outlinewidth\":0,\"ticks\":\"\"}},\"type\":\"scattercarpet\"}],\"scattergeo\":[{\"marker\":{\"colorbar\":{\"outlinewidth\":0,\"ticks\":\"\"}},\"type\":\"scattergeo\"}],\"scattergl\":[{\"marker\":{\"colorbar\":{\"outlinewidth\":0,\"ticks\":\"\"}},\"type\":\"scattergl\"}],\"scattermapbox\":[{\"marker\":{\"colorbar\":{\"outlinewidth\":0,\"ticks\":\"\"}},\"type\":\"scattermapbox\"}],\"scatterpolargl\":[{\"marker\":{\"colorbar\":{\"outlinewidth\":0,\"ticks\":\"\"}},\"type\":\"scatterpolargl\"}],\"scatterpolar\":[{\"marker\":{\"colorbar\":{\"outlinewidth\":0,\"ticks\":\"\"}},\"type\":\"scatterpolar\"}],\"scatter\":[{\"marker\":{\"colorbar\":{\"outlinewidth\":0,\"ticks\":\"\"}},\"type\":\"scatter\"}],\"scatterternary\":[{\"marker\":{\"colorbar\":{\"outlinewidth\":0,\"ticks\":\"\"}},\"type\":\"scatterternary\"}],\"surface\":[{\"colorbar\":{\"outlinewidth\":0,\"ticks\":\"\"},\"colorscale\":[[0.0,\"#0d0887\"],[0.1111111111111111,\"#46039f\"],[0.2222222222222222,\"#7201a8\"],[0.3333333333333333,\"#9c179e\"],[0.4444444444444444,\"#bd3786\"],[0.5555555555555556,\"#d8576b\"],[0.6666666666666666,\"#ed7953\"],[0.7777777777777778,\"#fb9f3a\"],[0.8888888888888888,\"#fdca26\"],[1.0,\"#f0f921\"]],\"type\":\"surface\"}],\"table\":[{\"cells\":{\"fill\":{\"color\":\"#EBF0F8\"},\"line\":{\"color\":\"white\"}},\"header\":{\"fill\":{\"color\":\"#C8D4E3\"},\"line\":{\"color\":\"white\"}},\"type\":\"table\"}]},\"layout\":{\"annotationdefaults\":{\"arrowcolor\":\"#2a3f5f\",\"arrowhead\":0,\"arrowwidth\":1},\"autotypenumbers\":\"strict\",\"coloraxis\":{\"colorbar\":{\"outlinewidth\":0,\"ticks\":\"\"}},\"colorscale\":{\"diverging\":[[0,\"#8e0152\"],[0.1,\"#c51b7d\"],[0.2,\"#de77ae\"],[0.3,\"#f1b6da\"],[0.4,\"#fde0ef\"],[0.5,\"#f7f7f7\"],[0.6,\"#e6f5d0\"],[0.7,\"#b8e186\"],[0.8,\"#7fbc41\"],[0.9,\"#4d9221\"],[1,\"#276419\"]],\"sequential\":[[0.0,\"#0d0887\"],[0.1111111111111111,\"#46039f\"],[0.2222222222222222,\"#7201a8\"],[0.3333333333333333,\"#9c179e\"],[0.4444444444444444,\"#bd3786\"],[0.5555555555555556,\"#d8576b\"],[0.6666666666666666,\"#ed7953\"],[0.7777777777777778,\"#fb9f3a\"],[0.8888888888888888,\"#fdca26\"],[1.0,\"#f0f921\"]],\"sequentialminus\":[[0.0,\"#0d0887\"],[0.1111111111111111,\"#46039f\"],[0.2222222222222222,\"#7201a8\"],[0.3333333333333333,\"#9c179e\"],[0.4444444444444444,\"#bd3786\"],[0.5555555555555556,\"#d8576b\"],[0.6666666666666666,\"#ed7953\"],[0.7777777777777778,\"#fb9f3a\"],[0.8888888888888888,\"#fdca26\"],[1.0,\"#f0f921\"]]},\"colorway\":[\"#636efa\",\"#EF553B\",\"#00cc96\",\"#ab63fa\",\"#FFA15A\",\"#19d3f3\",\"#FF6692\",\"#B6E880\",\"#FF97FF\",\"#FECB52\"],\"font\":{\"color\":\"#2a3f5f\"},\"geo\":{\"bgcolor\":\"white\",\"lakecolor\":\"white\",\"landcolor\":\"#E5ECF6\",\"showlakes\":true,\"showland\":true,\"subunitcolor\":\"white\"},\"hoverlabel\":{\"align\":\"left\"},\"hovermode\":\"closest\",\"mapbox\":{\"style\":\"light\"},\"paper_bgcolor\":\"white\",\"plot_bgcolor\":\"#E5ECF6\",\"polar\":{\"angularaxis\":{\"gridcolor\":\"white\",\"linecolor\":\"white\",\"ticks\":\"\"},\"bgcolor\":\"#E5ECF6\",\"radialaxis\":{\"gridcolor\":\"white\",\"linecolor\":\"white\",\"ticks\":\"\"}},\"scene\":{\"xaxis\":{\"backgroundcolor\":\"#E5ECF6\",\"gridcolor\":\"white\",\"gridwidth\":2,\"linecolor\":\"white\",\"showbackground\":true,\"ticks\":\"\",\"zerolinecolor\":\"white\"},\"yaxis\":{\"backgroundcolor\":\"#E5ECF6\",\"gridcolor\":\"white\",\"gridwidth\":2,\"linecolor\":\"white\",\"showbackground\":true,\"ticks\":\"\",\"zerolinecolor\":\"white\"},\"zaxis\":{\"backgroundcolor\":\"#E5ECF6\",\"gridcolor\":\"white\",\"gridwidth\":2,\"linecolor\":\"white\",\"showbackground\":true,\"ticks\":\"\",\"zerolinecolor\":\"white\"}},\"shapedefaults\":{\"line\":{\"color\":\"#2a3f5f\"}},\"ternary\":{\"aaxis\":{\"gridcolor\":\"white\",\"linecolor\":\"white\",\"ticks\":\"\"},\"baxis\":{\"gridcolor\":\"white\",\"linecolor\":\"white\",\"ticks\":\"\"},\"bgcolor\":\"#E5ECF6\",\"caxis\":{\"gridcolor\":\"white\",\"linecolor\":\"white\",\"ticks\":\"\"}},\"title\":{\"x\":0.05},\"xaxis\":{\"automargin\":true,\"gridcolor\":\"white\",\"linecolor\":\"white\",\"ticks\":\"\",\"title\":{\"standoff\":15},\"zerolinecolor\":\"white\",\"zerolinewidth\":2},\"yaxis\":{\"automargin\":true,\"gridcolor\":\"white\",\"linecolor\":\"white\",\"ticks\":\"\",\"title\":{\"standoff\":15},\"zerolinecolor\":\"white\",\"zerolinewidth\":2}}}},                        {\"responsive\": true}                    ).then(function(){\n",
              "                            \n",
              "var gd = document.getElementById('3538a45c-56f6-4e7e-8dc2-6e9edbf895ad');\n",
              "var x = new MutationObserver(function (mutations, observer) {{\n",
              "        var display = window.getComputedStyle(gd).display;\n",
              "        if (!display || display === 'none') {{\n",
              "            console.log([gd, 'removed!']);\n",
              "            Plotly.purge(gd);\n",
              "            observer.disconnect();\n",
              "        }}\n",
              "}});\n",
              "\n",
              "// Listen for the removal of the full notebook cells\n",
              "var notebookContainer = gd.closest('#notebook-container');\n",
              "if (notebookContainer) {{\n",
              "    x.observe(notebookContainer, {childList: true});\n",
              "}}\n",
              "\n",
              "// Listen for the clearing of the current output cell\n",
              "var outputEl = gd.closest('.output');\n",
              "if (outputEl) {{\n",
              "    x.observe(outputEl, {childList: true});\n",
              "}}\n",
              "\n",
              "                        })                };                            </script>        </div>\n",
              "</body>\n",
              "</html>"
            ]
          },
          "metadata": {}
        }
      ]
    },
    {
      "cell_type": "markdown",
      "source": [
        "Рассчитаем среднее и стандартные отклонения по группам"
      ],
      "metadata": {
        "id": "96yjHkGDIINC"
      }
    },
    {
      "cell_type": "code",
      "source": [
        "shooter_mean = shooter.Critic_Score.mean()\n",
        "shooter_std = shooter.Critic_Score.std()\n",
        "strategy_mean = strategy.Critic_Score.mean()\n",
        "strategy_std =strategy.Critic_Score.std()\n",
        "print(f'Средняя оценка критиками игр Shooter: {shooter_mean}, средняя оценка игр Strategy: {strategy_mean}')\n",
        "print(f'Стандартное отклонение средней оценки критиками игр Shooter: {shooter_std}, стандартное отклонение средней оценки игр Strategy: {strategy_std}')"
      ],
      "metadata": {
        "colab": {
          "base_uri": "https://localhost:8080/"
        },
        "id": "1XrD4JRbIEaw",
        "outputId": "5f6a74e8-51b5-42b1-a382-42d03ba0de16"
      },
      "execution_count": null,
      "outputs": [
        {
          "output_type": "stream",
          "name": "stdout",
          "text": [
            "Средняя оценка критиками игр Shooter: 70.18114406779661, средняя оценка игр Strategy: 72.08609271523179\n",
            "Стандартное отклонение средней оценки критиками игр Shooter: 14.552571329694269, стандартное отклонение средней оценки игр Strategy: 11.828475354020807\n"
          ]
        }
      ]
    },
    {
      "cell_type": "markdown",
      "source": [
        "H0: Средние оценка для стрелялок и стратегий равны\n",
        "H1: Критики выше оценивают стратегии, чем стрелялки"
      ],
      "metadata": {
        "id": "fgoCODe6Iz2S"
      }
    },
    {
      "cell_type": "markdown",
      "source": [
        "  Используем st.f_oneway для проверки нулевой гипотезы о равенстве дисперсий"
      ],
      "metadata": {
        "id": "GZpy3omaJJDo"
      }
    },
    {
      "cell_type": "code",
      "source": [
        "fvalue, pvalue = st.f_oneway(shooter['Critic_Score'],strategy['Critic_Score'])\n",
        "print('Статистика=%.3f, p=%.6f' % (fvalue, pvalue))\n",
        "if pvalue > 0.05:\n",
        "    print('Не отклоняем нулевую гипотезу, средние, вероятно, одинаковые')\n",
        "else:\n",
        "    print('Отклоняем нулевую гипотезу, средние, вероятно, различаются')"
      ],
      "metadata": {
        "colab": {
          "base_uri": "https://localhost:8080/"
        },
        "id": "A8IDCnuwJKUu",
        "outputId": "393795af-9377-43a2-9bba-3b47484e1de6"
      },
      "execution_count": null,
      "outputs": [
        {
          "output_type": "stream",
          "name": "stdout",
          "text": [
            "Статистика=4.271, p=0.038969\n",
            "Отклоняем нулевую гипотезу, средние, вероятно, различаются\n"
          ]
        }
      ]
    },
    {
      "cell_type": "code",
      "source": [
        "stat, p = st.ttest_ind(strategy['Critic_Score'], shooter['Critic_Score'], equal_var = False, alternative = 'greater')\n",
        "print('Статистика=%.5f, p=%.5f' % (stat, p))\n",
        "if p > 0.05:\n",
        "    print('Не отклоняем нулевую гипотезу - оценка стратегий = оценке стрелялок')\n",
        "else:\n",
        "    print('Отклоняем нулевую гипотезу И принимаем альтернативную - оценка стратегий > оценки стрелялок')"
      ],
      "metadata": {
        "colab": {
          "base_uri": "https://localhost:8080/"
        },
        "id": "qZtYKpCEIE3-",
        "outputId": "f3de597d-99e5-43a4-9607-2dac3d33835e"
      },
      "execution_count": null,
      "outputs": [
        {
          "output_type": "stream",
          "name": "stdout",
          "text": [
            "Статистика=2.29724, p=0.01097\n",
            "Отклоняем нулевую гипотезу И принимаем альтернативную - оценка стратегий > оценки стрелялок\n"
          ]
        }
      ]
    },
    {
      "cell_type": "markdown",
      "source": [
        "# Задание 2\n",
        "\n",
        "Реализуйте базовую модель логистической регрессии для классификации текстовых сообщений (используемые данные здесь) по признаку спама. Для этого:\n",
        "\n",
        "1.   Привидите весь текст к нижнему регистру;\n",
        "2.   Удалите мусорные символы;\n",
        "3.   Удалите стоп-слова;\n",
        "4.   Привидите все слова к нормальной форме;\n",
        "5.   Преобразуйте все сообщения в вектора TF-IDF. \n",
        "\n",
        "Вам поможет следующий код:\n",
        "\n",
        "\n",
        "```\n",
        "from sklearn.feature_extraction.text import TfidfVectorizer\n",
        "tfidf = TfidfVectorizer()\n",
        "tfidf_matrix = tfidf.fit_transform(df.Message)\n",
        "names = tfidf.get_feature_names()\n",
        "tfidf_matrix = pd.DataFrame(tfidf_matrix.toarray(), columns=names)\n",
        "\n",
        "```\n",
        "\n",
        "\n",
        "\n",
        "Можете поэкспериментировать с параметрами TfidfVectorizer;\n",
        "\n",
        "6.   Разделите данные на тестовые и тренировочные в соотношении 30/70, укажите random_state=42. Используйте train_test_split;\n",
        "7.   Постройте модель логистической регрессии, укажите random_state=42, оцените ее точность на тестовых данных;\n",
        "8.   Опишите результаты при помощи confusion_matrix;\n",
        "9.   Постройте датафрейм, который будет содержать все исходные тексты сообщений, классифицированные неправильно (с указанием фактического и предсказанного)."
      ],
      "metadata": {
        "id": "p2BPuqXj4kjQ"
      }
    },
    {
      "cell_type": "code",
      "source": [
        "df=pd.read_csv('/content/spam.csv') #Читаем файл в датафрейм\n",
        "df.head()"
      ],
      "metadata": {
        "colab": {
          "base_uri": "https://localhost:8080/",
          "height": 206
        },
        "id": "rTAP2onlbe1V",
        "outputId": "b6981295-4bbc-4071-8d5f-3f27a8dbd77f"
      },
      "execution_count": null,
      "outputs": [
        {
          "output_type": "execute_result",
          "data": {
            "text/plain": [
              "  Category                                            Message\n",
              "0      ham  Go until jurong point, crazy.. Available only ...\n",
              "1      ham                      Ok lar... Joking wif u oni...\n",
              "2     spam  Free entry in 2 a wkly comp to win FA Cup fina...\n",
              "3      ham  U dun say so early hor... U c already then say...\n",
              "4      ham  Nah I don't think he goes to usf, he lives aro..."
            ],
            "text/html": [
              "\n",
              "  <div id=\"df-d63363c4-1a46-49a0-b5d9-85fa2438c51f\">\n",
              "    <div class=\"colab-df-container\">\n",
              "      <div>\n",
              "<style scoped>\n",
              "    .dataframe tbody tr th:only-of-type {\n",
              "        vertical-align: middle;\n",
              "    }\n",
              "\n",
              "    .dataframe tbody tr th {\n",
              "        vertical-align: top;\n",
              "    }\n",
              "\n",
              "    .dataframe thead th {\n",
              "        text-align: right;\n",
              "    }\n",
              "</style>\n",
              "<table border=\"1\" class=\"dataframe\">\n",
              "  <thead>\n",
              "    <tr style=\"text-align: right;\">\n",
              "      <th></th>\n",
              "      <th>Category</th>\n",
              "      <th>Message</th>\n",
              "    </tr>\n",
              "  </thead>\n",
              "  <tbody>\n",
              "    <tr>\n",
              "      <th>0</th>\n",
              "      <td>ham</td>\n",
              "      <td>Go until jurong point, crazy.. Available only ...</td>\n",
              "    </tr>\n",
              "    <tr>\n",
              "      <th>1</th>\n",
              "      <td>ham</td>\n",
              "      <td>Ok lar... Joking wif u oni...</td>\n",
              "    </tr>\n",
              "    <tr>\n",
              "      <th>2</th>\n",
              "      <td>spam</td>\n",
              "      <td>Free entry in 2 a wkly comp to win FA Cup fina...</td>\n",
              "    </tr>\n",
              "    <tr>\n",
              "      <th>3</th>\n",
              "      <td>ham</td>\n",
              "      <td>U dun say so early hor... U c already then say...</td>\n",
              "    </tr>\n",
              "    <tr>\n",
              "      <th>4</th>\n",
              "      <td>ham</td>\n",
              "      <td>Nah I don't think he goes to usf, he lives aro...</td>\n",
              "    </tr>\n",
              "  </tbody>\n",
              "</table>\n",
              "</div>\n",
              "      <button class=\"colab-df-convert\" onclick=\"convertToInteractive('df-d63363c4-1a46-49a0-b5d9-85fa2438c51f')\"\n",
              "              title=\"Convert this dataframe to an interactive table.\"\n",
              "              style=\"display:none;\">\n",
              "        \n",
              "  <svg xmlns=\"http://www.w3.org/2000/svg\" height=\"24px\"viewBox=\"0 0 24 24\"\n",
              "       width=\"24px\">\n",
              "    <path d=\"M0 0h24v24H0V0z\" fill=\"none\"/>\n",
              "    <path d=\"M18.56 5.44l.94 2.06.94-2.06 2.06-.94-2.06-.94-.94-2.06-.94 2.06-2.06.94zm-11 1L8.5 8.5l.94-2.06 2.06-.94-2.06-.94L8.5 2.5l-.94 2.06-2.06.94zm10 10l.94 2.06.94-2.06 2.06-.94-2.06-.94-.94-2.06-.94 2.06-2.06.94z\"/><path d=\"M17.41 7.96l-1.37-1.37c-.4-.4-.92-.59-1.43-.59-.52 0-1.04.2-1.43.59L10.3 9.45l-7.72 7.72c-.78.78-.78 2.05 0 2.83L4 21.41c.39.39.9.59 1.41.59.51 0 1.02-.2 1.41-.59l7.78-7.78 2.81-2.81c.8-.78.8-2.07 0-2.86zM5.41 20L4 18.59l7.72-7.72 1.47 1.35L5.41 20z\"/>\n",
              "  </svg>\n",
              "      </button>\n",
              "      \n",
              "  <style>\n",
              "    .colab-df-container {\n",
              "      display:flex;\n",
              "      flex-wrap:wrap;\n",
              "      gap: 12px;\n",
              "    }\n",
              "\n",
              "    .colab-df-convert {\n",
              "      background-color: #E8F0FE;\n",
              "      border: none;\n",
              "      border-radius: 50%;\n",
              "      cursor: pointer;\n",
              "      display: none;\n",
              "      fill: #1967D2;\n",
              "      height: 32px;\n",
              "      padding: 0 0 0 0;\n",
              "      width: 32px;\n",
              "    }\n",
              "\n",
              "    .colab-df-convert:hover {\n",
              "      background-color: #E2EBFA;\n",
              "      box-shadow: 0px 1px 2px rgba(60, 64, 67, 0.3), 0px 1px 3px 1px rgba(60, 64, 67, 0.15);\n",
              "      fill: #174EA6;\n",
              "    }\n",
              "\n",
              "    [theme=dark] .colab-df-convert {\n",
              "      background-color: #3B4455;\n",
              "      fill: #D2E3FC;\n",
              "    }\n",
              "\n",
              "    [theme=dark] .colab-df-convert:hover {\n",
              "      background-color: #434B5C;\n",
              "      box-shadow: 0px 1px 3px 1px rgba(0, 0, 0, 0.15);\n",
              "      filter: drop-shadow(0px 1px 2px rgba(0, 0, 0, 0.3));\n",
              "      fill: #FFFFFF;\n",
              "    }\n",
              "  </style>\n",
              "\n",
              "      <script>\n",
              "        const buttonEl =\n",
              "          document.querySelector('#df-d63363c4-1a46-49a0-b5d9-85fa2438c51f button.colab-df-convert');\n",
              "        buttonEl.style.display =\n",
              "          google.colab.kernel.accessAllowed ? 'block' : 'none';\n",
              "\n",
              "        async function convertToInteractive(key) {\n",
              "          const element = document.querySelector('#df-d63363c4-1a46-49a0-b5d9-85fa2438c51f');\n",
              "          const dataTable =\n",
              "            await google.colab.kernel.invokeFunction('convertToInteractive',\n",
              "                                                     [key], {});\n",
              "          if (!dataTable) return;\n",
              "\n",
              "          const docLinkHtml = 'Like what you see? Visit the ' +\n",
              "            '<a target=\"_blank\" href=https://colab.research.google.com/notebooks/data_table.ipynb>data table notebook</a>'\n",
              "            + ' to learn more about interactive tables.';\n",
              "          element.innerHTML = '';\n",
              "          dataTable['output_type'] = 'display_data';\n",
              "          await google.colab.output.renderOutput(dataTable, element);\n",
              "          const docLink = document.createElement('div');\n",
              "          docLink.innerHTML = docLinkHtml;\n",
              "          element.appendChild(docLink);\n",
              "        }\n",
              "      </script>\n",
              "    </div>\n",
              "  </div>\n",
              "  "
            ]
          },
          "metadata": {},
          "execution_count": 45
        }
      ]
    },
    {
      "cell_type": "code",
      "source": [
        "df.Category.unique() # проверим, сколько классов предлагается для классификации - Всего 2 - ham и spam"
      ],
      "metadata": {
        "colab": {
          "base_uri": "https://localhost:8080/"
        },
        "id": "f99hFoiYsOiQ",
        "outputId": "b56fdf3c-db5d-4537-f5bc-4e40d0f713cd"
      },
      "execution_count": null,
      "outputs": [
        {
          "output_type": "execute_result",
          "data": {
            "text/plain": [
              "array(['ham', 'spam'], dtype=object)"
            ]
          },
          "metadata": {},
          "execution_count": 46
        }
      ]
    },
    {
      "cell_type": "markdown",
      "source": [
        "Оценим соотношение классов"
      ],
      "metadata": {
        "id": "jpo6ei5fnqYa"
      }
    },
    {
      "cell_type": "code",
      "source": [
        "print('Кол-во сообщений - спам: ', len(df[df.Category =='spam']), 'Кол-во полезных сообщений: ', len(df[df.Category =='ham']))"
      ],
      "metadata": {
        "colab": {
          "base_uri": "https://localhost:8080/"
        },
        "id": "LTUOoWfSnvGP",
        "outputId": "ff312fdf-5a90-4fe1-e0e8-5d55638a4be6"
      },
      "execution_count": null,
      "outputs": [
        {
          "output_type": "stream",
          "name": "stdout",
          "text": [
            "Кол-во сообщений - спам:  747 Кол-во полезных сообщений:  4825\n"
          ]
        }
      ]
    },
    {
      "cell_type": "markdown",
      "source": [
        "Классы несбалансированы, для оценки качества модели понадобятся precision и recall"
      ],
      "metadata": {
        "id": "qPmcaFbTwDPr"
      }
    },
    {
      "cell_type": "markdown",
      "source": [
        "## Вариант 1. Предобработка датасета"
      ],
      "metadata": {
        "id": "Mg9FqJ1G3YSy"
      }
    },
    {
      "cell_type": "code",
      "source": [
        "data = df.copy()"
      ],
      "metadata": {
        "id": "MHLpbScv-iWi"
      },
      "execution_count": null,
      "outputs": []
    },
    {
      "cell_type": "code",
      "source": [
        "data['Message_'] = data['Message'].apply(lambda word: word.lower()) # Приведем к нижнему регистру  Все слова в Message и запишем результат в Message_"
      ],
      "metadata": {
        "id": "vN_cOql2d7Pa"
      },
      "execution_count": null,
      "outputs": []
    },
    {
      "cell_type": "code",
      "source": [
        "data['Message_'] = data['Message_'].apply(lambda word: re.sub('[\\W_]+', ' ', word)) # Уберем спец. символы"
      ],
      "metadata": {
        "id": "iVSADD6H3jaK"
      },
      "execution_count": null,
      "outputs": []
    },
    {
      "cell_type": "code",
      "source": [
        "data['messages_splitted']=data['Message_'].apply(lambda word: word.split()) # разобьем на слова"
      ],
      "metadata": {
        "id": "zjSScbk357J_"
      },
      "execution_count": null,
      "outputs": []
    },
    {
      "cell_type": "code",
      "source": [
        "nltk.download('stopwords') # Уберем стоп-слова\n",
        "stopwords_set = set(stopwords.words('english'))\n",
        "data['without_sw'] = [[word  for word in row if word not in stopwords_set ] for row in data['messages_splitted']] "
      ],
      "metadata": {
        "colab": {
          "base_uri": "https://localhost:8080/"
        },
        "id": "PTFFhA00ddGT",
        "outputId": "cbfd2e5c-e073-4652-d91a-95d1c4581560"
      },
      "execution_count": null,
      "outputs": [
        {
          "output_type": "stream",
          "name": "stderr",
          "text": [
            "[nltk_data] Downloading package stopwords to /root/nltk_data...\n",
            "[nltk_data]   Package stopwords is already up-to-date!\n"
          ]
        }
      ]
    },
    {
      "cell_type": "code",
      "source": [
        "# Произведем лемматизацию\n",
        "nltk.download('omw-1.4')\n",
        "nltk.download('wordnet')\n",
        "wordnet_lemmatizer = WordNetLemmatizer()\n",
        "data['lemmatized_text'] = [[wordnet_lemmatizer.lemmatize(word) for word in text] for text in data['without_sw'] ]"
      ],
      "metadata": {
        "colab": {
          "base_uri": "https://localhost:8080/"
        },
        "id": "AbtgLnxFfn6C",
        "outputId": "7e3533b6-548f-4fa7-c511-37105dcf64c0"
      },
      "execution_count": null,
      "outputs": [
        {
          "output_type": "stream",
          "name": "stderr",
          "text": [
            "[nltk_data] Downloading package omw-1.4 to /root/nltk_data...\n",
            "[nltk_data]   Package omw-1.4 is already up-to-date!\n",
            "[nltk_data] Downloading package wordnet to /root/nltk_data...\n",
            "[nltk_data]   Package wordnet is already up-to-date!\n"
          ]
        }
      ]
    },
    {
      "cell_type": "code",
      "source": [
        "data['message__']=[' '.join(x) for x in data['lemmatized_text']] # Получим опять текст сообщения, но без спец символов, стоп слов и приведенное к нижнему регистру"
      ],
      "metadata": {
        "id": "lUCtI8sSz65m"
      },
      "execution_count": null,
      "outputs": []
    },
    {
      "cell_type": "code",
      "source": [
        "data['Category_'] =[0 if x =='spam' else 1 for x in data.Category] # Добавим еще оин столбец Category_, в котором 1 - это ham,0 - spam"
      ],
      "metadata": {
        "id": "S96qcs4WUPqF"
      },
      "execution_count": null,
      "outputs": []
    },
    {
      "cell_type": "code",
      "source": [
        "data.loc[:,['Category','Category_']]"
      ],
      "metadata": {
        "id": "R01DDlWCKCIG",
        "colab": {
          "base_uri": "https://localhost:8080/",
          "height": 423
        },
        "outputId": "51d44867-5297-4b77-b60b-106f2e0074d5"
      },
      "execution_count": null,
      "outputs": [
        {
          "output_type": "execute_result",
          "data": {
            "text/plain": [
              "     Category  Category_\n",
              "0         ham          1\n",
              "1         ham          1\n",
              "2        spam          0\n",
              "3         ham          1\n",
              "4         ham          1\n",
              "...       ...        ...\n",
              "5567     spam          0\n",
              "5568      ham          1\n",
              "5569      ham          1\n",
              "5570      ham          1\n",
              "5571      ham          1\n",
              "\n",
              "[5572 rows x 2 columns]"
            ],
            "text/html": [
              "\n",
              "  <div id=\"df-41486606-90e1-4a36-815f-936491c52039\">\n",
              "    <div class=\"colab-df-container\">\n",
              "      <div>\n",
              "<style scoped>\n",
              "    .dataframe tbody tr th:only-of-type {\n",
              "        vertical-align: middle;\n",
              "    }\n",
              "\n",
              "    .dataframe tbody tr th {\n",
              "        vertical-align: top;\n",
              "    }\n",
              "\n",
              "    .dataframe thead th {\n",
              "        text-align: right;\n",
              "    }\n",
              "</style>\n",
              "<table border=\"1\" class=\"dataframe\">\n",
              "  <thead>\n",
              "    <tr style=\"text-align: right;\">\n",
              "      <th></th>\n",
              "      <th>Category</th>\n",
              "      <th>Category_</th>\n",
              "    </tr>\n",
              "  </thead>\n",
              "  <tbody>\n",
              "    <tr>\n",
              "      <th>0</th>\n",
              "      <td>ham</td>\n",
              "      <td>1</td>\n",
              "    </tr>\n",
              "    <tr>\n",
              "      <th>1</th>\n",
              "      <td>ham</td>\n",
              "      <td>1</td>\n",
              "    </tr>\n",
              "    <tr>\n",
              "      <th>2</th>\n",
              "      <td>spam</td>\n",
              "      <td>0</td>\n",
              "    </tr>\n",
              "    <tr>\n",
              "      <th>3</th>\n",
              "      <td>ham</td>\n",
              "      <td>1</td>\n",
              "    </tr>\n",
              "    <tr>\n",
              "      <th>4</th>\n",
              "      <td>ham</td>\n",
              "      <td>1</td>\n",
              "    </tr>\n",
              "    <tr>\n",
              "      <th>...</th>\n",
              "      <td>...</td>\n",
              "      <td>...</td>\n",
              "    </tr>\n",
              "    <tr>\n",
              "      <th>5567</th>\n",
              "      <td>spam</td>\n",
              "      <td>0</td>\n",
              "    </tr>\n",
              "    <tr>\n",
              "      <th>5568</th>\n",
              "      <td>ham</td>\n",
              "      <td>1</td>\n",
              "    </tr>\n",
              "    <tr>\n",
              "      <th>5569</th>\n",
              "      <td>ham</td>\n",
              "      <td>1</td>\n",
              "    </tr>\n",
              "    <tr>\n",
              "      <th>5570</th>\n",
              "      <td>ham</td>\n",
              "      <td>1</td>\n",
              "    </tr>\n",
              "    <tr>\n",
              "      <th>5571</th>\n",
              "      <td>ham</td>\n",
              "      <td>1</td>\n",
              "    </tr>\n",
              "  </tbody>\n",
              "</table>\n",
              "<p>5572 rows × 2 columns</p>\n",
              "</div>\n",
              "      <button class=\"colab-df-convert\" onclick=\"convertToInteractive('df-41486606-90e1-4a36-815f-936491c52039')\"\n",
              "              title=\"Convert this dataframe to an interactive table.\"\n",
              "              style=\"display:none;\">\n",
              "        \n",
              "  <svg xmlns=\"http://www.w3.org/2000/svg\" height=\"24px\"viewBox=\"0 0 24 24\"\n",
              "       width=\"24px\">\n",
              "    <path d=\"M0 0h24v24H0V0z\" fill=\"none\"/>\n",
              "    <path d=\"M18.56 5.44l.94 2.06.94-2.06 2.06-.94-2.06-.94-.94-2.06-.94 2.06-2.06.94zm-11 1L8.5 8.5l.94-2.06 2.06-.94-2.06-.94L8.5 2.5l-.94 2.06-2.06.94zm10 10l.94 2.06.94-2.06 2.06-.94-2.06-.94-.94-2.06-.94 2.06-2.06.94z\"/><path d=\"M17.41 7.96l-1.37-1.37c-.4-.4-.92-.59-1.43-.59-.52 0-1.04.2-1.43.59L10.3 9.45l-7.72 7.72c-.78.78-.78 2.05 0 2.83L4 21.41c.39.39.9.59 1.41.59.51 0 1.02-.2 1.41-.59l7.78-7.78 2.81-2.81c.8-.78.8-2.07 0-2.86zM5.41 20L4 18.59l7.72-7.72 1.47 1.35L5.41 20z\"/>\n",
              "  </svg>\n",
              "      </button>\n",
              "      \n",
              "  <style>\n",
              "    .colab-df-container {\n",
              "      display:flex;\n",
              "      flex-wrap:wrap;\n",
              "      gap: 12px;\n",
              "    }\n",
              "\n",
              "    .colab-df-convert {\n",
              "      background-color: #E8F0FE;\n",
              "      border: none;\n",
              "      border-radius: 50%;\n",
              "      cursor: pointer;\n",
              "      display: none;\n",
              "      fill: #1967D2;\n",
              "      height: 32px;\n",
              "      padding: 0 0 0 0;\n",
              "      width: 32px;\n",
              "    }\n",
              "\n",
              "    .colab-df-convert:hover {\n",
              "      background-color: #E2EBFA;\n",
              "      box-shadow: 0px 1px 2px rgba(60, 64, 67, 0.3), 0px 1px 3px 1px rgba(60, 64, 67, 0.15);\n",
              "      fill: #174EA6;\n",
              "    }\n",
              "\n",
              "    [theme=dark] .colab-df-convert {\n",
              "      background-color: #3B4455;\n",
              "      fill: #D2E3FC;\n",
              "    }\n",
              "\n",
              "    [theme=dark] .colab-df-convert:hover {\n",
              "      background-color: #434B5C;\n",
              "      box-shadow: 0px 1px 3px 1px rgba(0, 0, 0, 0.15);\n",
              "      filter: drop-shadow(0px 1px 2px rgba(0, 0, 0, 0.3));\n",
              "      fill: #FFFFFF;\n",
              "    }\n",
              "  </style>\n",
              "\n",
              "      <script>\n",
              "        const buttonEl =\n",
              "          document.querySelector('#df-41486606-90e1-4a36-815f-936491c52039 button.colab-df-convert');\n",
              "        buttonEl.style.display =\n",
              "          google.colab.kernel.accessAllowed ? 'block' : 'none';\n",
              "\n",
              "        async function convertToInteractive(key) {\n",
              "          const element = document.querySelector('#df-41486606-90e1-4a36-815f-936491c52039');\n",
              "          const dataTable =\n",
              "            await google.colab.kernel.invokeFunction('convertToInteractive',\n",
              "                                                     [key], {});\n",
              "          if (!dataTable) return;\n",
              "\n",
              "          const docLinkHtml = 'Like what you see? Visit the ' +\n",
              "            '<a target=\"_blank\" href=https://colab.research.google.com/notebooks/data_table.ipynb>data table notebook</a>'\n",
              "            + ' to learn more about interactive tables.';\n",
              "          element.innerHTML = '';\n",
              "          dataTable['output_type'] = 'display_data';\n",
              "          await google.colab.output.renderOutput(dataTable, element);\n",
              "          const docLink = document.createElement('div');\n",
              "          docLink.innerHTML = docLinkHtml;\n",
              "          element.appendChild(docLink);\n",
              "        }\n",
              "      </script>\n",
              "    </div>\n",
              "  </div>\n",
              "  "
            ]
          },
          "metadata": {},
          "execution_count": 56
        }
      ]
    },
    {
      "cell_type": "code",
      "source": [
        "data_class = data.Category_"
      ],
      "metadata": {
        "id": "ztFQQ-dAyv4t"
      },
      "execution_count": null,
      "outputs": []
    },
    {
      "cell_type": "code",
      "source": [
        "#Преобразуем все сообщения в вектора TF-IDF. \n",
        "tfidf = TfidfVectorizer() \n",
        "tfidf_matrix = tfidf.fit_transform(data['message__'])\n",
        "names = tfidf.get_feature_names_out() \n",
        "tfidf_matrix = pd.DataFrame(tfidf_matrix.toarray(), columns=names) "
      ],
      "metadata": {
        "id": "bZmBKG8Cgk4g"
      },
      "execution_count": null,
      "outputs": []
    },
    {
      "cell_type": "code",
      "source": [
        "X_train, X_test, y_train, y_test = train_test_split(tfidf_matrix, data_class, test_size=0.3, random_state=42) # разбиваем датаасет на обучающую и тестовую выборки\n",
        "lr = LogisticRegression()"
      ],
      "metadata": {
        "id": "6tW_nTcRdUnW"
      },
      "execution_count": null,
      "outputs": []
    },
    {
      "cell_type": "code",
      "source": [
        "lr.fit(X_train, y_train) # обучаем модель\n",
        "y_pred = lr.predict(X_test) # прогнозируем класс\n"
      ],
      "metadata": {
        "id": "JEgMkQ8fyi7S"
      },
      "execution_count": null,
      "outputs": []
    },
    {
      "cell_type": "code",
      "source": [
        "# смотрим разницу факта и прогноза\n",
        "result = pd.DataFrame([y_test, y_pred]).T"
      ],
      "metadata": {
        "id": "-8D5CI5CdeNp"
      },
      "execution_count": null,
      "outputs": []
    },
    {
      "cell_type": "code",
      "source": [
        "result"
      ],
      "metadata": {
        "colab": {
          "base_uri": "https://localhost:8080/",
          "height": 423
        },
        "id": "QrpDlXjeNFFJ",
        "outputId": "0557a9e3-1a40-42f7-fdd1-b08cfc8c7445"
      },
      "execution_count": null,
      "outputs": [
        {
          "output_type": "execute_result",
          "data": {
            "text/plain": [
              "      Category_  Unnamed 0\n",
              "3245        1.0        NaN\n",
              "944         1.0        1.0\n",
              "1044        1.0        1.0\n",
              "2484        1.0        NaN\n",
              "812         1.0        1.0\n",
              "...         ...        ...\n",
              "2505        1.0        NaN\n",
              "2525        0.0        NaN\n",
              "4975        1.0        NaN\n",
              "650         0.0        1.0\n",
              "4463        1.0        NaN\n",
              "\n",
              "[1672 rows x 2 columns]"
            ],
            "text/html": [
              "\n",
              "  <div id=\"df-172c7e04-b0af-4308-a6c0-db74f3d58b80\">\n",
              "    <div class=\"colab-df-container\">\n",
              "      <div>\n",
              "<style scoped>\n",
              "    .dataframe tbody tr th:only-of-type {\n",
              "        vertical-align: middle;\n",
              "    }\n",
              "\n",
              "    .dataframe tbody tr th {\n",
              "        vertical-align: top;\n",
              "    }\n",
              "\n",
              "    .dataframe thead th {\n",
              "        text-align: right;\n",
              "    }\n",
              "</style>\n",
              "<table border=\"1\" class=\"dataframe\">\n",
              "  <thead>\n",
              "    <tr style=\"text-align: right;\">\n",
              "      <th></th>\n",
              "      <th>Category_</th>\n",
              "      <th>Unnamed 0</th>\n",
              "    </tr>\n",
              "  </thead>\n",
              "  <tbody>\n",
              "    <tr>\n",
              "      <th>3245</th>\n",
              "      <td>1.0</td>\n",
              "      <td>NaN</td>\n",
              "    </tr>\n",
              "    <tr>\n",
              "      <th>944</th>\n",
              "      <td>1.0</td>\n",
              "      <td>1.0</td>\n",
              "    </tr>\n",
              "    <tr>\n",
              "      <th>1044</th>\n",
              "      <td>1.0</td>\n",
              "      <td>1.0</td>\n",
              "    </tr>\n",
              "    <tr>\n",
              "      <th>2484</th>\n",
              "      <td>1.0</td>\n",
              "      <td>NaN</td>\n",
              "    </tr>\n",
              "    <tr>\n",
              "      <th>812</th>\n",
              "      <td>1.0</td>\n",
              "      <td>1.0</td>\n",
              "    </tr>\n",
              "    <tr>\n",
              "      <th>...</th>\n",
              "      <td>...</td>\n",
              "      <td>...</td>\n",
              "    </tr>\n",
              "    <tr>\n",
              "      <th>2505</th>\n",
              "      <td>1.0</td>\n",
              "      <td>NaN</td>\n",
              "    </tr>\n",
              "    <tr>\n",
              "      <th>2525</th>\n",
              "      <td>0.0</td>\n",
              "      <td>NaN</td>\n",
              "    </tr>\n",
              "    <tr>\n",
              "      <th>4975</th>\n",
              "      <td>1.0</td>\n",
              "      <td>NaN</td>\n",
              "    </tr>\n",
              "    <tr>\n",
              "      <th>650</th>\n",
              "      <td>0.0</td>\n",
              "      <td>1.0</td>\n",
              "    </tr>\n",
              "    <tr>\n",
              "      <th>4463</th>\n",
              "      <td>1.0</td>\n",
              "      <td>NaN</td>\n",
              "    </tr>\n",
              "  </tbody>\n",
              "</table>\n",
              "<p>1672 rows × 2 columns</p>\n",
              "</div>\n",
              "      <button class=\"colab-df-convert\" onclick=\"convertToInteractive('df-172c7e04-b0af-4308-a6c0-db74f3d58b80')\"\n",
              "              title=\"Convert this dataframe to an interactive table.\"\n",
              "              style=\"display:none;\">\n",
              "        \n",
              "  <svg xmlns=\"http://www.w3.org/2000/svg\" height=\"24px\"viewBox=\"0 0 24 24\"\n",
              "       width=\"24px\">\n",
              "    <path d=\"M0 0h24v24H0V0z\" fill=\"none\"/>\n",
              "    <path d=\"M18.56 5.44l.94 2.06.94-2.06 2.06-.94-2.06-.94-.94-2.06-.94 2.06-2.06.94zm-11 1L8.5 8.5l.94-2.06 2.06-.94-2.06-.94L8.5 2.5l-.94 2.06-2.06.94zm10 10l.94 2.06.94-2.06 2.06-.94-2.06-.94-.94-2.06-.94 2.06-2.06.94z\"/><path d=\"M17.41 7.96l-1.37-1.37c-.4-.4-.92-.59-1.43-.59-.52 0-1.04.2-1.43.59L10.3 9.45l-7.72 7.72c-.78.78-.78 2.05 0 2.83L4 21.41c.39.39.9.59 1.41.59.51 0 1.02-.2 1.41-.59l7.78-7.78 2.81-2.81c.8-.78.8-2.07 0-2.86zM5.41 20L4 18.59l7.72-7.72 1.47 1.35L5.41 20z\"/>\n",
              "  </svg>\n",
              "      </button>\n",
              "      \n",
              "  <style>\n",
              "    .colab-df-container {\n",
              "      display:flex;\n",
              "      flex-wrap:wrap;\n",
              "      gap: 12px;\n",
              "    }\n",
              "\n",
              "    .colab-df-convert {\n",
              "      background-color: #E8F0FE;\n",
              "      border: none;\n",
              "      border-radius: 50%;\n",
              "      cursor: pointer;\n",
              "      display: none;\n",
              "      fill: #1967D2;\n",
              "      height: 32px;\n",
              "      padding: 0 0 0 0;\n",
              "      width: 32px;\n",
              "    }\n",
              "\n",
              "    .colab-df-convert:hover {\n",
              "      background-color: #E2EBFA;\n",
              "      box-shadow: 0px 1px 2px rgba(60, 64, 67, 0.3), 0px 1px 3px 1px rgba(60, 64, 67, 0.15);\n",
              "      fill: #174EA6;\n",
              "    }\n",
              "\n",
              "    [theme=dark] .colab-df-convert {\n",
              "      background-color: #3B4455;\n",
              "      fill: #D2E3FC;\n",
              "    }\n",
              "\n",
              "    [theme=dark] .colab-df-convert:hover {\n",
              "      background-color: #434B5C;\n",
              "      box-shadow: 0px 1px 3px 1px rgba(0, 0, 0, 0.15);\n",
              "      filter: drop-shadow(0px 1px 2px rgba(0, 0, 0, 0.3));\n",
              "      fill: #FFFFFF;\n",
              "    }\n",
              "  </style>\n",
              "\n",
              "      <script>\n",
              "        const buttonEl =\n",
              "          document.querySelector('#df-172c7e04-b0af-4308-a6c0-db74f3d58b80 button.colab-df-convert');\n",
              "        buttonEl.style.display =\n",
              "          google.colab.kernel.accessAllowed ? 'block' : 'none';\n",
              "\n",
              "        async function convertToInteractive(key) {\n",
              "          const element = document.querySelector('#df-172c7e04-b0af-4308-a6c0-db74f3d58b80');\n",
              "          const dataTable =\n",
              "            await google.colab.kernel.invokeFunction('convertToInteractive',\n",
              "                                                     [key], {});\n",
              "          if (!dataTable) return;\n",
              "\n",
              "          const docLinkHtml = 'Like what you see? Visit the ' +\n",
              "            '<a target=\"_blank\" href=https://colab.research.google.com/notebooks/data_table.ipynb>data table notebook</a>'\n",
              "            + ' to learn more about interactive tables.';\n",
              "          element.innerHTML = '';\n",
              "          dataTable['output_type'] = 'display_data';\n",
              "          await google.colab.output.renderOutput(dataTable, element);\n",
              "          const docLink = document.createElement('div');\n",
              "          docLink.innerHTML = docLinkHtml;\n",
              "          element.appendChild(docLink);\n",
              "        }\n",
              "      </script>\n",
              "    </div>\n",
              "  </div>\n",
              "  "
            ]
          },
          "metadata": {},
          "execution_count": 68
        }
      ]
    },
    {
      "cell_type": "code",
      "source": [
        "result.rename(columns ={0: 'Category_test', 1: 'Category_predict'}, inplace = True)"
      ],
      "metadata": {
        "id": "sNwVGRPNHc73"
      },
      "execution_count": null,
      "outputs": []
    },
    {
      "cell_type": "code",
      "source": [
        "result['Category_test']= ['ham' if x == 1 else 'spam' for x in result['Category_test']]"
      ],
      "metadata": {
        "id": "-HeDf5xCIisP"
      },
      "execution_count": null,
      "outputs": []
    },
    {
      "cell_type": "code",
      "source": [
        "result['Category_predict']= ['ham' if x == 1 else 'spam' for x in result['Category_predict']]"
      ],
      "metadata": {
        "id": "DoR7QMDFI1N7"
      },
      "execution_count": null,
      "outputs": []
    },
    {
      "cell_type": "code",
      "source": [
        "model_errors =result[result['Category_test']!=result['Category_predict']]\n",
        "model_errors"
      ],
      "metadata": {
        "colab": {
          "base_uri": "https://localhost:8080/",
          "height": 423
        },
        "id": "JNrWAnQrHvyq",
        "outputId": "444c744c-879b-4659-b8fe-831dacc215d2"
      },
      "execution_count": null,
      "outputs": [
        {
          "output_type": "execute_result",
          "data": {
            "text/plain": [
              "     Category_test Category_predict\n",
              "17             ham             spam\n",
              "40            spam              ham\n",
              "47            spam              ham\n",
              "74            spam              ham\n",
              "84            spam              ham\n",
              "...            ...              ...\n",
              "1525          spam              ham\n",
              "1567          spam              ham\n",
              "1569          spam              ham\n",
              "1576           ham             spam\n",
              "1586          spam              ham\n",
              "\n",
              "[69 rows x 2 columns]"
            ],
            "text/html": [
              "\n",
              "  <div id=\"df-118e8baa-bd39-47e4-8aa0-6d5adde94571\">\n",
              "    <div class=\"colab-df-container\">\n",
              "      <div>\n",
              "<style scoped>\n",
              "    .dataframe tbody tr th:only-of-type {\n",
              "        vertical-align: middle;\n",
              "    }\n",
              "\n",
              "    .dataframe tbody tr th {\n",
              "        vertical-align: top;\n",
              "    }\n",
              "\n",
              "    .dataframe thead th {\n",
              "        text-align: right;\n",
              "    }\n",
              "</style>\n",
              "<table border=\"1\" class=\"dataframe\">\n",
              "  <thead>\n",
              "    <tr style=\"text-align: right;\">\n",
              "      <th></th>\n",
              "      <th>Category_test</th>\n",
              "      <th>Category_predict</th>\n",
              "    </tr>\n",
              "  </thead>\n",
              "  <tbody>\n",
              "    <tr>\n",
              "      <th>17</th>\n",
              "      <td>ham</td>\n",
              "      <td>spam</td>\n",
              "    </tr>\n",
              "    <tr>\n",
              "      <th>40</th>\n",
              "      <td>spam</td>\n",
              "      <td>ham</td>\n",
              "    </tr>\n",
              "    <tr>\n",
              "      <th>47</th>\n",
              "      <td>spam</td>\n",
              "      <td>ham</td>\n",
              "    </tr>\n",
              "    <tr>\n",
              "      <th>74</th>\n",
              "      <td>spam</td>\n",
              "      <td>ham</td>\n",
              "    </tr>\n",
              "    <tr>\n",
              "      <th>84</th>\n",
              "      <td>spam</td>\n",
              "      <td>ham</td>\n",
              "    </tr>\n",
              "    <tr>\n",
              "      <th>...</th>\n",
              "      <td>...</td>\n",
              "      <td>...</td>\n",
              "    </tr>\n",
              "    <tr>\n",
              "      <th>1525</th>\n",
              "      <td>spam</td>\n",
              "      <td>ham</td>\n",
              "    </tr>\n",
              "    <tr>\n",
              "      <th>1567</th>\n",
              "      <td>spam</td>\n",
              "      <td>ham</td>\n",
              "    </tr>\n",
              "    <tr>\n",
              "      <th>1569</th>\n",
              "      <td>spam</td>\n",
              "      <td>ham</td>\n",
              "    </tr>\n",
              "    <tr>\n",
              "      <th>1576</th>\n",
              "      <td>ham</td>\n",
              "      <td>spam</td>\n",
              "    </tr>\n",
              "    <tr>\n",
              "      <th>1586</th>\n",
              "      <td>spam</td>\n",
              "      <td>ham</td>\n",
              "    </tr>\n",
              "  </tbody>\n",
              "</table>\n",
              "<p>69 rows × 2 columns</p>\n",
              "</div>\n",
              "      <button class=\"colab-df-convert\" onclick=\"convertToInteractive('df-118e8baa-bd39-47e4-8aa0-6d5adde94571')\"\n",
              "              title=\"Convert this dataframe to an interactive table.\"\n",
              "              style=\"display:none;\">\n",
              "        \n",
              "  <svg xmlns=\"http://www.w3.org/2000/svg\" height=\"24px\"viewBox=\"0 0 24 24\"\n",
              "       width=\"24px\">\n",
              "    <path d=\"M0 0h24v24H0V0z\" fill=\"none\"/>\n",
              "    <path d=\"M18.56 5.44l.94 2.06.94-2.06 2.06-.94-2.06-.94-.94-2.06-.94 2.06-2.06.94zm-11 1L8.5 8.5l.94-2.06 2.06-.94-2.06-.94L8.5 2.5l-.94 2.06-2.06.94zm10 10l.94 2.06.94-2.06 2.06-.94-2.06-.94-.94-2.06-.94 2.06-2.06.94z\"/><path d=\"M17.41 7.96l-1.37-1.37c-.4-.4-.92-.59-1.43-.59-.52 0-1.04.2-1.43.59L10.3 9.45l-7.72 7.72c-.78.78-.78 2.05 0 2.83L4 21.41c.39.39.9.59 1.41.59.51 0 1.02-.2 1.41-.59l7.78-7.78 2.81-2.81c.8-.78.8-2.07 0-2.86zM5.41 20L4 18.59l7.72-7.72 1.47 1.35L5.41 20z\"/>\n",
              "  </svg>\n",
              "      </button>\n",
              "      \n",
              "  <style>\n",
              "    .colab-df-container {\n",
              "      display:flex;\n",
              "      flex-wrap:wrap;\n",
              "      gap: 12px;\n",
              "    }\n",
              "\n",
              "    .colab-df-convert {\n",
              "      background-color: #E8F0FE;\n",
              "      border: none;\n",
              "      border-radius: 50%;\n",
              "      cursor: pointer;\n",
              "      display: none;\n",
              "      fill: #1967D2;\n",
              "      height: 32px;\n",
              "      padding: 0 0 0 0;\n",
              "      width: 32px;\n",
              "    }\n",
              "\n",
              "    .colab-df-convert:hover {\n",
              "      background-color: #E2EBFA;\n",
              "      box-shadow: 0px 1px 2px rgba(60, 64, 67, 0.3), 0px 1px 3px 1px rgba(60, 64, 67, 0.15);\n",
              "      fill: #174EA6;\n",
              "    }\n",
              "\n",
              "    [theme=dark] .colab-df-convert {\n",
              "      background-color: #3B4455;\n",
              "      fill: #D2E3FC;\n",
              "    }\n",
              "\n",
              "    [theme=dark] .colab-df-convert:hover {\n",
              "      background-color: #434B5C;\n",
              "      box-shadow: 0px 1px 3px 1px rgba(0, 0, 0, 0.15);\n",
              "      filter: drop-shadow(0px 1px 2px rgba(0, 0, 0, 0.3));\n",
              "      fill: #FFFFFF;\n",
              "    }\n",
              "  </style>\n",
              "\n",
              "      <script>\n",
              "        const buttonEl =\n",
              "          document.querySelector('#df-118e8baa-bd39-47e4-8aa0-6d5adde94571 button.colab-df-convert');\n",
              "        buttonEl.style.display =\n",
              "          google.colab.kernel.accessAllowed ? 'block' : 'none';\n",
              "\n",
              "        async function convertToInteractive(key) {\n",
              "          const element = document.querySelector('#df-118e8baa-bd39-47e4-8aa0-6d5adde94571');\n",
              "          const dataTable =\n",
              "            await google.colab.kernel.invokeFunction('convertToInteractive',\n",
              "                                                     [key], {});\n",
              "          if (!dataTable) return;\n",
              "\n",
              "          const docLinkHtml = 'Like what you see? Visit the ' +\n",
              "            '<a target=\"_blank\" href=https://colab.research.google.com/notebooks/data_table.ipynb>data table notebook</a>'\n",
              "            + ' to learn more about interactive tables.';\n",
              "          element.innerHTML = '';\n",
              "          dataTable['output_type'] = 'display_data';\n",
              "          await google.colab.output.renderOutput(dataTable, element);\n",
              "          const docLink = document.createElement('div');\n",
              "          docLink.innerHTML = docLinkHtml;\n",
              "          element.appendChild(docLink);\n",
              "        }\n",
              "      </script>\n",
              "    </div>\n",
              "  </div>\n",
              "  "
            ]
          },
          "metadata": {},
          "execution_count": 254
        }
      ]
    },
    {
      "cell_type": "code",
      "source": [
        "data.iloc[40]"
      ],
      "metadata": {
        "id": "FTtPvRvuMlWT"
      },
      "execution_count": null,
      "outputs": []
    },
    {
      "cell_type": "code",
      "source": [
        "bad_index = list(result[result['Category_test']!=result['Category_predict']].index) # 'это индексы неверно расклассифицированных сообщений"
      ],
      "metadata": {
        "id": "I-aOwB_H6cpC"
      },
      "execution_count": null,
      "outputs": []
    },
    {
      "cell_type": "code",
      "source": [
        "print('Количество сообщений с неправильно определенными классами: ', len(result[result['Category_test']!=result['Category_predict']]))"
      ],
      "metadata": {
        "colab": {
          "base_uri": "https://localhost:8080/"
        },
        "id": "PliMQYbi5jl3",
        "outputId": "1a45d165-86ec-4d47-afb3-9bcffa9c67ad"
      },
      "execution_count": null,
      "outputs": [
        {
          "output_type": "stream",
          "name": "stdout",
          "text": [
            "Количество сообщений с неправильно определенными классами:  69\n"
          ]
        }
      ]
    },
    {
      "cell_type": "code",
      "source": [
        "# вероятность принадлежности к тому или иному классу\n",
        "accuracy_score(y_test, lr.predict(X_test))"
      ],
      "metadata": {
        "colab": {
          "base_uri": "https://localhost:8080/"
        },
        "id": "9QuGdlsqTY3l",
        "outputId": "6884b494-759a-4474-f33f-fa95a189c015"
      },
      "execution_count": null,
      "outputs": [
        {
          "output_type": "execute_result",
          "data": {
            "text/plain": [
              "0.958732057416268"
            ]
          },
          "metadata": {},
          "execution_count": 179
        }
      ]
    },
    {
      "cell_type": "code",
      "source": [
        "lr.coef_ # коэффициенты модели"
      ],
      "metadata": {
        "colab": {
          "base_uri": "https://localhost:8080/"
        },
        "id": "0GMJpKOKVsot",
        "outputId": "672479b2-6dde-4820-b9b5-2415c966d297"
      },
      "execution_count": null,
      "outputs": [
        {
          "output_type": "execute_result",
          "data": {
            "text/plain": [
              "array([[-0.58216516, -1.21942988,  0.01735009, ...,  0.01412007,\n",
              "         0.        ,  0.        ]])"
            ]
          },
          "metadata": {},
          "execution_count": 180
        }
      ]
    },
    {
      "cell_type": "code",
      "source": [
        "font = {'size' : 15}\n",
        "plt.rc('font', **font)\n",
        "\n",
        "cnf_matrix = confusion_matrix(y_test, lr.predict(X_test))\n",
        "plt.figure(figsize=(10, 8))\n",
        "plot_confusion_matrix(cnf_matrix, classes=['ham', 'spam'],\n",
        "                      title='Confusion matrix')\n",
        "plt.savefig(\"conf_matrix.png\")\n",
        "plt.show()"
      ],
      "metadata": {
        "colab": {
          "base_uri": "https://localhost:8080/",
          "height": 648
        },
        "id": "JE5nYVtq33G8",
        "outputId": "75c5b862-8050-45fc-e7e0-87ff9b87e43f"
      },
      "execution_count": null,
      "outputs": [
        {
          "output_type": "stream",
          "name": "stdout",
          "text": [
            "Confusion matrix, without normalization\n",
            "[[ 158   66]\n",
            " [   3 1445]]\n"
          ]
        },
        {
          "output_type": "display_data",
          "data": {
            "text/plain": [
              "<Figure size 720x576 with 2 Axes>"
            ],
            "image/png": "[encoded data removed]"
          },
          "metadata": {
            "needs_background": "light"
          }
        }
      ]
    },
    {
      "cell_type": "code",
      "source": [
        "my_result(cnf_matrix)"
      ],
      "metadata": {
        "colab": {
          "base_uri": "https://localhost:8080/"
        },
        "id": "tJnEaupL5cXK",
        "outputId": "c5274510-e4f2-4fbe-9cae-2261f9a2d65f"
      },
      "execution_count": null,
      "outputs": [
        {
          "output_type": "stream",
          "name": "stdout",
          "text": [
            "Модель логистической регрессии - результат работы: \n",
            " Ошибки 1 рода (FP): 66, ошибки 2 рода (FN): 3 \n",
            "точность модели (precision): 0.9563203176704169, полнота (recall): 0.9979281767955801\n"
          ]
        }
      ]
    },
    {
      "cell_type": "code",
      "source": [
        "data = df.copy()"
      ],
      "metadata": {
        "id": "DhGajPg66Mtj"
      },
      "execution_count": null,
      "outputs": []
    },
    {
      "cell_type": "code",
      "source": [],
      "metadata": {
        "id": "lzpV49xsLtbu"
      },
      "execution_count": null,
      "outputs": []
    },
    {
      "cell_type": "code",
      "source": [
        "model_errors.join(data, how = 'left')"
      ],
      "metadata": {
        "colab": {
          "base_uri": "https://localhost:8080/",
          "height": 423
        },
        "id": "UVCjAElMJBOh",
        "outputId": "8ab89dda-3029-479d-a3cf-35e86cd5878f"
      },
      "execution_count": null,
      "outputs": [
        {
          "output_type": "execute_result",
          "data": {
            "text/plain": [
              "     Category_test Category_predict Category  \\\n",
              "17             ham             spam      ham   \n",
              "40            spam              ham      ham   \n",
              "47            spam              ham      ham   \n",
              "74            spam              ham      ham   \n",
              "84            spam              ham      ham   \n",
              "...            ...              ...      ...   \n",
              "1525          spam              ham      ham   \n",
              "1567          spam              ham      ham   \n",
              "1569          spam              ham      ham   \n",
              "1576           ham             spam      ham   \n",
              "1586          spam              ham      ham   \n",
              "\n",
              "                                                Message  \n",
              "17    Eh u remember how 2 spell his name... Yes i di...  \n",
              "40    Pls go ahead with watts. I just wanted to be s...  \n",
              "47                      Fair enough, anything going on?  \n",
              "74                                 U can call me now...  \n",
              "84                                       Yup next stop.  \n",
              "...                                                 ...  \n",
              "1525                      Hi:)cts employee how are you?  \n",
              "1567                      I am late. I will be there at  \n",
              "1569  Today is ACCEPT DAY..U Accept me as? Brother S...  \n",
              "1576  Sounds gd... Haha... Can... Wah, u yan jiu so ...  \n",
              "1586  I was wondering if it would be okay for you to...  \n",
              "\n",
              "[69 rows x 4 columns]"
            ],
            "text/html": [
              "\n",
              "  <div id=\"df-7dfbeceb-db74-4f54-b28e-19f91c3fe3a0\">\n",
              "    <div class=\"colab-df-container\">\n",
              "      <div>\n",
              "<style scoped>\n",
              "    .dataframe tbody tr th:only-of-type {\n",
              "        vertical-align: middle;\n",
              "    }\n",
              "\n",
              "    .dataframe tbody tr th {\n",
              "        vertical-align: top;\n",
              "    }\n",
              "\n",
              "    .dataframe thead th {\n",
              "        text-align: right;\n",
              "    }\n",
              "</style>\n",
              "<table border=\"1\" class=\"dataframe\">\n",
              "  <thead>\n",
              "    <tr style=\"text-align: right;\">\n",
              "      <th></th>\n",
              "      <th>Category_test</th>\n",
              "      <th>Category_predict</th>\n",
              "      <th>Category</th>\n",
              "      <th>Message</th>\n",
              "    </tr>\n",
              "  </thead>\n",
              "  <tbody>\n",
              "    <tr>\n",
              "      <th>17</th>\n",
              "      <td>ham</td>\n",
              "      <td>spam</td>\n",
              "      <td>ham</td>\n",
              "      <td>Eh u remember how 2 spell his name... Yes i di...</td>\n",
              "    </tr>\n",
              "    <tr>\n",
              "      <th>40</th>\n",
              "      <td>spam</td>\n",
              "      <td>ham</td>\n",
              "      <td>ham</td>\n",
              "      <td>Pls go ahead with watts. I just wanted to be s...</td>\n",
              "    </tr>\n",
              "    <tr>\n",
              "      <th>47</th>\n",
              "      <td>spam</td>\n",
              "      <td>ham</td>\n",
              "      <td>ham</td>\n",
              "      <td>Fair enough, anything going on?</td>\n",
              "    </tr>\n",
              "    <tr>\n",
              "      <th>74</th>\n",
              "      <td>spam</td>\n",
              "      <td>ham</td>\n",
              "      <td>ham</td>\n",
              "      <td>U can call me now...</td>\n",
              "    </tr>\n",
              "    <tr>\n",
              "      <th>84</th>\n",
              "      <td>spam</td>\n",
              "      <td>ham</td>\n",
              "      <td>ham</td>\n",
              "      <td>Yup next stop.</td>\n",
              "    </tr>\n",
              "    <tr>\n",
              "      <th>...</th>\n",
              "      <td>...</td>\n",
              "      <td>...</td>\n",
              "      <td>...</td>\n",
              "      <td>...</td>\n",
              "    </tr>\n",
              "    <tr>\n",
              "      <th>1525</th>\n",
              "      <td>spam</td>\n",
              "      <td>ham</td>\n",
              "      <td>ham</td>\n",
              "      <td>Hi:)cts employee how are you?</td>\n",
              "    </tr>\n",
              "    <tr>\n",
              "      <th>1567</th>\n",
              "      <td>spam</td>\n",
              "      <td>ham</td>\n",
              "      <td>ham</td>\n",
              "      <td>I am late. I will be there at</td>\n",
              "    </tr>\n",
              "    <tr>\n",
              "      <th>1569</th>\n",
              "      <td>spam</td>\n",
              "      <td>ham</td>\n",
              "      <td>ham</td>\n",
              "      <td>Today is ACCEPT DAY..U Accept me as? Brother S...</td>\n",
              "    </tr>\n",
              "    <tr>\n",
              "      <th>1576</th>\n",
              "      <td>ham</td>\n",
              "      <td>spam</td>\n",
              "      <td>ham</td>\n",
              "      <td>Sounds gd... Haha... Can... Wah, u yan jiu so ...</td>\n",
              "    </tr>\n",
              "    <tr>\n",
              "      <th>1586</th>\n",
              "      <td>spam</td>\n",
              "      <td>ham</td>\n",
              "      <td>ham</td>\n",
              "      <td>I was wondering if it would be okay for you to...</td>\n",
              "    </tr>\n",
              "  </tbody>\n",
              "</table>\n",
              "<p>69 rows × 4 columns</p>\n",
              "</div>\n",
              "      <button class=\"colab-df-convert\" onclick=\"convertToInteractive('df-7dfbeceb-db74-4f54-b28e-19f91c3fe3a0')\"\n",
              "              title=\"Convert this dataframe to an interactive table.\"\n",
              "              style=\"display:none;\">\n",
              "        \n",
              "  <svg xmlns=\"http://www.w3.org/2000/svg\" height=\"24px\"viewBox=\"0 0 24 24\"\n",
              "       width=\"24px\">\n",
              "    <path d=\"M0 0h24v24H0V0z\" fill=\"none\"/>\n",
              "    <path d=\"M18.56 5.44l.94 2.06.94-2.06 2.06-.94-2.06-.94-.94-2.06-.94 2.06-2.06.94zm-11 1L8.5 8.5l.94-2.06 2.06-.94-2.06-.94L8.5 2.5l-.94 2.06-2.06.94zm10 10l.94 2.06.94-2.06 2.06-.94-2.06-.94-.94-2.06-.94 2.06-2.06.94z\"/><path d=\"M17.41 7.96l-1.37-1.37c-.4-.4-.92-.59-1.43-.59-.52 0-1.04.2-1.43.59L10.3 9.45l-7.72 7.72c-.78.78-.78 2.05 0 2.83L4 21.41c.39.39.9.59 1.41.59.51 0 1.02-.2 1.41-.59l7.78-7.78 2.81-2.81c.8-.78.8-2.07 0-2.86zM5.41 20L4 18.59l7.72-7.72 1.47 1.35L5.41 20z\"/>\n",
              "  </svg>\n",
              "      </button>\n",
              "      \n",
              "  <style>\n",
              "    .colab-df-container {\n",
              "      display:flex;\n",
              "      flex-wrap:wrap;\n",
              "      gap: 12px;\n",
              "    }\n",
              "\n",
              "    .colab-df-convert {\n",
              "      background-color: #E8F0FE;\n",
              "      border: none;\n",
              "      border-radius: 50%;\n",
              "      cursor: pointer;\n",
              "      display: none;\n",
              "      fill: #1967D2;\n",
              "      height: 32px;\n",
              "      padding: 0 0 0 0;\n",
              "      width: 32px;\n",
              "    }\n",
              "\n",
              "    .colab-df-convert:hover {\n",
              "      background-color: #E2EBFA;\n",
              "      box-shadow: 0px 1px 2px rgba(60, 64, 67, 0.3), 0px 1px 3px 1px rgba(60, 64, 67, 0.15);\n",
              "      fill: #174EA6;\n",
              "    }\n",
              "\n",
              "    [theme=dark] .colab-df-convert {\n",
              "      background-color: #3B4455;\n",
              "      fill: #D2E3FC;\n",
              "    }\n",
              "\n",
              "    [theme=dark] .colab-df-convert:hover {\n",
              "      background-color: #434B5C;\n",
              "      box-shadow: 0px 1px 3px 1px rgba(0, 0, 0, 0.15);\n",
              "      filter: drop-shadow(0px 1px 2px rgba(0, 0, 0, 0.3));\n",
              "      fill: #FFFFFF;\n",
              "    }\n",
              "  </style>\n",
              "\n",
              "      <script>\n",
              "        const buttonEl =\n",
              "          document.querySelector('#df-7dfbeceb-db74-4f54-b28e-19f91c3fe3a0 button.colab-df-convert');\n",
              "        buttonEl.style.display =\n",
              "          google.colab.kernel.accessAllowed ? 'block' : 'none';\n",
              "\n",
              "        async function convertToInteractive(key) {\n",
              "          const element = document.querySelector('#df-7dfbeceb-db74-4f54-b28e-19f91c3fe3a0');\n",
              "          const dataTable =\n",
              "            await google.colab.kernel.invokeFunction('convertToInteractive',\n",
              "                                                     [key], {});\n",
              "          if (!dataTable) return;\n",
              "\n",
              "          const docLinkHtml = 'Like what you see? Visit the ' +\n",
              "            '<a target=\"_blank\" href=https://colab.research.google.com/notebooks/data_table.ipynb>data table notebook</a>'\n",
              "            + ' to learn more about interactive tables.';\n",
              "          element.innerHTML = '';\n",
              "          dataTable['output_type'] = 'display_data';\n",
              "          await google.colab.output.renderOutput(dataTable, element);\n",
              "          const docLink = document.createElement('div');\n",
              "          docLink.innerHTML = docLinkHtml;\n",
              "          element.appendChild(docLink);\n",
              "        }\n",
              "      </script>\n",
              "    </div>\n",
              "  </div>\n",
              "  "
            ]
          },
          "metadata": {},
          "execution_count": 253
        }
      ]
    },
    {
      "cell_type": "markdown",
      "source": [
        "## Что, если не делать предобработку исходных данных, а поручить все модели?"
      ],
      "metadata": {
        "id": "-VHGHibEdop6"
      }
    },
    {
      "cell_type": "code",
      "source": [
        "# Попробуем поработать сразу на исходных данных\n",
        " \n",
        "tfidf = TfidfVectorizer(strip_accents = 'unicode', lowercase = True, stop_words ={'english'}, ngram_range =(1,1))\n",
        "tfidf_matrix = tfidf.fit_transform(data['Message'])\n",
        "names = tfidf.get_feature_names_out() \n",
        "tfidf_matrix = pd.DataFrame(tfidf_matrix.toarray(), columns=names) "
      ],
      "metadata": {
        "id": "KXsQmjSqbfhz"
      },
      "execution_count": null,
      "outputs": []
    },
    {
      "cell_type": "code",
      "source": [
        "X_train, X_test, y_train, y_test = train_test_split(tfidf_matrix, data_class, test_size=0.3, random_state=42) # разбиваем датаасет на обучающую и тестовую выборки\n",
        "lr = LogisticRegression(solver = 'liblinear', penalty ='l1')"
      ],
      "metadata": {
        "id": "_Hj3a7vMTyGL"
      },
      "execution_count": null,
      "outputs": []
    },
    {
      "cell_type": "code",
      "source": [
        "lr.fit(X_train, y_train) # обучаем модель\n",
        "y_pred = lr.predict(X_test) # прогнозируем класс\n",
        "y_pred\n"
      ],
      "metadata": {
        "colab": {
          "base_uri": "https://localhost:8080/"
        },
        "outputId": "3f04f776-4d96-4bb0-f299-26614ef058e6",
        "id": "Hr-oVRh-da1w"
      },
      "execution_count": null,
      "outputs": [
        {
          "output_type": "execute_result",
          "data": {
            "text/plain": [
              "array([1, 1, 1, ..., 1, 0, 1])"
            ]
          },
          "metadata": {},
          "execution_count": 87
        }
      ]
    },
    {
      "cell_type": "code",
      "source": [
        "# смотрим разницу факта и прогноза\n",
        "result = pd.DataFrame([y_test, y_pred]).T\n",
        "result\n"
      ],
      "metadata": {
        "id": "UJKEEkRb4sH-",
        "colab": {
          "base_uri": "https://localhost:8080/",
          "height": 423
        },
        "outputId": "fff53a02-5707-436d-cd3c-74753ad61a71"
      },
      "execution_count": null,
      "outputs": [
        {
          "output_type": "execute_result",
          "data": {
            "text/plain": [
              "      0  1\n",
              "0     1  1\n",
              "1     1  1\n",
              "2     1  1\n",
              "3     1  1\n",
              "4     1  1\n",
              "...  .. ..\n",
              "1667  1  1\n",
              "1668  0  0\n",
              "1669  1  1\n",
              "1670  0  0\n",
              "1671  1  1\n",
              "\n",
              "[1672 rows x 2 columns]"
            ],
            "text/html": [
              "\n",
              "  <div id=\"df-0e26232f-9037-4e0b-b122-376358240d30\">\n",
              "    <div class=\"colab-df-container\">\n",
              "      <div>\n",
              "<style scoped>\n",
              "    .dataframe tbody tr th:only-of-type {\n",
              "        vertical-align: middle;\n",
              "    }\n",
              "\n",
              "    .dataframe tbody tr th {\n",
              "        vertical-align: top;\n",
              "    }\n",
              "\n",
              "    .dataframe thead th {\n",
              "        text-align: right;\n",
              "    }\n",
              "</style>\n",
              "<table border=\"1\" class=\"dataframe\">\n",
              "  <thead>\n",
              "    <tr style=\"text-align: right;\">\n",
              "      <th></th>\n",
              "      <th>0</th>\n",
              "      <th>1</th>\n",
              "    </tr>\n",
              "  </thead>\n",
              "  <tbody>\n",
              "    <tr>\n",
              "      <th>0</th>\n",
              "      <td>1</td>\n",
              "      <td>1</td>\n",
              "    </tr>\n",
              "    <tr>\n",
              "      <th>1</th>\n",
              "      <td>1</td>\n",
              "      <td>1</td>\n",
              "    </tr>\n",
              "    <tr>\n",
              "      <th>2</th>\n",
              "      <td>1</td>\n",
              "      <td>1</td>\n",
              "    </tr>\n",
              "    <tr>\n",
              "      <th>3</th>\n",
              "      <td>1</td>\n",
              "      <td>1</td>\n",
              "    </tr>\n",
              "    <tr>\n",
              "      <th>4</th>\n",
              "      <td>1</td>\n",
              "      <td>1</td>\n",
              "    </tr>\n",
              "    <tr>\n",
              "      <th>...</th>\n",
              "      <td>...</td>\n",
              "      <td>...</td>\n",
              "    </tr>\n",
              "    <tr>\n",
              "      <th>1667</th>\n",
              "      <td>1</td>\n",
              "      <td>1</td>\n",
              "    </tr>\n",
              "    <tr>\n",
              "      <th>1668</th>\n",
              "      <td>0</td>\n",
              "      <td>0</td>\n",
              "    </tr>\n",
              "    <tr>\n",
              "      <th>1669</th>\n",
              "      <td>1</td>\n",
              "      <td>1</td>\n",
              "    </tr>\n",
              "    <tr>\n",
              "      <th>1670</th>\n",
              "      <td>0</td>\n",
              "      <td>0</td>\n",
              "    </tr>\n",
              "    <tr>\n",
              "      <th>1671</th>\n",
              "      <td>1</td>\n",
              "      <td>1</td>\n",
              "    </tr>\n",
              "  </tbody>\n",
              "</table>\n",
              "<p>1672 rows × 2 columns</p>\n",
              "</div>\n",
              "      <button class=\"colab-df-convert\" onclick=\"convertToInteractive('df-0e26232f-9037-4e0b-b122-376358240d30')\"\n",
              "              title=\"Convert this dataframe to an interactive table.\"\n",
              "              style=\"display:none;\">\n",
              "        \n",
              "  <svg xmlns=\"http://www.w3.org/2000/svg\" height=\"24px\"viewBox=\"0 0 24 24\"\n",
              "       width=\"24px\">\n",
              "    <path d=\"M0 0h24v24H0V0z\" fill=\"none\"/>\n",
              "    <path d=\"M18.56 5.44l.94 2.06.94-2.06 2.06-.94-2.06-.94-.94-2.06-.94 2.06-2.06.94zm-11 1L8.5 8.5l.94-2.06 2.06-.94-2.06-.94L8.5 2.5l-.94 2.06-2.06.94zm10 10l.94 2.06.94-2.06 2.06-.94-2.06-.94-.94-2.06-.94 2.06-2.06.94z\"/><path d=\"M17.41 7.96l-1.37-1.37c-.4-.4-.92-.59-1.43-.59-.52 0-1.04.2-1.43.59L10.3 9.45l-7.72 7.72c-.78.78-.78 2.05 0 2.83L4 21.41c.39.39.9.59 1.41.59.51 0 1.02-.2 1.41-.59l7.78-7.78 2.81-2.81c.8-.78.8-2.07 0-2.86zM5.41 20L4 18.59l7.72-7.72 1.47 1.35L5.41 20z\"/>\n",
              "  </svg>\n",
              "      </button>\n",
              "      \n",
              "  <style>\n",
              "    .colab-df-container {\n",
              "      display:flex;\n",
              "      flex-wrap:wrap;\n",
              "      gap: 12px;\n",
              "    }\n",
              "\n",
              "    .colab-df-convert {\n",
              "      background-color: #E8F0FE;\n",
              "      border: none;\n",
              "      border-radius: 50%;\n",
              "      cursor: pointer;\n",
              "      display: none;\n",
              "      fill: #1967D2;\n",
              "      height: 32px;\n",
              "      padding: 0 0 0 0;\n",
              "      width: 32px;\n",
              "    }\n",
              "\n",
              "    .colab-df-convert:hover {\n",
              "      background-color: #E2EBFA;\n",
              "      box-shadow: 0px 1px 2px rgba(60, 64, 67, 0.3), 0px 1px 3px 1px rgba(60, 64, 67, 0.15);\n",
              "      fill: #174EA6;\n",
              "    }\n",
              "\n",
              "    [theme=dark] .colab-df-convert {\n",
              "      background-color: #3B4455;\n",
              "      fill: #D2E3FC;\n",
              "    }\n",
              "\n",
              "    [theme=dark] .colab-df-convert:hover {\n",
              "      background-color: #434B5C;\n",
              "      box-shadow: 0px 1px 3px 1px rgba(0, 0, 0, 0.15);\n",
              "      filter: drop-shadow(0px 1px 2px rgba(0, 0, 0, 0.3));\n",
              "      fill: #FFFFFF;\n",
              "    }\n",
              "  </style>\n",
              "\n",
              "      <script>\n",
              "        const buttonEl =\n",
              "          document.querySelector('#df-0e26232f-9037-4e0b-b122-376358240d30 button.colab-df-convert');\n",
              "        buttonEl.style.display =\n",
              "          google.colab.kernel.accessAllowed ? 'block' : 'none';\n",
              "\n",
              "        async function convertToInteractive(key) {\n",
              "          const element = document.querySelector('#df-0e26232f-9037-4e0b-b122-376358240d30');\n",
              "          const dataTable =\n",
              "            await google.colab.kernel.invokeFunction('convertToInteractive',\n",
              "                                                     [key], {});\n",
              "          if (!dataTable) return;\n",
              "\n",
              "          const docLinkHtml = 'Like what you see? Visit the ' +\n",
              "            '<a target=\"_blank\" href=https://colab.research.google.com/notebooks/data_table.ipynb>data table notebook</a>'\n",
              "            + ' to learn more about interactive tables.';\n",
              "          element.innerHTML = '';\n",
              "          dataTable['output_type'] = 'display_data';\n",
              "          await google.colab.output.renderOutput(dataTable, element);\n",
              "          const docLink = document.createElement('div');\n",
              "          docLink.innerHTML = docLinkHtml;\n",
              "          element.appendChild(docLink);\n",
              "        }\n",
              "      </script>\n",
              "    </div>\n",
              "  </div>\n",
              "  "
            ]
          },
          "metadata": {},
          "execution_count": 88
        }
      ]
    },
    {
      "cell_type": "code",
      "source": [
        "print('Количество сообщений с неправильно определенными классами: ', len(result[result[0]!=result[1]]))"
      ],
      "metadata": {
        "colab": {
          "base_uri": "https://localhost:8080/"
        },
        "id": "DrQyoJQozsSx",
        "outputId": "37720b72-d92d-48da-914d-b6ba140f2087"
      },
      "execution_count": null,
      "outputs": [
        {
          "output_type": "stream",
          "name": "stdout",
          "text": [
            "Количество сообщений с неправильно определенными классами:  56\n"
          ]
        }
      ]
    },
    {
      "cell_type": "code",
      "source": [
        "# вероятность принадлежности к тому или иному классу\n",
        "accuracy_score(y_test, y_pred)"
      ],
      "metadata": {
        "colab": {
          "base_uri": "https://localhost:8080/"
        },
        "outputId": "a035e85f-d876-47c1-d048-3692b8d06aad",
        "id": "yns_Sl6Cdl3B"
      },
      "execution_count": null,
      "outputs": [
        {
          "output_type": "execute_result",
          "data": {
            "text/plain": [
              "0.9665071770334929"
            ]
          },
          "metadata": {},
          "execution_count": 90
        }
      ]
    },
    {
      "cell_type": "code",
      "source": [
        "lr.coef_ # коэффициенты модели"
      ],
      "metadata": {
        "colab": {
          "base_uri": "https://localhost:8080/"
        },
        "outputId": "4039e55e-a1c5-4960-cab4-c70053c4a929",
        "id": "9WSf4OVbdl3B"
      },
      "execution_count": null,
      "outputs": [
        {
          "output_type": "execute_result",
          "data": {
            "text/plain": [
              "array([[0., 0., 0., ..., 0., 0., 0.]])"
            ]
          },
          "metadata": {},
          "execution_count": 91
        }
      ]
    },
    {
      "cell_type": "markdown",
      "source": [
        "Во 2 случае вероятность принадлежности к классу даже выше!"
      ],
      "metadata": {
        "id": "bK29Kr_Od7TA"
      }
    },
    {
      "cell_type": "code",
      "source": [
        "font = {'size' : 15}\n",
        "plt.rc('font', **font)\n",
        "\n",
        "cnf_matrix = confusion_matrix(y_test, lr.predict(X_test))\n",
        "plt.figure(figsize=(10, 8))\n",
        "plot_confusion_matrix(cnf_matrix, classes=['ham', 'spam'],\n",
        "                      title='Confusion matrix')\n",
        "plt.savefig(\"conf_matrix.png\")\n",
        "plt.show()"
      ],
      "metadata": {
        "colab": {
          "base_uri": "https://localhost:8080/",
          "height": 648
        },
        "id": "sk8Cl9OryK-n",
        "outputId": "7d9ccf3e-a2a6-449b-fda9-753da1493f6d"
      },
      "execution_count": null,
      "outputs": [
        {
          "output_type": "stream",
          "name": "stdout",
          "text": [
            "Confusion matrix, without normalization\n",
            "[[ 179   45]\n",
            " [  11 1437]]\n"
          ]
        },
        {
          "output_type": "display_data",
          "data": {
            "text/plain": [
              "<Figure size 720x576 with 2 Axes>"
            ],
            "image/png": "[encoded data removed]"
          },
          "metadata": {
            "needs_background": "light"
          }
        }
      ]
    },
    {
      "cell_type": "code",
      "source": [
        "my_result(cnf_matrix)"
      ],
      "metadata": {
        "colab": {
          "base_uri": "https://localhost:8080/"
        },
        "id": "dpWAW6ZQ44mZ",
        "outputId": "abe3dc37-8fdb-4bad-845d-d1207cdf0ec6"
      },
      "execution_count": null,
      "outputs": [
        {
          "output_type": "stream",
          "name": "stdout",
          "text": [
            "Модель логистической регрессии - результат работы: \n",
            " Ошибки 1 рода (FP): 45, ошибки 2 рода (FN): 11 \n",
            "точность модели (precision): 0.9696356275303644, полнота (recall): 0.9924033149171271\n"
          ]
        }
      ]
    }
  ]
}