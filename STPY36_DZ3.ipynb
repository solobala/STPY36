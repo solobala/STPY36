{
  "nbformat": 4,
  "nbformat_minor": 0,
  "metadata": {
    "colab": {
      "provenance": [],
      "collapsed_sections": [
        "WsUHeavrH3lp",
        "1IgF1pOjYo_4",
        "y72DeCJUZOC6",
        "cWFSjDyWYYm4",
        "5LNMzi7sjwSN",
        "CdulZEOAKN9S"
      ],
      "authorship_tag": "ABX9TyObW7Q1/1l8RtNCyCjNxY7Z",
      "include_colab_link": true
    },
    "kernelspec": {
      "name": "python3",
      "display_name": "Python 3"
    },
    "language_info": {
      "name": "python"
    }
  },
  "cells": [
    {
      "cell_type": "markdown",
      "metadata": {
        "id": "view-in-github",
        "colab_type": "text"
      },
      "source": [
        "<a href=\"https://colab.research.google.com/github/solobala/STPY36/blob/main/STPY36_DZ3.ipynb\" target=\"_parent\"><img src=\"https://colab.research.google.com/assets/colab-badge.svg\" alt=\"Open In Colab\"/></a>"
      ]
    },
    {
      "cell_type": "markdown",
      "source": [
        "#Домашнее задание к лекции «Случайные события. Случайные величины»\n"
      ],
      "metadata": {
        "id": "WsUHeavrH3lp"
      }
    },
    {
      "cell_type": "markdown",
      "source": [
        "Смоделировать игру против лотерейного автомата типа “777”. \n",
        "\n",
        "777: 200 руб.\n",
        "999: 100 руб.\n",
        "555: 50 руб.\n",
        "333: 15 руб.\n",
        "111: 10 руб.\n",
        "*77: 5 руб.\n",
        "**7: 3 руб.\n",
        "*00: 2 руб.\n",
        "**0: 1 руб.\n",
        "\n",
        "Вопросы:\n",
        "\n",
        "Выгодна ли игра игроку?\n",
        "Сколько в среднем приобретает или теряет игрок за одну игру?"
      ],
      "metadata": {
        "id": "ikzYbcSyH8nI"
      }
    },
    {
      "cell_type": "markdown",
      "source": [
        "## Сгенерируем датасет"
      ],
      "metadata": {
        "id": "1IgF1pOjYo_4"
      }
    },
    {
      "cell_type": "code",
      "source": [
        "import numpy as np\n",
        "import pandas as pd"
      ],
      "metadata": {
        "id": "HB5xm6ksK8kZ"
      },
      "execution_count": null,
      "outputs": []
    },
    {
      "cell_type": "code",
      "execution_count": null,
      "metadata": {
        "id": "QmU9_EoGH26U"
      },
      "outputs": [],
      "source": [
        "def get_income(n):\n",
        "  \"\"\"\n",
        "  Игрок платит 1 руб., после чего выпадает случайное целое число, \n",
        "  равномерно распределенное от 0 до 999. \n",
        "  При некоторых значениях числа игрок получает выигрыш.\n",
        "  Важно: Функция возвращает сумму выигрыша за вычетом ставки игhока ( 1 руб.)\n",
        "  \"\"\"\n",
        "  number = np.random.randint (0, k)  \n",
        "  if number ==777:\n",
        "    return 200\n",
        "  elif number ==999:\n",
        "    return 100\n",
        "  elif number == 555:\n",
        "    return 50\n",
        "  elif number ==333:\n",
        "    return 15\n",
        "  elif number == 111:\n",
        "    return 10\n",
        "  elif number % 100 == 77:\n",
        "    return 5\n",
        "  elif number % 100 == 0:\n",
        "    return 2\n",
        "  elif (number % 10 == 0) and (number % 100 != 0):\n",
        "    return 1\n",
        "  elif (number  % 10 ==7) and (number % 100 != 77):\n",
        "    return 3\n",
        "  else: return 0"
      ]
    },
    {
      "cell_type": "code",
      "source": [
        "m= int(input('Введите общий размер датасета для моделирования: '))\n",
        "k = int(input('Введите максимальную сумму для определения случайной величины - начальной суммы для игры: '))\n",
        "arr = np.empty(m, dtype = int) # Это массив выигрыша/проигрыша за игру\n",
        "narr = np.empty(m, dtype = int) # Это массив начальных сумм для игры (=кол-ву ставок по 1 руб.)\n",
        "\n",
        "for j in range(m):\n",
        "  n = np.random.randint (1, k)\n",
        "  #n=1000\n",
        "  total = 0 \n",
        "  for _ in range(n):\n",
        "    total += get_income(n)\n",
        "  \n",
        "  arr[j] = total\n",
        "  narr[j] = n"
      ],
      "metadata": {
        "colab": {
          "base_uri": "https://localhost:8080/"
        },
        "id": "b3dJ3kQvKNhV",
        "outputId": "da49b561-fef9-48b1-f789-b56e739fff58"
      },
      "execution_count": null,
      "outputs": [
        {
          "name": "stdout",
          "output_type": "stream",
          "text": [
            "Введите общий размер датасета для моделирования: 10000\n",
            "Введите максимальную сумму для определения случайной величины - начальной суммы для игры: 10000\n"
          ]
        }
      ]
    },
    {
      "cell_type": "code",
      "source": [
        "df = pd.DataFrame(narr, index=[i for i in range(m)],  columns=['n'])\n",
        "df['total']= arr\n",
        "\n",
        "df['income']=(df['total']-df['n'])/df['n']\n",
        "df.head()"
      ],
      "metadata": {
        "colab": {
          "base_uri": "https://localhost:8080/",
          "height": 206
        },
        "id": "LkcJvU27PMly",
        "outputId": "40a85821-316a-4b8f-ab23-97e38421fb9a"
      },
      "execution_count": null,
      "outputs": [
        {
          "output_type": "execute_result",
          "data": {
            "text/plain": [
              "      n  total    income\n",
              "0  9895   4479 -0.547347\n",
              "1  5704   2784 -0.511921\n",
              "2  1690    908 -0.462722\n",
              "3  4697   2253 -0.520332\n",
              "4  8355   3965 -0.525434"
            ],
            "text/html": [
              "\n",
              "  <div id=\"df-fddd1665-7add-4e83-9c19-c5e2e6ed617d\">\n",
              "    <div class=\"colab-df-container\">\n",
              "      <div>\n",
              "<style scoped>\n",
              "    .dataframe tbody tr th:only-of-type {\n",
              "        vertical-align: middle;\n",
              "    }\n",
              "\n",
              "    .dataframe tbody tr th {\n",
              "        vertical-align: top;\n",
              "    }\n",
              "\n",
              "    .dataframe thead th {\n",
              "        text-align: right;\n",
              "    }\n",
              "</style>\n",
              "<table border=\"1\" class=\"dataframe\">\n",
              "  <thead>\n",
              "    <tr style=\"text-align: right;\">\n",
              "      <th></th>\n",
              "      <th>n</th>\n",
              "      <th>total</th>\n",
              "      <th>income</th>\n",
              "    </tr>\n",
              "  </thead>\n",
              "  <tbody>\n",
              "    <tr>\n",
              "      <th>0</th>\n",
              "      <td>9895</td>\n",
              "      <td>4479</td>\n",
              "      <td>-0.547347</td>\n",
              "    </tr>\n",
              "    <tr>\n",
              "      <th>1</th>\n",
              "      <td>5704</td>\n",
              "      <td>2784</td>\n",
              "      <td>-0.511921</td>\n",
              "    </tr>\n",
              "    <tr>\n",
              "      <th>2</th>\n",
              "      <td>1690</td>\n",
              "      <td>908</td>\n",
              "      <td>-0.462722</td>\n",
              "    </tr>\n",
              "    <tr>\n",
              "      <th>3</th>\n",
              "      <td>4697</td>\n",
              "      <td>2253</td>\n",
              "      <td>-0.520332</td>\n",
              "    </tr>\n",
              "    <tr>\n",
              "      <th>4</th>\n",
              "      <td>8355</td>\n",
              "      <td>3965</td>\n",
              "      <td>-0.525434</td>\n",
              "    </tr>\n",
              "  </tbody>\n",
              "</table>\n",
              "</div>\n",
              "      <button class=\"colab-df-convert\" onclick=\"convertToInteractive('df-fddd1665-7add-4e83-9c19-c5e2e6ed617d')\"\n",
              "              title=\"Convert this dataframe to an interactive table.\"\n",
              "              style=\"display:none;\">\n",
              "        \n",
              "  <svg xmlns=\"http://www.w3.org/2000/svg\" height=\"24px\"viewBox=\"0 0 24 24\"\n",
              "       width=\"24px\">\n",
              "    <path d=\"M0 0h24v24H0V0z\" fill=\"none\"/>\n",
              "    <path d=\"M18.56 5.44l.94 2.06.94-2.06 2.06-.94-2.06-.94-.94-2.06-.94 2.06-2.06.94zm-11 1L8.5 8.5l.94-2.06 2.06-.94-2.06-.94L8.5 2.5l-.94 2.06-2.06.94zm10 10l.94 2.06.94-2.06 2.06-.94-2.06-.94-.94-2.06-.94 2.06-2.06.94z\"/><path d=\"M17.41 7.96l-1.37-1.37c-.4-.4-.92-.59-1.43-.59-.52 0-1.04.2-1.43.59L10.3 9.45l-7.72 7.72c-.78.78-.78 2.05 0 2.83L4 21.41c.39.39.9.59 1.41.59.51 0 1.02-.2 1.41-.59l7.78-7.78 2.81-2.81c.8-.78.8-2.07 0-2.86zM5.41 20L4 18.59l7.72-7.72 1.47 1.35L5.41 20z\"/>\n",
              "  </svg>\n",
              "      </button>\n",
              "      \n",
              "  <style>\n",
              "    .colab-df-container {\n",
              "      display:flex;\n",
              "      flex-wrap:wrap;\n",
              "      gap: 12px;\n",
              "    }\n",
              "\n",
              "    .colab-df-convert {\n",
              "      background-color: #E8F0FE;\n",
              "      border: none;\n",
              "      border-radius: 50%;\n",
              "      cursor: pointer;\n",
              "      display: none;\n",
              "      fill: #1967D2;\n",
              "      height: 32px;\n",
              "      padding: 0 0 0 0;\n",
              "      width: 32px;\n",
              "    }\n",
              "\n",
              "    .colab-df-convert:hover {\n",
              "      background-color: #E2EBFA;\n",
              "      box-shadow: 0px 1px 2px rgba(60, 64, 67, 0.3), 0px 1px 3px 1px rgba(60, 64, 67, 0.15);\n",
              "      fill: #174EA6;\n",
              "    }\n",
              "\n",
              "    [theme=dark] .colab-df-convert {\n",
              "      background-color: #3B4455;\n",
              "      fill: #D2E3FC;\n",
              "    }\n",
              "\n",
              "    [theme=dark] .colab-df-convert:hover {\n",
              "      background-color: #434B5C;\n",
              "      box-shadow: 0px 1px 3px 1px rgba(0, 0, 0, 0.15);\n",
              "      filter: drop-shadow(0px 1px 2px rgba(0, 0, 0, 0.3));\n",
              "      fill: #FFFFFF;\n",
              "    }\n",
              "  </style>\n",
              "\n",
              "      <script>\n",
              "        const buttonEl =\n",
              "          document.querySelector('#df-fddd1665-7add-4e83-9c19-c5e2e6ed617d button.colab-df-convert');\n",
              "        buttonEl.style.display =\n",
              "          google.colab.kernel.accessAllowed ? 'block' : 'none';\n",
              "\n",
              "        async function convertToInteractive(key) {\n",
              "          const element = document.querySelector('#df-fddd1665-7add-4e83-9c19-c5e2e6ed617d');\n",
              "          const dataTable =\n",
              "            await google.colab.kernel.invokeFunction('convertToInteractive',\n",
              "                                                     [key], {});\n",
              "          if (!dataTable) return;\n",
              "\n",
              "          const docLinkHtml = 'Like what you see? Visit the ' +\n",
              "            '<a target=\"_blank\" href=https://colab.research.google.com/notebooks/data_table.ipynb>data table notebook</a>'\n",
              "            + ' to learn more about interactive tables.';\n",
              "          element.innerHTML = '';\n",
              "          dataTable['output_type'] = 'display_data';\n",
              "          await google.colab.output.renderOutput(dataTable, element);\n",
              "          const docLink = document.createElement('div');\n",
              "          docLink.innerHTML = docLinkHtml;\n",
              "          element.appendChild(docLink);\n",
              "        }\n",
              "      </script>\n",
              "    </div>\n",
              "  </div>\n",
              "  "
            ]
          },
          "metadata": {},
          "execution_count": 53
        }
      ]
    },
    {
      "cell_type": "markdown",
      "source": [
        "## Сохраним сгенерированный датасет"
      ],
      "metadata": {
        "id": "y72DeCJUZOC6"
      }
    },
    {
      "cell_type": "code",
      "source": [
        "import time"
      ],
      "metadata": {
        "id": "vV0NcRDgb0mX"
      },
      "execution_count": null,
      "outputs": []
    },
    {
      "cell_type": "code",
      "source": [
        "%%time\n",
        "pd.to_pickle(df, \"./dummy.pkl\")\n",
        "df_unpiclked =pd.read_pickle(\"./dummy.pkl\")\n",
        "df_unpiclked.head()"
      ],
      "metadata": {
        "colab": {
          "base_uri": "https://localhost:8080/",
          "height": 241
        },
        "id": "Ai0qwxyKZNLx",
        "outputId": "a2c053e7-59be-417d-aee6-97b3e642dac7"
      },
      "execution_count": null,
      "outputs": [
        {
          "output_type": "stream",
          "name": "stdout",
          "text": [
            "CPU times: user 2.86 ms, sys: 1.01 ms, total: 3.87 ms\n",
            "Wall time: 3.89 ms\n"
          ]
        },
        {
          "output_type": "execute_result",
          "data": {
            "text/plain": [
              "      n  total    income\n",
              "0  9895   4479 -0.547347\n",
              "1  5704   2784 -0.511921\n",
              "2  1690    908 -0.462722\n",
              "3  4697   2253 -0.520332\n",
              "4  8355   3965 -0.525434"
            ],
            "text/html": [
              "\n",
              "  <div id=\"df-4c2b5500-c0f0-4766-b77e-ca075babc56a\">\n",
              "    <div class=\"colab-df-container\">\n",
              "      <div>\n",
              "<style scoped>\n",
              "    .dataframe tbody tr th:only-of-type {\n",
              "        vertical-align: middle;\n",
              "    }\n",
              "\n",
              "    .dataframe tbody tr th {\n",
              "        vertical-align: top;\n",
              "    }\n",
              "\n",
              "    .dataframe thead th {\n",
              "        text-align: right;\n",
              "    }\n",
              "</style>\n",
              "<table border=\"1\" class=\"dataframe\">\n",
              "  <thead>\n",
              "    <tr style=\"text-align: right;\">\n",
              "      <th></th>\n",
              "      <th>n</th>\n",
              "      <th>total</th>\n",
              "      <th>income</th>\n",
              "    </tr>\n",
              "  </thead>\n",
              "  <tbody>\n",
              "    <tr>\n",
              "      <th>0</th>\n",
              "      <td>9895</td>\n",
              "      <td>4479</td>\n",
              "      <td>-0.547347</td>\n",
              "    </tr>\n",
              "    <tr>\n",
              "      <th>1</th>\n",
              "      <td>5704</td>\n",
              "      <td>2784</td>\n",
              "      <td>-0.511921</td>\n",
              "    </tr>\n",
              "    <tr>\n",
              "      <th>2</th>\n",
              "      <td>1690</td>\n",
              "      <td>908</td>\n",
              "      <td>-0.462722</td>\n",
              "    </tr>\n",
              "    <tr>\n",
              "      <th>3</th>\n",
              "      <td>4697</td>\n",
              "      <td>2253</td>\n",
              "      <td>-0.520332</td>\n",
              "    </tr>\n",
              "    <tr>\n",
              "      <th>4</th>\n",
              "      <td>8355</td>\n",
              "      <td>3965</td>\n",
              "      <td>-0.525434</td>\n",
              "    </tr>\n",
              "  </tbody>\n",
              "</table>\n",
              "</div>\n",
              "      <button class=\"colab-df-convert\" onclick=\"convertToInteractive('df-4c2b5500-c0f0-4766-b77e-ca075babc56a')\"\n",
              "              title=\"Convert this dataframe to an interactive table.\"\n",
              "              style=\"display:none;\">\n",
              "        \n",
              "  <svg xmlns=\"http://www.w3.org/2000/svg\" height=\"24px\"viewBox=\"0 0 24 24\"\n",
              "       width=\"24px\">\n",
              "    <path d=\"M0 0h24v24H0V0z\" fill=\"none\"/>\n",
              "    <path d=\"M18.56 5.44l.94 2.06.94-2.06 2.06-.94-2.06-.94-.94-2.06-.94 2.06-2.06.94zm-11 1L8.5 8.5l.94-2.06 2.06-.94-2.06-.94L8.5 2.5l-.94 2.06-2.06.94zm10 10l.94 2.06.94-2.06 2.06-.94-2.06-.94-.94-2.06-.94 2.06-2.06.94z\"/><path d=\"M17.41 7.96l-1.37-1.37c-.4-.4-.92-.59-1.43-.59-.52 0-1.04.2-1.43.59L10.3 9.45l-7.72 7.72c-.78.78-.78 2.05 0 2.83L4 21.41c.39.39.9.59 1.41.59.51 0 1.02-.2 1.41-.59l7.78-7.78 2.81-2.81c.8-.78.8-2.07 0-2.86zM5.41 20L4 18.59l7.72-7.72 1.47 1.35L5.41 20z\"/>\n",
              "  </svg>\n",
              "      </button>\n",
              "      \n",
              "  <style>\n",
              "    .colab-df-container {\n",
              "      display:flex;\n",
              "      flex-wrap:wrap;\n",
              "      gap: 12px;\n",
              "    }\n",
              "\n",
              "    .colab-df-convert {\n",
              "      background-color: #E8F0FE;\n",
              "      border: none;\n",
              "      border-radius: 50%;\n",
              "      cursor: pointer;\n",
              "      display: none;\n",
              "      fill: #1967D2;\n",
              "      height: 32px;\n",
              "      padding: 0 0 0 0;\n",
              "      width: 32px;\n",
              "    }\n",
              "\n",
              "    .colab-df-convert:hover {\n",
              "      background-color: #E2EBFA;\n",
              "      box-shadow: 0px 1px 2px rgba(60, 64, 67, 0.3), 0px 1px 3px 1px rgba(60, 64, 67, 0.15);\n",
              "      fill: #174EA6;\n",
              "    }\n",
              "\n",
              "    [theme=dark] .colab-df-convert {\n",
              "      background-color: #3B4455;\n",
              "      fill: #D2E3FC;\n",
              "    }\n",
              "\n",
              "    [theme=dark] .colab-df-convert:hover {\n",
              "      background-color: #434B5C;\n",
              "      box-shadow: 0px 1px 3px 1px rgba(0, 0, 0, 0.15);\n",
              "      filter: drop-shadow(0px 1px 2px rgba(0, 0, 0, 0.3));\n",
              "      fill: #FFFFFF;\n",
              "    }\n",
              "  </style>\n",
              "\n",
              "      <script>\n",
              "        const buttonEl =\n",
              "          document.querySelector('#df-4c2b5500-c0f0-4766-b77e-ca075babc56a button.colab-df-convert');\n",
              "        buttonEl.style.display =\n",
              "          google.colab.kernel.accessAllowed ? 'block' : 'none';\n",
              "\n",
              "        async function convertToInteractive(key) {\n",
              "          const element = document.querySelector('#df-4c2b5500-c0f0-4766-b77e-ca075babc56a');\n",
              "          const dataTable =\n",
              "            await google.colab.kernel.invokeFunction('convertToInteractive',\n",
              "                                                     [key], {});\n",
              "          if (!dataTable) return;\n",
              "\n",
              "          const docLinkHtml = 'Like what you see? Visit the ' +\n",
              "            '<a target=\"_blank\" href=https://colab.research.google.com/notebooks/data_table.ipynb>data table notebook</a>'\n",
              "            + ' to learn more about interactive tables.';\n",
              "          element.innerHTML = '';\n",
              "          dataTable['output_type'] = 'display_data';\n",
              "          await google.colab.output.renderOutput(dataTable, element);\n",
              "          const docLink = document.createElement('div');\n",
              "          docLink.innerHTML = docLinkHtml;\n",
              "          element.appendChild(docLink);\n",
              "        }\n",
              "      </script>\n",
              "    </div>\n",
              "  </div>\n",
              "  "
            ]
          },
          "metadata": {},
          "execution_count": 54
        }
      ]
    },
    {
      "cell_type": "code",
      "source": [
        "%%time\n",
        "df.to_csv('/content/df.csv', index=False, sep=\";\")\n",
        "df_loaded =pd.read_csv('/content/df.csv', sep =';')\n",
        "df_loaded.head()"
      ],
      "metadata": {
        "colab": {
          "base_uri": "https://localhost:8080/",
          "height": 241
        },
        "id": "TPWwaSt8b-jA",
        "outputId": "d00f33cf-bbf7-44e7-83d5-66a77e04b1a9"
      },
      "execution_count": null,
      "outputs": [
        {
          "output_type": "stream",
          "name": "stdout",
          "text": [
            "CPU times: user 37.7 ms, sys: 5.06 ms, total: 42.7 ms\n",
            "Wall time: 43.8 ms\n"
          ]
        },
        {
          "output_type": "execute_result",
          "data": {
            "text/plain": [
              "      n  total    income\n",
              "0  9895   4479 -0.547347\n",
              "1  5704   2784 -0.511921\n",
              "2  1690    908 -0.462722\n",
              "3  4697   2253 -0.520332\n",
              "4  8355   3965 -0.525434"
            ],
            "text/html": [
              "\n",
              "  <div id=\"df-ed5a3b4d-58b8-41d4-aac9-b746df1e91d6\">\n",
              "    <div class=\"colab-df-container\">\n",
              "      <div>\n",
              "<style scoped>\n",
              "    .dataframe tbody tr th:only-of-type {\n",
              "        vertical-align: middle;\n",
              "    }\n",
              "\n",
              "    .dataframe tbody tr th {\n",
              "        vertical-align: top;\n",
              "    }\n",
              "\n",
              "    .dataframe thead th {\n",
              "        text-align: right;\n",
              "    }\n",
              "</style>\n",
              "<table border=\"1\" class=\"dataframe\">\n",
              "  <thead>\n",
              "    <tr style=\"text-align: right;\">\n",
              "      <th></th>\n",
              "      <th>n</th>\n",
              "      <th>total</th>\n",
              "      <th>income</th>\n",
              "    </tr>\n",
              "  </thead>\n",
              "  <tbody>\n",
              "    <tr>\n",
              "      <th>0</th>\n",
              "      <td>9895</td>\n",
              "      <td>4479</td>\n",
              "      <td>-0.547347</td>\n",
              "    </tr>\n",
              "    <tr>\n",
              "      <th>1</th>\n",
              "      <td>5704</td>\n",
              "      <td>2784</td>\n",
              "      <td>-0.511921</td>\n",
              "    </tr>\n",
              "    <tr>\n",
              "      <th>2</th>\n",
              "      <td>1690</td>\n",
              "      <td>908</td>\n",
              "      <td>-0.462722</td>\n",
              "    </tr>\n",
              "    <tr>\n",
              "      <th>3</th>\n",
              "      <td>4697</td>\n",
              "      <td>2253</td>\n",
              "      <td>-0.520332</td>\n",
              "    </tr>\n",
              "    <tr>\n",
              "      <th>4</th>\n",
              "      <td>8355</td>\n",
              "      <td>3965</td>\n",
              "      <td>-0.525434</td>\n",
              "    </tr>\n",
              "  </tbody>\n",
              "</table>\n",
              "</div>\n",
              "      <button class=\"colab-df-convert\" onclick=\"convertToInteractive('df-ed5a3b4d-58b8-41d4-aac9-b746df1e91d6')\"\n",
              "              title=\"Convert this dataframe to an interactive table.\"\n",
              "              style=\"display:none;\">\n",
              "        \n",
              "  <svg xmlns=\"http://www.w3.org/2000/svg\" height=\"24px\"viewBox=\"0 0 24 24\"\n",
              "       width=\"24px\">\n",
              "    <path d=\"M0 0h24v24H0V0z\" fill=\"none\"/>\n",
              "    <path d=\"M18.56 5.44l.94 2.06.94-2.06 2.06-.94-2.06-.94-.94-2.06-.94 2.06-2.06.94zm-11 1L8.5 8.5l.94-2.06 2.06-.94-2.06-.94L8.5 2.5l-.94 2.06-2.06.94zm10 10l.94 2.06.94-2.06 2.06-.94-2.06-.94-.94-2.06-.94 2.06-2.06.94z\"/><path d=\"M17.41 7.96l-1.37-1.37c-.4-.4-.92-.59-1.43-.59-.52 0-1.04.2-1.43.59L10.3 9.45l-7.72 7.72c-.78.78-.78 2.05 0 2.83L4 21.41c.39.39.9.59 1.41.59.51 0 1.02-.2 1.41-.59l7.78-7.78 2.81-2.81c.8-.78.8-2.07 0-2.86zM5.41 20L4 18.59l7.72-7.72 1.47 1.35L5.41 20z\"/>\n",
              "  </svg>\n",
              "      </button>\n",
              "      \n",
              "  <style>\n",
              "    .colab-df-container {\n",
              "      display:flex;\n",
              "      flex-wrap:wrap;\n",
              "      gap: 12px;\n",
              "    }\n",
              "\n",
              "    .colab-df-convert {\n",
              "      background-color: #E8F0FE;\n",
              "      border: none;\n",
              "      border-radius: 50%;\n",
              "      cursor: pointer;\n",
              "      display: none;\n",
              "      fill: #1967D2;\n",
              "      height: 32px;\n",
              "      padding: 0 0 0 0;\n",
              "      width: 32px;\n",
              "    }\n",
              "\n",
              "    .colab-df-convert:hover {\n",
              "      background-color: #E2EBFA;\n",
              "      box-shadow: 0px 1px 2px rgba(60, 64, 67, 0.3), 0px 1px 3px 1px rgba(60, 64, 67, 0.15);\n",
              "      fill: #174EA6;\n",
              "    }\n",
              "\n",
              "    [theme=dark] .colab-df-convert {\n",
              "      background-color: #3B4455;\n",
              "      fill: #D2E3FC;\n",
              "    }\n",
              "\n",
              "    [theme=dark] .colab-df-convert:hover {\n",
              "      background-color: #434B5C;\n",
              "      box-shadow: 0px 1px 3px 1px rgba(0, 0, 0, 0.15);\n",
              "      filter: drop-shadow(0px 1px 2px rgba(0, 0, 0, 0.3));\n",
              "      fill: #FFFFFF;\n",
              "    }\n",
              "  </style>\n",
              "\n",
              "      <script>\n",
              "        const buttonEl =\n",
              "          document.querySelector('#df-ed5a3b4d-58b8-41d4-aac9-b746df1e91d6 button.colab-df-convert');\n",
              "        buttonEl.style.display =\n",
              "          google.colab.kernel.accessAllowed ? 'block' : 'none';\n",
              "\n",
              "        async function convertToInteractive(key) {\n",
              "          const element = document.querySelector('#df-ed5a3b4d-58b8-41d4-aac9-b746df1e91d6');\n",
              "          const dataTable =\n",
              "            await google.colab.kernel.invokeFunction('convertToInteractive',\n",
              "                                                     [key], {});\n",
              "          if (!dataTable) return;\n",
              "\n",
              "          const docLinkHtml = 'Like what you see? Visit the ' +\n",
              "            '<a target=\"_blank\" href=https://colab.research.google.com/notebooks/data_table.ipynb>data table notebook</a>'\n",
              "            + ' to learn more about interactive tables.';\n",
              "          element.innerHTML = '';\n",
              "          dataTable['output_type'] = 'display_data';\n",
              "          await google.colab.output.renderOutput(dataTable, element);\n",
              "          const docLink = document.createElement('div');\n",
              "          docLink.innerHTML = docLinkHtml;\n",
              "          element.appendChild(docLink);\n",
              "        }\n",
              "      </script>\n",
              "    </div>\n",
              "  </div>\n",
              "  "
            ]
          },
          "metadata": {},
          "execution_count": 57
        }
      ]
    },
    {
      "cell_type": "markdown",
      "source": [
        "! С использованием picle выходит сильно быстрее"
      ],
      "metadata": {
        "id": "x4bZumhWeRT_"
      }
    },
    {
      "cell_type": "markdown",
      "source": [
        "### Оценим, когда будут отрицательные или нулевые выигрыши, когда проигрыш и выигрыш будут максимальны "
      ],
      "metadata": {
        "id": "rnOn4BZ4k_s9"
      }
    },
    {
      "cell_type": "code",
      "source": [
        "print(f\"При размере датасета {m} и верхней границе диапазона для исходной суммы {k} В среднем за игру выигрыш (+)/проигрыш (-) составляет: \")\n",
        "print(df['income'].mean())\n",
        "print('Проигрыш отсутствует в ', len(df[df['income']>=0]), ' случаев')\n",
        "print(\"Максимальный проигрыш: \", df['income'].min(), \"максимальный выигрыш: \", df['income'].max())"
      ],
      "metadata": {
        "colab": {
          "base_uri": "https://localhost:8080/"
        },
        "id": "p6kldUd4S3QS",
        "outputId": "e33d9397-e932-46c4-d960-ac6b9b72b06e"
      },
      "execution_count": null,
      "outputs": [
        {
          "output_type": "stream",
          "name": "stdout",
          "text": [
            "При размере датасета 10000 и верхней границе диапазона для исходной суммы 10000 В среднем за игру выигрыш (+)/проигрыш (-) составляет: \n",
            "-0.5331121100875891\n",
            "Проигрыш отсутствует в  14  случаев\n",
            "Максимальный проигрыш:  -1.0 максимальный выигрыш:  2.4761904761904763\n"
          ]
        }
      ]
    },
    {
      "cell_type": "markdown",
      "source": [
        "## Посмотрим на статистические характеристики income"
      ],
      "metadata": {
        "id": "cWFSjDyWYYm4"
      }
    },
    {
      "cell_type": "code",
      "source": [
        "df.describe()"
      ],
      "metadata": {
        "colab": {
          "base_uri": "https://localhost:8080/",
          "height": 300
        },
        "id": "tWfF0CbKYi6f",
        "outputId": "2a0d594a-10a4-4f98-bf06-4c18ba146f74"
      },
      "execution_count": null,
      "outputs": [
        {
          "output_type": "execute_result",
          "data": {
            "text/plain": [
              "                  n         total        income\n",
              "count  10000.000000  10000.000000  10000.000000\n",
              "mean    5050.152200   2359.789400     -0.533112\n",
              "std     2870.332112   1353.531683      0.070969\n",
              "min        1.000000      0.000000     -1.000000\n",
              "25%     2596.500000   1201.750000     -0.561675\n",
              "50%     5078.000000   2354.000000     -0.539918\n",
              "75%     7525.000000   3510.000000     -0.512887\n",
              "max     9995.000000   5447.000000      2.476190"
            ],
            "text/html": [
              "\n",
              "  <div id=\"df-7e448e70-ce75-4741-aed1-4733bbd16cea\">\n",
              "    <div class=\"colab-df-container\">\n",
              "      <div>\n",
              "<style scoped>\n",
              "    .dataframe tbody tr th:only-of-type {\n",
              "        vertical-align: middle;\n",
              "    }\n",
              "\n",
              "    .dataframe tbody tr th {\n",
              "        vertical-align: top;\n",
              "    }\n",
              "\n",
              "    .dataframe thead th {\n",
              "        text-align: right;\n",
              "    }\n",
              "</style>\n",
              "<table border=\"1\" class=\"dataframe\">\n",
              "  <thead>\n",
              "    <tr style=\"text-align: right;\">\n",
              "      <th></th>\n",
              "      <th>n</th>\n",
              "      <th>total</th>\n",
              "      <th>income</th>\n",
              "    </tr>\n",
              "  </thead>\n",
              "  <tbody>\n",
              "    <tr>\n",
              "      <th>count</th>\n",
              "      <td>10000.000000</td>\n",
              "      <td>10000.000000</td>\n",
              "      <td>10000.000000</td>\n",
              "    </tr>\n",
              "    <tr>\n",
              "      <th>mean</th>\n",
              "      <td>5050.152200</td>\n",
              "      <td>2359.789400</td>\n",
              "      <td>-0.533112</td>\n",
              "    </tr>\n",
              "    <tr>\n",
              "      <th>std</th>\n",
              "      <td>2870.332112</td>\n",
              "      <td>1353.531683</td>\n",
              "      <td>0.070969</td>\n",
              "    </tr>\n",
              "    <tr>\n",
              "      <th>min</th>\n",
              "      <td>1.000000</td>\n",
              "      <td>0.000000</td>\n",
              "      <td>-1.000000</td>\n",
              "    </tr>\n",
              "    <tr>\n",
              "      <th>25%</th>\n",
              "      <td>2596.500000</td>\n",
              "      <td>1201.750000</td>\n",
              "      <td>-0.561675</td>\n",
              "    </tr>\n",
              "    <tr>\n",
              "      <th>50%</th>\n",
              "      <td>5078.000000</td>\n",
              "      <td>2354.000000</td>\n",
              "      <td>-0.539918</td>\n",
              "    </tr>\n",
              "    <tr>\n",
              "      <th>75%</th>\n",
              "      <td>7525.000000</td>\n",
              "      <td>3510.000000</td>\n",
              "      <td>-0.512887</td>\n",
              "    </tr>\n",
              "    <tr>\n",
              "      <th>max</th>\n",
              "      <td>9995.000000</td>\n",
              "      <td>5447.000000</td>\n",
              "      <td>2.476190</td>\n",
              "    </tr>\n",
              "  </tbody>\n",
              "</table>\n",
              "</div>\n",
              "      <button class=\"colab-df-convert\" onclick=\"convertToInteractive('df-7e448e70-ce75-4741-aed1-4733bbd16cea')\"\n",
              "              title=\"Convert this dataframe to an interactive table.\"\n",
              "              style=\"display:none;\">\n",
              "        \n",
              "  <svg xmlns=\"http://www.w3.org/2000/svg\" height=\"24px\"viewBox=\"0 0 24 24\"\n",
              "       width=\"24px\">\n",
              "    <path d=\"M0 0h24v24H0V0z\" fill=\"none\"/>\n",
              "    <path d=\"M18.56 5.44l.94 2.06.94-2.06 2.06-.94-2.06-.94-.94-2.06-.94 2.06-2.06.94zm-11 1L8.5 8.5l.94-2.06 2.06-.94-2.06-.94L8.5 2.5l-.94 2.06-2.06.94zm10 10l.94 2.06.94-2.06 2.06-.94-2.06-.94-.94-2.06-.94 2.06-2.06.94z\"/><path d=\"M17.41 7.96l-1.37-1.37c-.4-.4-.92-.59-1.43-.59-.52 0-1.04.2-1.43.59L10.3 9.45l-7.72 7.72c-.78.78-.78 2.05 0 2.83L4 21.41c.39.39.9.59 1.41.59.51 0 1.02-.2 1.41-.59l7.78-7.78 2.81-2.81c.8-.78.8-2.07 0-2.86zM5.41 20L4 18.59l7.72-7.72 1.47 1.35L5.41 20z\"/>\n",
              "  </svg>\n",
              "      </button>\n",
              "      \n",
              "  <style>\n",
              "    .colab-df-container {\n",
              "      display:flex;\n",
              "      flex-wrap:wrap;\n",
              "      gap: 12px;\n",
              "    }\n",
              "\n",
              "    .colab-df-convert {\n",
              "      background-color: #E8F0FE;\n",
              "      border: none;\n",
              "      border-radius: 50%;\n",
              "      cursor: pointer;\n",
              "      display: none;\n",
              "      fill: #1967D2;\n",
              "      height: 32px;\n",
              "      padding: 0 0 0 0;\n",
              "      width: 32px;\n",
              "    }\n",
              "\n",
              "    .colab-df-convert:hover {\n",
              "      background-color: #E2EBFA;\n",
              "      box-shadow: 0px 1px 2px rgba(60, 64, 67, 0.3), 0px 1px 3px 1px rgba(60, 64, 67, 0.15);\n",
              "      fill: #174EA6;\n",
              "    }\n",
              "\n",
              "    [theme=dark] .colab-df-convert {\n",
              "      background-color: #3B4455;\n",
              "      fill: #D2E3FC;\n",
              "    }\n",
              "\n",
              "    [theme=dark] .colab-df-convert:hover {\n",
              "      background-color: #434B5C;\n",
              "      box-shadow: 0px 1px 3px 1px rgba(0, 0, 0, 0.15);\n",
              "      filter: drop-shadow(0px 1px 2px rgba(0, 0, 0, 0.3));\n",
              "      fill: #FFFFFF;\n",
              "    }\n",
              "  </style>\n",
              "\n",
              "      <script>\n",
              "        const buttonEl =\n",
              "          document.querySelector('#df-7e448e70-ce75-4741-aed1-4733bbd16cea button.colab-df-convert');\n",
              "        buttonEl.style.display =\n",
              "          google.colab.kernel.accessAllowed ? 'block' : 'none';\n",
              "\n",
              "        async function convertToInteractive(key) {\n",
              "          const element = document.querySelector('#df-7e448e70-ce75-4741-aed1-4733bbd16cea');\n",
              "          const dataTable =\n",
              "            await google.colab.kernel.invokeFunction('convertToInteractive',\n",
              "                                                     [key], {});\n",
              "          if (!dataTable) return;\n",
              "\n",
              "          const docLinkHtml = 'Like what you see? Visit the ' +\n",
              "            '<a target=\"_blank\" href=https://colab.research.google.com/notebooks/data_table.ipynb>data table notebook</a>'\n",
              "            + ' to learn more about interactive tables.';\n",
              "          element.innerHTML = '';\n",
              "          dataTable['output_type'] = 'display_data';\n",
              "          await google.colab.output.renderOutput(dataTable, element);\n",
              "          const docLink = document.createElement('div');\n",
              "          docLink.innerHTML = docLinkHtml;\n",
              "          element.appendChild(docLink);\n",
              "        }\n",
              "      </script>\n",
              "    </div>\n",
              "  </div>\n",
              "  "
            ]
          },
          "metadata": {},
          "execution_count": 56
        }
      ]
    },
    {
      "cell_type": "code",
      "source": [
        "import matplotlib.pyplot as plt\n",
        "import seaborn as sns"
      ],
      "metadata": {
        "id": "0sihG7xDkk58"
      },
      "execution_count": null,
      "outputs": []
    },
    {
      "cell_type": "code",
      "source": [
        "df.plot(kind='scatter', \n",
        "        x='n', \n",
        "        y='total', \n",
        "        s=df['income']*20,\n",
        "        title='Корреляция между стартовой суммой, общим выигрышем и средней прибылью за вычетом расходов на игру'\n",
        "       )"
      ],
      "metadata": {
        "colab": {
          "base_uri": "https://localhost:8080/",
          "height": 476
        },
        "id": "V5ZW0uorwAsY",
        "outputId": "f5858842-b36d-45ff-8809-a4c320983991"
      },
      "execution_count": null,
      "outputs": [
        {
          "output_type": "execute_result",
          "data": {
            "text/plain": [
              "<matplotlib.axes._subplots.AxesSubplot at 0x7ff861574350>"
            ]
          },
          "metadata": {},
          "execution_count": 78
        },
        {
          "output_type": "display_data",
          "data": {
            "text/plain": [
              "<Figure size 792x504 with 1 Axes>"
            ],
            "image/png": "[encoded data removed]"
          },
          "metadata": {
            "needs_background": "light"
          }
        }
      ]
    },
    {
      "cell_type": "markdown",
      "source": [
        "## Построим гистограмму"
      ],
      "metadata": {
        "id": "5LNMzi7sjwSN"
      }
    },
    {
      "cell_type": "code",
      "source": [
        "from pylab import rcParams\n",
        "rcParams['figure.figsize'] = 11,7"
      ],
      "metadata": {
        "id": "43lW_FkysR3F"
      },
      "execution_count": null,
      "outputs": []
    },
    {
      "cell_type": "code",
      "source": [
        "sns.histplot(df['income'], bins = 100, fill=True)"
      ],
      "metadata": {
        "colab": {
          "base_uri": "https://localhost:8080/",
          "height": 459
        },
        "id": "HGh8ID3zkLwq",
        "outputId": "25b7a334-da81-4cdf-c204-80f81767c759"
      },
      "execution_count": null,
      "outputs": [
        {
          "output_type": "execute_result",
          "data": {
            "text/plain": [
              "<matplotlib.axes._subplots.AxesSubplot at 0x7ff86145a250>"
            ]
          },
          "metadata": {},
          "execution_count": 80
        },
        {
          "output_type": "display_data",
          "data": {
            "text/plain": [
              "<Figure size 792x504 with 1 Axes>"
            ],
            "image/png": "[encoded data removed]"
          },
          "metadata": {
            "needs_background": "light"
          }
        }
      ]
    },
    {
      "cell_type": "code",
      "source": [
        "sns.distplot(df['income'])"
      ],
      "metadata": {
        "colab": {
          "base_uri": "https://localhost:8080/",
          "height": 514
        },
        "id": "W5qJa5Pmn2fQ",
        "outputId": "9bde68c5-6262-4e46-eeed-23963038fb5d"
      },
      "execution_count": null,
      "outputs": [
        {
          "output_type": "stream",
          "name": "stderr",
          "text": [
            "/usr/local/lib/python3.7/dist-packages/seaborn/distributions.py:2619: FutureWarning: `distplot` is a deprecated function and will be removed in a future version. Please adapt your code to use either `displot` (a figure-level function with similar flexibility) or `histplot` (an axes-level function for histograms).\n",
            "  warnings.warn(msg, FutureWarning)\n"
          ]
        },
        {
          "output_type": "execute_result",
          "data": {
            "text/plain": [
              "<matplotlib.axes._subplots.AxesSubplot at 0x7ff86341d910>"
            ]
          },
          "metadata": {},
          "execution_count": 52
        },
        {
          "output_type": "display_data",
          "data": {
            "text/plain": [
              "<Figure size 792x504 with 1 Axes>"
            ],
            "image/png": "[encoded data removed]"
          },
          "metadata": {
            "needs_background": "light"
          }
        }
      ]
    },
    {
      "cell_type": "markdown",
      "source": [
        "# Дополнительное задание повышенной сложности.\n",
        "\n",
        "Теоретически рассчитать средний выигрыш (проигрыш) и сравнить с результатами моделирования"
      ],
      "metadata": {
        "id": "CdulZEOAKN9S"
      }
    },
    {
      "cell_type": "markdown",
      "source": [
        "Случайная величина - значение выпавшего числа\n",
        "Случайное событие A - это выпадение выигрышного числа с определенным значением из заданного диапазона [0,N), \n",
        "Случайное событие B - это выпадение проигрышного числа с определенным значением из этого же диапазона, \n",
        "где N - стартовая сумма в наличии у игрока (и одновременно число ходов).\n",
        "\n",
        "В опыте одинаково возможны N исходов, из которых M при водит к событию A(выигрышу), а K - к событию Б ( проигрышу)\n",
        "Тогда вероятность выпадения выигрышного числа P(А) =M/N,  \n",
        "вероятность проигрыша P(B) = (N-M)/N\n",
        "\n",
        "Количество чисел 200, 100, 50, 15, 10 в выборке - по 1(всего 5)\n",
        "Вероятность выпадения выигрышей 200, 100, 50, 15, 10руб. - одинакова и равна \n",
        "\n",
        "1/5 для каждого исхода P(A)|200,  P(A)|100,  P(A)|50,  P(A)|15 и  P(A)|10\n",
        "\n",
        "Вероятность выпадения выигрыша 5 руб - для чисел, заканчивающихся на 77, зависит от N. В каждой сотне число 77 встречается 1 раз, значит, нужно посчитать к-во сотен: N/100 и вычесть 1 (число 777).\n",
        "\n",
        "К-во таких чисел:N/100 - 1; 1000/100 -1 = 9\n",
        "P(A)|*77 =1/(N/100  - 1)\n",
        "1/(1000/100 - 1) = 1/9 \n",
        "\n",
        "Вероятность выпадения выигрыша 3 руб - для чисел, заканчивающихся на 7, зависит от N. В каждом десятке цифра 7 встречается 1 раз, значит, нужно посчитать к-во десятков:N/10. и вычесть 1 (число 777) и 9 (к-во чисел,заканчивающихся на 77).\n",
        "\n",
        "К-во таких чисел: N/10 -(N/100 - 1)-1 = N/10 - N/100; 1000/10 - 1 - 9 = 90\n",
        "P(A)*7 = 1/(N/10 -1 - (N/100-1) = 1/(N/10-N/100) = 1/90\n",
        "\n",
        "Вероятность выпадения выигрыша 2 руб - для чисел, кратных 100, звыисит от N. \n",
        "\n",
        "Их К-во: N/100; 1000/100 = 10\n",
        "\n",
        "Вероятность выпадения выигрыша 1 руб - для чисел, кратных 10, зависит от N. \n",
        "\n",
        "Их К-во = N/10-N/100 (число чисел в промежутке, кратных 100, за вычетом количества чисел, кратных 10):\n",
        "    1000/10 - 1000/100 = 90\n",
        "\n",
        "Таким образом, в выборке из N у нас будет (5 + N/100 -1 + N/10-N/100 + N/100 + N/10 -N/100)=4+N/5 выигрышных чисел\n",
        "\n",
        "в 1000 у нас 1+1+1+1+1+9+90+10+90 = 204 выигрышных числа. \n",
        "Тогда проигрышных будет 1000-214 =786.\n",
        "\n",
        "Для выигрышных чисел: Средняя сумма выигрыша будет \n",
        "200 x 1  100 x 1 + 50 x 1 + 15 x 1+ 10 x 1 + 5 x 9 + 3 x 90 + 2 x 10 + 1 x 90 = 800\n",
        "\n",
        "Для проигрышных чисел:  за каждую ставку выигрыш 0, поэтому 0 x 786 = 0.\n",
        "\n",
        "Таким образом, \n",
        "средний выигрыш за 1000 ставок составит (800-1000)/1000=-0,2 руб, где 1000 -это начальные N рублей, из которых за каждую ставку игрок платит 1 рубль"
      ],
      "metadata": {
        "id": "EgHKe9Le7RJ6"
      }
    },
    {
      "cell_type": "code",
      "source": [],
      "metadata": {
        "id": "i4cGBgJiKRmE"
      },
      "execution_count": null,
      "outputs": []
    }
  ]
}