{
  "nbformat": 4,
  "nbformat_minor": 0,
  "metadata": {
    "colab": {
      "provenance": [],
      "collapsed_sections": [
        "Xq8nS5dAv_My",
        "NiFPaNt0U7ep",
        "J9iJ1vM5oy3f",
        "Ri_DG9DWez3x",
        "OhKJtxP6pNOO",
        "asBanVD5pR4b",
        "g6fIKGzrpgMA",
        "8L3KNJT_psAU",
        "RtspXemOpwtT",
        "M-Hg1kKqqANV",
        "OvUxRFZ3WeYb",
        "CwQdMYOPqNe8",
        "MEHVMChe0Gwf",
        "icsvI_kfrP3h",
        "Q83UM2_80ny0"
      ],
      "include_colab_link": true
    },
    "kernelspec": {
      "name": "python3",
      "display_name": "Python 3"
    },
    "language_info": {
      "name": "python"
    }
  },
  "cells": [
    {
      "cell_type": "markdown",
      "metadata": {
        "id": "view-in-github",
        "colab_type": "text"
      },
      "source": [
        "<a href=\"https://colab.research.google.com/github/solobala/STPY36/blob/main/STPY36_DZ4.ipynb\" target=\"_parent\"><img src=\"https://colab.research.google.com/assets/colab-badge.svg\" alt=\"Open In Colab\"/></a>"
      ]
    },
    {
      "cell_type": "markdown",
      "source": [
        " *Важно! для проверки дз перед началом работы с Kaggle необходимо загрузить в сессионное хранилище свои регистрационные данные - файл kaggle.json -в блоке \"Загрузка датасета\"*"
      ],
      "metadata": {
        "id": "39VwhrbFQ1eA"
      }
    },
    {
      "cell_type": "markdown",
      "source": [
        "#Домашнее задание к лекции «Корреляция и корреляционный анализ»\n",
        "\n",
        "Возьмите датасет Mortality and Water Hardness**\n",
        "www.kaggle.com...r-hardness\n",
        "\n",
        "В этом датасете содержатся данные по средней годовой смертности на\n",
        "100000 населения и концентрации кальция в питьевой воде для 61\n",
        "большого города в Англии и Уэльсе. Города дополнительно поделены на\n",
        "северные и южные.\n",
        "\n",
        "##Задание 1.\n",
        "Ответить на вопрос: есть ли связь между жёсткостью воды и средней годовой смертностью?\n",
        "\n",
        "Построить точечный график\n",
        "Рассчитать коэффициенты корреляции Пирсона и Спирмена\n",
        "Построить модель линейной регрессии\n",
        "Рассчитать коэффициент детерминации\n",
        "Вывести график остатков\n",
        "##Задание 2.\n",
        "Ответить на вопрос: сохраняется ли аналогичная зависимость для северных и южных городов по отдельности?\n",
        "\n",
        "Разделить данные на 2 группы\n",
        "Повторить аналогичные шаги из пункта 1 для каждой группы по отдельности"
      ],
      "metadata": {
        "id": "t4ZMN294oc-0"
      }
    },
    {
      "cell_type": "markdown",
      "source": [
        "### Дополнительные источники информации"
      ],
      "metadata": {
        "id": "Xq8nS5dAv_My"
      }
    },
    {
      "cell_type": "markdown",
      "source": [
        "Контекст: http://ecologylib.ru/books/item/f00/s00/z0000029/st008.shtml?ysclid=l9k3fcqh7c833149832 \n",
        "        https://med7.net/info/jestkost__vody/\n",
        "- о взаимосвязи жесткости воды и смертности"
      ],
      "metadata": {
        "id": "d_RKXziuE-pD"
      }
    },
    {
      "cell_type": "markdown",
      "source": [
        "https://github.com/capissimo/python-for-data-science/blob/master/ch03_Correlation.ipynb \n",
        "\n",
        "*   ресурс самописных функций для DataScience на GitHub\n",
        "\n",
        "\n",
        "\n"
      ],
      "metadata": {
        "id": "0raREDP2iHO1"
      }
    },
    {
      "cell_type": "markdown",
      "source": [
        "## Вспомогательные функции"
      ],
      "metadata": {
        "id": "NiFPaNt0U7ep"
      }
    },
    {
      "cell_type": "code",
      "source": [
        "def shapiro_test(df,names):\n",
        "    \"\"\"\n",
        "    Служебная функция для вывода информации по тесту Шапиро-Уилкса\n",
        "    \"\"\"\n",
        "    seed(1)\n",
        "    for name in names:\n",
        "        stat, p = shapiro(df[name])\n",
        "        print(name)\n",
        "        print('Statistics=%.3f, p=%.3f' % (stat, p))\n",
        "        alpha = 0.05\n",
        "        if p > alpha:\n",
        "            print('Предположительно нормальное распределение (Недостаточно данных, чтобы отвергнуть H0)')\n",
        "        else:\n",
        "            print('Отвергаем H0 о нормальности распределения')\n",
        "        print()"
      ],
      "metadata": {
        "id": "kFEfFEvlK4Gp"
      },
      "execution_count": null,
      "outputs": []
    },
    {
      "cell_type": "code",
      "source": [
        "def statis(df,name):\n",
        "    \"\"\"\n",
        "    Служебная функция для вывода медианы и среднего по выборке, выбросам и выборке без выбросов\n",
        "    \"\"\"\n",
        "    q1 = df[name].quantile(0.25)\n",
        "    q3 = df[name].quantile(0.75)\n",
        "    iqr = q3 - q1\n",
        "    lower_bound = q1 - (1.5 * iqr) \n",
        "    upper_bound = q3 + (1.5 * iqr)\n",
        "    mean_mortality = df[name].mean()\n",
        "    median_mortality = df[name].median()\n",
        "\n",
        "    remove_outliers = df[df[name].between(lower_bound, upper_bound, 'both')]\n",
        "    mean_remove_outliers = remove_outliers[name].mean()\n",
        "    mediana_remove_outliers = remove_outliers[name].median()\n",
        "    outliers = df[~df[name].between(lower_bound, upper_bound, 'both')] # а что это за выбросы?\n",
        "\n",
        "    mean_outliers = outliers[name].mean()\n",
        "    mediana_outliers = outliers[name].median()\n",
        "    print(f'{name}:')\n",
        "    print('======================================================')\n",
        "    print(f'Среднее значение по {name}: {mean_mortality}')\n",
        "    print(f'Медиана по {name}: {median_mortality}')\n",
        "    print()\n",
        "    print(f'Среднее значение по {name} по строкам без выбросов: {mean_remove_outliers}')\n",
        "    print(f'Медиана по {name} по строкам без выбросов: {mediana_remove_outliers}')\n",
        "    print()\n",
        "    print(f'Среднее значение по {name} для выбросов: {mean_outliers}')\n",
        "    print(f'Медиана по {name} для выбросов: {mediana_outliers}')\n",
        "    print(f'% выбросов: {round(len(outliers)/len(df)*100,2)}')\n",
        "    if len(outliers) == 0:\n",
        "        print(f'В {name} выбросов нет')"
      ],
      "metadata": {
        "id": "v91js70rOFHv"
      },
      "execution_count": null,
      "outputs": []
    },
    {
      "cell_type": "code",
      "source": [
        "def get_stat(df,names):\n",
        "  \"\"\"\n",
        "  Служебная Функция для расчета и печати основных статистик.\n",
        "  на входе - имя датафрейма и список названий столбцов\n",
        "  на выходе- к-во признаков серии за вычетом NAN и 10 основных статистик - \n",
        "  max, min, range, mean, mode, std, var, Q1, Q3, iqr\n",
        "  \"\"\"\n",
        "  for name in names:\n",
        "    count_ = df[name].count()\n",
        "    max_ = df[name].max() \n",
        "    min_ = df[name].min()\n",
        "    range_ = round(df[name].max() - df[name].min(),1)\n",
        "    mean_ = df[name].mean()\n",
        "    mediana_ = df[name].quantile(0.50)\n",
        "    mode_ = df[name].mode()[0]\n",
        "    std_ = df[name].std()\n",
        "    var_ = df[name].var()\n",
        "    Q1 = df[name].quantile(0.25)\n",
        "    Q3 = df[name].quantile(0.75) \n",
        "    iqr = Q3-Q1\n",
        "    print(f'{name}:')\n",
        "    print(f'count = {count_}, max = {max_}, min = {min_}, range = {range_}, mean = {mean_}, mediana = {mediana_},  mode = {mode_}, std = {std_}, var = {var_}, Q1 = {Q1},  Q3 = {Q3}, IQR = {iqr}')\n",
        "    print('-------------------------------------------------------------------------------------------------------------------------------------------------------------------')\n"
      ],
      "metadata": {
        "id": "AvJtwSyNxJmw"
      },
      "execution_count": null,
      "outputs": []
    },
    {
      "cell_type": "code",
      "source": [
        "def t_test_verbose(a, sample2=None, mean=None, fn=None):\n",
        "    '''Служебная функция с подробной информацией \n",
        "       результата t-теста Уэлча'''\n",
        "    abar = a.mean()\n",
        "    avar = a.var(ddof=1)  # несмещенное значение\n",
        "    na = a.size\n",
        "    adof = na - 1\n",
        "    conf_int = sst.t.interval(0.95, len(a)-1, \n",
        "                                loc=sp.mean(a), scale=sst.sem(a))\n",
        "\n",
        "    if type(a) == type(sample2):\n",
        "        bbar = sample2.mean()\n",
        "        bvar = sample2.var(ddof=1)\n",
        "        nb = sample2.size\n",
        "        bdof = nb - 1\n",
        "\n",
        "        dof = (avar/na + bvar/nb)**2 /   \\\n",
        "              (avar**2/(na**2*adof) + bvar**2/(nb**2*bdof))\n",
        "        return {'p-значение'           : \n",
        "                   fn(a, sample2, equal_var=False).pvalue,  #  выполняет t-тест Уэлша   \n",
        "                'степени свободы     ' : dof,  #t_test(a, b),   \n",
        "                'интервал уверенности' : conf_int,         \n",
        "                'n1          ' : a.count(),\n",
        "                'n2          ' : sample2.count(),\n",
        "                'среднее x   ' : a.mean(),\n",
        "                'среднее y   ' : sample2.mean(),\n",
        "                'дисперсия x ' : a.var(),\n",
        "                'дисперсия y ' : sample2.var(),\n",
        "                't-статистика' : fn( a, sample2, equal_var=False ).statistic} \n",
        "    else:\n",
        "        dof = (avar/na) / (avar/(na*adof))\n",
        "        return {'p-значение          ' : fn(a, mean).pvalue,    \n",
        "                'степени свободы df  ' : dof,    \n",
        "                'интервал уверенности' : conf_int, \n",
        "                'n1                  ' : a.count(),\n",
        "                'среднее x           ' : a.mean(),\n",
        "                'дисперсия x         ' : a.var(),\n",
        "                't-статистика        ' : fn(a, mean).statistic} "
      ],
      "metadata": {
        "id": "SkMPF3l_irHs"
      },
      "execution_count": null,
      "outputs": []
    },
    {
      "cell_type": "markdown",
      "source": [
        "### Импорт библиотек"
      ],
      "metadata": {
        "id": "emvkTo4rrXCh"
      }
    },
    {
      "cell_type": "code",
      "source": [
        "import pandas as pd\n",
        "import numpy as np \n",
        "from numpy.random import seed\n",
        "import os\n",
        "import matplotlib.pyplot as plt\n",
        "from matplotlib import pyplot\n",
        "import seaborn as sns\n",
        "from sklearn.linear_model import LinearRegression\n",
        "from sklearn.model_selection import train_test_split\n",
        "import scipy as sp\n",
        "import scipy.stats as sst\n",
        "from scipy.stats import shapiro\n",
        "from statsmodels.graphics.gofplots import qqplot\n",
        "import statsmodels.api as sm\n",
        "from statsmodels.sandbox.regression.predstd import wls_prediction_std"
      ],
      "metadata": {
        "id": "2fwDSqPArbLQ"
      },
      "execution_count": null,
      "outputs": []
    },
    {
      "cell_type": "markdown",
      "source": [
        "## Загрузка датасета"
      ],
      "metadata": {
        "id": "J9iJ1vM5oy3f"
      }
    },
    {
      "cell_type": "code",
      "execution_count": null,
      "metadata": {
        "id": "JJetElO0NRh6"
      },
      "outputs": [],
      "source": [
        "for dirname, _, filenames in os.walk('/kaggle/input'):\n",
        "    for filename in filenames:\n",
        "        print(os.path.join(dirname, filename))\n"
      ]
    },
    {
      "cell_type": "code",
      "source": [
        "!pip install -q kaggle # Делаем 1 раз"
      ],
      "metadata": {
        "id": "jUWnsNN0SZ3Z"
      },
      "execution_count": null,
      "outputs": []
    },
    {
      "cell_type": "code",
      "source": [
        "# Это напоминалка - приглашение загрузить в сессионное хранилище свой kaggle.json\n",
        "from google.colab import files\n",
        "files.upload()"
      ],
      "metadata": {
        "colab": {
          "base_uri": "https://localhost:8080/",
          "height": 93
        },
        "id": "aLIlK6oNVDeb",
        "outputId": "779559fa-ba5b-4e1b-f044-a90641e93983"
      },
      "execution_count": null,
      "outputs": [
        {
          "output_type": "display_data",
          "data": {
            "text/plain": [
              "<IPython.core.display.HTML object>"
            ],
            "text/html": [
              "\n",
              "     <input type=\"file\" id=\"files-d4de44ca-b41d-48c6-9069-94d445b17286\" name=\"files[]\" multiple disabled\n",
              "        style=\"border:none\" />\n",
              "     <output id=\"result-d4de44ca-b41d-48c6-9069-94d445b17286\">\n",
              "      Upload widget is only available when the cell has been executed in the\n",
              "      current browser session. Please rerun this cell to enable.\n",
              "      </output>\n",
              "      <script>// Copyright 2017 Google LLC\n",
              "//\n",
              "// Licensed under the Apache License, Version 2.0 (the \"License\");\n",
              "// you may not use this file except in compliance with the License.\n",
              "// You may obtain a copy of the License at\n",
              "//\n",
              "//      http://www.apache.org/licenses/LICENSE-2.0\n",
              "//\n",
              "// Unless required by applicable law or agreed to in writing, software\n",
              "// distributed under the License is distributed on an \"AS IS\" BASIS,\n",
              "// WITHOUT WARRANTIES OR CONDITIONS OF ANY KIND, either express or implied.\n",
              "// See the License for the specific language governing permissions and\n",
              "// limitations under the License.\n",
              "\n",
              "/**\n",
              " * @fileoverview Helpers for google.colab Python module.\n",
              " */\n",
              "(function(scope) {\n",
              "function span(text, styleAttributes = {}) {\n",
              "  const element = document.createElement('span');\n",
              "  element.textContent = text;\n",
              "  for (const key of Object.keys(styleAttributes)) {\n",
              "    element.style[key] = styleAttributes[key];\n",
              "  }\n",
              "  return element;\n",
              "}\n",
              "\n",
              "// Max number of bytes which will be uploaded at a time.\n",
              "const MAX_PAYLOAD_SIZE = 100 * 1024;\n",
              "\n",
              "function _uploadFiles(inputId, outputId) {\n",
              "  const steps = uploadFilesStep(inputId, outputId);\n",
              "  const outputElement = document.getElementById(outputId);\n",
              "  // Cache steps on the outputElement to make it available for the next call\n",
              "  // to uploadFilesContinue from Python.\n",
              "  outputElement.steps = steps;\n",
              "\n",
              "  return _uploadFilesContinue(outputId);\n",
              "}\n",
              "\n",
              "// This is roughly an async generator (not supported in the browser yet),\n",
              "// where there are multiple asynchronous steps and the Python side is going\n",
              "// to poll for completion of each step.\n",
              "// This uses a Promise to block the python side on completion of each step,\n",
              "// then passes the result of the previous step as the input to the next step.\n",
              "function _uploadFilesContinue(outputId) {\n",
              "  const outputElement = document.getElementById(outputId);\n",
              "  const steps = outputElement.steps;\n",
              "\n",
              "  const next = steps.next(outputElement.lastPromiseValue);\n",
              "  return Promise.resolve(next.value.promise).then((value) => {\n",
              "    // Cache the last promise value to make it available to the next\n",
              "    // step of the generator.\n",
              "    outputElement.lastPromiseValue = value;\n",
              "    return next.value.response;\n",
              "  });\n",
              "}\n",
              "\n",
              "/**\n",
              " * Generator function which is called between each async step of the upload\n",
              " * process.\n",
              " * @param {string} inputId Element ID of the input file picker element.\n",
              " * @param {string} outputId Element ID of the output display.\n",
              " * @return {!Iterable<!Object>} Iterable of next steps.\n",
              " */\n",
              "function* uploadFilesStep(inputId, outputId) {\n",
              "  const inputElement = document.getElementById(inputId);\n",
              "  inputElement.disabled = false;\n",
              "\n",
              "  const outputElement = document.getElementById(outputId);\n",
              "  outputElement.innerHTML = '';\n",
              "\n",
              "  const pickedPromise = new Promise((resolve) => {\n",
              "    inputElement.addEventListener('change', (e) => {\n",
              "      resolve(e.target.files);\n",
              "    });\n",
              "  });\n",
              "\n",
              "  const cancel = document.createElement('button');\n",
              "  inputElement.parentElement.appendChild(cancel);\n",
              "  cancel.textContent = 'Cancel upload';\n",
              "  const cancelPromise = new Promise((resolve) => {\n",
              "    cancel.onclick = () => {\n",
              "      resolve(null);\n",
              "    };\n",
              "  });\n",
              "\n",
              "  // Wait for the user to pick the files.\n",
              "  const files = yield {\n",
              "    promise: Promise.race([pickedPromise, cancelPromise]),\n",
              "    response: {\n",
              "      action: 'starting',\n",
              "    }\n",
              "  };\n",
              "\n",
              "  cancel.remove();\n",
              "\n",
              "  // Disable the input element since further picks are not allowed.\n",
              "  inputElement.disabled = true;\n",
              "\n",
              "  if (!files) {\n",
              "    return {\n",
              "      response: {\n",
              "        action: 'complete',\n",
              "      }\n",
              "    };\n",
              "  }\n",
              "\n",
              "  for (const file of files) {\n",
              "    const li = document.createElement('li');\n",
              "    li.append(span(file.name, {fontWeight: 'bold'}));\n",
              "    li.append(span(\n",
              "        `(${file.type || 'n/a'}) - ${file.size} bytes, ` +\n",
              "        `last modified: ${\n",
              "            file.lastModifiedDate ? file.lastModifiedDate.toLocaleDateString() :\n",
              "                                    'n/a'} - `));\n",
              "    const percent = span('0% done');\n",
              "    li.appendChild(percent);\n",
              "\n",
              "    outputElement.appendChild(li);\n",
              "\n",
              "    const fileDataPromise = new Promise((resolve) => {\n",
              "      const reader = new FileReader();\n",
              "      reader.onload = (e) => {\n",
              "        resolve(e.target.result);\n",
              "      };\n",
              "      reader.readAsArrayBuffer(file);\n",
              "    });\n",
              "    // Wait for the data to be ready.\n",
              "    let fileData = yield {\n",
              "      promise: fileDataPromise,\n",
              "      response: {\n",
              "        action: 'continue',\n",
              "      }\n",
              "    };\n",
              "\n",
              "    // Use a chunked sending to avoid message size limits. See b/62115660.\n",
              "    let position = 0;\n",
              "    do {\n",
              "      const length = Math.min(fileData.byteLength - position, MAX_PAYLOAD_SIZE);\n",
              "      const chunk = new Uint8Array(fileData, position, length);\n",
              "      position += length;\n",
              "\n",
              "      const base64 = btoa(String.fromCharCode.apply(null, chunk));\n",
              "      yield {\n",
              "        response: {\n",
              "          action: 'append',\n",
              "          file: file.name,\n",
              "          data: base64,\n",
              "        },\n",
              "      };\n",
              "\n",
              "      let percentDone = fileData.byteLength === 0 ?\n",
              "          100 :\n",
              "          Math.round((position / fileData.byteLength) * 100);\n",
              "      percent.textContent = `${percentDone}% done`;\n",
              "\n",
              "    } while (position < fileData.byteLength);\n",
              "  }\n",
              "\n",
              "  // All done.\n",
              "  yield {\n",
              "    response: {\n",
              "      action: 'complete',\n",
              "    }\n",
              "  };\n",
              "}\n",
              "\n",
              "scope.google = scope.google || {};\n",
              "scope.google.colab = scope.google.colab || {};\n",
              "scope.google.colab._files = {\n",
              "  _uploadFiles,\n",
              "  _uploadFilesContinue,\n",
              "};\n",
              "})(self);\n",
              "</script> "
            ]
          },
          "metadata": {}
        },
        {
          "output_type": "stream",
          "name": "stdout",
          "text": [
            "Saving kaggle.json to kaggle.json\n"
          ]
        },
        {
          "output_type": "execute_result",
          "data": {
            "text/plain": [
              "{'kaggle.json': b'{\"username\":\"marinabalakina\",\"key\":\"0763a280a2e52ea690b44499c8ab213e\"}'}"
            ]
          },
          "metadata": {},
          "execution_count": 8
        }
      ]
    },
    {
      "cell_type": "code",
      "source": [
        "! mkdir ~/.kaggle # Создаем каталог .caggle  1 раз, для того, чтобы сюда положить ключ kaggle.json, который получаем на Kaggle при регистрации"
      ],
      "metadata": {
        "id": "mMBZJnc1VDSY"
      },
      "execution_count": null,
      "outputs": []
    },
    {
      "cell_type": "code",
      "source": [
        "! cp kaggle.json ~/.kaggle/  # кладем"
      ],
      "metadata": {
        "id": "6nexyMF7VJR8"
      },
      "execution_count": null,
      "outputs": []
    },
    {
      "cell_type": "code",
      "source": [
        "! chmod 600 /root/.kaggle/kaggle.json # засекречиваем. К сожалению, это все только на время сеанса"
      ],
      "metadata": {
        "id": "AntV6mU6VTG6",
        "outputId": "d97b0f14-eb7c-4461-9937-18a9e88d9aa4",
        "colab": {
          "base_uri": "https://localhost:8080/"
        }
      },
      "execution_count": null,
      "outputs": [
        {
          "output_type": "stream",
          "name": "stdout",
          "text": [
            "chmod: cannot access '/root/.kaggle/kaggle.json': No such file or directory\n"
          ]
        }
      ]
    },
    {
      "cell_type": "code",
      "source": [
        "!kaggle datasets download -d 'ukveteran/mortality-and-water-hardness' "
      ],
      "metadata": {
        "colab": {
          "base_uri": "https://localhost:8080/"
        },
        "id": "zSGAz7b7SpLr",
        "outputId": "e8f1f27c-95bb-47ac-850c-7559b15eed88"
      },
      "execution_count": null,
      "outputs": [
        {
          "output_type": "stream",
          "name": "stdout",
          "text": [
            "Warning: Your Kaggle API key is readable by other users on this system! To fix this, you can run 'chmod 600 /root/.kaggle/kaggle.json'\n",
            "Downloading mortality-and-water-hardness.zip to /content\n",
            "  0% 0.00/0.98k [00:00<?, ?B/s]\n",
            "100% 0.98k/0.98k [00:00<00:00, 755kB/s]\n"
          ]
        }
      ]
    },
    {
      "cell_type": "code",
      "source": [
        "! unzip mortality-and-water-hardness  \n"
      ],
      "metadata": {
        "colab": {
          "base_uri": "https://localhost:8080/"
        },
        "id": "y8y9-ko866Ts",
        "outputId": "7976e9bc-c60a-4207-efdd-ecf97dd42d67"
      },
      "execution_count": null,
      "outputs": [
        {
          "output_type": "stream",
          "name": "stdout",
          "text": [
            "Archive:  mortality-and-water-hardness.zip\n",
            "  inflating: water.csv               \n"
          ]
        }
      ]
    },
    {
      "cell_type": "code",
      "source": [
        "df = pd.read_csv('/content/water.csv')"
      ],
      "metadata": {
        "id": "hVBO0GeWNZqM"
      },
      "execution_count": null,
      "outputs": []
    },
    {
      "cell_type": "code",
      "source": [
        "df.head()"
      ],
      "metadata": {
        "colab": {
          "base_uri": "https://localhost:8080/",
          "height": 206
        },
        "id": "Gxmw0uRNZrP5",
        "outputId": "4f2f0e70-9ba0-435f-c6bb-dc26ed3816db"
      },
      "execution_count": null,
      "outputs": [
        {
          "output_type": "execute_result",
          "data": {
            "text/plain": [
              "   Unnamed: 0 location        town  mortality  hardness\n",
              "0           1    South        Bath       1247       105\n",
              "1           2    North  Birkenhead       1668        17\n",
              "2           3    South  Birmingham       1466         5\n",
              "3           4    North   Blackburn       1800        14\n",
              "4           5    North   Blackpool       1609        18"
            ],
            "text/html": [
              "\n",
              "  <div id=\"df-a0615be2-4099-45d4-a3e7-f6a205ff91eb\">\n",
              "    <div class=\"colab-df-container\">\n",
              "      <div>\n",
              "<style scoped>\n",
              "    .dataframe tbody tr th:only-of-type {\n",
              "        vertical-align: middle;\n",
              "    }\n",
              "\n",
              "    .dataframe tbody tr th {\n",
              "        vertical-align: top;\n",
              "    }\n",
              "\n",
              "    .dataframe thead th {\n",
              "        text-align: right;\n",
              "    }\n",
              "</style>\n",
              "<table border=\"1\" class=\"dataframe\">\n",
              "  <thead>\n",
              "    <tr style=\"text-align: right;\">\n",
              "      <th></th>\n",
              "      <th>Unnamed: 0</th>\n",
              "      <th>location</th>\n",
              "      <th>town</th>\n",
              "      <th>mortality</th>\n",
              "      <th>hardness</th>\n",
              "    </tr>\n",
              "  </thead>\n",
              "  <tbody>\n",
              "    <tr>\n",
              "      <th>0</th>\n",
              "      <td>1</td>\n",
              "      <td>South</td>\n",
              "      <td>Bath</td>\n",
              "      <td>1247</td>\n",
              "      <td>105</td>\n",
              "    </tr>\n",
              "    <tr>\n",
              "      <th>1</th>\n",
              "      <td>2</td>\n",
              "      <td>North</td>\n",
              "      <td>Birkenhead</td>\n",
              "      <td>1668</td>\n",
              "      <td>17</td>\n",
              "    </tr>\n",
              "    <tr>\n",
              "      <th>2</th>\n",
              "      <td>3</td>\n",
              "      <td>South</td>\n",
              "      <td>Birmingham</td>\n",
              "      <td>1466</td>\n",
              "      <td>5</td>\n",
              "    </tr>\n",
              "    <tr>\n",
              "      <th>3</th>\n",
              "      <td>4</td>\n",
              "      <td>North</td>\n",
              "      <td>Blackburn</td>\n",
              "      <td>1800</td>\n",
              "      <td>14</td>\n",
              "    </tr>\n",
              "    <tr>\n",
              "      <th>4</th>\n",
              "      <td>5</td>\n",
              "      <td>North</td>\n",
              "      <td>Blackpool</td>\n",
              "      <td>1609</td>\n",
              "      <td>18</td>\n",
              "    </tr>\n",
              "  </tbody>\n",
              "</table>\n",
              "</div>\n",
              "      <button class=\"colab-df-convert\" onclick=\"convertToInteractive('df-a0615be2-4099-45d4-a3e7-f6a205ff91eb')\"\n",
              "              title=\"Convert this dataframe to an interactive table.\"\n",
              "              style=\"display:none;\">\n",
              "        \n",
              "  <svg xmlns=\"http://www.w3.org/2000/svg\" height=\"24px\"viewBox=\"0 0 24 24\"\n",
              "       width=\"24px\">\n",
              "    <path d=\"M0 0h24v24H0V0z\" fill=\"none\"/>\n",
              "    <path d=\"M18.56 5.44l.94 2.06.94-2.06 2.06-.94-2.06-.94-.94-2.06-.94 2.06-2.06.94zm-11 1L8.5 8.5l.94-2.06 2.06-.94-2.06-.94L8.5 2.5l-.94 2.06-2.06.94zm10 10l.94 2.06.94-2.06 2.06-.94-2.06-.94-.94-2.06-.94 2.06-2.06.94z\"/><path d=\"M17.41 7.96l-1.37-1.37c-.4-.4-.92-.59-1.43-.59-.52 0-1.04.2-1.43.59L10.3 9.45l-7.72 7.72c-.78.78-.78 2.05 0 2.83L4 21.41c.39.39.9.59 1.41.59.51 0 1.02-.2 1.41-.59l7.78-7.78 2.81-2.81c.8-.78.8-2.07 0-2.86zM5.41 20L4 18.59l7.72-7.72 1.47 1.35L5.41 20z\"/>\n",
              "  </svg>\n",
              "      </button>\n",
              "      \n",
              "  <style>\n",
              "    .colab-df-container {\n",
              "      display:flex;\n",
              "      flex-wrap:wrap;\n",
              "      gap: 12px;\n",
              "    }\n",
              "\n",
              "    .colab-df-convert {\n",
              "      background-color: #E8F0FE;\n",
              "      border: none;\n",
              "      border-radius: 50%;\n",
              "      cursor: pointer;\n",
              "      display: none;\n",
              "      fill: #1967D2;\n",
              "      height: 32px;\n",
              "      padding: 0 0 0 0;\n",
              "      width: 32px;\n",
              "    }\n",
              "\n",
              "    .colab-df-convert:hover {\n",
              "      background-color: #E2EBFA;\n",
              "      box-shadow: 0px 1px 2px rgba(60, 64, 67, 0.3), 0px 1px 3px 1px rgba(60, 64, 67, 0.15);\n",
              "      fill: #174EA6;\n",
              "    }\n",
              "\n",
              "    [theme=dark] .colab-df-convert {\n",
              "      background-color: #3B4455;\n",
              "      fill: #D2E3FC;\n",
              "    }\n",
              "\n",
              "    [theme=dark] .colab-df-convert:hover {\n",
              "      background-color: #434B5C;\n",
              "      box-shadow: 0px 1px 3px 1px rgba(0, 0, 0, 0.15);\n",
              "      filter: drop-shadow(0px 1px 2px rgba(0, 0, 0, 0.3));\n",
              "      fill: #FFFFFF;\n",
              "    }\n",
              "  </style>\n",
              "\n",
              "      <script>\n",
              "        const buttonEl =\n",
              "          document.querySelector('#df-a0615be2-4099-45d4-a3e7-f6a205ff91eb button.colab-df-convert');\n",
              "        buttonEl.style.display =\n",
              "          google.colab.kernel.accessAllowed ? 'block' : 'none';\n",
              "\n",
              "        async function convertToInteractive(key) {\n",
              "          const element = document.querySelector('#df-a0615be2-4099-45d4-a3e7-f6a205ff91eb');\n",
              "          const dataTable =\n",
              "            await google.colab.kernel.invokeFunction('convertToInteractive',\n",
              "                                                     [key], {});\n",
              "          if (!dataTable) return;\n",
              "\n",
              "          const docLinkHtml = 'Like what you see? Visit the ' +\n",
              "            '<a target=\"_blank\" href=https://colab.research.google.com/notebooks/data_table.ipynb>data table notebook</a>'\n",
              "            + ' to learn more about interactive tables.';\n",
              "          element.innerHTML = '';\n",
              "          dataTable['output_type'] = 'display_data';\n",
              "          await google.colab.output.renderOutput(dataTable, element);\n",
              "          const docLink = document.createElement('div');\n",
              "          docLink.innerHTML = docLinkHtml;\n",
              "          element.appendChild(docLink);\n",
              "        }\n",
              "      </script>\n",
              "    </div>\n",
              "  </div>\n",
              "  "
            ]
          },
          "metadata": {},
          "execution_count": 15
        }
      ]
    },
    {
      "cell_type": "code",
      "source": [
        "df.info() # Пропусков нет"
      ],
      "metadata": {
        "colab": {
          "base_uri": "https://localhost:8080/"
        },
        "id": "f5T4OPpRPW_8",
        "outputId": "88441165-2f54-4f5f-8b41-08f0f898bb64"
      },
      "execution_count": null,
      "outputs": [
        {
          "output_type": "stream",
          "name": "stdout",
          "text": [
            "<class 'pandas.core.frame.DataFrame'>\n",
            "RangeIndex: 61 entries, 0 to 60\n",
            "Data columns (total 5 columns):\n",
            " #   Column      Non-Null Count  Dtype \n",
            "---  ------      --------------  ----- \n",
            " 0   Unnamed: 0  61 non-null     int64 \n",
            " 1   location    61 non-null     object\n",
            " 2   town        61 non-null     object\n",
            " 3   mortality   61 non-null     int64 \n",
            " 4   hardness    61 non-null     int64 \n",
            "dtypes: int64(3), object(2)\n",
            "memory usage: 2.5+ KB\n"
          ]
        }
      ]
    },
    {
      "cell_type": "code",
      "source": [
        "get_stat(df,['mortality', 'hardness'])"
      ],
      "metadata": {
        "colab": {
          "base_uri": "https://localhost:8080/"
        },
        "id": "YAaEfe_0xb6M",
        "outputId": "ec47696a-dd3a-4334-a258-c12108cffe8c"
      },
      "execution_count": null,
      "outputs": [
        {
          "output_type": "stream",
          "name": "stdout",
          "text": [
            "mortality:\n",
            "count = 61, max = 1987, min = 1096, range = 891, mean = 1524.1475409836066, mediana = 1555.0,  mode = 1486, std = 187.6687539314571, var = 35219.561202185796, Q1 = 1379.0,  Q3 = 1668.0, IQR = 289.0\n",
            "-------------------------------------------------------------------------------------------------------------------------------------------------------------------\n",
            "hardness:\n",
            "count = 61, max = 138, min = 5, range = 133, mean = 47.18032786885246, mediana = 39.0,  mode = 14, std = 38.0939663624575, var = 1451.1502732240438, Q1 = 14.0,  Q3 = 75.0, IQR = 61.0\n",
            "-------------------------------------------------------------------------------------------------------------------------------------------------------------------\n"
          ]
        }
      ]
    },
    {
      "cell_type": "markdown",
      "source": [
        "#### 4 значимых столбца:\n",
        " \n",
        "*   location - категориальный признак для отнесения к северу или югу;\n",
        "*   town - категориальный признак для отнесения к одному из городов\n",
        "*   hardness - количественный признак - концентрация кальция (в частях на миллион) в питьевом водоснабжении\n",
        "*   mortality - количественный признак -ежегодная смертность на 100 000 мужчин\n",
        "\n",
        "\n",
        "\n",
        "\n"
      ],
      "metadata": {
        "id": "3OvM-Q1CFjKV"
      }
    },
    {
      "cell_type": "markdown",
      "source": [
        "## Задание 1"
      ],
      "metadata": {
        "id": "pta1my2co6Re"
      }
    },
    {
      "cell_type": "markdown",
      "source": [
        "### Есть ли различия в данных выборки?"
      ],
      "metadata": {
        "id": "Ri_DG9DWez3x"
      }
    },
    {
      "cell_type": "code",
      "source": [
        "df.hardness.unique()"
      ],
      "metadata": {
        "colab": {
          "base_uri": "https://localhost:8080/"
        },
        "id": "7aqfcehqFvTk",
        "outputId": "51619960-1a5a-4f83-bee7-db2fcae5ecc9"
      },
      "execution_count": null,
      "outputs": [
        {
          "output_type": "execute_result",
          "data": {
            "text/plain": [
              "array([105,  17,   5,  14,  18,  10,  15,  78,  84,  73,  12,  21,  96,\n",
              "        20,  39, 122,  44,  94,   8,   9,  91, 138,  16,  37,  26,  59,\n",
              "       133,  27,   6, 107,  90, 101,  13,  49,  68,  50,  75,  71,  57,\n",
              "        60,  53,  81])"
            ]
          },
          "metadata": {},
          "execution_count": 18
        }
      ]
    },
    {
      "cell_type": "code",
      "source": [
        "df.mortality.unique()"
      ],
      "metadata": {
        "colab": {
          "base_uri": "https://localhost:8080/"
        },
        "id": "bbch8XDcGNa7",
        "outputId": "b7a5fd15-7bfa-4876-a1c5-40d76fa58b6e"
      },
      "execution_count": null,
      "outputs": [
        {
          "output_type": "execute_result",
          "data": {
            "text/plain": [
              "array([1247, 1668, 1466, 1800, 1609, 1558, 1807, 1299, 1637, 1359, 1392,\n",
              "       1755, 1519, 1307, 1254, 1491, 1555, 1428, 1318, 1260, 1723, 1379,\n",
              "       1742, 1574, 1569, 1096, 1591, 1402, 1772, 1828, 1704, 1702, 1581,\n",
              "       1309, 1259, 1427, 1724, 1175, 1486, 1456, 1696, 1236, 1711, 1444,\n",
              "       1987, 1495, 1369, 1257, 1587, 1713, 1557, 1640, 1709, 1625, 1527,\n",
              "       1627, 1485, 1378])"
            ]
          },
          "metadata": {},
          "execution_count": 19
        }
      ]
    },
    {
      "cell_type": "code",
      "source": [
        "#В каком городе наибольшая смертность?\n",
        "df[df.mortality == max(df.mortality)]\n",
        "df.iloc[df.mortality.argmax(), :]"
      ],
      "metadata": {
        "colab": {
          "base_uri": "https://localhost:8080/"
        },
        "id": "xUG-euHHUqe_",
        "outputId": "f76ec3a9-5eb3-4170-f7c1-73660608f2ac"
      },
      "execution_count": null,
      "outputs": [
        {
          "output_type": "execute_result",
          "data": {
            "text/plain": [
              "Unnamed: 0         46\n",
              "location        North\n",
              "town          Salford\n",
              "mortality        1987\n",
              "hardness            8\n",
              "Name: 45, dtype: object"
            ]
          },
          "metadata": {},
          "execution_count": 20
        }
      ]
    },
    {
      "cell_type": "code",
      "source": [
        "#В каком городе минимальная смертность?\n",
        "df[df.mortality ==min(df.mortality)]\n",
        "df.iloc[df.mortality.argmin(), :]"
      ],
      "metadata": {
        "colab": {
          "base_uri": "https://localhost:8080/"
        },
        "id": "cwNx0QphZvpu",
        "outputId": "a8107532-034d-4b27-de84-6d38d402c6d0"
      },
      "execution_count": null,
      "outputs": [
        {
          "output_type": "execute_result",
          "data": {
            "text/plain": [
              "Unnamed: 0         26\n",
              "location        South\n",
              "town          Ipswich\n",
              "mortality        1096\n",
              "hardness          138\n",
              "Name: 25, dtype: object"
            ]
          },
          "metadata": {},
          "execution_count": 21
        }
      ]
    },
    {
      "cell_type": "code",
      "source": [
        "#В каком городе наибольшая жесткость воды?\n",
        "df[df.hardness == max(df.hardness)]\n",
        "df.iloc[df.hardness.argmax(), :]"
      ],
      "metadata": {
        "colab": {
          "base_uri": "https://localhost:8080/"
        },
        "id": "NRERgkbgGVyM",
        "outputId": "7185bf27-dc9c-41f6-da05-e4fdbeaf8817"
      },
      "execution_count": null,
      "outputs": [
        {
          "output_type": "execute_result",
          "data": {
            "text/plain": [
              "Unnamed: 0         26\n",
              "location        South\n",
              "town          Ipswich\n",
              "mortality        1096\n",
              "hardness          138\n",
              "Name: 25, dtype: object"
            ]
          },
          "metadata": {},
          "execution_count": 22
        }
      ]
    },
    {
      "cell_type": "code",
      "source": [
        "#В каком городе минимальная жесткость воды?\n",
        "df[df.hardness == min(df.hardness)]\n",
        "df.iloc[df.hardness.argmin(), :]"
      ],
      "metadata": {
        "colab": {
          "base_uri": "https://localhost:8080/"
        },
        "id": "rgXCvDbeGgNw",
        "outputId": "e721fc56-cd03-492e-d397-5c7952a6d60d"
      },
      "execution_count": null,
      "outputs": [
        {
          "output_type": "execute_result",
          "data": {
            "text/plain": [
              "Unnamed: 0             3\n",
              "location           South\n",
              "town          Birmingham\n",
              "mortality           1466\n",
              "hardness               5\n",
              "Name: 2, dtype: object"
            ]
          },
          "metadata": {},
          "execution_count": 23
        }
      ]
    },
    {
      "cell_type": "code",
      "source": [
        "df[df.town == 'Salford']['hardness']"
      ],
      "metadata": {
        "colab": {
          "base_uri": "https://localhost:8080/"
        },
        "id": "jo_vSUFdG2W8",
        "outputId": "f64c4da0-b6e9-4fc9-db3f-608db6fec5c9"
      },
      "execution_count": null,
      "outputs": [
        {
          "output_type": "execute_result",
          "data": {
            "text/plain": [
              "45    8\n",
              "Name: hardness, dtype: int64"
            ]
          },
          "metadata": {},
          "execution_count": 24
        }
      ]
    },
    {
      "cell_type": "markdown",
      "source": [
        "Как видно из расчетов, В Ипсвиче с очень жесткой водой (hardness = 138) смертность почти в 2 раза меньше, чем в Сэлфорде, где жесткость одна из самых низких"
      ],
      "metadata": {
        "id": "aRLoF2FmZ8F9"
      }
    },
    {
      "cell_type": "markdown",
      "source": [
        "### Построение точечного графика"
      ],
      "metadata": {
        "id": "OhKJtxP6pNOO"
      }
    },
    {
      "cell_type": "markdown",
      "source": [
        "#### Точечный график"
      ],
      "metadata": {
        "id": "wmhFj0ZvR2AN"
      }
    },
    {
      "cell_type": "code",
      "source": [
        "df.plot(kind='scatter', x='hardness', y='mortality')\n",
        "plt.show()"
      ],
      "metadata": {
        "colab": {
          "base_uri": "https://localhost:8080/",
          "height": 297
        },
        "id": "mg-4p8APpEOd",
        "outputId": "236ac624-b8a8-4377-c8a0-06e15e8b31e5"
      },
      "execution_count": null,
      "outputs": [
        {
          "output_type": "execute_result",
          "data": {
            "text/plain": [
              "<matplotlib.axes._subplots.AxesSubplot at 0x7fd3cdcb5b90>"
            ]
          },
          "metadata": {},
          "execution_count": 25
        },
        {
          "output_type": "display_data",
          "data": {
            "text/plain": [
              "<Figure size 432x288 with 1 Axes>"
            ],
            "image/png": "[encoded data removed]"
          },
          "metadata": {
            "needs_background": "light"
          }
        }
      ]
    },
    {
      "cell_type": "markdown",
      "source": [
        "На точечном графике наблюдается отсутствие хаотичности. Значения не попадают в область \"высокая смертность - высокая жесткость воды\", и \"низкая смертность - низкая жесткость, что позволяет предположить наличие обратной корреляции между этими факторами "
      ],
      "metadata": {
        "id": "SIMBqe9h2jQn"
      }
    },
    {
      "cell_type": "markdown",
      "source": [
        "#### pairplot для mortality и hardness"
      ],
      "metadata": {
        "id": "goTBDd5BR-sU"
      }
    },
    {
      "cell_type": "code",
      "source": [
        "sns.pairplot(df[['mortality', 'hardness']], kind='reg')"
      ],
      "metadata": {
        "colab": {
          "base_uri": "https://localhost:8080/",
          "height": 392
        },
        "id": "R4RHZKypNc0u",
        "outputId": "4f365352-23bf-4434-b9d8-79c5ae5970ec"
      },
      "execution_count": null,
      "outputs": [
        {
          "output_type": "execute_result",
          "data": {
            "text/plain": [
              "<seaborn.axisgrid.PairGrid at 0x7fd3cdd6c6d0>"
            ]
          },
          "metadata": {},
          "execution_count": 26
        },
        {
          "output_type": "display_data",
          "data": {
            "text/plain": [
              "<Figure size 360x360 with 6 Axes>"
            ],
            "image/png": "[encoded data removed]"
          },
          "metadata": {
            "needs_background": "light"
          }
        }
      ]
    },
    {
      "cell_type": "markdown",
      "source": [
        "####  для проверки распределения выборки данных построим график квантиль-квантиль, график Q-Q "
      ],
      "metadata": {
        "id": "OTcASNquHUtq"
      }
    },
    {
      "cell_type": "code",
      "source": [
        "seed(1)\n",
        "qqplot(df['mortality'], line='s')\n",
        "qqplot(df['hardness'], line='s')\n",
        "pyplot.show()"
      ],
      "metadata": {
        "colab": {
          "base_uri": "https://localhost:8080/",
          "height": 541
        },
        "id": "6mc-s_u0G_wc",
        "outputId": "7e5a4ec5-4125-4ab2-e279-b52693721f2c"
      },
      "execution_count": null,
      "outputs": [
        {
          "output_type": "display_data",
          "data": {
            "text/plain": [
              "<Figure size 432x288 with 1 Axes>"
            ],
            "image/png": "[encoded data removed]"
          },
          "metadata": {
            "needs_background": "light"
          }
        },
        {
          "output_type": "display_data",
          "data": {
            "text/plain": [
              "<Figure size 432x288 with 1 Axes>"
            ],
            "image/png": "[encoded data removed]"
          },
          "metadata": {
            "needs_background": "light"
          }
        }
      ]
    },
    {
      "cell_type": "markdown",
      "source": [
        "Судя по графику QQ-plot, распределение mortality блико к нормальному, а распределение hardness - нет"
      ],
      "metadata": {
        "id": "ycvozShvHtLK"
      }
    },
    {
      "cell_type": "code",
      "source": [
        "shapiro_test(df,['mortality', 'hardness'])"
      ],
      "metadata": {
        "colab": {
          "base_uri": "https://localhost:8080/"
        },
        "id": "EOgGaI_FUjFn",
        "outputId": "36368580-9a63-4578-9cf1-70d26ceb0dd3"
      },
      "execution_count": null,
      "outputs": [
        {
          "output_type": "stream",
          "name": "stdout",
          "text": [
            "mortality\n",
            "Statistics=0.986, p=0.688\n",
            "Предположительно нормальное распределение (Недостаточно данных, чтобы отвергнуть H0)\n",
            "\n",
            "hardness\n",
            "Statistics=0.888, p=0.000\n",
            "Отвергаем H0 о нормальности распределения\n",
            "\n"
          ]
        }
      ]
    },
    {
      "cell_type": "markdown",
      "source": [
        "Наблюдается средняя обратная линейная корреляция (с увеличением жесткости одновременно снижается смертность. Также визуально определяется незначительное количество выбросов ( требуется количественная проверка).\n",
        "Распределение mortality визуально близко к нормальному, а распределение жесткости - нет. Критерии Шапиро - Уилка это подтверждают. Поэтому коэффициент корреляции Пирсон может быть недостоверным, потребуется дополнительная проверка"
      ],
      "metadata": {
        "id": "PcUTvH2lMrRY"
      }
    },
    {
      "cell_type": "markdown",
      "source": [
        "#### Попробуем определить выбросы для mortality и hardness"
      ],
      "metadata": {
        "id": "56QfrUCpOFyx"
      }
    },
    {
      "cell_type": "code",
      "source": [
        "statis(df,'mortality')"
      ],
      "metadata": {
        "colab": {
          "base_uri": "https://localhost:8080/"
        },
        "id": "ihD-Dqk4RKsO",
        "outputId": "40ced7be-71a5-4f3e-9d9a-e45073814d7b"
      },
      "execution_count": null,
      "outputs": [
        {
          "output_type": "stream",
          "name": "stdout",
          "text": [
            "mortality:\n",
            "======================================================\n",
            "Среднее значение по mortality: 1524.1475409836066\n",
            "Медиана по mortality: 1555.0\n",
            "\n",
            "Среднее значение по mortality по строкам без выбросов: 1524.1475409836066\n",
            "Медиана по mortality по строкам без выбросов: 1555.0\n",
            "\n",
            "Среднее значение по mortality для выбросов: nan\n",
            "Медиана по mortality для выбросов: nan\n",
            "% выбросов: 0.0\n",
            "В mortality выбросов нет\n"
          ]
        }
      ]
    },
    {
      "cell_type": "code",
      "source": [
        "statis(df,'hardness')"
      ],
      "metadata": {
        "colab": {
          "base_uri": "https://localhost:8080/"
        },
        "id": "wANOnkDZOpqi",
        "outputId": "a19dc7a2-7971-400e-d8c0-d66054e2baeb"
      },
      "execution_count": null,
      "outputs": [
        {
          "output_type": "stream",
          "name": "stdout",
          "text": [
            "hardness:\n",
            "======================================================\n",
            "Среднее значение по hardness: 47.18032786885246\n",
            "Медиана по hardness: 39.0\n",
            "\n",
            "Среднее значение по hardness по строкам без выбросов: 47.18032786885246\n",
            "Медиана по hardness по строкам без выбросов: 39.0\n",
            "\n",
            "Среднее значение по hardness для выбросов: nan\n",
            "Медиана по hardness для выбросов: nan\n",
            "% выбросов: 0.0\n",
            "В hardness выбросов нет\n"
          ]
        }
      ]
    },
    {
      "cell_type": "markdown",
      "source": [
        "Гипотеза о наличии выбросов, проверенная с помощью межквартильного размаха, не подтвердилась"
      ],
      "metadata": {
        "id": "48poe-W63Z3b"
      }
    },
    {
      "cell_type": "markdown",
      "source": [
        "### Расчет коэффициентов корреляции Пирсона и Спирмена "
      ],
      "metadata": {
        "id": "asBanVD5pR4b"
      }
    },
    {
      "cell_type": "markdown",
      "source": [
        "#### Расчет и визуализация к-та Пиро=сона"
      ],
      "metadata": {
        "id": "EknQXsZBSczO"
      }
    },
    {
      "cell_type": "code",
      "source": [
        "# считаем коэф. корреляции Пирсона\n",
        "df[['hardness', 'mortality']].corr()"
      ],
      "metadata": {
        "colab": {
          "base_uri": "https://localhost:8080/",
          "height": 112
        },
        "id": "B-Rvv4Vupfet",
        "outputId": "db08a10b-4357-487a-d224-4aba6535c33a"
      },
      "execution_count": null,
      "outputs": [
        {
          "output_type": "execute_result",
          "data": {
            "text/plain": [
              "           hardness  mortality\n",
              "hardness   1.000000  -0.654849\n",
              "mortality -0.654849   1.000000"
            ],
            "text/html": [
              "\n",
              "  <div id=\"df-3dc9a21e-aa05-489c-aaa0-7213c79ba72b\">\n",
              "    <div class=\"colab-df-container\">\n",
              "      <div>\n",
              "<style scoped>\n",
              "    .dataframe tbody tr th:only-of-type {\n",
              "        vertical-align: middle;\n",
              "    }\n",
              "\n",
              "    .dataframe tbody tr th {\n",
              "        vertical-align: top;\n",
              "    }\n",
              "\n",
              "    .dataframe thead th {\n",
              "        text-align: right;\n",
              "    }\n",
              "</style>\n",
              "<table border=\"1\" class=\"dataframe\">\n",
              "  <thead>\n",
              "    <tr style=\"text-align: right;\">\n",
              "      <th></th>\n",
              "      <th>hardness</th>\n",
              "      <th>mortality</th>\n",
              "    </tr>\n",
              "  </thead>\n",
              "  <tbody>\n",
              "    <tr>\n",
              "      <th>hardness</th>\n",
              "      <td>1.000000</td>\n",
              "      <td>-0.654849</td>\n",
              "    </tr>\n",
              "    <tr>\n",
              "      <th>mortality</th>\n",
              "      <td>-0.654849</td>\n",
              "      <td>1.000000</td>\n",
              "    </tr>\n",
              "  </tbody>\n",
              "</table>\n",
              "</div>\n",
              "      <button class=\"colab-df-convert\" onclick=\"convertToInteractive('df-3dc9a21e-aa05-489c-aaa0-7213c79ba72b')\"\n",
              "              title=\"Convert this dataframe to an interactive table.\"\n",
              "              style=\"display:none;\">\n",
              "        \n",
              "  <svg xmlns=\"http://www.w3.org/2000/svg\" height=\"24px\"viewBox=\"0 0 24 24\"\n",
              "       width=\"24px\">\n",
              "    <path d=\"M0 0h24v24H0V0z\" fill=\"none\"/>\n",
              "    <path d=\"M18.56 5.44l.94 2.06.94-2.06 2.06-.94-2.06-.94-.94-2.06-.94 2.06-2.06.94zm-11 1L8.5 8.5l.94-2.06 2.06-.94-2.06-.94L8.5 2.5l-.94 2.06-2.06.94zm10 10l.94 2.06.94-2.06 2.06-.94-2.06-.94-.94-2.06-.94 2.06-2.06.94z\"/><path d=\"M17.41 7.96l-1.37-1.37c-.4-.4-.92-.59-1.43-.59-.52 0-1.04.2-1.43.59L10.3 9.45l-7.72 7.72c-.78.78-.78 2.05 0 2.83L4 21.41c.39.39.9.59 1.41.59.51 0 1.02-.2 1.41-.59l7.78-7.78 2.81-2.81c.8-.78.8-2.07 0-2.86zM5.41 20L4 18.59l7.72-7.72 1.47 1.35L5.41 20z\"/>\n",
              "  </svg>\n",
              "      </button>\n",
              "      \n",
              "  <style>\n",
              "    .colab-df-container {\n",
              "      display:flex;\n",
              "      flex-wrap:wrap;\n",
              "      gap: 12px;\n",
              "    }\n",
              "\n",
              "    .colab-df-convert {\n",
              "      background-color: #E8F0FE;\n",
              "      border: none;\n",
              "      border-radius: 50%;\n",
              "      cursor: pointer;\n",
              "      display: none;\n",
              "      fill: #1967D2;\n",
              "      height: 32px;\n",
              "      padding: 0 0 0 0;\n",
              "      width: 32px;\n",
              "    }\n",
              "\n",
              "    .colab-df-convert:hover {\n",
              "      background-color: #E2EBFA;\n",
              "      box-shadow: 0px 1px 2px rgba(60, 64, 67, 0.3), 0px 1px 3px 1px rgba(60, 64, 67, 0.15);\n",
              "      fill: #174EA6;\n",
              "    }\n",
              "\n",
              "    [theme=dark] .colab-df-convert {\n",
              "      background-color: #3B4455;\n",
              "      fill: #D2E3FC;\n",
              "    }\n",
              "\n",
              "    [theme=dark] .colab-df-convert:hover {\n",
              "      background-color: #434B5C;\n",
              "      box-shadow: 0px 1px 3px 1px rgba(0, 0, 0, 0.15);\n",
              "      filter: drop-shadow(0px 1px 2px rgba(0, 0, 0, 0.3));\n",
              "      fill: #FFFFFF;\n",
              "    }\n",
              "  </style>\n",
              "\n",
              "      <script>\n",
              "        const buttonEl =\n",
              "          document.querySelector('#df-3dc9a21e-aa05-489c-aaa0-7213c79ba72b button.colab-df-convert');\n",
              "        buttonEl.style.display =\n",
              "          google.colab.kernel.accessAllowed ? 'block' : 'none';\n",
              "\n",
              "        async function convertToInteractive(key) {\n",
              "          const element = document.querySelector('#df-3dc9a21e-aa05-489c-aaa0-7213c79ba72b');\n",
              "          const dataTable =\n",
              "            await google.colab.kernel.invokeFunction('convertToInteractive',\n",
              "                                                     [key], {});\n",
              "          if (!dataTable) return;\n",
              "\n",
              "          const docLinkHtml = 'Like what you see? Visit the ' +\n",
              "            '<a target=\"_blank\" href=https://colab.research.google.com/notebooks/data_table.ipynb>data table notebook</a>'\n",
              "            + ' to learn more about interactive tables.';\n",
              "          element.innerHTML = '';\n",
              "          dataTable['output_type'] = 'display_data';\n",
              "          await google.colab.output.renderOutput(dataTable, element);\n",
              "          const docLink = document.createElement('div');\n",
              "          docLink.innerHTML = docLinkHtml;\n",
              "          element.appendChild(docLink);\n",
              "        }\n",
              "      </script>\n",
              "    </div>\n",
              "  </div>\n",
              "  "
            ]
          },
          "metadata": {},
          "execution_count": 31
        }
      ]
    },
    {
      "cell_type": "code",
      "source": [
        "# коэффициент корреляции на тепловой карте\n",
        "sns.set(rc={'figure.figsize':(11.7,8.27)})\n",
        "sns.heatmap(df[['hardness', 'mortality']].corr(), annot=True)\n",
        "plt.show()"
      ],
      "metadata": {
        "colab": {
          "base_uri": "https://localhost:8080/",
          "height": 504
        },
        "id": "XN-0AVcEPPlV",
        "outputId": "6bd618db-ffe3-4e07-e087-754bf32e4be8"
      },
      "execution_count": null,
      "outputs": [
        {
          "output_type": "display_data",
          "data": {
            "text/plain": [
              "<Figure size 842.4x595.44 with 2 Axes>"
            ],
            "image/png": "[encoded data removed]"
          },
          "metadata": {}
        }
      ]
    },
    {
      "cell_type": "markdown",
      "source": [
        "Для определения статистической достоверности корреляционной связи r-Пирсона была использована таблица критических значений корреляции Пирсона. https://statpsy.ru/pearson/tablica-pirsona/?ysclid=l9k4a62xb2793082968.\n",
        "\n",
        "Для данной выборки в 61 элемент для уровня значимости p=0,05 минимальое значение к-та Пирсона =0,25, а для уровня значимости 0,01 =0,33. Полученный к-т статистически достоверен."
      ],
      "metadata": {
        "id": "D62SUU7seJf5"
      }
    },
    {
      "cell_type": "markdown",
      "source": [
        "#### Расчет к-тов Спирмена и Кендалла"
      ],
      "metadata": {
        "id": "vJN1MmRjSn-W"
      }
    },
    {
      "cell_type": "code",
      "source": [
        "# считаем коэф. корреляции Спирмена\n",
        "df[['hardness', 'mortality']].corr(method='spearman')"
      ],
      "metadata": {
        "colab": {
          "base_uri": "https://localhost:8080/",
          "height": 112
        },
        "id": "Rx3y8wZyN1f1",
        "outputId": "4bd7404c-09a4-43de-b73b-411da232574e"
      },
      "execution_count": null,
      "outputs": [
        {
          "output_type": "execute_result",
          "data": {
            "text/plain": [
              "           hardness  mortality\n",
              "hardness   1.000000  -0.631665\n",
              "mortality -0.631665   1.000000"
            ],
            "text/html": [
              "\n",
              "  <div id=\"df-5170076c-b769-4f3f-827c-d360fe343a1c\">\n",
              "    <div class=\"colab-df-container\">\n",
              "      <div>\n",
              "<style scoped>\n",
              "    .dataframe tbody tr th:only-of-type {\n",
              "        vertical-align: middle;\n",
              "    }\n",
              "\n",
              "    .dataframe tbody tr th {\n",
              "        vertical-align: top;\n",
              "    }\n",
              "\n",
              "    .dataframe thead th {\n",
              "        text-align: right;\n",
              "    }\n",
              "</style>\n",
              "<table border=\"1\" class=\"dataframe\">\n",
              "  <thead>\n",
              "    <tr style=\"text-align: right;\">\n",
              "      <th></th>\n",
              "      <th>hardness</th>\n",
              "      <th>mortality</th>\n",
              "    </tr>\n",
              "  </thead>\n",
              "  <tbody>\n",
              "    <tr>\n",
              "      <th>hardness</th>\n",
              "      <td>1.000000</td>\n",
              "      <td>-0.631665</td>\n",
              "    </tr>\n",
              "    <tr>\n",
              "      <th>mortality</th>\n",
              "      <td>-0.631665</td>\n",
              "      <td>1.000000</td>\n",
              "    </tr>\n",
              "  </tbody>\n",
              "</table>\n",
              "</div>\n",
              "      <button class=\"colab-df-convert\" onclick=\"convertToInteractive('df-5170076c-b769-4f3f-827c-d360fe343a1c')\"\n",
              "              title=\"Convert this dataframe to an interactive table.\"\n",
              "              style=\"display:none;\">\n",
              "        \n",
              "  <svg xmlns=\"http://www.w3.org/2000/svg\" height=\"24px\"viewBox=\"0 0 24 24\"\n",
              "       width=\"24px\">\n",
              "    <path d=\"M0 0h24v24H0V0z\" fill=\"none\"/>\n",
              "    <path d=\"M18.56 5.44l.94 2.06.94-2.06 2.06-.94-2.06-.94-.94-2.06-.94 2.06-2.06.94zm-11 1L8.5 8.5l.94-2.06 2.06-.94-2.06-.94L8.5 2.5l-.94 2.06-2.06.94zm10 10l.94 2.06.94-2.06 2.06-.94-2.06-.94-.94-2.06-.94 2.06-2.06.94z\"/><path d=\"M17.41 7.96l-1.37-1.37c-.4-.4-.92-.59-1.43-.59-.52 0-1.04.2-1.43.59L10.3 9.45l-7.72 7.72c-.78.78-.78 2.05 0 2.83L4 21.41c.39.39.9.59 1.41.59.51 0 1.02-.2 1.41-.59l7.78-7.78 2.81-2.81c.8-.78.8-2.07 0-2.86zM5.41 20L4 18.59l7.72-7.72 1.47 1.35L5.41 20z\"/>\n",
              "  </svg>\n",
              "      </button>\n",
              "      \n",
              "  <style>\n",
              "    .colab-df-container {\n",
              "      display:flex;\n",
              "      flex-wrap:wrap;\n",
              "      gap: 12px;\n",
              "    }\n",
              "\n",
              "    .colab-df-convert {\n",
              "      background-color: #E8F0FE;\n",
              "      border: none;\n",
              "      border-radius: 50%;\n",
              "      cursor: pointer;\n",
              "      display: none;\n",
              "      fill: #1967D2;\n",
              "      height: 32px;\n",
              "      padding: 0 0 0 0;\n",
              "      width: 32px;\n",
              "    }\n",
              "\n",
              "    .colab-df-convert:hover {\n",
              "      background-color: #E2EBFA;\n",
              "      box-shadow: 0px 1px 2px rgba(60, 64, 67, 0.3), 0px 1px 3px 1px rgba(60, 64, 67, 0.15);\n",
              "      fill: #174EA6;\n",
              "    }\n",
              "\n",
              "    [theme=dark] .colab-df-convert {\n",
              "      background-color: #3B4455;\n",
              "      fill: #D2E3FC;\n",
              "    }\n",
              "\n",
              "    [theme=dark] .colab-df-convert:hover {\n",
              "      background-color: #434B5C;\n",
              "      box-shadow: 0px 1px 3px 1px rgba(0, 0, 0, 0.15);\n",
              "      filter: drop-shadow(0px 1px 2px rgba(0, 0, 0, 0.3));\n",
              "      fill: #FFFFFF;\n",
              "    }\n",
              "  </style>\n",
              "\n",
              "      <script>\n",
              "        const buttonEl =\n",
              "          document.querySelector('#df-5170076c-b769-4f3f-827c-d360fe343a1c button.colab-df-convert');\n",
              "        buttonEl.style.display =\n",
              "          google.colab.kernel.accessAllowed ? 'block' : 'none';\n",
              "\n",
              "        async function convertToInteractive(key) {\n",
              "          const element = document.querySelector('#df-5170076c-b769-4f3f-827c-d360fe343a1c');\n",
              "          const dataTable =\n",
              "            await google.colab.kernel.invokeFunction('convertToInteractive',\n",
              "                                                     [key], {});\n",
              "          if (!dataTable) return;\n",
              "\n",
              "          const docLinkHtml = 'Like what you see? Visit the ' +\n",
              "            '<a target=\"_blank\" href=https://colab.research.google.com/notebooks/data_table.ipynb>data table notebook</a>'\n",
              "            + ' to learn more about interactive tables.';\n",
              "          element.innerHTML = '';\n",
              "          dataTable['output_type'] = 'display_data';\n",
              "          await google.colab.output.renderOutput(dataTable, element);\n",
              "          const docLink = document.createElement('div');\n",
              "          docLink.innerHTML = docLinkHtml;\n",
              "          element.appendChild(docLink);\n",
              "        }\n",
              "      </script>\n",
              "    </div>\n",
              "  </div>\n",
              "  "
            ]
          },
          "metadata": {},
          "execution_count": 33
        }
      ]
    },
    {
      "cell_type": "code",
      "source": [
        "# считаем коэф. корреляции кендалла\n",
        "df[['hardness', 'mortality']].corr(method='kendall')"
      ],
      "metadata": {
        "colab": {
          "base_uri": "https://localhost:8080/",
          "height": 112
        },
        "id": "jPzxMn6dOC_F",
        "outputId": "fdddde66-f918-4305-bfb4-2d2843471cf1"
      },
      "execution_count": null,
      "outputs": [
        {
          "output_type": "execute_result",
          "data": {
            "text/plain": [
              "           hardness  mortality\n",
              "hardness   1.000000  -0.453753\n",
              "mortality -0.453753   1.000000"
            ],
            "text/html": [
              "\n",
              "  <div id=\"df-b25b822e-39b5-4076-89f2-57b573a2967a\">\n",
              "    <div class=\"colab-df-container\">\n",
              "      <div>\n",
              "<style scoped>\n",
              "    .dataframe tbody tr th:only-of-type {\n",
              "        vertical-align: middle;\n",
              "    }\n",
              "\n",
              "    .dataframe tbody tr th {\n",
              "        vertical-align: top;\n",
              "    }\n",
              "\n",
              "    .dataframe thead th {\n",
              "        text-align: right;\n",
              "    }\n",
              "</style>\n",
              "<table border=\"1\" class=\"dataframe\">\n",
              "  <thead>\n",
              "    <tr style=\"text-align: right;\">\n",
              "      <th></th>\n",
              "      <th>hardness</th>\n",
              "      <th>mortality</th>\n",
              "    </tr>\n",
              "  </thead>\n",
              "  <tbody>\n",
              "    <tr>\n",
              "      <th>hardness</th>\n",
              "      <td>1.000000</td>\n",
              "      <td>-0.453753</td>\n",
              "    </tr>\n",
              "    <tr>\n",
              "      <th>mortality</th>\n",
              "      <td>-0.453753</td>\n",
              "      <td>1.000000</td>\n",
              "    </tr>\n",
              "  </tbody>\n",
              "</table>\n",
              "</div>\n",
              "      <button class=\"colab-df-convert\" onclick=\"convertToInteractive('df-b25b822e-39b5-4076-89f2-57b573a2967a')\"\n",
              "              title=\"Convert this dataframe to an interactive table.\"\n",
              "              style=\"display:none;\">\n",
              "        \n",
              "  <svg xmlns=\"http://www.w3.org/2000/svg\" height=\"24px\"viewBox=\"0 0 24 24\"\n",
              "       width=\"24px\">\n",
              "    <path d=\"M0 0h24v24H0V0z\" fill=\"none\"/>\n",
              "    <path d=\"M18.56 5.44l.94 2.06.94-2.06 2.06-.94-2.06-.94-.94-2.06-.94 2.06-2.06.94zm-11 1L8.5 8.5l.94-2.06 2.06-.94-2.06-.94L8.5 2.5l-.94 2.06-2.06.94zm10 10l.94 2.06.94-2.06 2.06-.94-2.06-.94-.94-2.06-.94 2.06-2.06.94z\"/><path d=\"M17.41 7.96l-1.37-1.37c-.4-.4-.92-.59-1.43-.59-.52 0-1.04.2-1.43.59L10.3 9.45l-7.72 7.72c-.78.78-.78 2.05 0 2.83L4 21.41c.39.39.9.59 1.41.59.51 0 1.02-.2 1.41-.59l7.78-7.78 2.81-2.81c.8-.78.8-2.07 0-2.86zM5.41 20L4 18.59l7.72-7.72 1.47 1.35L5.41 20z\"/>\n",
              "  </svg>\n",
              "      </button>\n",
              "      \n",
              "  <style>\n",
              "    .colab-df-container {\n",
              "      display:flex;\n",
              "      flex-wrap:wrap;\n",
              "      gap: 12px;\n",
              "    }\n",
              "\n",
              "    .colab-df-convert {\n",
              "      background-color: #E8F0FE;\n",
              "      border: none;\n",
              "      border-radius: 50%;\n",
              "      cursor: pointer;\n",
              "      display: none;\n",
              "      fill: #1967D2;\n",
              "      height: 32px;\n",
              "      padding: 0 0 0 0;\n",
              "      width: 32px;\n",
              "    }\n",
              "\n",
              "    .colab-df-convert:hover {\n",
              "      background-color: #E2EBFA;\n",
              "      box-shadow: 0px 1px 2px rgba(60, 64, 67, 0.3), 0px 1px 3px 1px rgba(60, 64, 67, 0.15);\n",
              "      fill: #174EA6;\n",
              "    }\n",
              "\n",
              "    [theme=dark] .colab-df-convert {\n",
              "      background-color: #3B4455;\n",
              "      fill: #D2E3FC;\n",
              "    }\n",
              "\n",
              "    [theme=dark] .colab-df-convert:hover {\n",
              "      background-color: #434B5C;\n",
              "      box-shadow: 0px 1px 3px 1px rgba(0, 0, 0, 0.15);\n",
              "      filter: drop-shadow(0px 1px 2px rgba(0, 0, 0, 0.3));\n",
              "      fill: #FFFFFF;\n",
              "    }\n",
              "  </style>\n",
              "\n",
              "      <script>\n",
              "        const buttonEl =\n",
              "          document.querySelector('#df-b25b822e-39b5-4076-89f2-57b573a2967a button.colab-df-convert');\n",
              "        buttonEl.style.display =\n",
              "          google.colab.kernel.accessAllowed ? 'block' : 'none';\n",
              "\n",
              "        async function convertToInteractive(key) {\n",
              "          const element = document.querySelector('#df-b25b822e-39b5-4076-89f2-57b573a2967a');\n",
              "          const dataTable =\n",
              "            await google.colab.kernel.invokeFunction('convertToInteractive',\n",
              "                                                     [key], {});\n",
              "          if (!dataTable) return;\n",
              "\n",
              "          const docLinkHtml = 'Like what you see? Visit the ' +\n",
              "            '<a target=\"_blank\" href=https://colab.research.google.com/notebooks/data_table.ipynb>data table notebook</a>'\n",
              "            + ' to learn more about interactive tables.';\n",
              "          element.innerHTML = '';\n",
              "          dataTable['output_type'] = 'display_data';\n",
              "          await google.colab.output.renderOutput(dataTable, element);\n",
              "          const docLink = document.createElement('div');\n",
              "          docLink.innerHTML = docLinkHtml;\n",
              "          element.appendChild(docLink);\n",
              "        }\n",
              "      </script>\n",
              "    </div>\n",
              "  </div>\n",
              "  "
            ]
          },
          "metadata": {},
          "execution_count": 34
        }
      ]
    },
    {
      "cell_type": "markdown",
      "source": [
        "#### Уровни значимости"
      ],
      "metadata": {
        "id": "pxgqmysgSwQE"
      }
    },
    {
      "cell_type": "code",
      "source": [
        "#уровень значимости коэффициента корреляции Пирсона\n",
        "sst.pearsonr(df.mortality, df.hardness)"
      ],
      "metadata": {
        "colab": {
          "base_uri": "https://localhost:8080/"
        },
        "id": "E6I7t5kgVsmA",
        "outputId": "9d00e4bb-a568-4b91-92a4-d1b3a4edbc1b"
      },
      "execution_count": null,
      "outputs": [
        {
          "output_type": "execute_result",
          "data": {
            "text/plain": [
              "(-0.6548486232042466, 1.0331339260349462e-08)"
            ]
          },
          "metadata": {},
          "execution_count": 35
        }
      ]
    },
    {
      "cell_type": "code",
      "source": [
        "#уровень значимости коэффициента корреляции Спирмена между средней годовой смертностью и жёсткостью воды. \n",
        "sst.spearmanr(df.mortality, df.hardness)"
      ],
      "metadata": {
        "colab": {
          "base_uri": "https://localhost:8080/"
        },
        "id": "AxvFOBMHWqkP",
        "outputId": "f1795ca4-e3be-4289-c535-95914e421fba"
      },
      "execution_count": null,
      "outputs": [
        {
          "output_type": "execute_result",
          "data": {
            "text/plain": [
              "SpearmanrResult(correlation=-0.6316646189166502, pvalue=4.79546153722838e-08)"
            ]
          },
          "metadata": {},
          "execution_count": 36
        }
      ]
    },
    {
      "cell_type": "markdown",
      "source": [
        "Разница в коэффициентах Пирсона и Спирмена - незначительна, Кендалл дает чуть более низкое значение. Расчетные значения коэффициентов подтверждают наличие умеренно сильной обратной корреляции"
      ],
      "metadata": {
        "id": "x2UuzvtJOQ3_"
      }
    },
    {
      "cell_type": "markdown",
      "source": [
        "### Модель линейной регрессии с помощью Linear Regression из Sklearn"
      ],
      "metadata": {
        "id": "g6fIKGzrpgMA"
      }
    },
    {
      "cell_type": "markdown",
      "source": [
        "#### Моделирование, коэффициенты, визуализация"
      ],
      "metadata": {
        "id": "6U0GM7qdT1S7"
      }
    },
    {
      "cell_type": "code",
      "source": [
        "X=df[['hardness']]\n",
        "y=df['mortality']\n",
        "X_train, X_test, y_train, y_test = train_test_split(X, y, test_size=0.30, random_state=1)\n",
        "model = LinearRegression()\n",
        "model.fit(X_train, y_train)\n"
      ],
      "metadata": {
        "colab": {
          "base_uri": "https://localhost:8080/"
        },
        "id": "a5N_WCzXpncS",
        "outputId": "a4263598-316d-459a-84cd-c023aaaed25f"
      },
      "execution_count": null,
      "outputs": [
        {
          "output_type": "execute_result",
          "data": {
            "text/plain": [
              "LinearRegression()"
            ]
          },
          "metadata": {},
          "execution_count": 37
        }
      ]
    },
    {
      "cell_type": "code",
      "source": [
        "model.coef_"
      ],
      "metadata": {
        "colab": {
          "base_uri": "https://localhost:8080/"
        },
        "id": "8VNGK4KoPHhy",
        "outputId": "7b8ad2d5-731e-4a10-a1fc-ac054756e04c"
      },
      "execution_count": null,
      "outputs": [
        {
          "output_type": "execute_result",
          "data": {
            "text/plain": [
              "array([-3.65672017])"
            ]
          },
          "metadata": {},
          "execution_count": 38
        }
      ]
    },
    {
      "cell_type": "code",
      "source": [
        "model.intercept_"
      ],
      "metadata": {
        "colab": {
          "base_uri": "https://localhost:8080/"
        },
        "id": "Yq265ZijprT1",
        "outputId": "9a0324a3-c895-419b-d04e-d490123c10df"
      },
      "execution_count": null,
      "outputs": [
        {
          "output_type": "execute_result",
          "data": {
            "text/plain": [
              "1688.066270653473"
            ]
          },
          "metadata": {},
          "execution_count": 39
        }
      ]
    },
    {
      "cell_type": "markdown",
      "source": [
        "##### Уравнение линейной регрессии: Y=-3.66*x + 1668,07"
      ],
      "metadata": {
        "id": "I7fin2nL1mit"
      }
    },
    {
      "cell_type": "code",
      "source": [
        "y_pred = model.predict(X_test)\n",
        "y_pred"
      ],
      "metadata": {
        "colab": {
          "base_uri": "https://localhost:8080/"
        },
        "id": "xYPu712bQlLu",
        "outputId": "e05bbca1-de8e-41ca-cc3c-bf58f59b9d48"
      },
      "execution_count": null,
      "outputs": [
        {
          "output_type": "execute_result",
          "data": {
            "text/plain": [
              "array([1666.12594964, 1640.52890845, 1669.78266981, 1413.81225794,\n",
              "       1640.52890845, 1629.55874794, 1201.72248811, 1666.12594964,\n",
              "       1318.73753354, 1358.9614554 , 1355.30473523, 1640.52890845,\n",
              "       1636.87218828, 1636.87218828, 1552.76762438, 1391.87193693,\n",
              "       1344.33457472, 1421.12569828, 1428.43913862])"
            ]
          },
          "metadata": {},
          "execution_count": 40
        }
      ]
    },
    {
      "cell_type": "markdown",
      "source": [
        "Отобразим на точечной диаграмме тестовые и прогнозные величины, а также линию линейной регрессии"
      ],
      "metadata": {
        "id": "3YK1dVQI1-Fz"
      }
    },
    {
      "cell_type": "code",
      "source": [
        "plt.scatter(X_test, y_test)\n",
        "plt.plot(X_test, y_pred, c='r')"
      ],
      "metadata": {
        "colab": {
          "base_uri": "https://localhost:8080/",
          "height": 518
        },
        "id": "LDwEzx9pWSlS",
        "outputId": "c16611e6-5751-48a4-cf5a-e4968e99ff12"
      },
      "execution_count": null,
      "outputs": [
        {
          "output_type": "execute_result",
          "data": {
            "text/plain": [
              "[<matplotlib.lines.Line2D at 0x7fd3cb34fb10>]"
            ]
          },
          "metadata": {},
          "execution_count": 41
        },
        {
          "output_type": "display_data",
          "data": {
            "text/plain": [
              "<Figure size 842.4x595.44 with 1 Axes>"
            ],
            "image/png": "[encoded data removed]"
          },
          "metadata": {}
        }
      ]
    },
    {
      "cell_type": "markdown",
      "source": [
        "#### Расчет коэффициента детерминации модели"
      ],
      "metadata": {
        "id": "8L3KNJT_psAU"
      }
    },
    {
      "cell_type": "code",
      "source": [
        "print (f' Коэффициент детерминации: {model.score(X_test, y_test)}') "
      ],
      "metadata": {
        "colab": {
          "base_uri": "https://localhost:8080/"
        },
        "id": "QseY6nGQQjnD",
        "outputId": "af261a00-4945-4bef-d29e-984a2f7f6cd5"
      },
      "execution_count": null,
      "outputs": [
        {
          "output_type": "stream",
          "name": "stdout",
          "text": [
            " Коэффициент детерминации: 0.30602504827717636\n"
          ]
        }
      ]
    },
    {
      "cell_type": "markdown",
      "source": [
        "###### R2<0,5 , Линейная регрессионная модель для всей выборки - неудачная. Одна из возможных причин - малый объем выборки ( всего 61 строка). Другая возможная причина - что мы строили модель зависимости только от одного фактора - жесткости воды, а на самом деле такой зависимости в природе нет. Это старый датасет, по нему нельзя делать выводы в настоящее время. Установлено, что существует обратная зависимость между жесткостью воды и смертностью от сердечно-сосудистых заболеваний, но дело не в жесткости воды как таковой, а в содержании  в ней микроэлементов (магний, хром, ванадий, цинк и марганец), которых в жесткой воде обычно больше. Но в данном датасете нет информации и содержании в воде таких микроэлементов, а также нет данных о причинах смертей населения. В развитых странах смертность от сердечно-сусудистых заболеваний, которая напрямую коррелирует с жесткостью воды, составляет около 50%"
      ],
      "metadata": {
        "id": "wqsTEHEbq8Az"
      }
    },
    {
      "cell_type": "markdown",
      "source": [
        "###Анализ остатков"
      ],
      "metadata": {
        "id": "RtspXemOpwtT"
      }
    },
    {
      "cell_type": "markdown",
      "source": [
        "#### Точечный график"
      ],
      "metadata": {
        "id": "e5V9kpVaTQDU"
      }
    },
    {
      "cell_type": "code",
      "source": [
        "# Это мой эксперимент простроить график остатков с помощью residplot(). Может, и неверно\n",
        "sns.set_theme(style=\"whitegrid\")\n",
        "sns.residplot(x=X_test, y=y_pred, lowess=True, color=\"g\")"
      ],
      "metadata": {
        "id": "q3XSjjmHJi3V",
        "outputId": "b778e9f3-14dd-4b4d-82e7-27cb558902f4",
        "colab": {
          "base_uri": "https://localhost:8080/",
          "height": 546
        }
      },
      "execution_count": null,
      "outputs": [
        {
          "output_type": "execute_result",
          "data": {
            "text/plain": [
              "<matplotlib.axes._subplots.AxesSubplot at 0x7fd3ca775510>"
            ]
          },
          "metadata": {},
          "execution_count": 45
        },
        {
          "output_type": "display_data",
          "data": {
            "text/plain": [
              "<Figure size 842.4x595.44 with 1 Axes>"
            ],
            "image/png": "[encoded data removed]"
          },
          "metadata": {}
        }
      ]
    },
    {
      "cell_type": "code",
      "source": [
        "# А так нам на занятии рассказывали\n",
        "residuals = y_test-y_pred\n",
        "plt.scatter(residuals,y_pred)\n",
        "plt.show()"
      ],
      "metadata": {
        "colab": {
          "base_uri": "https://localhost:8080/",
          "height": 500
        },
        "id": "itgIj_LWppz8",
        "outputId": "1f556f19-8c54-4bce-c5e1-4d174e363a74"
      },
      "execution_count": null,
      "outputs": [
        {
          "output_type": "display_data",
          "data": {
            "text/plain": [
              "<Figure size 842.4x595.44 with 1 Axes>"
            ],
            "image/png": "[encoded data removed]"
          },
          "metadata": {}
        }
      ]
    },
    {
      "cell_type": "markdown",
      "source": [
        "#### Гистограмма "
      ],
      "metadata": {
        "id": "aJOBWZHVzQIp"
      }
    },
    {
      "cell_type": "code",
      "source": [
        "plt.hist(residuals, bins = 9)"
      ],
      "metadata": {
        "colab": {
          "base_uri": "https://localhost:8080/",
          "height": 592
        },
        "id": "5lZe6WKjzc8n",
        "outputId": "5a87478c-7f16-4cf7-e12e-6814accfcb26"
      },
      "execution_count": null,
      "outputs": [
        {
          "output_type": "execute_result",
          "data": {
            "text/plain": [
              "(array([2., 1., 2., 3., 4., 3., 1., 2., 1.]),\n",
              " array([-203.78266981, -149.9667219 ,  -96.15077399,  -42.33482608,\n",
              "          11.48112183,   65.29706974,  119.11301765,  172.92896556,\n",
              "         226.74491347,  280.56086138]),\n",
              " <a list of 9 Patch objects>)"
            ]
          },
          "metadata": {},
          "execution_count": 47
        },
        {
          "output_type": "display_data",
          "data": {
            "text/plain": [
              "<Figure size 842.4x595.44 with 1 Axes>"
            ],
            "image/png": "[encoded data removed]"
          },
          "metadata": {}
        }
      ]
    },
    {
      "cell_type": "markdown",
      "source": [
        "#### Квантиль-квантиль (qqplot)"
      ],
      "metadata": {
        "id": "2GT4m11xTXHu"
      }
    },
    {
      "cell_type": "code",
      "source": [
        "# А это qqplot для проверки нормальности распределения остатков\n",
        "seed(1)\n",
        "qqplot(residuals, line='s')\n",
        "pyplot.show()"
      ],
      "metadata": {
        "colab": {
          "base_uri": "https://localhost:8080/",
          "height": 517
        },
        "id": "O9XyiuSqTgfE",
        "outputId": "32f3f478-d25c-4c08-b19a-05fa0c5a081e"
      },
      "execution_count": null,
      "outputs": [
        {
          "output_type": "display_data",
          "data": {
            "text/plain": [
              "<Figure size 842.4x595.44 with 1 Axes>"
            ],
            "image/png": "[encoded data removed]"
          },
          "metadata": {}
        }
      ]
    },
    {
      "cell_type": "markdown",
      "source": [
        "### Альтернативный способ построения модели линейной регрессии с помощью Statmodels\n"
      ],
      "metadata": {
        "id": "ADT3i3WPW3jC"
      }
    },
    {
      "cell_type": "markdown",
      "source": [
        "#### Моделирование, коэффициенты, визуализация"
      ],
      "metadata": {
        "id": "hnqOnf5UUNUY"
      }
    },
    {
      "cell_type": "code",
      "source": [
        "X_train, X_test, y_train, y_test = train_test_split(X, y, test_size=0.30, random_state=42)"
      ],
      "metadata": {
        "id": "nrWFzhZ5XA8P"
      },
      "execution_count": null,
      "outputs": []
    },
    {
      "cell_type": "code",
      "source": [
        "X_const = sm.add_constant(X_train) # техническая особенность библиотеки, надо руками добавить константу"
      ],
      "metadata": {
        "colab": {
          "base_uri": "https://localhost:8080/"
        },
        "id": "zMN8wDU5XZD4",
        "outputId": "9e8a1da9-04dc-4d87-afde-f166b0783286"
      },
      "execution_count": null,
      "outputs": [
        {
          "output_type": "stream",
          "name": "stderr",
          "text": [
            "/usr/local/lib/python3.7/dist-packages/statsmodels/tsa/tsatools.py:142: FutureWarning: In a future version of pandas all arguments of concat except for the argument 'objs' will be keyword-only\n",
            "  x = pd.concat(x[::order], 1)\n"
          ]
        }
      ]
    },
    {
      "cell_type": "code",
      "source": [
        "X_const\n"
      ],
      "metadata": {
        "id": "uxJB5_kfXfYP"
      },
      "execution_count": null,
      "outputs": []
    },
    {
      "cell_type": "code",
      "source": [
        "model = sm.OLS(y_train, X_const)\n",
        "results = model.fit()\n",
        "print(results.summary())"
      ],
      "metadata": {
        "colab": {
          "base_uri": "https://localhost:8080/"
        },
        "id": "egIdMrv2Xje6",
        "outputId": "6d5ba6be-5ff7-4f19-9929-31177f4d56a6"
      },
      "execution_count": null,
      "outputs": [
        {
          "output_type": "stream",
          "name": "stdout",
          "text": [
            "                            OLS Regression Results                            \n",
            "==============================================================================\n",
            "Dep. Variable:              mortality   R-squared:                       0.397\n",
            "Model:                            OLS   Adj. R-squared:                  0.382\n",
            "Method:                 Least Squares   F-statistic:                     26.31\n",
            "Date:                Tue, 08 Nov 2022   Prob (F-statistic):           7.83e-06\n",
            "Time:                        07:59:36   Log-Likelihood:                -269.10\n",
            "No. Observations:                  42   AIC:                             542.2\n",
            "Df Residuals:                      40   BIC:                             545.7\n",
            "Df Model:                           1                                         \n",
            "Covariance Type:            nonrobust                                         \n",
            "==============================================================================\n",
            "                 coef    std err          t      P>|t|      [0.025      0.975]\n",
            "------------------------------------------------------------------------------\n",
            "const       1668.9723     36.543     45.671      0.000    1595.115    1742.829\n",
            "hardness      -3.1317      0.611     -5.130      0.000      -4.366      -1.898\n",
            "==============================================================================\n",
            "Omnibus:                        0.116   Durbin-Watson:                   2.428\n",
            "Prob(Omnibus):                  0.944   Jarque-Bera (JB):                0.323\n",
            "Skew:                           0.048   Prob(JB):                        0.851\n",
            "Kurtosis:                       2.581   Cond. No.                         94.3\n",
            "==============================================================================\n",
            "\n",
            "Notes:\n",
            "[1] Standard Errors assume that the covariance matrix of the errors is correctly specified.\n"
          ]
        }
      ]
    },
    {
      "cell_type": "code",
      "source": [
        "print('Parameters: ', results.params)\n",
        "print('R2: ', results.rsquared)"
      ],
      "metadata": {
        "colab": {
          "base_uri": "https://localhost:8080/"
        },
        "id": "3NcSL3OkXv-u",
        "outputId": "0baf6ba8-9e50-4738-a932-b11ab2eabfb2"
      },
      "execution_count": null,
      "outputs": [
        {
          "output_type": "stream",
          "name": "stdout",
          "text": [
            "Parameters:  const       1668.972298\n",
            "hardness      -3.131671\n",
            "dtype: float64\n",
            "R2:  0.3967890100912278\n"
          ]
        }
      ]
    },
    {
      "cell_type": "code",
      "source": [
        "prstd, iv_l, iv_u = wls_prediction_std(results) \n",
        "# для каждой точки получаем не просто сам прогноз, но и доверительный интервал\n",
        "fig, ax = plt.subplots(figsize=(8,6))\n",
        "\n",
        "ax.plot(X_const.iloc[:, 1], y_train, 'o', label=\"data\")\n",
        "ax.plot(X_const.iloc[:, 1], results.fittedvalues, 'r--.', label=\"OLS\")\n",
        "ax.plot(X_const.iloc[:, 1], iv_u, 'g--')\n",
        "ax.plot(X_const.iloc[:, 1], iv_l, 'g--')\n",
        "ax.legend(loc='best')\n",
        "plt.show()"
      ],
      "metadata": {
        "colab": {
          "base_uri": "https://localhost:8080/",
          "height": 395
        },
        "id": "05C0JyfjX1U-",
        "outputId": "fe4c611a-fdd4-4b9e-9be6-e98011df6cb8"
      },
      "execution_count": null,
      "outputs": [
        {
          "output_type": "execute_result",
          "data": {
            "text/plain": [
              "<matplotlib.legend.Legend at 0x7fd3ca590890>"
            ]
          },
          "metadata": {},
          "execution_count": 54
        },
        {
          "output_type": "display_data",
          "data": {
            "text/plain": [
              "<Figure size 576x432 with 1 Axes>"
            ],
            "image/png": "[encoded data removed]"
          },
          "metadata": {}
        }
      ]
    },
    {
      "cell_type": "markdown",
      "source": [
        "На точечной диаграмме видно, что 2 точки выходят за пределы доверительного интервала. Но в целом модель из statmodels лучше описывает датасет, Коэффициент детерминации R2=0,39> R2=0,31"
      ],
      "metadata": {
        "id": "1ofDHQGa2ojr"
      }
    },
    {
      "cell_type": "markdown",
      "source": [
        "### Анализ остатков"
      ],
      "metadata": {
        "id": "BDZKzNjgRex9"
      }
    },
    {
      "cell_type": "markdown",
      "source": [
        "#### Точечный график"
      ],
      "metadata": {
        "id": "AYxopq8EU8s1"
      }
    },
    {
      "cell_type": "code",
      "source": [
        "plt.scatter(results.resid,results.fittedvalues)\n",
        "plt.show()"
      ],
      "metadata": {
        "id": "0F7hwozmQQY2",
        "outputId": "fc79a121-5c98-4faf-ad1e-718733872dbe",
        "colab": {
          "base_uri": "https://localhost:8080/",
          "height": 500
        }
      },
      "execution_count": null,
      "outputs": [
        {
          "output_type": "display_data",
          "data": {
            "text/plain": [
              "<Figure size 842.4x595.44 with 1 Axes>"
            ],
            "image/png": "[encoded data removed]"
          },
          "metadata": {}
        }
      ]
    },
    {
      "cell_type": "markdown",
      "source": [
        "#### Построим гистограмму"
      ],
      "metadata": {
        "id": "IBgZN-gmxXJI"
      }
    },
    {
      "cell_type": "code",
      "source": [
        "plt.hist(results.resid, bins=20)\n"
      ],
      "metadata": {
        "colab": {
          "base_uri": "https://localhost:8080/",
          "height": 666
        },
        "id": "HAzH0uuixKm9",
        "outputId": "a02f4bfa-c853-4922-aaa4-ee723fab54cd"
      },
      "execution_count": null,
      "outputs": [
        {
          "output_type": "execute_result",
          "data": {
            "text/plain": [
              "(array([1., 0., 1., 0., 2., 5., 3., 2., 5., 3., 2., 2., 5., 3., 2., 4., 0.,\n",
              "        1., 0., 1.]),\n",
              " array([-3.43207209e+02, -3.08892795e+02, -2.74578382e+02, -2.40263968e+02,\n",
              "        -2.05949554e+02, -1.71635140e+02, -1.37320726e+02, -1.03006312e+02,\n",
              "        -6.86918979e+01, -3.43774840e+01, -6.30700817e-02,  3.42513439e+01,\n",
              "         6.85657578e+01,  1.02880172e+02,  1.37194586e+02,  1.71509000e+02,\n",
              "         2.05823414e+02,  2.40137827e+02,  2.74452241e+02,  3.08766655e+02,\n",
              "         3.43081069e+02]),\n",
              " <a list of 20 Patch objects>)"
            ]
          },
          "metadata": {},
          "execution_count": 57
        },
        {
          "output_type": "display_data",
          "data": {
            "text/plain": [
              "<Figure size 842.4x595.44 with 1 Axes>"
            ],
            "image/png": "[encoded data removed]"
          },
          "metadata": {}
        }
      ]
    },
    {
      "cell_type": "markdown",
      "source": [
        "Гистограмма остатков не имеет нормальное распределение"
      ],
      "metadata": {
        "id": "7gaZL_nw7Ae5"
      }
    },
    {
      "cell_type": "code",
      "source": [
        "shapiro_test(results.resid)"
      ],
      "metadata": {
        "colab": {
          "base_uri": "https://localhost:8080/"
        },
        "id": "Pre7YPi5TOFu",
        "outputId": "203072ae-61d2-4c30-f55a-aefbafc46c0e"
      },
      "execution_count": null,
      "outputs": [
        {
          "output_type": "stream",
          "name": "stdout",
          "text": [
            "Statistics=0.990, p=0.964\n",
            "4      -3.602222\n",
            "44     75.479575\n",
            "19   -343.207209\n",
            "47    -87.018678\n",
            "52    149.532942\n",
            "25   -140.801717\n",
            "57    124.006258\n",
            "15   -115.338880\n",
            "58    199.091549\n",
            "27   -151.100475\n",
            "9     -46.911944\n",
            "30    116.451145\n",
            "36     73.817728\n",
            "26    -27.865564\n",
            "24    185.009752\n",
            "43   -181.128906\n",
            "11    123.607753\n",
            "32    -44.128906\n",
            "54     -3.260576\n",
            "56     45.927955\n",
            "37   -158.883514\n",
            "29    184.081069\n",
            "45    343.081069\n",
            "1      52.266107\n",
            "21      4.404764\n",
            "2    -187.313943\n",
            "48   -255.388754\n",
            "39     68.878081\n",
            "35   -157.417184\n",
            "23    -66.787260\n",
            "50    266.376334\n",
            "10    -48.360324\n",
            "22     98.081069\n",
            "18     31.091549\n",
            "60    -68.623666\n",
            "20    191.821221\n",
            "7    -125.701970\n",
            "42     82.739424\n",
            "14   -114.331894\n",
            "28    150.002765\n",
            "51    -71.260576\n",
            "38   -167.313943\n",
            "dtype: float64: Предположительно нормальное распределение (Недостаточно данных, чтобы отвергнуть H0)\n"
          ]
        }
      ]
    },
    {
      "cell_type": "markdown",
      "source": [
        "## Задание 2"
      ],
      "metadata": {
        "id": "pubN-V7Fo_WX"
      }
    },
    {
      "cell_type": "markdown",
      "source": [
        "### Cохраняется ли аналогичная зависимость для северных и южных городов по отдельности?"
      ],
      "metadata": {
        "id": "8Exy1tCFp11c"
      }
    },
    {
      "cell_type": "markdown",
      "source": [
        "#### Разделение датасета на 2 группы - северные и южные города"
      ],
      "metadata": {
        "id": "M-Hg1kKqqANV"
      }
    },
    {
      "cell_type": "code",
      "source": [
        "df_north=df[df['location']=='North']\n",
        "df_north.head()"
      ],
      "metadata": {
        "colab": {
          "base_uri": "https://localhost:8080/",
          "height": 206
        },
        "id": "hTKiy0qZqM9S",
        "outputId": "18ae1205-7201-4e17-8ac9-14b2b352d5d8"
      },
      "execution_count": null,
      "outputs": [
        {
          "output_type": "execute_result",
          "data": {
            "text/plain": [
              "   Unnamed: 0 location        town  mortality  hardness\n",
              "1           2    North  Birkenhead       1668        17\n",
              "3           4    North   Blackburn       1800        14\n",
              "4           5    North   Blackpool       1609        18\n",
              "5           6    North      Bolton       1558        10\n",
              "6           7    North      Bootle       1807        15"
            ],
            "text/html": [
              "\n",
              "  <div id=\"df-1c2ad4aa-f848-4eba-a85a-04f214d38e5f\">\n",
              "    <div class=\"colab-df-container\">\n",
              "      <div>\n",
              "<style scoped>\n",
              "    .dataframe tbody tr th:only-of-type {\n",
              "        vertical-align: middle;\n",
              "    }\n",
              "\n",
              "    .dataframe tbody tr th {\n",
              "        vertical-align: top;\n",
              "    }\n",
              "\n",
              "    .dataframe thead th {\n",
              "        text-align: right;\n",
              "    }\n",
              "</style>\n",
              "<table border=\"1\" class=\"dataframe\">\n",
              "  <thead>\n",
              "    <tr style=\"text-align: right;\">\n",
              "      <th></th>\n",
              "      <th>Unnamed: 0</th>\n",
              "      <th>location</th>\n",
              "      <th>town</th>\n",
              "      <th>mortality</th>\n",
              "      <th>hardness</th>\n",
              "    </tr>\n",
              "  </thead>\n",
              "  <tbody>\n",
              "    <tr>\n",
              "      <th>1</th>\n",
              "      <td>2</td>\n",
              "      <td>North</td>\n",
              "      <td>Birkenhead</td>\n",
              "      <td>1668</td>\n",
              "      <td>17</td>\n",
              "    </tr>\n",
              "    <tr>\n",
              "      <th>3</th>\n",
              "      <td>4</td>\n",
              "      <td>North</td>\n",
              "      <td>Blackburn</td>\n",
              "      <td>1800</td>\n",
              "      <td>14</td>\n",
              "    </tr>\n",
              "    <tr>\n",
              "      <th>4</th>\n",
              "      <td>5</td>\n",
              "      <td>North</td>\n",
              "      <td>Blackpool</td>\n",
              "      <td>1609</td>\n",
              "      <td>18</td>\n",
              "    </tr>\n",
              "    <tr>\n",
              "      <th>5</th>\n",
              "      <td>6</td>\n",
              "      <td>North</td>\n",
              "      <td>Bolton</td>\n",
              "      <td>1558</td>\n",
              "      <td>10</td>\n",
              "    </tr>\n",
              "    <tr>\n",
              "      <th>6</th>\n",
              "      <td>7</td>\n",
              "      <td>North</td>\n",
              "      <td>Bootle</td>\n",
              "      <td>1807</td>\n",
              "      <td>15</td>\n",
              "    </tr>\n",
              "  </tbody>\n",
              "</table>\n",
              "</div>\n",
              "      <button class=\"colab-df-convert\" onclick=\"convertToInteractive('df-1c2ad4aa-f848-4eba-a85a-04f214d38e5f')\"\n",
              "              title=\"Convert this dataframe to an interactive table.\"\n",
              "              style=\"display:none;\">\n",
              "        \n",
              "  <svg xmlns=\"http://www.w3.org/2000/svg\" height=\"24px\"viewBox=\"0 0 24 24\"\n",
              "       width=\"24px\">\n",
              "    <path d=\"M0 0h24v24H0V0z\" fill=\"none\"/>\n",
              "    <path d=\"M18.56 5.44l.94 2.06.94-2.06 2.06-.94-2.06-.94-.94-2.06-.94 2.06-2.06.94zm-11 1L8.5 8.5l.94-2.06 2.06-.94-2.06-.94L8.5 2.5l-.94 2.06-2.06.94zm10 10l.94 2.06.94-2.06 2.06-.94-2.06-.94-.94-2.06-.94 2.06-2.06.94z\"/><path d=\"M17.41 7.96l-1.37-1.37c-.4-.4-.92-.59-1.43-.59-.52 0-1.04.2-1.43.59L10.3 9.45l-7.72 7.72c-.78.78-.78 2.05 0 2.83L4 21.41c.39.39.9.59 1.41.59.51 0 1.02-.2 1.41-.59l7.78-7.78 2.81-2.81c.8-.78.8-2.07 0-2.86zM5.41 20L4 18.59l7.72-7.72 1.47 1.35L5.41 20z\"/>\n",
              "  </svg>\n",
              "      </button>\n",
              "      \n",
              "  <style>\n",
              "    .colab-df-container {\n",
              "      display:flex;\n",
              "      flex-wrap:wrap;\n",
              "      gap: 12px;\n",
              "    }\n",
              "\n",
              "    .colab-df-convert {\n",
              "      background-color: #E8F0FE;\n",
              "      border: none;\n",
              "      border-radius: 50%;\n",
              "      cursor: pointer;\n",
              "      display: none;\n",
              "      fill: #1967D2;\n",
              "      height: 32px;\n",
              "      padding: 0 0 0 0;\n",
              "      width: 32px;\n",
              "    }\n",
              "\n",
              "    .colab-df-convert:hover {\n",
              "      background-color: #E2EBFA;\n",
              "      box-shadow: 0px 1px 2px rgba(60, 64, 67, 0.3), 0px 1px 3px 1px rgba(60, 64, 67, 0.15);\n",
              "      fill: #174EA6;\n",
              "    }\n",
              "\n",
              "    [theme=dark] .colab-df-convert {\n",
              "      background-color: #3B4455;\n",
              "      fill: #D2E3FC;\n",
              "    }\n",
              "\n",
              "    [theme=dark] .colab-df-convert:hover {\n",
              "      background-color: #434B5C;\n",
              "      box-shadow: 0px 1px 3px 1px rgba(0, 0, 0, 0.15);\n",
              "      filter: drop-shadow(0px 1px 2px rgba(0, 0, 0, 0.3));\n",
              "      fill: #FFFFFF;\n",
              "    }\n",
              "  </style>\n",
              "\n",
              "      <script>\n",
              "        const buttonEl =\n",
              "          document.querySelector('#df-1c2ad4aa-f848-4eba-a85a-04f214d38e5f button.colab-df-convert');\n",
              "        buttonEl.style.display =\n",
              "          google.colab.kernel.accessAllowed ? 'block' : 'none';\n",
              "\n",
              "        async function convertToInteractive(key) {\n",
              "          const element = document.querySelector('#df-1c2ad4aa-f848-4eba-a85a-04f214d38e5f');\n",
              "          const dataTable =\n",
              "            await google.colab.kernel.invokeFunction('convertToInteractive',\n",
              "                                                     [key], {});\n",
              "          if (!dataTable) return;\n",
              "\n",
              "          const docLinkHtml = 'Like what you see? Visit the ' +\n",
              "            '<a target=\"_blank\" href=https://colab.research.google.com/notebooks/data_table.ipynb>data table notebook</a>'\n",
              "            + ' to learn more about interactive tables.';\n",
              "          element.innerHTML = '';\n",
              "          dataTable['output_type'] = 'display_data';\n",
              "          await google.colab.output.renderOutput(dataTable, element);\n",
              "          const docLink = document.createElement('div');\n",
              "          docLink.innerHTML = docLinkHtml;\n",
              "          element.appendChild(docLink);\n",
              "        }\n",
              "      </script>\n",
              "    </div>\n",
              "  </div>\n",
              "  "
            ]
          },
          "metadata": {},
          "execution_count": 50
        }
      ]
    },
    {
      "cell_type": "code",
      "source": [
        "df_south=df[df['location']=='South']\n",
        "df_south.head()"
      ],
      "metadata": {
        "colab": {
          "base_uri": "https://localhost:8080/",
          "height": 206
        },
        "outputId": "38413564-bad8-4c0a-80e8-f8d432846f02",
        "id": "-E5H6BYGQtdd"
      },
      "execution_count": null,
      "outputs": [
        {
          "output_type": "execute_result",
          "data": {
            "text/plain": [
              "    Unnamed: 0 location         town  mortality  hardness\n",
              "0            1    South         Bath       1247       105\n",
              "2            3    South   Birmingham       1466         5\n",
              "7            8    South  Bournemouth       1299        78\n",
              "9           10    South     Brighton       1359        84\n",
              "10          11    South      Bristol       1392        73"
            ],
            "text/html": [
              "\n",
              "  <div id=\"df-f25bf54d-def8-45d1-969a-0bd9e8ead3e4\">\n",
              "    <div class=\"colab-df-container\">\n",
              "      <div>\n",
              "<style scoped>\n",
              "    .dataframe tbody tr th:only-of-type {\n",
              "        vertical-align: middle;\n",
              "    }\n",
              "\n",
              "    .dataframe tbody tr th {\n",
              "        vertical-align: top;\n",
              "    }\n",
              "\n",
              "    .dataframe thead th {\n",
              "        text-align: right;\n",
              "    }\n",
              "</style>\n",
              "<table border=\"1\" class=\"dataframe\">\n",
              "  <thead>\n",
              "    <tr style=\"text-align: right;\">\n",
              "      <th></th>\n",
              "      <th>Unnamed: 0</th>\n",
              "      <th>location</th>\n",
              "      <th>town</th>\n",
              "      <th>mortality</th>\n",
              "      <th>hardness</th>\n",
              "    </tr>\n",
              "  </thead>\n",
              "  <tbody>\n",
              "    <tr>\n",
              "      <th>0</th>\n",
              "      <td>1</td>\n",
              "      <td>South</td>\n",
              "      <td>Bath</td>\n",
              "      <td>1247</td>\n",
              "      <td>105</td>\n",
              "    </tr>\n",
              "    <tr>\n",
              "      <th>2</th>\n",
              "      <td>3</td>\n",
              "      <td>South</td>\n",
              "      <td>Birmingham</td>\n",
              "      <td>1466</td>\n",
              "      <td>5</td>\n",
              "    </tr>\n",
              "    <tr>\n",
              "      <th>7</th>\n",
              "      <td>8</td>\n",
              "      <td>South</td>\n",
              "      <td>Bournemouth</td>\n",
              "      <td>1299</td>\n",
              "      <td>78</td>\n",
              "    </tr>\n",
              "    <tr>\n",
              "      <th>9</th>\n",
              "      <td>10</td>\n",
              "      <td>South</td>\n",
              "      <td>Brighton</td>\n",
              "      <td>1359</td>\n",
              "      <td>84</td>\n",
              "    </tr>\n",
              "    <tr>\n",
              "      <th>10</th>\n",
              "      <td>11</td>\n",
              "      <td>South</td>\n",
              "      <td>Bristol</td>\n",
              "      <td>1392</td>\n",
              "      <td>73</td>\n",
              "    </tr>\n",
              "  </tbody>\n",
              "</table>\n",
              "</div>\n",
              "      <button class=\"colab-df-convert\" onclick=\"convertToInteractive('df-f25bf54d-def8-45d1-969a-0bd9e8ead3e4')\"\n",
              "              title=\"Convert this dataframe to an interactive table.\"\n",
              "              style=\"display:none;\">\n",
              "        \n",
              "  <svg xmlns=\"http://www.w3.org/2000/svg\" height=\"24px\"viewBox=\"0 0 24 24\"\n",
              "       width=\"24px\">\n",
              "    <path d=\"M0 0h24v24H0V0z\" fill=\"none\"/>\n",
              "    <path d=\"M18.56 5.44l.94 2.06.94-2.06 2.06-.94-2.06-.94-.94-2.06-.94 2.06-2.06.94zm-11 1L8.5 8.5l.94-2.06 2.06-.94-2.06-.94L8.5 2.5l-.94 2.06-2.06.94zm10 10l.94 2.06.94-2.06 2.06-.94-2.06-.94-.94-2.06-.94 2.06-2.06.94z\"/><path d=\"M17.41 7.96l-1.37-1.37c-.4-.4-.92-.59-1.43-.59-.52 0-1.04.2-1.43.59L10.3 9.45l-7.72 7.72c-.78.78-.78 2.05 0 2.83L4 21.41c.39.39.9.59 1.41.59.51 0 1.02-.2 1.41-.59l7.78-7.78 2.81-2.81c.8-.78.8-2.07 0-2.86zM5.41 20L4 18.59l7.72-7.72 1.47 1.35L5.41 20z\"/>\n",
              "  </svg>\n",
              "      </button>\n",
              "      \n",
              "  <style>\n",
              "    .colab-df-container {\n",
              "      display:flex;\n",
              "      flex-wrap:wrap;\n",
              "      gap: 12px;\n",
              "    }\n",
              "\n",
              "    .colab-df-convert {\n",
              "      background-color: #E8F0FE;\n",
              "      border: none;\n",
              "      border-radius: 50%;\n",
              "      cursor: pointer;\n",
              "      display: none;\n",
              "      fill: #1967D2;\n",
              "      height: 32px;\n",
              "      padding: 0 0 0 0;\n",
              "      width: 32px;\n",
              "    }\n",
              "\n",
              "    .colab-df-convert:hover {\n",
              "      background-color: #E2EBFA;\n",
              "      box-shadow: 0px 1px 2px rgba(60, 64, 67, 0.3), 0px 1px 3px 1px rgba(60, 64, 67, 0.15);\n",
              "      fill: #174EA6;\n",
              "    }\n",
              "\n",
              "    [theme=dark] .colab-df-convert {\n",
              "      background-color: #3B4455;\n",
              "      fill: #D2E3FC;\n",
              "    }\n",
              "\n",
              "    [theme=dark] .colab-df-convert:hover {\n",
              "      background-color: #434B5C;\n",
              "      box-shadow: 0px 1px 3px 1px rgba(0, 0, 0, 0.15);\n",
              "      filter: drop-shadow(0px 1px 2px rgba(0, 0, 0, 0.3));\n",
              "      fill: #FFFFFF;\n",
              "    }\n",
              "  </style>\n",
              "\n",
              "      <script>\n",
              "        const buttonEl =\n",
              "          document.querySelector('#df-f25bf54d-def8-45d1-969a-0bd9e8ead3e4 button.colab-df-convert');\n",
              "        buttonEl.style.display =\n",
              "          google.colab.kernel.accessAllowed ? 'block' : 'none';\n",
              "\n",
              "        async function convertToInteractive(key) {\n",
              "          const element = document.querySelector('#df-f25bf54d-def8-45d1-969a-0bd9e8ead3e4');\n",
              "          const dataTable =\n",
              "            await google.colab.kernel.invokeFunction('convertToInteractive',\n",
              "                                                     [key], {});\n",
              "          if (!dataTable) return;\n",
              "\n",
              "          const docLinkHtml = 'Like what you see? Visit the ' +\n",
              "            '<a target=\"_blank\" href=https://colab.research.google.com/notebooks/data_table.ipynb>data table notebook</a>'\n",
              "            + ' to learn more about interactive tables.';\n",
              "          element.innerHTML = '';\n",
              "          dataTable['output_type'] = 'display_data';\n",
              "          await google.colab.output.renderOutput(dataTable, element);\n",
              "          const docLink = document.createElement('div');\n",
              "          docLink.innerHTML = docLinkHtml;\n",
              "          element.appendChild(docLink);\n",
              "        }\n",
              "      </script>\n",
              "    </div>\n",
              "  </div>\n",
              "  "
            ]
          },
          "metadata": {},
          "execution_count": 51
        }
      ]
    },
    {
      "cell_type": "markdown",
      "source": [
        "#### Проверка нормальности распределения фактора и таргета внутри групп по регионам"
      ],
      "metadata": {
        "id": "OvUxRFZ3WeYb"
      }
    },
    {
      "cell_type": "code",
      "source": [
        "print('mortality:')\n",
        "print('============================================')\n",
        "print(df.groupby('location')['mortality'].apply(sst.shapiro))\n",
        "print()\n",
        "print('hardness:')\n",
        "print('============================================')\n",
        "print(df.groupby('location')['hardness'].apply(sst.shapiro))"
      ],
      "metadata": {
        "id": "LhFc-6WUUYlh",
        "colab": {
          "base_uri": "https://localhost:8080/"
        },
        "outputId": "52732cfc-7f87-4c0d-ce17-5cabc935a916"
      },
      "execution_count": null,
      "outputs": [
        {
          "output_type": "stream",
          "name": "stdout",
          "text": [
            "mortality:\n",
            "============================================\n",
            "location\n",
            "North     (0.9755439758300781, 0.611705482006073)\n",
            "South    (0.9657907485961914, 0.5180076360702515)\n",
            "Name: mortality, dtype: object\n",
            "\n",
            "hardness:\n",
            "============================================\n",
            "location\n",
            "North    (0.8113889098167419, 3.4388271160423756e-05)\n",
            "South        (0.9556195139884949, 0.3126726746559143)\n",
            "Name: hardness, dtype: object\n"
          ]
        }
      ]
    },
    {
      "cell_type": "markdown",
      "source": [
        "Н0 о нормальности распределения для mortality по каждой из групп не отвергаем. Для hardness: H0 для севера отвергаем, для юга - нет"
      ],
      "metadata": {
        "id": "SgZ4jQaiYlty"
      }
    },
    {
      "cell_type": "code",
      "source": [
        "#В каком регионе (Юг, Север) выше средняя смертность?\n",
        "df.groupby('location').mortality.mean()"
      ],
      "metadata": {
        "colab": {
          "base_uri": "https://localhost:8080/"
        },
        "id": "OGj0TLLbU5PL",
        "outputId": "d2c6ea54-c7b6-4ce2-e489-91c0984dc072"
      },
      "execution_count": null,
      "outputs": [
        {
          "output_type": "execute_result",
          "data": {
            "text/plain": [
              "location\n",
              "North    1633.600000\n",
              "South    1376.807692\n",
              "Name: mortality, dtype: float64"
            ]
          },
          "metadata": {},
          "execution_count": 53
        }
      ]
    },
    {
      "cell_type": "code",
      "source": [
        "#проверка гипотезы H0 о равенстве математических ожиданий в 2 выборках по уровню смертности на севере и юге. Значима ли разница в средних згначениях между этими группами? - да, значима\n",
        "# для hardness проверить этим способом не можем, т.к H0 о нормальности распределения для севеа отвергли\n",
        "# применим T-test for the means of two independent samples of scores c опциями ( дисперсии у севера и юга - разные, считала ниже в соотв. разделах)\n",
        "sst.ttest_ind(df_north.mortality, df_south.mortality, alternative = 'greater',equal_var= False)"
      ],
      "metadata": {
        "colab": {
          "base_uri": "https://localhost:8080/"
        },
        "id": "4GPwKUR5VD73",
        "outputId": "800024e2-b1d5-4d6c-81f1-f522c72f6c10"
      },
      "execution_count": null,
      "outputs": [
        {
          "output_type": "execute_result",
          "data": {
            "text/plain": [
              "Ttest_indResult(statistic=7.142740418007885, pvalue=1.2921579488095343e-09)"
            ]
          },
          "metadata": {},
          "execution_count": 54
        }
      ]
    },
    {
      "cell_type": "markdown",
      "source": [
        "Согласно тесту, H0 о равенстве средних по смертности на севере и юге отвергается. Гипотеза сдвига о том, что смертность в южных городах выше, чем в северных, также отвергается (pvalue <0.05).Хотя это видно из расчитанных средних по выборкам"
      ],
      "metadata": {
        "id": "u3m6VwsMCzp3"
      }
    },
    {
      "cell_type": "code",
      "source": [
        "t_test_verbose(df_north.mortality, sample2=df_south.mortality, fn=sst.ttest_ind) #t-тест Уэлша"
      ],
      "metadata": {
        "colab": {
          "base_uri": "https://localhost:8080/"
        },
        "id": "mZBDTyawg75s",
        "outputId": "c62d79ca-f109-4595-9f80-740f5c0a382c"
      },
      "execution_count": null,
      "outputs": [
        {
          "output_type": "stream",
          "name": "stderr",
          "text": [
            "/usr/local/lib/python3.7/dist-packages/ipykernel_launcher.py:9: DeprecationWarning: scipy.mean is deprecated and will be removed in SciPy 2.0.0, use numpy.mean instead\n",
            "  if __name__ == '__main__':\n"
          ]
        },
        {
          "output_type": "execute_result",
          "data": {
            "text/plain": [
              "{'p-значение': 2.5843158976190685e-09,\n",
              " 'степени свободы     ': 53.289711070938786,\n",
              " 'интервал уверенности': (1586.5605251961385, 1680.6394748038613),\n",
              " 'n1          ': 35,\n",
              " 'n2          ': 26,\n",
              " 'среднее x   ': 1633.6,\n",
              " 'среднее y   ': 1376.8076923076924,\n",
              " 'дисперсия x ': 18751.717647058824,\n",
              " 'дисперсия y ': 19675.44153846154,\n",
              " 't-статистика': 7.142740418007885}"
            ]
          },
          "metadata": {},
          "execution_count": 55
        }
      ]
    },
    {
      "cell_type": "markdown",
      "source": [
        "#### Северные города"
      ],
      "metadata": {
        "id": "CwQdMYOPqNe8"
      }
    },
    {
      "cell_type": "code",
      "source": [
        "df_north.info() # В группе чуть больше половины всех записей"
      ],
      "metadata": {
        "id": "XGNestYMqUY2"
      },
      "execution_count": null,
      "outputs": []
    },
    {
      "cell_type": "code",
      "source": [
        "get_stat(df_north,['mortality','hardness'])"
      ],
      "metadata": {
        "id": "YF_VZD_0yqqq"
      },
      "execution_count": null,
      "outputs": []
    },
    {
      "cell_type": "code",
      "source": [
        "statis(df_north,'mortality')\n",
        "print()\n",
        "statis(df_north,'hardness')"
      ],
      "metadata": {
        "id": "sjhMrEtSus3_"
      },
      "execution_count": null,
      "outputs": []
    },
    {
      "cell_type": "markdown",
      "source": [
        "##### Есть ли различия в данных выборки?"
      ],
      "metadata": {
        "id": "MEHVMChe0Gwf"
      }
    },
    {
      "cell_type": "code",
      "source": [
        "#В каком городе наибольшая смертность?\n",
        "df_north[df_north.mortality == max(df_north.mortality)]\n",
        "df_north.iloc[df_north.mortality.argmax(), :]"
      ],
      "metadata": {
        "colab": {
          "base_uri": "https://localhost:8080/"
        },
        "outputId": "7fee4b67-d5ba-4c26-fb31-e0ae3f6f0921",
        "id": "8d48aSzP0Gwf"
      },
      "execution_count": null,
      "outputs": [
        {
          "output_type": "execute_result",
          "data": {
            "text/plain": [
              "Unnamed: 0         46\n",
              "location        North\n",
              "town          Salford\n",
              "mortality        1987\n",
              "hardness            8\n",
              "Name: 45, dtype: object"
            ]
          },
          "metadata": {},
          "execution_count": 84
        }
      ]
    },
    {
      "cell_type": "code",
      "source": [
        "#В каком городе минимальная смертность?\n",
        "df_north[df_north.mortality ==min(df_north.mortality)]\n",
        "df_north.iloc[df_north.mortality.argmin(), :]"
      ],
      "metadata": {
        "colab": {
          "base_uri": "https://localhost:8080/"
        },
        "outputId": "8c17a574-4fa3-4fda-9868-381a52c15b60",
        "id": "MvYqUIQe0Gwf"
      },
      "execution_count": null,
      "outputs": [
        {
          "output_type": "execute_result",
          "data": {
            "text/plain": [
              "Unnamed: 0       61\n",
              "location      North\n",
              "town           York\n",
              "mortality      1378\n",
              "hardness         71\n",
              "Name: 60, dtype: object"
            ]
          },
          "metadata": {},
          "execution_count": 85
        }
      ]
    },
    {
      "cell_type": "markdown",
      "source": [
        "Как видно из расчетов, В Йорке с очень жесткой водой (hardness = 71) смертность почти в 1,5 раза меньше, чем в Сэлфорде, где жесткость самая низкая (8)"
      ],
      "metadata": {
        "id": "GEnIKjda0Gwf"
      }
    },
    {
      "cell_type": "markdown",
      "source": [
        "##### Построение точечного графика"
      ],
      "metadata": {
        "id": "BzJPTcQ2qU6e"
      }
    },
    {
      "cell_type": "code",
      "source": [
        "df_north.plot(kind='scatter', x='hardness', y='mortality')"
      ],
      "metadata": {
        "colab": {
          "base_uri": "https://localhost:8080/",
          "height": 574
        },
        "id": "HdvNYm11qwT7",
        "outputId": "1df0baab-cb12-4327-825c-637c0a3cfd98"
      },
      "execution_count": null,
      "outputs": [
        {
          "output_type": "stream",
          "name": "stderr",
          "text": [
            "WARNING:matplotlib.axes._axes:*c* argument looks like a single numeric RGB or RGBA sequence, which should be avoided as value-mapping will have precedence in case its length matches with *x* & *y*.  Please use the *color* keyword-argument or provide a 2-D array with a single row if you intend to specify the same RGB or RGBA value for all points.\n"
          ]
        },
        {
          "output_type": "execute_result",
          "data": {
            "text/plain": [
              "<matplotlib.axes._subplots.AxesSubplot at 0x7fb5a0b7bfd0>"
            ]
          },
          "metadata": {},
          "execution_count": 61
        },
        {
          "output_type": "display_data",
          "data": {
            "text/plain": [
              "<Figure size 842.4x595.44 with 1 Axes>"
            ],
            "image/png": "[encoded data removed]"
          },
          "metadata": {}
        }
      ]
    },
    {
      "cell_type": "markdown",
      "source": [
        "На точечном графике можно увидеть отсутствие хаотичности. Как и на точечном графике основной выборки, значения практически не попадают выше воображаемой диагонали (область высоких значений жесткости и высоких значений смертности). В то же время, Расположение точек сдвинуто в область низких згпчений жесткости, что косвеоо подтверждает более низкую жесткость воды на севере."
      ],
      "metadata": {
        "id": "UW9EtufE2Dtm"
      }
    },
    {
      "cell_type": "code",
      "source": [
        "sns.pairplot(df_north[['mortality', 'hardness']], kind='reg')"
      ],
      "metadata": {
        "colab": {
          "base_uri": "https://localhost:8080/",
          "height": 390
        },
        "id": "tbblY27f-lj7",
        "outputId": "a27f1de2-b7ef-493a-8ded-42e90766c4e0"
      },
      "execution_count": null,
      "outputs": [
        {
          "output_type": "execute_result",
          "data": {
            "text/plain": [
              "<seaborn.axisgrid.PairGrid at 0x7fb5a09d0110>"
            ]
          },
          "metadata": {},
          "execution_count": 89
        },
        {
          "output_type": "display_data",
          "data": {
            "text/plain": [
              "<Figure size 360x360 with 6 Axes>"
            ],
            "image/png": "[encoded data removed]"
          },
          "metadata": {}
        }
      ]
    },
    {
      "cell_type": "code",
      "source": [
        "seed(1)\n",
        "qqplot(df_north['mortality'], line='s')\n",
        "qqplot(df_north['hardness'], line='s')\n",
        "pyplot.show()"
      ],
      "metadata": {
        "colab": {
          "base_uri": "https://localhost:8080/",
          "height": 1000
        },
        "id": "qZKA2xzT_Gvj",
        "outputId": "27c2cc0c-a651-40f0-b23f-2f1e55cf5eb8"
      },
      "execution_count": null,
      "outputs": [
        {
          "output_type": "display_data",
          "data": {
            "text/plain": [
              "<Figure size 842.4x595.44 with 1 Axes>"
            ],
            "image/png": "[encoded data removed]"
          },
          "metadata": {}
        },
        {
          "output_type": "display_data",
          "data": {
            "text/plain": [
              "<Figure size 842.4x595.44 with 1 Axes>"
            ],
            "image/png": "[encoded data removed]"
          },
          "metadata": {}
        }
      ]
    },
    {
      "cell_type": "markdown",
      "source": [
        "Получено визуальное подтверждение сделанной ранее гипотезы о нормальности распределения mortality и отсутствии нормальности - для hardness"
      ],
      "metadata": {
        "id": "G49HUG5m-1km"
      }
    },
    {
      "cell_type": "code",
      "source": [
        "shapiro_test(df_north,['mortality', 'hardness'])"
      ],
      "metadata": {
        "colab": {
          "base_uri": "https://localhost:8080/"
        },
        "outputId": "07a4b73c-7d43-4a91-a283-8821c353b560",
        "id": "UB8BYl4p_prp"
      },
      "execution_count": null,
      "outputs": [
        {
          "output_type": "stream",
          "name": "stdout",
          "text": [
            "mortality\n",
            "Statistics=0.976, p=0.612\n",
            "Предположительно нормальное распределение (Недостаточно данных, чтобы отвергнуть H0)\n",
            "\n",
            "hardness\n",
            "Statistics=0.811, p=0.000\n",
            "Отвергаем H0 о нормальности распределения\n",
            "\n"
          ]
        }
      ]
    },
    {
      "cell_type": "markdown",
      "source": [
        "Наблюдается средняя обратная линейная корреляция (с увеличением жесткости одновременно снижается смертность. Также визуально определяется незначительное количество выбросов ( требуется количественная проверка).\n",
        "Распределение mortality визуально близко к нормальному, а распределение жесткости - нет. Критерии Шапиро - Уилка это подтверждают. Поэтому коэффициент корреляции Пирсон может быть недостоверным, потребуется дополнительная проверка"
      ],
      "metadata": {
        "id": "C-ZFD33q_prq"
      }
    },
    {
      "cell_type": "markdown",
      "source": [
        "##### Попробуем определить выбросы для mortality и hardness"
      ],
      "metadata": {
        "id": "0WAqHZmm_prq"
      }
    },
    {
      "cell_type": "code",
      "source": [
        "statis(df_north,'mortality')"
      ],
      "metadata": {
        "colab": {
          "base_uri": "https://localhost:8080/"
        },
        "outputId": "b5130d4b-9ef8-4a7d-bc21-0f6c3edef400",
        "id": "26V6aXbM_prq"
      },
      "execution_count": null,
      "outputs": [
        {
          "output_type": "stream",
          "name": "stdout",
          "text": [
            "mortality:\n",
            "======================================================\n",
            "Среднее значение по mortality: 1633.6\n",
            "Медиана по mortality: 1637.0\n",
            "\n",
            "Среднее значение по mortality по строкам без выбросов: 1623.2058823529412\n",
            "Медиана по mortality по строкам без выбросов: 1631.0\n",
            "\n",
            "Среднее значение по mortality для выбросов: 1987.0\n",
            "Медиана по mortality для выбросов: 1987.0\n",
            "% выбросов: 2.86\n"
          ]
        }
      ]
    },
    {
      "cell_type": "code",
      "source": [
        "statis(df_north,'hardness')"
      ],
      "metadata": {
        "colab": {
          "base_uri": "https://localhost:8080/"
        },
        "outputId": "53ff775f-82b1-455d-f9f6-875d36e16364",
        "id": "41lN1H8p_prq"
      },
      "execution_count": null,
      "outputs": [
        {
          "output_type": "stream",
          "name": "stdout",
          "text": [
            "hardness:\n",
            "======================================================\n",
            "Среднее значение по hardness: 30.4\n",
            "Медиана по hardness: 17.0\n",
            "\n",
            "Среднее значение по hardness по строкам без выбросов: 28.529411764705884\n",
            "Медиана по hardness по строкам без выбросов: 16.5\n",
            "\n",
            "Среднее значение по hardness для выбросов: 94.0\n",
            "Медиана по hardness для выбросов: 94.0\n",
            "% выбросов: 2.86\n"
          ]
        }
      ]
    },
    {
      "cell_type": "markdown",
      "source": [
        "Гипотеза о наличии выбросов, проверенная с помощью межквартильного размаха, подтвердилась"
      ],
      "metadata": {
        "id": "LKObjE6W_prq"
      }
    },
    {
      "cell_type": "markdown",
      "source": [
        "##### Расчет коэффициентов корреляции Пирсона и Спирмена"
      ],
      "metadata": {
        "id": "V7vi7TfOqw20"
      }
    },
    {
      "cell_type": "code",
      "source": [
        "# считаем коэф. корреляции Пирсона\n",
        "df_north[['hardness', 'mortality']].corr()"
      ],
      "metadata": {
        "colab": {
          "base_uri": "https://localhost:8080/",
          "height": 112
        },
        "id": "N15DFLLrq1ZK",
        "outputId": "2303d773-5453-431e-ca76-e51bdb91ace9"
      },
      "execution_count": null,
      "outputs": [
        {
          "output_type": "execute_result",
          "data": {
            "text/plain": [
              "           hardness  mortality\n",
              "hardness   1.000000  -0.368598\n",
              "mortality -0.368598   1.000000"
            ],
            "text/html": [
              "\n",
              "  <div id=\"df-6d479f2a-7b63-4f42-bdb8-d7b54a55e9b3\">\n",
              "    <div class=\"colab-df-container\">\n",
              "      <div>\n",
              "<style scoped>\n",
              "    .dataframe tbody tr th:only-of-type {\n",
              "        vertical-align: middle;\n",
              "    }\n",
              "\n",
              "    .dataframe tbody tr th {\n",
              "        vertical-align: top;\n",
              "    }\n",
              "\n",
              "    .dataframe thead th {\n",
              "        text-align: right;\n",
              "    }\n",
              "</style>\n",
              "<table border=\"1\" class=\"dataframe\">\n",
              "  <thead>\n",
              "    <tr style=\"text-align: right;\">\n",
              "      <th></th>\n",
              "      <th>hardness</th>\n",
              "      <th>mortality</th>\n",
              "    </tr>\n",
              "  </thead>\n",
              "  <tbody>\n",
              "    <tr>\n",
              "      <th>hardness</th>\n",
              "      <td>1.000000</td>\n",
              "      <td>-0.368598</td>\n",
              "    </tr>\n",
              "    <tr>\n",
              "      <th>mortality</th>\n",
              "      <td>-0.368598</td>\n",
              "      <td>1.000000</td>\n",
              "    </tr>\n",
              "  </tbody>\n",
              "</table>\n",
              "</div>\n",
              "      <button class=\"colab-df-convert\" onclick=\"convertToInteractive('df-6d479f2a-7b63-4f42-bdb8-d7b54a55e9b3')\"\n",
              "              title=\"Convert this dataframe to an interactive table.\"\n",
              "              style=\"display:none;\">\n",
              "        \n",
              "  <svg xmlns=\"http://www.w3.org/2000/svg\" height=\"24px\"viewBox=\"0 0 24 24\"\n",
              "       width=\"24px\">\n",
              "    <path d=\"M0 0h24v24H0V0z\" fill=\"none\"/>\n",
              "    <path d=\"M18.56 5.44l.94 2.06.94-2.06 2.06-.94-2.06-.94-.94-2.06-.94 2.06-2.06.94zm-11 1L8.5 8.5l.94-2.06 2.06-.94-2.06-.94L8.5 2.5l-.94 2.06-2.06.94zm10 10l.94 2.06.94-2.06 2.06-.94-2.06-.94-.94-2.06-.94 2.06-2.06.94z\"/><path d=\"M17.41 7.96l-1.37-1.37c-.4-.4-.92-.59-1.43-.59-.52 0-1.04.2-1.43.59L10.3 9.45l-7.72 7.72c-.78.78-.78 2.05 0 2.83L4 21.41c.39.39.9.59 1.41.59.51 0 1.02-.2 1.41-.59l7.78-7.78 2.81-2.81c.8-.78.8-2.07 0-2.86zM5.41 20L4 18.59l7.72-7.72 1.47 1.35L5.41 20z\"/>\n",
              "  </svg>\n",
              "      </button>\n",
              "      \n",
              "  <style>\n",
              "    .colab-df-container {\n",
              "      display:flex;\n",
              "      flex-wrap:wrap;\n",
              "      gap: 12px;\n",
              "    }\n",
              "\n",
              "    .colab-df-convert {\n",
              "      background-color: #E8F0FE;\n",
              "      border: none;\n",
              "      border-radius: 50%;\n",
              "      cursor: pointer;\n",
              "      display: none;\n",
              "      fill: #1967D2;\n",
              "      height: 32px;\n",
              "      padding: 0 0 0 0;\n",
              "      width: 32px;\n",
              "    }\n",
              "\n",
              "    .colab-df-convert:hover {\n",
              "      background-color: #E2EBFA;\n",
              "      box-shadow: 0px 1px 2px rgba(60, 64, 67, 0.3), 0px 1px 3px 1px rgba(60, 64, 67, 0.15);\n",
              "      fill: #174EA6;\n",
              "    }\n",
              "\n",
              "    [theme=dark] .colab-df-convert {\n",
              "      background-color: #3B4455;\n",
              "      fill: #D2E3FC;\n",
              "    }\n",
              "\n",
              "    [theme=dark] .colab-df-convert:hover {\n",
              "      background-color: #434B5C;\n",
              "      box-shadow: 0px 1px 3px 1px rgba(0, 0, 0, 0.15);\n",
              "      filter: drop-shadow(0px 1px 2px rgba(0, 0, 0, 0.3));\n",
              "      fill: #FFFFFF;\n",
              "    }\n",
              "  </style>\n",
              "\n",
              "      <script>\n",
              "        const buttonEl =\n",
              "          document.querySelector('#df-6d479f2a-7b63-4f42-bdb8-d7b54a55e9b3 button.colab-df-convert');\n",
              "        buttonEl.style.display =\n",
              "          google.colab.kernel.accessAllowed ? 'block' : 'none';\n",
              "\n",
              "        async function convertToInteractive(key) {\n",
              "          const element = document.querySelector('#df-6d479f2a-7b63-4f42-bdb8-d7b54a55e9b3');\n",
              "          const dataTable =\n",
              "            await google.colab.kernel.invokeFunction('convertToInteractive',\n",
              "                                                     [key], {});\n",
              "          if (!dataTable) return;\n",
              "\n",
              "          const docLinkHtml = 'Like what you see? Visit the ' +\n",
              "            '<a target=\"_blank\" href=https://colab.research.google.com/notebooks/data_table.ipynb>data table notebook</a>'\n",
              "            + ' to learn more about interactive tables.';\n",
              "          element.innerHTML = '';\n",
              "          dataTable['output_type'] = 'display_data';\n",
              "          await google.colab.output.renderOutput(dataTable, element);\n",
              "          const docLink = document.createElement('div');\n",
              "          docLink.innerHTML = docLinkHtml;\n",
              "          element.appendChild(docLink);\n",
              "        }\n",
              "      </script>\n",
              "    </div>\n",
              "  </div>\n",
              "  "
            ]
          },
          "metadata": {},
          "execution_count": 62
        }
      ]
    },
    {
      "cell_type": "code",
      "source": [
        "# считаем коэф. корреляции Спирмена\n",
        "df_north[['hardness', 'mortality']].corr(method='spearman')"
      ],
      "metadata": {
        "colab": {
          "base_uri": "https://localhost:8080/",
          "height": 112
        },
        "id": "KQ40pWP_Dbnk",
        "outputId": "d75b26f0-eaa0-41db-83da-e2e6ca933ce1"
      },
      "execution_count": null,
      "outputs": [
        {
          "output_type": "execute_result",
          "data": {
            "text/plain": [
              "           hardness  mortality\n",
              "hardness   1.000000  -0.404208\n",
              "mortality -0.404208   1.000000"
            ],
            "text/html": [
              "\n",
              "  <div id=\"df-fb739e57-f285-451d-84d1-dad521ea9c12\">\n",
              "    <div class=\"colab-df-container\">\n",
              "      <div>\n",
              "<style scoped>\n",
              "    .dataframe tbody tr th:only-of-type {\n",
              "        vertical-align: middle;\n",
              "    }\n",
              "\n",
              "    .dataframe tbody tr th {\n",
              "        vertical-align: top;\n",
              "    }\n",
              "\n",
              "    .dataframe thead th {\n",
              "        text-align: right;\n",
              "    }\n",
              "</style>\n",
              "<table border=\"1\" class=\"dataframe\">\n",
              "  <thead>\n",
              "    <tr style=\"text-align: right;\">\n",
              "      <th></th>\n",
              "      <th>hardness</th>\n",
              "      <th>mortality</th>\n",
              "    </tr>\n",
              "  </thead>\n",
              "  <tbody>\n",
              "    <tr>\n",
              "      <th>hardness</th>\n",
              "      <td>1.000000</td>\n",
              "      <td>-0.404208</td>\n",
              "    </tr>\n",
              "    <tr>\n",
              "      <th>mortality</th>\n",
              "      <td>-0.404208</td>\n",
              "      <td>1.000000</td>\n",
              "    </tr>\n",
              "  </tbody>\n",
              "</table>\n",
              "</div>\n",
              "      <button class=\"colab-df-convert\" onclick=\"convertToInteractive('df-fb739e57-f285-451d-84d1-dad521ea9c12')\"\n",
              "              title=\"Convert this dataframe to an interactive table.\"\n",
              "              style=\"display:none;\">\n",
              "        \n",
              "  <svg xmlns=\"http://www.w3.org/2000/svg\" height=\"24px\"viewBox=\"0 0 24 24\"\n",
              "       width=\"24px\">\n",
              "    <path d=\"M0 0h24v24H0V0z\" fill=\"none\"/>\n",
              "    <path d=\"M18.56 5.44l.94 2.06.94-2.06 2.06-.94-2.06-.94-.94-2.06-.94 2.06-2.06.94zm-11 1L8.5 8.5l.94-2.06 2.06-.94-2.06-.94L8.5 2.5l-.94 2.06-2.06.94zm10 10l.94 2.06.94-2.06 2.06-.94-2.06-.94-.94-2.06-.94 2.06-2.06.94z\"/><path d=\"M17.41 7.96l-1.37-1.37c-.4-.4-.92-.59-1.43-.59-.52 0-1.04.2-1.43.59L10.3 9.45l-7.72 7.72c-.78.78-.78 2.05 0 2.83L4 21.41c.39.39.9.59 1.41.59.51 0 1.02-.2 1.41-.59l7.78-7.78 2.81-2.81c.8-.78.8-2.07 0-2.86zM5.41 20L4 18.59l7.72-7.72 1.47 1.35L5.41 20z\"/>\n",
              "  </svg>\n",
              "      </button>\n",
              "      \n",
              "  <style>\n",
              "    .colab-df-container {\n",
              "      display:flex;\n",
              "      flex-wrap:wrap;\n",
              "      gap: 12px;\n",
              "    }\n",
              "\n",
              "    .colab-df-convert {\n",
              "      background-color: #E8F0FE;\n",
              "      border: none;\n",
              "      border-radius: 50%;\n",
              "      cursor: pointer;\n",
              "      display: none;\n",
              "      fill: #1967D2;\n",
              "      height: 32px;\n",
              "      padding: 0 0 0 0;\n",
              "      width: 32px;\n",
              "    }\n",
              "\n",
              "    .colab-df-convert:hover {\n",
              "      background-color: #E2EBFA;\n",
              "      box-shadow: 0px 1px 2px rgba(60, 64, 67, 0.3), 0px 1px 3px 1px rgba(60, 64, 67, 0.15);\n",
              "      fill: #174EA6;\n",
              "    }\n",
              "\n",
              "    [theme=dark] .colab-df-convert {\n",
              "      background-color: #3B4455;\n",
              "      fill: #D2E3FC;\n",
              "    }\n",
              "\n",
              "    [theme=dark] .colab-df-convert:hover {\n",
              "      background-color: #434B5C;\n",
              "      box-shadow: 0px 1px 3px 1px rgba(0, 0, 0, 0.15);\n",
              "      filter: drop-shadow(0px 1px 2px rgba(0, 0, 0, 0.3));\n",
              "      fill: #FFFFFF;\n",
              "    }\n",
              "  </style>\n",
              "\n",
              "      <script>\n",
              "        const buttonEl =\n",
              "          document.querySelector('#df-fb739e57-f285-451d-84d1-dad521ea9c12 button.colab-df-convert');\n",
              "        buttonEl.style.display =\n",
              "          google.colab.kernel.accessAllowed ? 'block' : 'none';\n",
              "\n",
              "        async function convertToInteractive(key) {\n",
              "          const element = document.querySelector('#df-fb739e57-f285-451d-84d1-dad521ea9c12');\n",
              "          const dataTable =\n",
              "            await google.colab.kernel.invokeFunction('convertToInteractive',\n",
              "                                                     [key], {});\n",
              "          if (!dataTable) return;\n",
              "\n",
              "          const docLinkHtml = 'Like what you see? Visit the ' +\n",
              "            '<a target=\"_blank\" href=https://colab.research.google.com/notebooks/data_table.ipynb>data table notebook</a>'\n",
              "            + ' to learn more about interactive tables.';\n",
              "          element.innerHTML = '';\n",
              "          dataTable['output_type'] = 'display_data';\n",
              "          await google.colab.output.renderOutput(dataTable, element);\n",
              "          const docLink = document.createElement('div');\n",
              "          docLink.innerHTML = docLinkHtml;\n",
              "          element.appendChild(docLink);\n",
              "        }\n",
              "      </script>\n",
              "    </div>\n",
              "  </div>\n",
              "  "
            ]
          },
          "metadata": {},
          "execution_count": 63
        }
      ]
    },
    {
      "cell_type": "code",
      "source": [
        "# считаем коэф. корреляции кендалла\n",
        "df_north[['hardness', 'mortality']].corr(method='kendall')"
      ],
      "metadata": {
        "colab": {
          "base_uri": "https://localhost:8080/",
          "height": 112
        },
        "id": "H_J_3w_UDjmb",
        "outputId": "98f40461-ebce-4916-f218-faa918fa6b63"
      },
      "execution_count": null,
      "outputs": [
        {
          "output_type": "execute_result",
          "data": {
            "text/plain": [
              "           hardness  mortality\n",
              "hardness   1.000000  -0.283058\n",
              "mortality -0.283058   1.000000"
            ],
            "text/html": [
              "\n",
              "  <div id=\"df-e533641b-b344-457d-872e-fdc5d138e3e0\">\n",
              "    <div class=\"colab-df-container\">\n",
              "      <div>\n",
              "<style scoped>\n",
              "    .dataframe tbody tr th:only-of-type {\n",
              "        vertical-align: middle;\n",
              "    }\n",
              "\n",
              "    .dataframe tbody tr th {\n",
              "        vertical-align: top;\n",
              "    }\n",
              "\n",
              "    .dataframe thead th {\n",
              "        text-align: right;\n",
              "    }\n",
              "</style>\n",
              "<table border=\"1\" class=\"dataframe\">\n",
              "  <thead>\n",
              "    <tr style=\"text-align: right;\">\n",
              "      <th></th>\n",
              "      <th>hardness</th>\n",
              "      <th>mortality</th>\n",
              "    </tr>\n",
              "  </thead>\n",
              "  <tbody>\n",
              "    <tr>\n",
              "      <th>hardness</th>\n",
              "      <td>1.000000</td>\n",
              "      <td>-0.283058</td>\n",
              "    </tr>\n",
              "    <tr>\n",
              "      <th>mortality</th>\n",
              "      <td>-0.283058</td>\n",
              "      <td>1.000000</td>\n",
              "    </tr>\n",
              "  </tbody>\n",
              "</table>\n",
              "</div>\n",
              "      <button class=\"colab-df-convert\" onclick=\"convertToInteractive('df-e533641b-b344-457d-872e-fdc5d138e3e0')\"\n",
              "              title=\"Convert this dataframe to an interactive table.\"\n",
              "              style=\"display:none;\">\n",
              "        \n",
              "  <svg xmlns=\"http://www.w3.org/2000/svg\" height=\"24px\"viewBox=\"0 0 24 24\"\n",
              "       width=\"24px\">\n",
              "    <path d=\"M0 0h24v24H0V0z\" fill=\"none\"/>\n",
              "    <path d=\"M18.56 5.44l.94 2.06.94-2.06 2.06-.94-2.06-.94-.94-2.06-.94 2.06-2.06.94zm-11 1L8.5 8.5l.94-2.06 2.06-.94-2.06-.94L8.5 2.5l-.94 2.06-2.06.94zm10 10l.94 2.06.94-2.06 2.06-.94-2.06-.94-.94-2.06-.94 2.06-2.06.94z\"/><path d=\"M17.41 7.96l-1.37-1.37c-.4-.4-.92-.59-1.43-.59-.52 0-1.04.2-1.43.59L10.3 9.45l-7.72 7.72c-.78.78-.78 2.05 0 2.83L4 21.41c.39.39.9.59 1.41.59.51 0 1.02-.2 1.41-.59l7.78-7.78 2.81-2.81c.8-.78.8-2.07 0-2.86zM5.41 20L4 18.59l7.72-7.72 1.47 1.35L5.41 20z\"/>\n",
              "  </svg>\n",
              "      </button>\n",
              "      \n",
              "  <style>\n",
              "    .colab-df-container {\n",
              "      display:flex;\n",
              "      flex-wrap:wrap;\n",
              "      gap: 12px;\n",
              "    }\n",
              "\n",
              "    .colab-df-convert {\n",
              "      background-color: #E8F0FE;\n",
              "      border: none;\n",
              "      border-radius: 50%;\n",
              "      cursor: pointer;\n",
              "      display: none;\n",
              "      fill: #1967D2;\n",
              "      height: 32px;\n",
              "      padding: 0 0 0 0;\n",
              "      width: 32px;\n",
              "    }\n",
              "\n",
              "    .colab-df-convert:hover {\n",
              "      background-color: #E2EBFA;\n",
              "      box-shadow: 0px 1px 2px rgba(60, 64, 67, 0.3), 0px 1px 3px 1px rgba(60, 64, 67, 0.15);\n",
              "      fill: #174EA6;\n",
              "    }\n",
              "\n",
              "    [theme=dark] .colab-df-convert {\n",
              "      background-color: #3B4455;\n",
              "      fill: #D2E3FC;\n",
              "    }\n",
              "\n",
              "    [theme=dark] .colab-df-convert:hover {\n",
              "      background-color: #434B5C;\n",
              "      box-shadow: 0px 1px 3px 1px rgba(0, 0, 0, 0.15);\n",
              "      filter: drop-shadow(0px 1px 2px rgba(0, 0, 0, 0.3));\n",
              "      fill: #FFFFFF;\n",
              "    }\n",
              "  </style>\n",
              "\n",
              "      <script>\n",
              "        const buttonEl =\n",
              "          document.querySelector('#df-e533641b-b344-457d-872e-fdc5d138e3e0 button.colab-df-convert');\n",
              "        buttonEl.style.display =\n",
              "          google.colab.kernel.accessAllowed ? 'block' : 'none';\n",
              "\n",
              "        async function convertToInteractive(key) {\n",
              "          const element = document.querySelector('#df-e533641b-b344-457d-872e-fdc5d138e3e0');\n",
              "          const dataTable =\n",
              "            await google.colab.kernel.invokeFunction('convertToInteractive',\n",
              "                                                     [key], {});\n",
              "          if (!dataTable) return;\n",
              "\n",
              "          const docLinkHtml = 'Like what you see? Visit the ' +\n",
              "            '<a target=\"_blank\" href=https://colab.research.google.com/notebooks/data_table.ipynb>data table notebook</a>'\n",
              "            + ' to learn more about interactive tables.';\n",
              "          element.innerHTML = '';\n",
              "          dataTable['output_type'] = 'display_data';\n",
              "          await google.colab.output.renderOutput(dataTable, element);\n",
              "          const docLink = document.createElement('div');\n",
              "          docLink.innerHTML = docLinkHtml;\n",
              "          element.appendChild(docLink);\n",
              "        }\n",
              "      </script>\n",
              "    </div>\n",
              "  </div>\n",
              "  "
            ]
          },
          "metadata": {},
          "execution_count": 64
        }
      ]
    },
    {
      "cell_type": "code",
      "source": [
        "sns.set(rc={'figure.figsize':(11.7,8.27)})\n",
        "sns.heatmap(df_north[['hardness', 'mortality']].corr(), annot=True)"
      ],
      "metadata": {
        "colab": {
          "base_uri": "https://localhost:8080/",
          "height": 522
        },
        "id": "x9BClwnuDwYh",
        "outputId": "f7c161b3-18ca-4498-d519-383e5172842d"
      },
      "execution_count": null,
      "outputs": [
        {
          "output_type": "execute_result",
          "data": {
            "text/plain": [
              "<matplotlib.axes._subplots.AxesSubplot at 0x7fb5a0af0190>"
            ]
          },
          "metadata": {},
          "execution_count": 65
        },
        {
          "output_type": "display_data",
          "data": {
            "text/plain": [
              "<Figure size 842.4x595.44 with 2 Axes>"
            ],
            "image/png": "[encoded data removed]"
          },
          "metadata": {}
        }
      ]
    },
    {
      "cell_type": "markdown",
      "source": [
        "Для северных городов наблюдается слабо выраженная обратная корреляция между жесткостью воды и смертностью. Коэффициент корреляции даже меньше, чем для выборки в целом"
      ],
      "metadata": {
        "id": "-IJIFmibRy3-"
      }
    },
    {
      "cell_type": "markdown",
      "source": [
        "##### Модель линейной регрессии"
      ],
      "metadata": {
        "id": "mb-nzItZq2Af"
      }
    },
    {
      "cell_type": "code",
      "source": [
        "X=df_north[['hardness']]\n",
        "y=df_north['mortality']\n",
        "X_train, X_test, y_train, y_test = train_test_split(X, y, test_size=0.30, random_state=1)\n",
        "model = LinearRegression()\n",
        "model.fit(X_train, y_train)"
      ],
      "metadata": {
        "colab": {
          "base_uri": "https://localhost:8080/"
        },
        "id": "ZQSze5x-q6hp",
        "outputId": "cdb9be52-38b4-42d0-d21c-8211938d4a64"
      },
      "execution_count": null,
      "outputs": [
        {
          "output_type": "execute_result",
          "data": {
            "text/plain": [
              "LinearRegression()"
            ]
          },
          "metadata": {},
          "execution_count": 85
        }
      ]
    },
    {
      "cell_type": "code",
      "source": [
        "model.coef_"
      ],
      "metadata": {
        "colab": {
          "base_uri": "https://localhost:8080/"
        },
        "id": "Ubnd90qWEET8",
        "outputId": "0295a7fb-a867-4eb0-b858-ecae0e4214fa"
      },
      "execution_count": null,
      "outputs": [
        {
          "output_type": "execute_result",
          "data": {
            "text/plain": [
              "array([-3.32783181])"
            ]
          },
          "metadata": {},
          "execution_count": 86
        }
      ]
    },
    {
      "cell_type": "code",
      "source": [
        "model.intercept_"
      ],
      "metadata": {
        "colab": {
          "base_uri": "https://localhost:8080/"
        },
        "id": "djXaPcG0EGpX",
        "outputId": "c57d7b43-0d24-4964-c33f-1853d788e781"
      },
      "execution_count": null,
      "outputs": [
        {
          "output_type": "execute_result",
          "data": {
            "text/plain": [
              "1702.3658062157222"
            ]
          },
          "metadata": {},
          "execution_count": 87
        }
      ]
    },
    {
      "cell_type": "markdown",
      "source": [
        "Уравнение линейной регрессии: Y=-3.33*x + 1702.37"
      ],
      "metadata": {
        "id": "SE-eRIWCEPKS"
      }
    },
    {
      "cell_type": "code",
      "source": [
        "y_pred = model.predict(X_test)\n",
        "y_pred"
      ],
      "metadata": {
        "colab": {
          "base_uri": "https://localhost:8080/"
        },
        "outputId": "b1a70d30-64fc-4875-8047-69763efbfab7",
        "id": "ZlK8R9vrP21k"
      },
      "execution_count": null,
      "outputs": [
        {
          "output_type": "execute_result",
          "data": {
            "text/plain": [
              "array([1399.53311152, 1555.94120658, 1669.08748812, 1466.08974771,\n",
              "       1635.80917002, 1452.77842048, 1682.39881536, 1655.77616088,\n",
              "       1675.74315174, 1466.08974771, 1675.74315174])"
            ]
          },
          "metadata": {},
          "execution_count": 90
        }
      ]
    },
    {
      "cell_type": "markdown",
      "source": [
        "Отобразим на точечной диаграмме тестовые и прогнозные величины, а также линию линейной регрессии"
      ],
      "metadata": {
        "id": "IjaB6C7PP21k"
      }
    },
    {
      "cell_type": "code",
      "source": [
        "plt.scatter(X_test, y_test)\n",
        "plt.plot(X_test, y_pred, c='r')"
      ],
      "metadata": {
        "colab": {
          "base_uri": "https://localhost:8080/",
          "height": 518
        },
        "outputId": "3e081331-f0e0-4848-9f31-3be2cce69eb4",
        "id": "xVCuRYyKP21l"
      },
      "execution_count": null,
      "outputs": [
        {
          "output_type": "execute_result",
          "data": {
            "text/plain": [
              "[<matplotlib.lines.Line2D at 0x7f0c5bb26090>]"
            ]
          },
          "metadata": {},
          "execution_count": 91
        },
        {
          "output_type": "display_data",
          "data": {
            "text/plain": [
              "<Figure size 842.4x595.44 with 1 Axes>"
            ],
            "image/png": "[encoded data removed]"
          },
          "metadata": {}
        }
      ]
    },
    {
      "cell_type": "markdown",
      "source": [
        "Визуально модель линейной регресссии не подходит. Зависимость выглядит как нелинейная"
      ],
      "metadata": {
        "id": "V-UH3HCJSJ--"
      }
    },
    {
      "cell_type": "markdown",
      "source": [
        "##### Расчет коэффициента детерминации"
      ],
      "metadata": {
        "id": "R9raHJMWq7K6"
      }
    },
    {
      "cell_type": "code",
      "source": [
        "print (f' Коэффициент детерминации: {model.score(X_test, y_test)}') "
      ],
      "metadata": {
        "colab": {
          "base_uri": "https://localhost:8080/"
        },
        "id": "7jgxV2XVrAlm",
        "outputId": "c5ee284a-328a-4854-c3cb-3c9b2a150353"
      },
      "execution_count": null,
      "outputs": [
        {
          "output_type": "stream",
          "name": "stdout",
          "text": [
            " Коэффициент детерминации: -0.8059562565000893\n"
          ]
        }
      ]
    },
    {
      "cell_type": "markdown",
      "source": [
        "##### График остатков"
      ],
      "metadata": {
        "id": "qZY-NPuSrBIg"
      }
    },
    {
      "cell_type": "code",
      "source": [
        "residuals = y_test-y_pred\n",
        "plt.scatter(residuals,y_pred)\n",
        "plt.show()"
      ],
      "metadata": {
        "colab": {
          "base_uri": "https://localhost:8080/",
          "height": 500
        },
        "id": "VKnp2XZIrPEI",
        "outputId": "4c95ba42-3354-4baa-a374-e3dbbb4472d9"
      },
      "execution_count": null,
      "outputs": [
        {
          "output_type": "display_data",
          "data": {
            "text/plain": [
              "<Figure size 842.4x595.44 with 1 Axes>"
            ],
            "image/png": "[encoded data removed]"
          },
          "metadata": {}
        }
      ]
    },
    {
      "cell_type": "markdown",
      "source": [
        "###### Гистограмма остатков"
      ],
      "metadata": {
        "id": "nHaeApgeQNoY"
      }
    },
    {
      "cell_type": "code",
      "source": [
        "plt.hist(residuals)"
      ],
      "metadata": {
        "colab": {
          "base_uri": "https://localhost:8080/",
          "height": 592
        },
        "outputId": "5fec5664-17c8-4577-98c2-72f8a082cf94",
        "id": "1zIaYS2NQNoZ"
      },
      "execution_count": null,
      "outputs": [
        {
          "output_type": "execute_result",
          "data": {
            "text/plain": [
              "(array([1., 1., 0., 2., 0., 0., 4., 0., 2., 1.]),\n",
              " array([-160.77616088, -113.57285996,  -66.36955905,  -19.16625814,\n",
              "          28.03704278,   75.24034369,  122.44364461,  169.64694552,\n",
              "         216.85024644,  264.05354735,  311.25684826]),\n",
              " <a list of 10 Patch objects>)"
            ]
          },
          "metadata": {},
          "execution_count": 93
        },
        {
          "output_type": "display_data",
          "data": {
            "text/plain": [
              "<Figure size 842.4x595.44 with 1 Axes>"
            ],
            "image/png": "[encoded data removed]"
          },
          "metadata": {}
        }
      ]
    },
    {
      "cell_type": "markdown",
      "source": [
        "Для группы северных городов модель линейной регрессии, очевидно, не подходит - к-т детерминации <0, гистограмма остатков не имеет нормальное распределение"
      ],
      "metadata": {
        "id": "NQcipaBfO8QQ"
      }
    },
    {
      "cell_type": "markdown",
      "source": [
        "#### Южные города"
      ],
      "metadata": {
        "id": "icsvI_kfrP3h"
      }
    },
    {
      "cell_type": "code",
      "source": [
        "df_south.info() # В группе чуть меньше половины всех записей"
      ],
      "metadata": {
        "colab": {
          "base_uri": "https://localhost:8080/"
        },
        "outputId": "2359d754-15fb-4dfe-a1e7-edf73b9b3ea5",
        "id": "6lg3qJyDQtdf"
      },
      "execution_count": null,
      "outputs": [
        {
          "output_type": "stream",
          "name": "stdout",
          "text": [
            "<class 'pandas.core.frame.DataFrame'>\n",
            "Int64Index: 26 entries, 0 to 59\n",
            "Data columns (total 5 columns):\n",
            " #   Column      Non-Null Count  Dtype \n",
            "---  ------      --------------  ----- \n",
            " 0   Unnamed: 0  26 non-null     int64 \n",
            " 1   location    26 non-null     object\n",
            " 2   town        26 non-null     object\n",
            " 3   mortality   26 non-null     int64 \n",
            " 4   hardness    26 non-null     int64 \n",
            "dtypes: int64(3), object(2)\n",
            "memory usage: 1.2+ KB\n"
          ]
        }
      ]
    },
    {
      "cell_type": "code",
      "source": [
        "get_stat(df_south,['mortality','hardness'])"
      ],
      "metadata": {
        "colab": {
          "base_uri": "https://localhost:8080/"
        },
        "id": "hX3kCNmoziG1",
        "outputId": "24009222-3be6-4eee-e48f-6e6370302bbb"
      },
      "execution_count": null,
      "outputs": [
        {
          "output_type": "stream",
          "name": "stdout",
          "text": [
            "mortality:\n",
            "count = 26, max = 1627, min = 1096, range = 531, mean = 1376.8076923076924, mediana = 1364.0,  mode = 1486, std = 140.26917529686108, var = 19675.44153846154, Q1 = 1259.25,  Q3 = 1485.75, IQR = 226.5\n",
            "-------------------------------------------------------------------------------------------------------------------------------------------------------------------\n",
            "hardness:\n",
            "count = 26, max = 138, min = 5, range = 133, mean = 69.76923076923077, mediana = 75.5,  mode = 5, std = 40.36068155252851, var = 1628.9846153846154, Q1 = 40.25,  Q3 = 99.75, IQR = 59.5\n",
            "-------------------------------------------------------------------------------------------------------------------------------------------------------------------\n"
          ]
        }
      ]
    },
    {
      "cell_type": "markdown",
      "source": [
        "### Есть ли различия в данных выборки?"
      ],
      "metadata": {
        "id": "Q83UM2_80ny0"
      }
    },
    {
      "cell_type": "code",
      "source": [
        "#В каком городе наибольшая смертность?\n",
        "df_south[df_south.mortality == max(df_south.mortality)]\n",
        "df_south.iloc[df_south.mortality.argmax(), :]"
      ],
      "metadata": {
        "colab": {
          "base_uri": "https://localhost:8080/"
        },
        "outputId": "b9455986-8618-4d3c-aa4b-2eb71a279782",
        "id": "h9KkarmA0ny1"
      },
      "execution_count": null,
      "outputs": [
        {
          "output_type": "execute_result",
          "data": {
            "text/plain": [
              "Unnamed: 0               58\n",
              "location              South\n",
              "town          West Bromwich\n",
              "mortality              1627\n",
              "hardness                 53\n",
              "Name: 57, dtype: object"
            ]
          },
          "metadata": {},
          "execution_count": 86
        }
      ]
    },
    {
      "cell_type": "code",
      "source": [
        "#В каком городе минимальная смертность?\n",
        "df_south[df_south.mortality ==min(df_north.mortality)]\n",
        "df_south.iloc[df_south.mortality.argmin(), :]"
      ],
      "metadata": {
        "colab": {
          "base_uri": "https://localhost:8080/"
        },
        "outputId": "34f4f785-a350-4be7-adb9-36a23d3ba42f",
        "id": "2qJP5yEZ0ny1"
      },
      "execution_count": null,
      "outputs": [
        {
          "output_type": "execute_result",
          "data": {
            "text/plain": [
              "Unnamed: 0         26\n",
              "location        South\n",
              "town          Ipswich\n",
              "mortality        1096\n",
              "hardness          138\n",
              "Name: 25, dtype: object"
            ]
          },
          "metadata": {},
          "execution_count": 87
        }
      ]
    },
    {
      "cell_type": "markdown",
      "source": [
        "Как видно из расчетов, В Западном Бромвиче с очень жесткой водой (hardness = 53) смертность почти в 1,5 раза меньше, чем в Ипсвиче, где жесткость самая низкая (8)"
      ],
      "metadata": {
        "id": "ppZyxBLm0ny2"
      }
    },
    {
      "cell_type": "markdown",
      "source": [
        "##### Построение точечного графика"
      ],
      "metadata": {
        "id": "aLZi6YRbQtdg"
      }
    },
    {
      "cell_type": "code",
      "source": [
        "df_south.plot(kind='scatter', x='hardness', y='mortality')"
      ],
      "metadata": {
        "colab": {
          "base_uri": "https://localhost:8080/",
          "height": 574
        },
        "outputId": "cad9504a-9c7b-430f-a693-a57b62d00954",
        "id": "UKIU_WfIQtdg"
      },
      "execution_count": null,
      "outputs": [
        {
          "output_type": "stream",
          "name": "stderr",
          "text": [
            "WARNING:matplotlib.axes._axes:*c* argument looks like a single numeric RGB or RGBA sequence, which should be avoided as value-mapping will have precedence in case its length matches with *x* & *y*.  Please use the *color* keyword-argument or provide a 2-D array with a single row if you intend to specify the same RGB or RGBA value for all points.\n"
          ]
        },
        {
          "output_type": "execute_result",
          "data": {
            "text/plain": [
              "<matplotlib.axes._subplots.AxesSubplot at 0x7f0c5b9dd710>"
            ]
          },
          "metadata": {},
          "execution_count": 96
        },
        {
          "output_type": "display_data",
          "data": {
            "text/plain": [
              "<Figure size 842.4x595.44 with 1 Axes>"
            ],
            "image/png": "[encoded data removed]"
          },
          "metadata": {}
        }
      ]
    },
    {
      "cell_type": "markdown",
      "source": [
        "На точечном графике значения распределены более хаотично по сравнению с графиком для севера. Факторы не попадают в области \" высокая жесткость - высокая смертность\" и \"низкая жесткость - низкая смертность\", что позволяет предположить наличие обратной корреляции междлу факторами, более сильной, чем на севере"
      ],
      "metadata": {
        "id": "ZSE0Dj9a4UUc"
      }
    },
    {
      "cell_type": "code",
      "source": [
        "sns.pairplot(df_south[['mortality', 'hardness']], kind='reg')"
      ],
      "metadata": {
        "colab": {
          "base_uri": "https://localhost:8080/",
          "height": 390
        },
        "outputId": "609dc4c8-62e8-4a8e-d37a-1c62004ff56b",
        "id": "ebzu7ivjDqEh"
      },
      "execution_count": null,
      "outputs": [
        {
          "output_type": "execute_result",
          "data": {
            "text/plain": [
              "<seaborn.axisgrid.PairGrid at 0x7fb5a0583490>"
            ]
          },
          "metadata": {},
          "execution_count": 112
        },
        {
          "output_type": "display_data",
          "data": {
            "text/plain": [
              "<Figure size 360x360 with 6 Axes>"
            ],
            "image/png": "[encoded data removed]"
          },
          "metadata": {}
        }
      ]
    },
    {
      "cell_type": "code",
      "source": [
        "seed(1)\n",
        "qqplot(df_south['mortality'], line='s')\n",
        "qqplot(df_south['hardness'], line='s')\n",
        "pyplot.show()"
      ],
      "metadata": {
        "colab": {
          "base_uri": "https://localhost:8080/",
          "height": 1000
        },
        "outputId": "8938f12d-c02a-4587-e8a3-ecd9853e90ea",
        "id": "Ydf-lK2cDqEi"
      },
      "execution_count": null,
      "outputs": [
        {
          "output_type": "display_data",
          "data": {
            "text/plain": [
              "<Figure size 842.4x595.44 with 1 Axes>"
            ],
            "image/png": "[encoded data removed]"
          },
          "metadata": {}
        },
        {
          "output_type": "display_data",
          "data": {
            "text/plain": [
              "<Figure size 842.4x595.44 with 1 Axes>"
            ],
            "image/png": "[encoded data removed]"
          },
          "metadata": {}
        }
      ]
    },
    {
      "cell_type": "markdown",
      "source": [
        "Получено визуальное подтверждение сделанной ранее гипотезы о нормальности распределения mortality и hardness на юге"
      ],
      "metadata": {
        "id": "iJQgQ0c5DqEj"
      }
    },
    {
      "cell_type": "code",
      "source": [
        "shapiro_test(df_south,['mortality', 'hardness'])"
      ],
      "metadata": {
        "colab": {
          "base_uri": "https://localhost:8080/"
        },
        "outputId": "d6e7b652-a77d-42c0-dfae-729a77bf1f97",
        "id": "ZN7xPY9DDqEj"
      },
      "execution_count": null,
      "outputs": [
        {
          "output_type": "stream",
          "name": "stdout",
          "text": [
            "mortality\n",
            "Statistics=0.966, p=0.518\n",
            "Предположительно нормальное распределение (Недостаточно данных, чтобы отвергнуть H0)\n",
            "\n",
            "hardness\n",
            "Statistics=0.956, p=0.313\n",
            "Предположительно нормальное распределение (Недостаточно данных, чтобы отвергнуть H0)\n",
            "\n"
          ]
        }
      ]
    },
    {
      "cell_type": "markdown",
      "source": [
        "Наблюдается средняя обратная линейная корреляция (с увеличением жесткости одновременно снижается смертность. Также визуально определяется незначительное количество выбросов (требуется количественная проверка).\n",
        "Распределения mortality и hardness визуально близко к нормальному. Критерии Шапиро - Уилка это подтверждают."
      ],
      "metadata": {
        "id": "NxI6NKZnDqEk"
      }
    },
    {
      "cell_type": "markdown",
      "source": [
        "##### Попробуем определить выбросы для mortality и hardness"
      ],
      "metadata": {
        "id": "PclsMde-DKme"
      }
    },
    {
      "cell_type": "code",
      "source": [
        "statis(df_south,'mortality')\n",
        "print()\n",
        "statis(df_south,'hardness')"
      ],
      "metadata": {
        "colab": {
          "base_uri": "https://localhost:8080/"
        },
        "id": "x_n5hYgtziG1",
        "outputId": "2b9c3a1e-8ee8-4636-a67d-c9eee953441c"
      },
      "execution_count": null,
      "outputs": [
        {
          "output_type": "stream",
          "name": "stdout",
          "text": [
            "mortality:\n",
            "======================================================\n",
            "Среднее значение по mortality: 1376.8076923076924\n",
            "Медиана по mortality: 1364.0\n",
            "\n",
            "Среднее значение по mortality по строкам без выбросов: 1376.8076923076924\n",
            "Медиана по mortality по строкам без выбросов: 1364.0\n",
            "\n",
            "Среднее значение по mortality для выбросов: nan\n",
            "Медиана по mortality для выбросов: nan\n",
            "% выбросов: 0.0\n",
            "В mortality выбросов нет\n",
            "\n",
            "hardness:\n",
            "======================================================\n",
            "Среднее значение по hardness: 69.76923076923077\n",
            "Медиана по hardness: 75.5\n",
            "\n",
            "Среднее значение по hardness по строкам без выбросов: 69.76923076923077\n",
            "Медиана по hardness по строкам без выбросов: 75.5\n",
            "\n",
            "Среднее значение по hardness для выбросов: nan\n",
            "Медиана по hardness для выбросов: nan\n",
            "% выбросов: 0.0\n",
            "В hardness выбросов нет\n"
          ]
        }
      ]
    },
    {
      "cell_type": "markdown",
      "source": [
        "При нормальном распределении и отсутствии выбросом вожно рассчитывать на достоверность коэффициента корреляции Пирсона"
      ],
      "metadata": {
        "id": "7SE7ERl5EPqc"
      }
    },
    {
      "cell_type": "markdown",
      "source": [
        "##### Расчет коэффициентов корреляции Пирсона и Спирмена"
      ],
      "metadata": {
        "id": "wT1p4tXvQtdh"
      }
    },
    {
      "cell_type": "code",
      "source": [
        "# считаем коэф. корреляции Пирсона\n",
        "df_south[['hardness', 'mortality']].corr()"
      ],
      "metadata": {
        "colab": {
          "base_uri": "https://localhost:8080/",
          "height": 112
        },
        "outputId": "6da8a253-3394-44b7-d8ed-3f381affa34e",
        "id": "0CSxOiSnQtdh"
      },
      "execution_count": null,
      "outputs": [
        {
          "output_type": "execute_result",
          "data": {
            "text/plain": [
              "           hardness  mortality\n",
              "hardness   1.000000  -0.602153\n",
              "mortality -0.602153   1.000000"
            ],
            "text/html": [
              "\n",
              "  <div id=\"df-0da3076c-043b-4d08-ac64-2b946afa938a\">\n",
              "    <div class=\"colab-df-container\">\n",
              "      <div>\n",
              "<style scoped>\n",
              "    .dataframe tbody tr th:only-of-type {\n",
              "        vertical-align: middle;\n",
              "    }\n",
              "\n",
              "    .dataframe tbody tr th {\n",
              "        vertical-align: top;\n",
              "    }\n",
              "\n",
              "    .dataframe thead th {\n",
              "        text-align: right;\n",
              "    }\n",
              "</style>\n",
              "<table border=\"1\" class=\"dataframe\">\n",
              "  <thead>\n",
              "    <tr style=\"text-align: right;\">\n",
              "      <th></th>\n",
              "      <th>hardness</th>\n",
              "      <th>mortality</th>\n",
              "    </tr>\n",
              "  </thead>\n",
              "  <tbody>\n",
              "    <tr>\n",
              "      <th>hardness</th>\n",
              "      <td>1.000000</td>\n",
              "      <td>-0.602153</td>\n",
              "    </tr>\n",
              "    <tr>\n",
              "      <th>mortality</th>\n",
              "      <td>-0.602153</td>\n",
              "      <td>1.000000</td>\n",
              "    </tr>\n",
              "  </tbody>\n",
              "</table>\n",
              "</div>\n",
              "      <button class=\"colab-df-convert\" onclick=\"convertToInteractive('df-0da3076c-043b-4d08-ac64-2b946afa938a')\"\n",
              "              title=\"Convert this dataframe to an interactive table.\"\n",
              "              style=\"display:none;\">\n",
              "        \n",
              "  <svg xmlns=\"http://www.w3.org/2000/svg\" height=\"24px\"viewBox=\"0 0 24 24\"\n",
              "       width=\"24px\">\n",
              "    <path d=\"M0 0h24v24H0V0z\" fill=\"none\"/>\n",
              "    <path d=\"M18.56 5.44l.94 2.06.94-2.06 2.06-.94-2.06-.94-.94-2.06-.94 2.06-2.06.94zm-11 1L8.5 8.5l.94-2.06 2.06-.94-2.06-.94L8.5 2.5l-.94 2.06-2.06.94zm10 10l.94 2.06.94-2.06 2.06-.94-2.06-.94-.94-2.06-.94 2.06-2.06.94z\"/><path d=\"M17.41 7.96l-1.37-1.37c-.4-.4-.92-.59-1.43-.59-.52 0-1.04.2-1.43.59L10.3 9.45l-7.72 7.72c-.78.78-.78 2.05 0 2.83L4 21.41c.39.39.9.59 1.41.59.51 0 1.02-.2 1.41-.59l7.78-7.78 2.81-2.81c.8-.78.8-2.07 0-2.86zM5.41 20L4 18.59l7.72-7.72 1.47 1.35L5.41 20z\"/>\n",
              "  </svg>\n",
              "      </button>\n",
              "      \n",
              "  <style>\n",
              "    .colab-df-container {\n",
              "      display:flex;\n",
              "      flex-wrap:wrap;\n",
              "      gap: 12px;\n",
              "    }\n",
              "\n",
              "    .colab-df-convert {\n",
              "      background-color: #E8F0FE;\n",
              "      border: none;\n",
              "      border-radius: 50%;\n",
              "      cursor: pointer;\n",
              "      display: none;\n",
              "      fill: #1967D2;\n",
              "      height: 32px;\n",
              "      padding: 0 0 0 0;\n",
              "      width: 32px;\n",
              "    }\n",
              "\n",
              "    .colab-df-convert:hover {\n",
              "      background-color: #E2EBFA;\n",
              "      box-shadow: 0px 1px 2px rgba(60, 64, 67, 0.3), 0px 1px 3px 1px rgba(60, 64, 67, 0.15);\n",
              "      fill: #174EA6;\n",
              "    }\n",
              "\n",
              "    [theme=dark] .colab-df-convert {\n",
              "      background-color: #3B4455;\n",
              "      fill: #D2E3FC;\n",
              "    }\n",
              "\n",
              "    [theme=dark] .colab-df-convert:hover {\n",
              "      background-color: #434B5C;\n",
              "      box-shadow: 0px 1px 3px 1px rgba(0, 0, 0, 0.15);\n",
              "      filter: drop-shadow(0px 1px 2px rgba(0, 0, 0, 0.3));\n",
              "      fill: #FFFFFF;\n",
              "    }\n",
              "  </style>\n",
              "\n",
              "      <script>\n",
              "        const buttonEl =\n",
              "          document.querySelector('#df-0da3076c-043b-4d08-ac64-2b946afa938a button.colab-df-convert');\n",
              "        buttonEl.style.display =\n",
              "          google.colab.kernel.accessAllowed ? 'block' : 'none';\n",
              "\n",
              "        async function convertToInteractive(key) {\n",
              "          const element = document.querySelector('#df-0da3076c-043b-4d08-ac64-2b946afa938a');\n",
              "          const dataTable =\n",
              "            await google.colab.kernel.invokeFunction('convertToInteractive',\n",
              "                                                     [key], {});\n",
              "          if (!dataTable) return;\n",
              "\n",
              "          const docLinkHtml = 'Like what you see? Visit the ' +\n",
              "            '<a target=\"_blank\" href=https://colab.research.google.com/notebooks/data_table.ipynb>data table notebook</a>'\n",
              "            + ' to learn more about interactive tables.';\n",
              "          element.innerHTML = '';\n",
              "          dataTable['output_type'] = 'display_data';\n",
              "          await google.colab.output.renderOutput(dataTable, element);\n",
              "          const docLink = document.createElement('div');\n",
              "          docLink.innerHTML = docLinkHtml;\n",
              "          element.appendChild(docLink);\n",
              "        }\n",
              "      </script>\n",
              "    </div>\n",
              "  </div>\n",
              "  "
            ]
          },
          "metadata": {},
          "execution_count": 97
        }
      ]
    },
    {
      "cell_type": "code",
      "source": [
        "# считаем коэф. корреляции Спирмена\n",
        "df_south[['hardness', 'mortality']].corr(method='spearman')"
      ],
      "metadata": {
        "colab": {
          "base_uri": "https://localhost:8080/",
          "height": 112
        },
        "outputId": "b8c546c1-70a5-434f-d8ec-c7bf517e7a1e",
        "id": "v0RgMqk3Qtdi"
      },
      "execution_count": null,
      "outputs": [
        {
          "output_type": "execute_result",
          "data": {
            "text/plain": [
              "           hardness  mortality\n",
              "hardness   1.000000  -0.595723\n",
              "mortality -0.595723   1.000000"
            ],
            "text/html": [
              "\n",
              "  <div id=\"df-5c9934f4-6a86-4533-8ce9-38a5b479cc7f\">\n",
              "    <div class=\"colab-df-container\">\n",
              "      <div>\n",
              "<style scoped>\n",
              "    .dataframe tbody tr th:only-of-type {\n",
              "        vertical-align: middle;\n",
              "    }\n",
              "\n",
              "    .dataframe tbody tr th {\n",
              "        vertical-align: top;\n",
              "    }\n",
              "\n",
              "    .dataframe thead th {\n",
              "        text-align: right;\n",
              "    }\n",
              "</style>\n",
              "<table border=\"1\" class=\"dataframe\">\n",
              "  <thead>\n",
              "    <tr style=\"text-align: right;\">\n",
              "      <th></th>\n",
              "      <th>hardness</th>\n",
              "      <th>mortality</th>\n",
              "    </tr>\n",
              "  </thead>\n",
              "  <tbody>\n",
              "    <tr>\n",
              "      <th>hardness</th>\n",
              "      <td>1.000000</td>\n",
              "      <td>-0.595723</td>\n",
              "    </tr>\n",
              "    <tr>\n",
              "      <th>mortality</th>\n",
              "      <td>-0.595723</td>\n",
              "      <td>1.000000</td>\n",
              "    </tr>\n",
              "  </tbody>\n",
              "</table>\n",
              "</div>\n",
              "      <button class=\"colab-df-convert\" onclick=\"convertToInteractive('df-5c9934f4-6a86-4533-8ce9-38a5b479cc7f')\"\n",
              "              title=\"Convert this dataframe to an interactive table.\"\n",
              "              style=\"display:none;\">\n",
              "        \n",
              "  <svg xmlns=\"http://www.w3.org/2000/svg\" height=\"24px\"viewBox=\"0 0 24 24\"\n",
              "       width=\"24px\">\n",
              "    <path d=\"M0 0h24v24H0V0z\" fill=\"none\"/>\n",
              "    <path d=\"M18.56 5.44l.94 2.06.94-2.06 2.06-.94-2.06-.94-.94-2.06-.94 2.06-2.06.94zm-11 1L8.5 8.5l.94-2.06 2.06-.94-2.06-.94L8.5 2.5l-.94 2.06-2.06.94zm10 10l.94 2.06.94-2.06 2.06-.94-2.06-.94-.94-2.06-.94 2.06-2.06.94z\"/><path d=\"M17.41 7.96l-1.37-1.37c-.4-.4-.92-.59-1.43-.59-.52 0-1.04.2-1.43.59L10.3 9.45l-7.72 7.72c-.78.78-.78 2.05 0 2.83L4 21.41c.39.39.9.59 1.41.59.51 0 1.02-.2 1.41-.59l7.78-7.78 2.81-2.81c.8-.78.8-2.07 0-2.86zM5.41 20L4 18.59l7.72-7.72 1.47 1.35L5.41 20z\"/>\n",
              "  </svg>\n",
              "      </button>\n",
              "      \n",
              "  <style>\n",
              "    .colab-df-container {\n",
              "      display:flex;\n",
              "      flex-wrap:wrap;\n",
              "      gap: 12px;\n",
              "    }\n",
              "\n",
              "    .colab-df-convert {\n",
              "      background-color: #E8F0FE;\n",
              "      border: none;\n",
              "      border-radius: 50%;\n",
              "      cursor: pointer;\n",
              "      display: none;\n",
              "      fill: #1967D2;\n",
              "      height: 32px;\n",
              "      padding: 0 0 0 0;\n",
              "      width: 32px;\n",
              "    }\n",
              "\n",
              "    .colab-df-convert:hover {\n",
              "      background-color: #E2EBFA;\n",
              "      box-shadow: 0px 1px 2px rgba(60, 64, 67, 0.3), 0px 1px 3px 1px rgba(60, 64, 67, 0.15);\n",
              "      fill: #174EA6;\n",
              "    }\n",
              "\n",
              "    [theme=dark] .colab-df-convert {\n",
              "      background-color: #3B4455;\n",
              "      fill: #D2E3FC;\n",
              "    }\n",
              "\n",
              "    [theme=dark] .colab-df-convert:hover {\n",
              "      background-color: #434B5C;\n",
              "      box-shadow: 0px 1px 3px 1px rgba(0, 0, 0, 0.15);\n",
              "      filter: drop-shadow(0px 1px 2px rgba(0, 0, 0, 0.3));\n",
              "      fill: #FFFFFF;\n",
              "    }\n",
              "  </style>\n",
              "\n",
              "      <script>\n",
              "        const buttonEl =\n",
              "          document.querySelector('#df-5c9934f4-6a86-4533-8ce9-38a5b479cc7f button.colab-df-convert');\n",
              "        buttonEl.style.display =\n",
              "          google.colab.kernel.accessAllowed ? 'block' : 'none';\n",
              "\n",
              "        async function convertToInteractive(key) {\n",
              "          const element = document.querySelector('#df-5c9934f4-6a86-4533-8ce9-38a5b479cc7f');\n",
              "          const dataTable =\n",
              "            await google.colab.kernel.invokeFunction('convertToInteractive',\n",
              "                                                     [key], {});\n",
              "          if (!dataTable) return;\n",
              "\n",
              "          const docLinkHtml = 'Like what you see? Visit the ' +\n",
              "            '<a target=\"_blank\" href=https://colab.research.google.com/notebooks/data_table.ipynb>data table notebook</a>'\n",
              "            + ' to learn more about interactive tables.';\n",
              "          element.innerHTML = '';\n",
              "          dataTable['output_type'] = 'display_data';\n",
              "          await google.colab.output.renderOutput(dataTable, element);\n",
              "          const docLink = document.createElement('div');\n",
              "          docLink.innerHTML = docLinkHtml;\n",
              "          element.appendChild(docLink);\n",
              "        }\n",
              "      </script>\n",
              "    </div>\n",
              "  </div>\n",
              "  "
            ]
          },
          "metadata": {},
          "execution_count": 100
        }
      ]
    },
    {
      "cell_type": "code",
      "source": [
        "# считаем коэф. корреляции кендалла\n",
        "df_south[['hardness', 'mortality']].corr(method='kendall')"
      ],
      "metadata": {
        "colab": {
          "base_uri": "https://localhost:8080/",
          "height": 112
        },
        "outputId": "83655442-9def-4f27-a40f-dad107087c0f",
        "id": "tLV8YrgwQtdi"
      },
      "execution_count": null,
      "outputs": [
        {
          "output_type": "execute_result",
          "data": {
            "text/plain": [
              "           hardness  mortality\n",
              "hardness   1.000000  -0.440315\n",
              "mortality -0.440315   1.000000"
            ],
            "text/html": [
              "\n",
              "  <div id=\"df-49fb4718-6fb9-47d6-ac20-dcccfff82e3f\">\n",
              "    <div class=\"colab-df-container\">\n",
              "      <div>\n",
              "<style scoped>\n",
              "    .dataframe tbody tr th:only-of-type {\n",
              "        vertical-align: middle;\n",
              "    }\n",
              "\n",
              "    .dataframe tbody tr th {\n",
              "        vertical-align: top;\n",
              "    }\n",
              "\n",
              "    .dataframe thead th {\n",
              "        text-align: right;\n",
              "    }\n",
              "</style>\n",
              "<table border=\"1\" class=\"dataframe\">\n",
              "  <thead>\n",
              "    <tr style=\"text-align: right;\">\n",
              "      <th></th>\n",
              "      <th>hardness</th>\n",
              "      <th>mortality</th>\n",
              "    </tr>\n",
              "  </thead>\n",
              "  <tbody>\n",
              "    <tr>\n",
              "      <th>hardness</th>\n",
              "      <td>1.000000</td>\n",
              "      <td>-0.440315</td>\n",
              "    </tr>\n",
              "    <tr>\n",
              "      <th>mortality</th>\n",
              "      <td>-0.440315</td>\n",
              "      <td>1.000000</td>\n",
              "    </tr>\n",
              "  </tbody>\n",
              "</table>\n",
              "</div>\n",
              "      <button class=\"colab-df-convert\" onclick=\"convertToInteractive('df-49fb4718-6fb9-47d6-ac20-dcccfff82e3f')\"\n",
              "              title=\"Convert this dataframe to an interactive table.\"\n",
              "              style=\"display:none;\">\n",
              "        \n",
              "  <svg xmlns=\"http://www.w3.org/2000/svg\" height=\"24px\"viewBox=\"0 0 24 24\"\n",
              "       width=\"24px\">\n",
              "    <path d=\"M0 0h24v24H0V0z\" fill=\"none\"/>\n",
              "    <path d=\"M18.56 5.44l.94 2.06.94-2.06 2.06-.94-2.06-.94-.94-2.06-.94 2.06-2.06.94zm-11 1L8.5 8.5l.94-2.06 2.06-.94-2.06-.94L8.5 2.5l-.94 2.06-2.06.94zm10 10l.94 2.06.94-2.06 2.06-.94-2.06-.94-.94-2.06-.94 2.06-2.06.94z\"/><path d=\"M17.41 7.96l-1.37-1.37c-.4-.4-.92-.59-1.43-.59-.52 0-1.04.2-1.43.59L10.3 9.45l-7.72 7.72c-.78.78-.78 2.05 0 2.83L4 21.41c.39.39.9.59 1.41.59.51 0 1.02-.2 1.41-.59l7.78-7.78 2.81-2.81c.8-.78.8-2.07 0-2.86zM5.41 20L4 18.59l7.72-7.72 1.47 1.35L5.41 20z\"/>\n",
              "  </svg>\n",
              "      </button>\n",
              "      \n",
              "  <style>\n",
              "    .colab-df-container {\n",
              "      display:flex;\n",
              "      flex-wrap:wrap;\n",
              "      gap: 12px;\n",
              "    }\n",
              "\n",
              "    .colab-df-convert {\n",
              "      background-color: #E8F0FE;\n",
              "      border: none;\n",
              "      border-radius: 50%;\n",
              "      cursor: pointer;\n",
              "      display: none;\n",
              "      fill: #1967D2;\n",
              "      height: 32px;\n",
              "      padding: 0 0 0 0;\n",
              "      width: 32px;\n",
              "    }\n",
              "\n",
              "    .colab-df-convert:hover {\n",
              "      background-color: #E2EBFA;\n",
              "      box-shadow: 0px 1px 2px rgba(60, 64, 67, 0.3), 0px 1px 3px 1px rgba(60, 64, 67, 0.15);\n",
              "      fill: #174EA6;\n",
              "    }\n",
              "\n",
              "    [theme=dark] .colab-df-convert {\n",
              "      background-color: #3B4455;\n",
              "      fill: #D2E3FC;\n",
              "    }\n",
              "\n",
              "    [theme=dark] .colab-df-convert:hover {\n",
              "      background-color: #434B5C;\n",
              "      box-shadow: 0px 1px 3px 1px rgba(0, 0, 0, 0.15);\n",
              "      filter: drop-shadow(0px 1px 2px rgba(0, 0, 0, 0.3));\n",
              "      fill: #FFFFFF;\n",
              "    }\n",
              "  </style>\n",
              "\n",
              "      <script>\n",
              "        const buttonEl =\n",
              "          document.querySelector('#df-49fb4718-6fb9-47d6-ac20-dcccfff82e3f button.colab-df-convert');\n",
              "        buttonEl.style.display =\n",
              "          google.colab.kernel.accessAllowed ? 'block' : 'none';\n",
              "\n",
              "        async function convertToInteractive(key) {\n",
              "          const element = document.querySelector('#df-49fb4718-6fb9-47d6-ac20-dcccfff82e3f');\n",
              "          const dataTable =\n",
              "            await google.colab.kernel.invokeFunction('convertToInteractive',\n",
              "                                                     [key], {});\n",
              "          if (!dataTable) return;\n",
              "\n",
              "          const docLinkHtml = 'Like what you see? Visit the ' +\n",
              "            '<a target=\"_blank\" href=https://colab.research.google.com/notebooks/data_table.ipynb>data table notebook</a>'\n",
              "            + ' to learn more about interactive tables.';\n",
              "          element.innerHTML = '';\n",
              "          dataTable['output_type'] = 'display_data';\n",
              "          await google.colab.output.renderOutput(dataTable, element);\n",
              "          const docLink = document.createElement('div');\n",
              "          docLink.innerHTML = docLinkHtml;\n",
              "          element.appendChild(docLink);\n",
              "        }\n",
              "      </script>\n",
              "    </div>\n",
              "  </div>\n",
              "  "
            ]
          },
          "metadata": {},
          "execution_count": 101
        }
      ]
    },
    {
      "cell_type": "code",
      "source": [
        "sns.set(rc={'figure.figsize':(11.7,8.27)})\n",
        "sns.heatmap(df_south[['hardness', 'mortality']].corr(), annot=True)"
      ],
      "metadata": {
        "colab": {
          "base_uri": "https://localhost:8080/",
          "height": 522
        },
        "outputId": "08a9c465-5c30-4837-e0da-c7f28ebe170b",
        "id": "HwXCUZPuQtdj"
      },
      "execution_count": null,
      "outputs": [
        {
          "output_type": "execute_result",
          "data": {
            "text/plain": [
              "<matplotlib.axes._subplots.AxesSubplot at 0x7f0c5b9c53d0>"
            ]
          },
          "metadata": {},
          "execution_count": 102
        },
        {
          "output_type": "display_data",
          "data": {
            "text/plain": [
              "<Figure size 842.4x595.44 with 2 Axes>"
            ],
            "image/png": "[encoded data removed]"
          },
          "metadata": {}
        }
      ]
    },
    {
      "cell_type": "markdown",
      "source": [
        "Гипотеза о более сильной обратной корреляции на юге, чем на севере, подтвердилась. Для группы южных городов коэффициент корреляции, рассчитанный по всем 3 методикам, больше, чем на севере и в целом по выборке. "
      ],
      "metadata": {
        "id": "nuHSU2_oSnt3"
      }
    },
    {
      "cell_type": "markdown",
      "source": [
        "##### Модель линейной регрессии"
      ],
      "metadata": {
        "id": "7fTrPI_NQtdj"
      }
    },
    {
      "cell_type": "code",
      "source": [
        "X=df_south[['hardness']]\n",
        "y=df_south['mortality']\n",
        "X_train, X_test, y_train, y_test = train_test_split(X, y, test_size=0.30, random_state=1)\n",
        "model = LinearRegression()\n",
        "model.fit(X_train, y_train)"
      ],
      "metadata": {
        "colab": {
          "base_uri": "https://localhost:8080/"
        },
        "outputId": "016c50bc-c5ec-4f0c-b7ac-9cc3ce94137e",
        "id": "mEeb1dJfQtdk"
      },
      "execution_count": null,
      "outputs": [
        {
          "output_type": "execute_result",
          "data": {
            "text/plain": [
              "LinearRegression()"
            ]
          },
          "metadata": {},
          "execution_count": 103
        }
      ]
    },
    {
      "cell_type": "code",
      "source": [
        "model.coef_"
      ],
      "metadata": {
        "colab": {
          "base_uri": "https://localhost:8080/"
        },
        "outputId": "9fcfd5e4-31fc-4116-99d6-65e24a52be6d",
        "id": "SI4ZkXaXQtdk"
      },
      "execution_count": null,
      "outputs": [
        {
          "output_type": "execute_result",
          "data": {
            "text/plain": [
              "array([-1.87359315])"
            ]
          },
          "metadata": {},
          "execution_count": 104
        }
      ]
    },
    {
      "cell_type": "code",
      "source": [
        "model.intercept_"
      ],
      "metadata": {
        "colab": {
          "base_uri": "https://localhost:8080/"
        },
        "outputId": "462f42ac-d363-4314-9e3c-36647f082a75",
        "id": "3E8xC3w1Qtdl"
      },
      "execution_count": null,
      "outputs": [
        {
          "output_type": "execute_result",
          "data": {
            "text/plain": [
              "1520.492357120051"
            ]
          },
          "metadata": {},
          "execution_count": 105
        }
      ]
    },
    {
      "cell_type": "markdown",
      "source": [
        "Уравнение линейной регрессии: Y=-1.87*x + 1520.49"
      ],
      "metadata": {
        "id": "3JJ4b_ktQtdl"
      }
    },
    {
      "cell_type": "code",
      "source": [
        "y_pred = model.predict(X_test)\n",
        "y_pred"
      ],
      "metadata": {
        "colab": {
          "base_uri": "https://localhost:8080/"
        },
        "outputId": "c3194efa-4636-4c61-ce06-29cae97b45ef",
        "id": "1Pk_e54rQtdl"
      },
      "execution_count": null,
      "outputs": [
        {
          "output_type": "execute_result",
          "data": {
            "text/plain": [
              "array([1331.25944883, 1409.95036119, 1351.8689735 , 1363.11053241,\n",
              "       1408.07676804, 1261.93650223, 1393.08802283, 1426.81269955])"
            ]
          },
          "metadata": {},
          "execution_count": 106
        }
      ]
    },
    {
      "cell_type": "markdown",
      "source": [
        "Отобразим на точечной диаграмме тестовые и прогнозные величины, а также линию линейной регрессии"
      ],
      "metadata": {
        "id": "1cvM-gq1Qtdm"
      }
    },
    {
      "cell_type": "code",
      "source": [
        "plt.scatter(X_test, y_test)\n",
        "plt.plot(X_test, y_pred, c='r')"
      ],
      "metadata": {
        "colab": {
          "base_uri": "https://localhost:8080/",
          "height": 518
        },
        "outputId": "7b71d9bc-0e64-4c78-de52-057f4c8820df",
        "id": "25aQiFfzQtdm"
      },
      "execution_count": null,
      "outputs": [
        {
          "output_type": "execute_result",
          "data": {
            "text/plain": [
              "[<matplotlib.lines.Line2D at 0x7f0c5b8a5390>]"
            ]
          },
          "metadata": {},
          "execution_count": 107
        },
        {
          "output_type": "display_data",
          "data": {
            "text/plain": [
              "<Figure size 842.4x595.44 with 1 Axes>"
            ],
            "image/png": "[encoded data removed]"
          },
          "metadata": {}
        }
      ]
    },
    {
      "cell_type": "markdown",
      "source": [
        "Визуально кажется, что, как и в случае с севером,  зависимость  нелинейная, и рассчитанная модель линейной регрессии выглядит неподходящей"
      ],
      "metadata": {
        "id": "CAK1sN-KTBC2"
      }
    },
    {
      "cell_type": "markdown",
      "source": [
        "##### Расчет коэффициента детерминации"
      ],
      "metadata": {
        "id": "B0_LZyo4Qtdm"
      }
    },
    {
      "cell_type": "code",
      "source": [
        "print (f' Коэффициент детерминации: {model.score(X_test, y_test)}') "
      ],
      "metadata": {
        "colab": {
          "base_uri": "https://localhost:8080/"
        },
        "outputId": "dbe070b3-0e8e-4d8f-f0a0-2bec2a11cb4c",
        "id": "jjCWo-yZQtdm"
      },
      "execution_count": null,
      "outputs": [
        {
          "output_type": "stream",
          "name": "stdout",
          "text": [
            " Коэффициент детерминации: 0.19850621188305384\n"
          ]
        }
      ]
    },
    {
      "cell_type": "markdown",
      "source": [
        "##### График остатков"
      ],
      "metadata": {
        "id": "U0s9I3p3Qtdn"
      }
    },
    {
      "cell_type": "code",
      "source": [
        "residuals = y_test-y_pred\n",
        "plt.scatter(residuals,y_pred)\n",
        "plt.show()"
      ],
      "metadata": {
        "colab": {
          "base_uri": "https://localhost:8080/",
          "height": 500
        },
        "outputId": "206d0e3b-358b-4a32-e975-144e5d55f077",
        "id": "Te1YYgi2Qtdn"
      },
      "execution_count": null,
      "outputs": [
        {
          "output_type": "display_data",
          "data": {
            "text/plain": [
              "<Figure size 842.4x595.44 with 1 Axes>"
            ],
            "image/png": "[encoded data removed]"
          },
          "metadata": {}
        }
      ]
    },
    {
      "cell_type": "markdown",
      "source": [
        "###### Гистограмма остатков"
      ],
      "metadata": {
        "id": "Zvka_v05Qtdn"
      }
    },
    {
      "cell_type": "code",
      "source": [
        "plt.hist(residuals)"
      ],
      "metadata": {
        "colab": {
          "base_uri": "https://localhost:8080/",
          "height": 592
        },
        "outputId": "26e1e3f9-c287-4f5a-b095-b5e826fe7e62",
        "id": "w73ZO1d8Qtdn"
      },
      "execution_count": null,
      "outputs": [
        {
          "output_type": "execute_result",
          "data": {
            "text/plain": [
              "(array([2., 0., 2., 0., 0., 2., 0., 0., 0., 2.]),\n",
              " array([-169.81269955, -140.9391064 , -112.06551325,  -83.1919201 ,\n",
              "         -54.31832695,  -25.4447338 ,    3.42885936,   32.30245251,\n",
              "          61.17604566,   90.04963881,  118.92323196]),\n",
              " <a list of 10 Patch objects>)"
            ]
          },
          "metadata": {},
          "execution_count": 110
        },
        {
          "output_type": "display_data",
          "data": {
            "text/plain": [
              "<Figure size 842.4x595.44 with 1 Axes>"
            ],
            "image/png": "[encoded data removed]"
          },
          "metadata": {}
        }
      ]
    },
    {
      "cell_type": "markdown",
      "source": [
        "Для группы южных городов модель линейной регрессии, очевидно, не подходит - к-т детерминации 0.19 <0.5, гистограмма остатков не имеет нормальное распределение"
      ],
      "metadata": {
        "id": "2Dyt7bDrQtdo"
      }
    }
  ]
}