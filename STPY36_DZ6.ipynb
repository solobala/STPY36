{
  "nbformat": 4,
  "nbformat_minor": 0,
  "metadata": {
    "colab": {
      "provenance": [],
      "collapsed_sections": [],
      "authorship_tag": "ABX9TyNDRW/dJ5sjDxJIIwoS4Yn4",
      "include_colab_link": true
    },
    "kernelspec": {
      "name": "python3",
      "display_name": "Python 3"
    },
    "language_info": {
      "name": "python"
    }
  },
  "cells": [
    {
      "cell_type": "markdown",
      "metadata": {
        "id": "view-in-github",
        "colab_type": "text"
      },
      "source": [
        "<a href=\"https://colab.research.google.com/github/solobala/STPY36/blob/main/STPY36_DZ6.ipynb\" target=\"_parent\"><img src=\"https://colab.research.google.com/assets/colab-badge.svg\" alt=\"Open In Colab\"/></a>"
      ]
    },
    {
      "cell_type": "markdown",
      "source": [
        "# Домашнее задание \"Доверительные интервалы\""
      ],
      "metadata": {
        "id": "jOF5DE5hNAzr"
      }
    },
    {
      "cell_type": "markdown",
      "source": [
        "## Импорт библиотек"
      ],
      "metadata": {
        "id": "l5FQP6MUNKWz"
      }
    },
    {
      "cell_type": "code",
      "execution_count": null,
      "metadata": {
        "id": "YSG_oUt4M6hk"
      },
      "outputs": [],
      "source": [
        "import numpy as np \n",
        "from numpy.random import seed\n",
        "import pandas as pd  # для работы с таблицами\n",
        "import scipy as sp\n",
        "from scipy import stats as st # При работе со статистикой\n",
        "from scipy.stats import shapiro\n",
        "import matplotlib.pyplot as plt  # Библиотека для визуализации результатов \n"
      ]
    },
    {
      "cell_type": "markdown",
      "source": [
        "## Задание № 0\n",
        "Найдите минимально необходимый объем выборки для построения интервальной оценки среднего.\n",
        "\n",
        "желаемая точность  Δ  = 3;\n",
        "дисперсия  𝜎2  = 225;\n",
        "уровень доверия  𝛽  = 0.95.\n",
        "\n",
        "Ответ округлите до целого"
      ],
      "metadata": {
        "id": "Y2YbokdiNO8z"
      }
    },
    {
      "cell_type": "code",
      "source": [
        "delta = 3\n",
        "var = 225\n",
        "beta = 0.95\n",
        "alfa = 1-beta\n",
        "sigma = np.sqrt(var)\n",
        "z = 1.96 # находим по таблице квантилей нормального распределения по известным sigma и beta\n",
        "n = int(np.ceil(((sigma*z)/delta)**2))\n",
        "print(f'Минимально необходимый объем выборки: {n}')"
      ],
      "metadata": {
        "colab": {
          "base_uri": "https://localhost:8080/"
        },
        "id": "5S7vOLS1NgKc",
        "outputId": "75189c72-f60a-4cab-dee9-3912cefb53c4"
      },
      "execution_count": null,
      "outputs": [
        {
          "output_type": "stream",
          "name": "stdout",
          "text": [
            "Минимально необходимый объем выборки: 97\n"
          ]
        }
      ]
    },
    {
      "cell_type": "markdown",
      "source": [
        "##Задание № 1\n",
        "\n",
        "Постройте 98% доверительный интервал для среднего значения, если известно, что\n",
        "\n",
        "объем выборки n = 25;\n",
        "среднее значение по выборке  𝑥⎯⎯⎯  = 130;\n",
        "Из достоверных источников известно стандартное отклонение  𝜎=15 .\n",
        "\n",
        "В ответ укажите длину полученного доверительного интервала (разницу между правым и левым концом), округленную до целого"
      ],
      "metadata": {
        "id": "nfktJ_TVeHjS"
      }
    },
    {
      "cell_type": "code",
      "source": [
        "n = 25 # объем выборки <30 -считаем по Стьюденту\n",
        "loc = 130\n",
        "sigma = 15\n",
        "alfa = 0.98\n",
        "ci_lower, ci_upper = st.norm.interval(alpha=alfa, loc=loc, scale=sigma)\n",
        "print(f'Мы уверены на {alfa*100}%, что истинное среднее значение генеральной совокупности находится в диапазоне между {ci_lower:5.3f} и {ci_upper:5.3f}')\n",
        "L = int((ci_upper - ci_lower)) \n",
        "print('L = ', L)"
      ],
      "metadata": {
        "colab": {
          "base_uri": "https://localhost:8080/"
        },
        "id": "jI9li9yTeQIT",
        "outputId": "8ea48198-cb7c-49e9-86ff-6786417999bf"
      },
      "execution_count": null,
      "outputs": [
        {
          "output_type": "stream",
          "name": "stdout",
          "text": [
            "Мы уверены на 98.0%, что истинное среднее значение генеральной совокупности находится в диапазоне между 95.105 и 164.895\n",
            "L =  69\n"
          ]
        }
      ]
    },
    {
      "cell_type": "markdown",
      "source": [
        "## Задание № 2\n",
        "Даны две выборки роста мужчин и женщин.\n",
        "\n",
        "Докажите, используя t-Тест Стьюдента, что различие между выборками незначительно, если уровень значимости равен  𝛼  = 0.001.\n",
        "Покажите различия визуально"
      ],
      "metadata": {
        "id": "0STa0vi2epby"
      }
    },
    {
      "cell_type": "code",
      "source": [
        "#H0: Средние обоих выборок равны.\n",
        "mens  =st.norm.rvs(loc=171, scale=10, size=150000)  # Выборка мужчин со средним ростом 171\n",
        "womens =st.norm.rvs(loc=170, scale=10, size=150000)  # Выборка женщин со средним ростом 170\n",
        "#В двух строчках выше генерируется две выбороки, где loc это среднее значение, а scale это дисперсия\n",
        "\n",
        "k=0\n",
        "\n",
        "for i in range(1000):\n",
        "    mens  = st.norm.rvs(loc=171, scale=10, size=1500)  # Выборка мужчин со средним ростом 171\n",
        "    womens = st.norm.rvs(loc=170, scale=10, size=1500)  # Выборка женщин со средним ростом 170\n",
        "    t, p = st.ttest_ind(mens,womens)\n",
        "    if p < 0.001:\n",
        "        k+=1\n",
        "print(k)"
      ],
      "metadata": {
        "colab": {
          "base_uri": "https://localhost:8080/"
        },
        "id": "s6SSmQrLeu8N",
        "outputId": "8d8a4328-7eab-4eba-82ab-aa497a509dba"
      },
      "execution_count": null,
      "outputs": [
        {
          "output_type": "stream",
          "name": "stdout",
          "text": [
            "278\n"
          ]
        }
      ]
    },
    {
      "cell_type": "markdown",
      "source": [
        "Число экспериментов, в которых  различие между выборками значительно, существенно меньше, чем число экспериментов с незначительным различием средних ( примерно треть от общего числа экспериментов). Делаем вывод, что различие в выборках незначительно."
      ],
      "metadata": {
        "id": "rqspA1XNgUUO"
      }
    },
    {
      "cell_type": "code",
      "source": [
        "plt.hist(mens, bins=15);\n",
        "plt.hist(womens, bins=15);"
      ],
      "metadata": {
        "colab": {
          "base_uri": "https://localhost:8080/",
          "height": 265
        },
        "id": "pO64F6ilg95b",
        "outputId": "7d989ce0-6f77-4853-c235-491d34d6864a"
      },
      "execution_count": null,
      "outputs": [
        {
          "output_type": "display_data",
          "data": {
            "text/plain": [
              "<Figure size 432x288 with 1 Axes>"
            ],
            "image/png": "[encoded data removed]"
          },
          "metadata": {
            "needs_background": "light"
          }
        }
      ]
    },
    {
      "cell_type": "markdown",
      "source": [
        "## Задание № 3\n",
        "Определите объем необходимой выборки для исследования среднего чека за кофе в случайном городе если известно, что в этом городе:\n",
        "\n",
        "стандартное отклонение  𝜎=150 ;\n",
        "уровень доверия  𝛽  = 95%;\n",
        "Погрешность  Δ=50  рублей."
      ],
      "metadata": {
        "id": "xulhhvxdhKkZ"
      }
    },
    {
      "cell_type": "code",
      "source": [
        "sigma = 150\n",
        "beta = 95\n",
        "delta = 50\n",
        "alfa = 1-beta\n",
        "Z = 1.96 # находим по таблице квантиль нормального распределения для двусторонней выборки для beta= 95\n",
        "n = int(np.ceil(((sigma*z)/delta)**2))\n",
        "print(f'Объем необходимой выборки n = {n}')"
      ],
      "metadata": {
        "colab": {
          "base_uri": "https://localhost:8080/"
        },
        "id": "F-JZQtrIg71Z",
        "outputId": "12eead32-8a63-496e-8558-498a2d3900f6"
      },
      "execution_count": null,
      "outputs": [
        {
          "output_type": "stream",
          "name": "stdout",
          "text": [
            "Объем необходимой выборки n = 35\n"
          ]
        }
      ]
    },
    {
      "cell_type": "markdown",
      "source": [
        "## Задание № 4\n",
        "Представьте, что вы хотите разоблачить \"волшебника\" который считает, что умеет предсказывать погоду на завтра, отвечая просто: дождь или солнце. Вы пронаблюдали за ответами \"волшебника\" в течении какого-то периода времени и получили некие результаты (см.ниже).\n",
        "\n",
        "Можно ли сказать, что маг действительно умеет предсказывать погоду? Уровень значимости принять за 0.05 ( 𝛼=0.05 )."
      ],
      "metadata": {
        "id": "v7PgQTLQhhQ4"
      }
    },
    {
      "cell_type": "code",
      "source": [
        "#H0: правильные ответы случайны. Нет никакой разницы в выборках равильных и неправильных ответов\n",
        "observations = pd.DataFrame([[10, 15],[39, 34]],\n",
        "                            index=['Дождь','Солнце'],\n",
        "                            columns=['Верные ответы волшебника','Неверные ответы'])\n",
        "observations"
      ],
      "metadata": {
        "colab": {
          "base_uri": "https://localhost:8080/",
          "height": 112
        },
        "id": "QmbcIITXihaA",
        "outputId": "e6897686-340e-4eb2-bf0e-ae621c54a95b"
      },
      "execution_count": null,
      "outputs": [
        {
          "output_type": "execute_result",
          "data": {
            "text/plain": [
              "        Верные ответы волшебника  Неверные ответы\n",
              "Дождь                         10               15\n",
              "Солнце                        39               34"
            ],
            "text/html": [
              "\n",
              "  <div id=\"df-e4827c06-cb57-4fe3-9cd3-781cd8692205\">\n",
              "    <div class=\"colab-df-container\">\n",
              "      <div>\n",
              "<style scoped>\n",
              "    .dataframe tbody tr th:only-of-type {\n",
              "        vertical-align: middle;\n",
              "    }\n",
              "\n",
              "    .dataframe tbody tr th {\n",
              "        vertical-align: top;\n",
              "    }\n",
              "\n",
              "    .dataframe thead th {\n",
              "        text-align: right;\n",
              "    }\n",
              "</style>\n",
              "<table border=\"1\" class=\"dataframe\">\n",
              "  <thead>\n",
              "    <tr style=\"text-align: right;\">\n",
              "      <th></th>\n",
              "      <th>Верные ответы волшебника</th>\n",
              "      <th>Неверные ответы</th>\n",
              "    </tr>\n",
              "  </thead>\n",
              "  <tbody>\n",
              "    <tr>\n",
              "      <th>Дождь</th>\n",
              "      <td>10</td>\n",
              "      <td>15</td>\n",
              "    </tr>\n",
              "    <tr>\n",
              "      <th>Солнце</th>\n",
              "      <td>39</td>\n",
              "      <td>34</td>\n",
              "    </tr>\n",
              "  </tbody>\n",
              "</table>\n",
              "</div>\n",
              "      <button class=\"colab-df-convert\" onclick=\"convertToInteractive('df-e4827c06-cb57-4fe3-9cd3-781cd8692205')\"\n",
              "              title=\"Convert this dataframe to an interactive table.\"\n",
              "              style=\"display:none;\">\n",
              "        \n",
              "  <svg xmlns=\"http://www.w3.org/2000/svg\" height=\"24px\"viewBox=\"0 0 24 24\"\n",
              "       width=\"24px\">\n",
              "    <path d=\"M0 0h24v24H0V0z\" fill=\"none\"/>\n",
              "    <path d=\"M18.56 5.44l.94 2.06.94-2.06 2.06-.94-2.06-.94-.94-2.06-.94 2.06-2.06.94zm-11 1L8.5 8.5l.94-2.06 2.06-.94-2.06-.94L8.5 2.5l-.94 2.06-2.06.94zm10 10l.94 2.06.94-2.06 2.06-.94-2.06-.94-.94-2.06-.94 2.06-2.06.94z\"/><path d=\"M17.41 7.96l-1.37-1.37c-.4-.4-.92-.59-1.43-.59-.52 0-1.04.2-1.43.59L10.3 9.45l-7.72 7.72c-.78.78-.78 2.05 0 2.83L4 21.41c.39.39.9.59 1.41.59.51 0 1.02-.2 1.41-.59l7.78-7.78 2.81-2.81c.8-.78.8-2.07 0-2.86zM5.41 20L4 18.59l7.72-7.72 1.47 1.35L5.41 20z\"/>\n",
              "  </svg>\n",
              "      </button>\n",
              "      \n",
              "  <style>\n",
              "    .colab-df-container {\n",
              "      display:flex;\n",
              "      flex-wrap:wrap;\n",
              "      gap: 12px;\n",
              "    }\n",
              "\n",
              "    .colab-df-convert {\n",
              "      background-color: #E8F0FE;\n",
              "      border: none;\n",
              "      border-radius: 50%;\n",
              "      cursor: pointer;\n",
              "      display: none;\n",
              "      fill: #1967D2;\n",
              "      height: 32px;\n",
              "      padding: 0 0 0 0;\n",
              "      width: 32px;\n",
              "    }\n",
              "\n",
              "    .colab-df-convert:hover {\n",
              "      background-color: #E2EBFA;\n",
              "      box-shadow: 0px 1px 2px rgba(60, 64, 67, 0.3), 0px 1px 3px 1px rgba(60, 64, 67, 0.15);\n",
              "      fill: #174EA6;\n",
              "    }\n",
              "\n",
              "    [theme=dark] .colab-df-convert {\n",
              "      background-color: #3B4455;\n",
              "      fill: #D2E3FC;\n",
              "    }\n",
              "\n",
              "    [theme=dark] .colab-df-convert:hover {\n",
              "      background-color: #434B5C;\n",
              "      box-shadow: 0px 1px 3px 1px rgba(0, 0, 0, 0.15);\n",
              "      filter: drop-shadow(0px 1px 2px rgba(0, 0, 0, 0.3));\n",
              "      fill: #FFFFFF;\n",
              "    }\n",
              "  </style>\n",
              "\n",
              "      <script>\n",
              "        const buttonEl =\n",
              "          document.querySelector('#df-e4827c06-cb57-4fe3-9cd3-781cd8692205 button.colab-df-convert');\n",
              "        buttonEl.style.display =\n",
              "          google.colab.kernel.accessAllowed ? 'block' : 'none';\n",
              "\n",
              "        async function convertToInteractive(key) {\n",
              "          const element = document.querySelector('#df-e4827c06-cb57-4fe3-9cd3-781cd8692205');\n",
              "          const dataTable =\n",
              "            await google.colab.kernel.invokeFunction('convertToInteractive',\n",
              "                                                     [key], {});\n",
              "          if (!dataTable) return;\n",
              "\n",
              "          const docLinkHtml = 'Like what you see? Visit the ' +\n",
              "            '<a target=\"_blank\" href=https://colab.research.google.com/notebooks/data_table.ipynb>data table notebook</a>'\n",
              "            + ' to learn more about interactive tables.';\n",
              "          element.innerHTML = '';\n",
              "          dataTable['output_type'] = 'display_data';\n",
              "          await google.colab.output.renderOutput(dataTable, element);\n",
              "          const docLink = document.createElement('div');\n",
              "          docLink.innerHTML = docLinkHtml;\n",
              "          element.appendChild(docLink);\n",
              "        }\n",
              "      </script>\n",
              "    </div>\n",
              "  </div>\n",
              "  "
            ]
          },
          "metadata": {},
          "execution_count": 12
        }
      ]
    },
    {
      "cell_type": "code",
      "source": [
        "oddsratio, pvalue = st.fisher_exact(observations) # Используем непараметрический тест Фишера\n",
        "print('Статистика=%.3f, p=%.3f' % (oddsratio, pvalue))\n",
        "if p > 0.05:\n",
        "    print('Не отклоняем нулевую гипотезу, выборки, вероятно, независимы, и маг не умеет предсказывать погоду')\n",
        "else:\n",
        "    print('Отклоняем нулевую гипотезу, выборки, вероятно, зависимы, и  маг умеет предсказывать погоду')"
      ],
      "metadata": {
        "colab": {
          "base_uri": "https://localhost:8080/"
        },
        "id": "yotVoC4Ng19p",
        "outputId": "c51e976d-405c-49e6-d32c-358aea168d8b"
      },
      "execution_count": null,
      "outputs": [
        {
          "output_type": "stream",
          "name": "stdout",
          "text": [
            "Статистика=0.581, p=0.354\n",
            "Не отклоняем нулевую гипотезу, выборки, вероятно, независимы, и маг не умеет предсказывать погоду\n"
          ]
        }
      ]
    },
    {
      "cell_type": "markdown",
      "source": [
        "## Задание № 5\n",
        "Используя функцию mean_confidence_interval(data, confidence), постройте доверительный интервал с уровнем доверия  𝛽=90%  для выборки:"
      ],
      "metadata": {
        "id": "1KT5JIs3jR0q"
      }
    },
    {
      "cell_type": "code",
      "source": [
        "def mean_confidence_interval(data, confidence=beta): # confidence - Уровень доверия\n",
        "    n = len(data) # размер выборки\n",
        "    m, se = np.mean(data), st.sem(data) # среднее значение и sem - ошибка оценки среднего - вместо поиска сигмы\n",
        "    h = se * st.t.ppf((1 + confidence)/2, n-1)  #  функция t.ppf из scipy sst возвращает нам перцентиль\n",
        "    return m-h, m, m+h "
      ],
      "metadata": {
        "id": "i_3Aih-sjbHk"
      },
      "execution_count": null,
      "outputs": []
    },
    {
      "cell_type": "code",
      "source": [
        "data = [4,5,8,9,6,7,5,6,7,8,5,6,7,0,9,8,4,6,\n",
        "        7,9,8,6,5,7,8,9,6,7,5,8,6,7,9,5,10]\n",
        "\n",
        "beta = 0.90\n",
        "result = mean_confidence_interval(data, beta)\n",
        "print(f'Доверительный интервал для выборки data с уровнем доверия {beta * 100}% и средним значением {result[1]} находится в пределах от {result[0]} до {result[2]}')"
      ],
      "metadata": {
        "colab": {
          "base_uri": "https://localhost:8080/"
        },
        "id": "Nb01ov-RjefB",
        "outputId": "8d491a6b-1b59-4446-f85e-ae90c656036c"
      },
      "execution_count": null,
      "outputs": [
        {
          "output_type": "stream",
          "name": "stdout",
          "text": [
            "Доверительный интервал для выборки data с уровнем доверия 90.0% и средним значением 6.628571428571429 находится в пределах от 6.07363110319857 до 7.183511753944288\n"
          ]
        }
      ]
    },
    {
      "cell_type": "markdown",
      "source": [
        "## Задание № 6\n",
        "Принадлежат ли выборки A и B одному множеству?\n",
        "\n",
        "Оцените это с помощью известных вам тестов для проверок статистических гипотез;\n",
        "Покажите различия визуально."
      ],
      "metadata": {
        "id": "7gpirGMrjlqy"
      }
    },
    {
      "cell_type": "code",
      "source": [
        "def shapiro_test(names,datas):\n",
        "    \"\"\"\n",
        "    Служебная функция для вывода информации o нормальности распределений А и B \n",
        "    по тесту Шапиро-Уилкса c уровнем значимости 0.05.\n",
        "    на входе - список выборок\n",
        "    \"\"\"\n",
        "    seed(1)\n",
        "    for data in datas:\n",
        "        stat, p = shapiro(data)\n",
        "        print(names[datas.index(data)])\n",
        "        print('Statistics=%.3f, p=%.3f' % (stat, p))\n",
        "        alpha = 0.05\n",
        "        if p > alpha:\n",
        "            print('Предположительно нормальное распределение (Недостаточно данных, чтобы отвергнуть H0)')\n",
        "        else:\n",
        "            print('Отвергаем H0 о нормальности распределения')\n",
        "        print()"
      ],
      "metadata": {
        "id": "OufMd_esjq42"
      },
      "execution_count": null,
      "outputs": []
    },
    {
      "cell_type": "code",
      "source": [
        "def get_stat(names,datas):\n",
        "  \"\"\"\n",
        "  Функция для расчета и печати основных статистик.\n",
        "  на входе - списки названий выборок и выборок\n",
        "  на выходе- размер,среднее значение, дисперсия каждой из выборок, а также\n",
        "  предположение о равенстве дисперсий\n",
        "  \"\"\"\n",
        "  count_, mean_, var_ =[],[],[]\n",
        "  for data in datas:\n",
        "    count_.append(len(data))\n",
        "    mean_.append(np.mean(data))\n",
        "    var_ .append(np.var(data))\n",
        "    print(f'{names[datas.index(data)]}:')\n",
        "    print(f'count = {count_[datas.index(data)]}, mean = {mean_[datas.index(data)]},  var = {var_[datas.index(data)]}')\n",
        "    print('-------------------------------------------------------------------------------------------------------------------------------------------------------------------')\n",
        "  return count_,mean_,var_"
      ],
      "metadata": {
        "id": "-hVhFA55jwNq"
      },
      "execution_count": null,
      "outputs": []
    },
    {
      "cell_type": "code",
      "source": [
        "A = [4,5,8,9,6,7,5,6,7,6,8,5,6,7,8,4,\n",
        "    6,7,9,8,6,5,7,8,6,7,5,6,8,6,7,5,\n",
        "    4,5,8,9,6,7,5,6,7,6,8,5,6,7,8,4,\n",
        "    6,7,9,8,6,5,7,8,6,7,5,6,8,6,7,5,\n",
        "    4,5,8,9,6,7,5,6,7,6,8,5,6,7,8,4,\n",
        "    6,7,9,8,6,5,7,8,6,7,5,6,8,6,7,5,\n",
        "    4,5,8,9,6,7,5,6,7,6,8,5,6,7,8,4]\n",
        "\n",
        "B = [5,6,7,8,4,6,7,2,6,5,7,5,3,5,3,\n",
        "    5,3,5,5,8,7,6,4,5,3,5,4,6,4,5,3,\n",
        "    2,6,4,3,5,4,3,4,5,4,3,4,5,4,3,4,\n",
        "    2,6,4,3,5,4,3,4,5,4,3,4,5,4,3,4,\n",
        "    3,4,4,1,2,4,3,2,4,3,2,1,5,3,4,6,\n",
        "    3,2,4,5,6,4,3,3,5,3,4,4,4,2,5,3]  "
      ],
      "metadata": {
        "id": "kADZBZ73jzNi"
      },
      "execution_count": null,
      "outputs": []
    },
    {
      "cell_type": "code",
      "source": [
        "plt.hist(A);\n",
        "plt.hist(B);"
      ],
      "metadata": {
        "colab": {
          "base_uri": "https://localhost:8080/",
          "height": 265
        },
        "id": "beGc6PsDj3Mi",
        "outputId": "48bdf4d6-118a-43f8-eff0-2aa3fb0dd7ca"
      },
      "execution_count": null,
      "outputs": [
        {
          "output_type": "display_data",
          "data": {
            "text/plain": [
              "<Figure size 432x288 with 1 Axes>"
            ],
            "image/png": "[encoded data removed]"
          },
          "metadata": {
            "needs_background": "light"
          }
        }
      ]
    },
    {
      "cell_type": "markdown",
      "source": [
        "Визуально обе выборки не непрерывны (дискретны), не совпадают полностью и имеют распределение, отличное от  нормального. Определим средние и дисперсии: "
      ],
      "metadata": {
        "id": "4oGAzOr3j9Z4"
      }
    },
    {
      "cell_type": "code",
      "source": [
        "count_,mean_, var_ = get_stat(['A', 'B'], [A, B])"
      ],
      "metadata": {
        "colab": {
          "base_uri": "https://localhost:8080/"
        },
        "id": "7Q8U3br0kYnM",
        "outputId": "d855c7c1-8f2d-4b11-a076-a201b400fc12"
      },
      "execution_count": null,
      "outputs": [
        {
          "output_type": "stream",
          "name": "stdout",
          "text": [
            "A:\n",
            "count = 112, mean = 6.446428571428571,  var = 1.8007015306122451\n",
            "-------------------------------------------------------------------------------------------------------------------------------------------------------------------\n",
            "B:\n",
            "count = 95, mean = 4.147368421052631,  var = 2.041440443213297\n",
            "-------------------------------------------------------------------------------------------------------------------------------------------------------------------\n"
          ]
        }
      ]
    },
    {
      "cell_type": "markdown",
      "source": [
        "Полученные значения среднего и дисперсии в абсолютном выражении различны у обеих выборок. Оценим значимость различий с помощью теста Стьюдента для независимых выборок"
      ],
      "metadata": {
        "id": "8NvFZlfnyybL"
      }
    },
    {
      "cell_type": "code",
      "source": [
        "stat, p = st.ttest_ind(A, B, equal_var = False)\n",
        "\n",
        "print('Статистика=%.5f, p=%.5f' % (stat, p))\n",
        "if p > 0.05:\n",
        "    print('Не отклоняем нулевую гипотезу, средние, вероятно, одинаковые')\n",
        "else:\n",
        "    print('Отклоняем нулевую гипотезу, средние, вероятно, различаются')"
      ],
      "metadata": {
        "colab": {
          "base_uri": "https://localhost:8080/"
        },
        "id": "F4Ne0nljx5-m",
        "outputId": "3b888a2f-8fbc-438a-cde3-5d675378b755"
      },
      "execution_count": null,
      "outputs": [
        {
          "output_type": "stream",
          "name": "stdout",
          "text": [
            "Статистика=11.80325, p=0.00000\n",
            "Отклоняем нулевую гипотезу, средние, вероятно, различаются\n"
          ]
        }
      ]
    },
    {
      "cell_type": "markdown",
      "source": [
        "Тест Стьюдента мог быть и некорректен, т.е рапределение визуально отличается от нормального."
      ],
      "metadata": {
        "id": "2ruDjdzhzNk3"
      }
    },
    {
      "cell_type": "code",
      "source": [
        "# Проверим, принадлежат ли A  и B к генеральной совокупности с нормальным распределением\n",
        "#H0: A и B принадлежат генеральной совокупности с нормальным распределением, т.е имеют ноормальное распределение\n",
        "shapiro_test(['A', 'B'],[A, B]) "
      ],
      "metadata": {
        "colab": {
          "base_uri": "https://localhost:8080/"
        },
        "id": "ob2uVomOkR1O",
        "outputId": "332912eb-d58a-4d1e-daa8-e0a7b424abca"
      },
      "execution_count": null,
      "outputs": [
        {
          "output_type": "stream",
          "name": "stdout",
          "text": [
            "A\n",
            "Statistics=0.936, p=0.000\n",
            "Отвергаем H0 о нормальности распределения\n",
            "\n",
            "B\n",
            "Statistics=0.949, p=0.001\n",
            "Отвергаем H0 о нормальности распределения\n",
            "\n"
          ]
        }
      ]
    },
    {
      "cell_type": "markdown",
      "source": [
        "Распределения не принадлежат генеральной совокупности с нормальным распределением и при этом дискретны. Параметрические тесты использовать нельзя. Используем Тест Манна-Уитни для проверки гипотезы об одинаковости распределений A и B"
      ],
      "metadata": {
        "id": "bC9OKuICkcYB"
      }
    },
    {
      "cell_type": "code",
      "source": [
        "#H0: Распределения одинаковы\n",
        "stat, p = st.mannwhitneyu(A, B)\n",
        "\n",
        "print('Статистика=%.3f, p=%.3f' % (stat, p))\n",
        "if p > 0.05:\n",
        "    print('Не отклоняем нулевую гипотезу, распределения, вероятно, одинаковые')\n",
        "else:\n",
        "    print('Отклоняем нулевую гипотезу, распределения, вероятно, различаются')"
      ],
      "metadata": {
        "colab": {
          "base_uri": "https://localhost:8080/"
        },
        "id": "97vErT6gkjEC",
        "outputId": "0435aa54-2e91-46f0-fde8-7c5448e67449"
      },
      "execution_count": null,
      "outputs": [
        {
          "output_type": "stream",
          "name": "stdout",
          "text": [
            "Статистика=9280.500, p=0.000\n",
            "Отклоняем нулевую гипотезу, распределения, вероятно, различаются\n"
          ]
        }
      ]
    },
    {
      "cell_type": "code",
      "source": [
        "# Cредние и дисперсии A и B по абсолютной величине  различны. Проверим значимость различий с использованием точного теста Фишера\n",
        "#H0: Выборки одинаковы, разница в средних и дисперсиях незначимы\n",
        "x =[[mean_[0], mean_[1]],[var_[0], var_[1]]]\n",
        "oddsratio, p = st.fisher_exact(x) \n",
        "print('Статистика=%.3f, p=%.3f' % (oddsratio, p))\n",
        "if p > 0.05:\n",
        "    print('Не отклоняем нулевую гипотезу, выборки, вероятно, независимы')\n",
        "else:\n",
        "    print('Отклоняем нулевую гипотезу, вероятно, есть некоторая зависимость')"
      ],
      "metadata": {
        "colab": {
          "base_uri": "https://localhost:8080/"
        },
        "id": "l9hxgsdlkxcP",
        "outputId": "3b24f214-69bc-4a1e-98bd-6f0294675018"
      },
      "execution_count": null,
      "outputs": [
        {
          "output_type": "stream",
          "name": "stdout",
          "text": [
            "Статистика=3.000, p=0.559\n",
            "Не отклоняем нулевую гипотезу, выборки, вероятно, независимы\n"
          ]
        }
      ]
    },
    {
      "cell_type": "code",
      "source": [
        "#Т.е мы выяснили, что выборки, вероятно, независимы и различны между собой"
      ],
      "metadata": {
        "id": "Ke7qYsSluzVc"
      },
      "execution_count": null,
      "outputs": []
    },
    {
      "cell_type": "markdown",
      "source": [
        "## Задание № 7 (задание без подвоха)\n",
        "На примере датасета про жилье в New York City, мы сталкивались с примером, когда переменная имеет не совсем нормальное распределение.\n",
        "\n",
        "Предположим, Вы сформировали две гипотезы:\n",
        "нулевая гипотеза - распределение нормальное;\n",
        "альтернативная гипотеза - распределение ненормальное.\n",
        "допустим, вы применили какой-то тест (сейчас неважно какой), который показал уровень значимости p-value = 0.03. Каковы будут ваши выводы? Будем считать что у нас нормальное распределение или все-таки нет?)"
      ],
      "metadata": {
        "id": "SJpIzl_wzx7k"
      }
    },
    {
      "cell_type": "code",
      "source": [
        "# Ответ: Нет, распределение не является нормальным, т.к. полученное p-Value <0.05"
      ],
      "metadata": {
        "id": "-HLt0Stgz3mF"
      },
      "execution_count": null,
      "outputs": []
    },
    {
      "cell_type": "markdown",
      "source": [
        "## Задание № 8\n",
        "Первая выборка — это пациенты, которых лечили препаратом А. Вторая выборка — пациенты, которых лечили препаратом B.\n",
        "\n",
        "Значения в выборках — это некоторая характеристика эффективности лечения (уровень метаболита в крови, температура через три дня после начала лечения, срок выздоровления, число койко-дней, и т.д.)\n",
        "\n",
        "Требуется выяснить, имеется ли значимое различие эффективности препаратов А и B, или различия являются чисто случайными и объясняются «естественной» дисперсией выбранной характеристики? (уровень значимости принять за 0.05 (5%))\n",
        "\n",
        "При каком минимальном p-value различия были бы уже значимы?\n",
        "\n",
        "Если выборки незначительно отличаются, то продемонстрируйте это визуально"
      ],
      "metadata": {
        "id": "x0AoQKmW0HVc"
      }
    },
    {
      "cell_type": "code",
      "source": [
        "np.random.seed(11)\n",
        "A = st.norm.rvs(scale=15, loc=169, size=300)\n",
        "B = st.norm.rvs(scale=14, loc=171.4, size=300)\n",
        "\n",
        "# Т.к мы изначально генерировали обе выборки как имеющие нормальное распределение, то к ним можно применить параметрический \n",
        "# Парный тест Стьюдента, который сравнивает средние значения при связанных данных, когда измерения проводились, например, \n",
        "#до и после каких-то изменений.\n",
        "# H0: средние значения A и B равны\n",
        "stat, p = st.ttest_rel(a=A, b=B)\n",
        "\n",
        "print('Статистика=%.3f, p=%.3f' % (stat, p))\n",
        "if p > 0.05:\n",
        "    print('Не отклоняем нулевую гипотезу, средние, вероятно, одинаковые')\n",
        "else:\n",
        "    print('Отклоняем нулевую гипотезу, средние, вероятно, различаются')"
      ],
      "metadata": {
        "colab": {
          "base_uri": "https://localhost:8080/"
        },
        "id": "dbyWdJ5H0Lqc",
        "outputId": "a32792eb-9f11-4e21-db35-3601b45793fd"
      },
      "execution_count": null,
      "outputs": [
        {
          "output_type": "stream",
          "name": "stdout",
          "text": [
            "Статистика=-2.035, p=0.043\n",
            "Отклоняем нулевую гипотезу, средние, вероятно, различаются\n"
          ]
        }
      ]
    },
    {
      "cell_type": "markdown",
      "source": [
        "При 5% уровне значимости мы получили данные о том, что средние выборок A и B различаются значимо. Этот вывод можно было сделать в том случае, \n",
        "если бы расчетное значение p-value не превышало 0.05.\n",
        "Несмотря на небольшую величину p-value, визуально различия практически не заметны"
      ],
      "metadata": {
        "id": "-d_jgRZs0Xbc"
      }
    },
    {
      "cell_type": "code",
      "source": [
        "plt.hist(A);\n",
        "plt.hist(B);"
      ],
      "metadata": {
        "colab": {
          "base_uri": "https://localhost:8080/",
          "height": 265
        },
        "id": "ECE8sG5Uztnj",
        "outputId": "b237f2eb-0e47-41bc-85d5-cda2470f18ea"
      },
      "execution_count": null,
      "outputs": [
        {
          "output_type": "display_data",
          "data": {
            "text/plain": [
              "<Figure size 432x288 with 1 Axes>"
            ],
            "image/png": "[encoded data removed]"
          },
          "metadata": {
            "needs_background": "light"
          }
        }
      ]
    }
  ]
}