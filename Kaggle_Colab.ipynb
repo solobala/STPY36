{
  "nbformat": 4,
  "nbformat_minor": 0,
  "metadata": {
    "colab": {
      "provenance": [],
      "authorship_tag": "ABX9TyOiP/f/P9Dm8X8gr+X/c32b",
      "include_colab_link": true
    },
    "kernelspec": {
      "name": "python3",
      "display_name": "Python 3"
    },
    "language_info": {
      "name": "python"
    }
  },
  "cells": [
    {
      "cell_type": "markdown",
      "metadata": {
        "id": "view-in-github",
        "colab_type": "text"
      },
      "source": [
        "<a href=\"https://colab.research.google.com/github/solobala/STPY36/blob/main/Kaggle_Colab.ipynb\" target=\"_parent\"><img src=\"https://colab.research.google.com/assets/colab-badge.svg\" alt=\"Open In Colab\"/></a>"
      ]
    },
    {
      "cell_type": "code",
      "execution_count": null,
      "metadata": {
        "id": "JJetElO0NRh6"
      },
      "outputs": [],
      "source": [
        "import numpy as np # linear algebra\n",
        "import pandas as pd # data processing, CSV file I/O (e.g. pd.read_csv)\n",
        "import os\n",
        "for dirname, _, filenames in os.walk('/kaggle/input'):\n",
        "    for filename in filenames:\n",
        "        print(os.path.join(dirname, filename))\n"
      ]
    },
    {
      "cell_type": "code",
      "source": [
        "!pip install kaggle"
      ],
      "metadata": {
        "colab": {
          "base_uri": "https://localhost:8080/"
        },
        "id": "jUWnsNN0SZ3Z",
        "outputId": "57acd422-3310-4021-8284-b729da787eb7"
      },
      "execution_count": 6,
      "outputs": [
        {
          "output_type": "stream",
          "name": "stdout",
          "text": [
            "Looking in indexes: https://pypi.org/simple, https://us-python.pkg.dev/colab-wheels/public/simple/\n",
            "Requirement already satisfied: kaggle in /usr/local/lib/python3.7/dist-packages (1.5.12)\n",
            "Requirement already satisfied: certifi in /usr/local/lib/python3.7/dist-packages (from kaggle) (2022.9.24)\n",
            "Requirement already satisfied: tqdm in /usr/local/lib/python3.7/dist-packages (from kaggle) (4.64.1)\n",
            "Requirement already satisfied: python-slugify in /usr/local/lib/python3.7/dist-packages (from kaggle) (6.1.2)\n",
            "Requirement already satisfied: python-dateutil in /usr/local/lib/python3.7/dist-packages (from kaggle) (2.8.2)\n",
            "Requirement already satisfied: urllib3 in /usr/local/lib/python3.7/dist-packages (from kaggle) (1.24.3)\n",
            "Requirement already satisfied: six>=1.10 in /usr/local/lib/python3.7/dist-packages (from kaggle) (1.15.0)\n",
            "Requirement already satisfied: requests in /usr/local/lib/python3.7/dist-packages (from kaggle) (2.23.0)\n",
            "Requirement already satisfied: text-unidecode>=1.3 in /usr/local/lib/python3.7/dist-packages (from python-slugify->kaggle) (1.3)\n",
            "Requirement already satisfied: idna<3,>=2.5 in /usr/local/lib/python3.7/dist-packages (from requests->kaggle) (2.10)\n",
            "Requirement already satisfied: chardet<4,>=3.0.2 in /usr/local/lib/python3.7/dist-packages (from requests->kaggle) (3.0.4)\n"
          ]
        }
      ]
    },
    {
      "cell_type": "code",
      "source": [
        "! mkdir ~/.kaggle"
      ],
      "metadata": {
        "colab": {
          "base_uri": "https://localhost:8080/"
        },
        "id": "mMBZJnc1VDSY",
        "outputId": "ba2bf1db-ddab-4d4e-b62e-26fdbae03cbc"
      },
      "execution_count": 7,
      "outputs": [
        {
          "output_type": "stream",
          "name": "stdout",
          "text": [
            "mkdir: cannot create directory ‘/root/.kaggle’: File exists\n"
          ]
        }
      ]
    },
    {
      "cell_type": "code",
      "source": [
        "! cp kaggle.json ~/.kaggle/"
      ],
      "metadata": {
        "id": "6nexyMF7VJR8"
      },
      "execution_count": 8,
      "outputs": []
    },
    {
      "cell_type": "code",
      "source": [
        "! chmod 600 /root/.kaggle/kaggle.json"
      ],
      "metadata": {
        "id": "AntV6mU6VTG6"
      },
      "execution_count": 10,
      "outputs": []
    },
    {
      "cell_type": "code",
      "source": [
        "!kaggle datasets list -s 'happiness'"
      ],
      "metadata": {
        "colab": {
          "base_uri": "https://localhost:8080/"
        },
        "id": "dHhVq1-ESvU1",
        "outputId": "de1d6f2f-d8d0-4d6e-cabf-a151f1130ae0"
      },
      "execution_count": 32,
      "outputs": [
        {
          "output_type": "stream",
          "name": "stdout",
          "text": [
            "ref                                                           title                                                size  lastUpdated          downloadCount  voteCount  usabilityRating  \n",
            "------------------------------------------------------------  --------------------------------------------------  -----  -------------------  -------------  ---------  ---------------  \n",
            "unsdsn/world-happiness                                        World Happiness Report                               37KB  2019-11-27 04:41:47         237497       3658  0.85294116       \n",
            "ajaypalsinghlo/world-happiness-report-2021                    World Happiness Report 2021                          55KB  2021-03-22 16:51:01          56821       1234  0.9705882        \n",
            "PromptCloudHQ/world-happiness-report-2019                     World Happiness Report 2019                           4KB  2019-03-20 09:39:07          22222        402  1.0              \n",
            "harriken/employeeturnover                                     Daily Happiness & Employee Turnover                   4MB  2017-08-07 09:12:12           6703        155  0.88235295       \n",
            "mathurinache/world-happiness-report                           World Happiness Report up to 2022                    67KB  2022-03-19 10:03:15          28721        395  1.0              \n",
            "ajaypalsinghlo/world-happiness-report-2022                    world happiness report 2022                           5KB  2022-03-21 13:41:15           3609         59  0.9705882        \n",
            "londeen/world-happiness-report-2020                           World Happiness Report 2020                          17KB  2020-03-25 02:51:54           3719         54  0.88235295       \n",
            "marcospessotto/happiness-and-alcohol-consumption              Happiness and Alcohol Consumption                     3KB  2018-10-28 15:48:39           8745        109  0.5882353        \n",
            "mathurinache/world-happiness-report-2021                      World Happiness Report 2021                         511KB  2021-03-19 14:24:21           1135         44  1.0              \n",
            "mathurinache/world-happiness-report-20152021                  World Happiness Report 2015-2021                     62KB  2021-03-19 16:05:01           4492         42  0.9411765        \n",
            "mathurinache/world-happiness-report-2022                      World Happiness Report 2022                           2MB  2022-03-20 20:11:04           1058         37  1.0              \n",
            "hemil26/world-happiness-report-2022                           World Happiness Report 2022                           5KB  2022-03-20 05:33:17            955         50  1.0              \n",
            "eliasturk/world-happiness-based-on-cpi-20152020               Happiness and Corruption 2015-2020                   29KB  2022-10-11 22:35:03            665         29  1.0              \n",
            "yamaerenay/world-happiness-report-preprocessed                World Happiness Report (Preprocessed)                38KB  2020-07-22 11:37:34           1127         24  1.0              \n",
            "johnharshith/world-happiness-report-2021-worldwide-mortality  World Happiness Report 2021 (Worldwide Mortality)     7KB  2021-11-29 19:53:48           2595         60  1.0              \n",
            "shivkumarganesh/world-happiness-report-20152022               World Happiness Report 2015-2022                     69KB  2022-04-09 20:49:07           2776         61  0.9705882        \n",
            "tantable/world-happiness-report-2021-happiness-score-rank     2021 World Happiness Report - Happiness Score Rank    3KB  2021-11-29 13:02:20            304         23  0.88235295       \n",
            "ananthu017/emotion-detection-fer                              Emotion Detection                                    65MB  2020-12-11 06:06:37           6834        119  0.875            \n",
            "levyedgar44/income-and-happiness-correction                   Income and Happiness Correlation                      5KB  2020-09-22 14:08:13           1446         18  0.7058824        \n",
            "prasertk/healthy-lifestyle-cities-report-2021                 Healthy Lifestyle Cities Report 2021                  2KB  2022-03-03 00:26:02           6997        142  1.0              \n"
          ]
        }
      ]
    },
    {
      "cell_type": "code",
      "source": [
        "!kaggle datasets download -d 'ajaypalsinghlo/world-happiness-report-2021'"
      ],
      "metadata": {
        "colab": {
          "base_uri": "https://localhost:8080/"
        },
        "id": "zSGAz7b7SpLr",
        "outputId": "4b45f91f-cfa8-4004-c32d-1d6664281799"
      },
      "execution_count": 33,
      "outputs": [
        {
          "output_type": "stream",
          "name": "stdout",
          "text": [
            "Downloading world-happiness-report-2021.zip to /content\n",
            "\r  0% 0.00/55.2k [00:00<?, ?B/s]\n",
            "\r100% 55.2k/55.2k [00:00<00:00, 61.2MB/s]\n"
          ]
        }
      ]
    },
    {
      "cell_type": "code",
      "source": [
        "from zipfile import ZipFile  # Подключаем библиотеку ZipFile из пакета zipfile"
      ],
      "metadata": {
        "id": "x9cIVx12j5Pn"
      },
      "execution_count": 37,
      "outputs": []
    },
    {
      "cell_type": "code",
      "source": [
        "with ZipFile('/content/world-happiness-report-2021.zip', 'r') as zip_file:  # Распаковываем архив в сессионное хранилище в папку archiv.\n",
        "     #zip_file.extractall('/content/')\n",
        "     zip_file.extractall()"
      ],
      "metadata": {
        "id": "5if11fm8j92f"
      },
      "execution_count": 38,
      "outputs": []
    },
    {
      "cell_type": "code",
      "source": [
        "df = pd.read_csv('/content/world-happiness-report-2021.csv')"
      ],
      "metadata": {
        "id": "hVBO0GeWNZqM"
      },
      "execution_count": 39,
      "outputs": []
    },
    {
      "cell_type": "code",
      "source": [
        "df.head()"
      ],
      "metadata": {
        "colab": {
          "base_uri": "https://localhost:8080/",
          "height": 389
        },
        "id": "Gxmw0uRNZrP5",
        "outputId": "81ad8f46-1c63-4535-9b6f-796b1cb8fe76"
      },
      "execution_count": 40,
      "outputs": [
        {
          "output_type": "execute_result",
          "data": {
            "text/plain": [
              "  Country name Regional indicator  Ladder score  \\\n",
              "0      Finland     Western Europe         7.842   \n",
              "1      Denmark     Western Europe         7.620   \n",
              "2  Switzerland     Western Europe         7.571   \n",
              "3      Iceland     Western Europe         7.554   \n",
              "4  Netherlands     Western Europe         7.464   \n",
              "\n",
              "   Standard error of ladder score  upperwhisker  lowerwhisker  \\\n",
              "0                           0.032         7.904         7.780   \n",
              "1                           0.035         7.687         7.552   \n",
              "2                           0.036         7.643         7.500   \n",
              "3                           0.059         7.670         7.438   \n",
              "4                           0.027         7.518         7.410   \n",
              "\n",
              "   Logged GDP per capita  Social support  Healthy life expectancy  \\\n",
              "0                 10.775           0.954                     72.0   \n",
              "1                 10.933           0.954                     72.7   \n",
              "2                 11.117           0.942                     74.4   \n",
              "3                 10.878           0.983                     73.0   \n",
              "4                 10.932           0.942                     72.4   \n",
              "\n",
              "   Freedom to make life choices  Generosity  Perceptions of corruption  \\\n",
              "0                         0.949      -0.098                      0.186   \n",
              "1                         0.946       0.030                      0.179   \n",
              "2                         0.919       0.025                      0.292   \n",
              "3                         0.955       0.160                      0.673   \n",
              "4                         0.913       0.175                      0.338   \n",
              "\n",
              "   Ladder score in Dystopia  Explained by: Log GDP per capita  \\\n",
              "0                      2.43                             1.446   \n",
              "1                      2.43                             1.502   \n",
              "2                      2.43                             1.566   \n",
              "3                      2.43                             1.482   \n",
              "4                      2.43                             1.501   \n",
              "\n",
              "   Explained by: Social support  Explained by: Healthy life expectancy  \\\n",
              "0                         1.106                                  0.741   \n",
              "1                         1.108                                  0.763   \n",
              "2                         1.079                                  0.816   \n",
              "3                         1.172                                  0.772   \n",
              "4                         1.079                                  0.753   \n",
              "\n",
              "   Explained by: Freedom to make life choices  Explained by: Generosity  \\\n",
              "0                                       0.691                     0.124   \n",
              "1                                       0.686                     0.208   \n",
              "2                                       0.653                     0.204   \n",
              "3                                       0.698                     0.293   \n",
              "4                                       0.647                     0.302   \n",
              "\n",
              "   Explained by: Perceptions of corruption  Dystopia + residual  \n",
              "0                                    0.481                3.253  \n",
              "1                                    0.485                2.868  \n",
              "2                                    0.413                2.839  \n",
              "3                                    0.170                2.967  \n",
              "4                                    0.384                2.798  "
            ],
            "text/html": [
              "\n",
              "  <div id=\"df-fc682599-6f6c-4a44-8bff-855574aa4789\">\n",
              "    <div class=\"colab-df-container\">\n",
              "      <div>\n",
              "<style scoped>\n",
              "    .dataframe tbody tr th:only-of-type {\n",
              "        vertical-align: middle;\n",
              "    }\n",
              "\n",
              "    .dataframe tbody tr th {\n",
              "        vertical-align: top;\n",
              "    }\n",
              "\n",
              "    .dataframe thead th {\n",
              "        text-align: right;\n",
              "    }\n",
              "</style>\n",
              "<table border=\"1\" class=\"dataframe\">\n",
              "  <thead>\n",
              "    <tr style=\"text-align: right;\">\n",
              "      <th></th>\n",
              "      <th>Country name</th>\n",
              "      <th>Regional indicator</th>\n",
              "      <th>Ladder score</th>\n",
              "      <th>Standard error of ladder score</th>\n",
              "      <th>upperwhisker</th>\n",
              "      <th>lowerwhisker</th>\n",
              "      <th>Logged GDP per capita</th>\n",
              "      <th>Social support</th>\n",
              "      <th>Healthy life expectancy</th>\n",
              "      <th>Freedom to make life choices</th>\n",
              "      <th>Generosity</th>\n",
              "      <th>Perceptions of corruption</th>\n",
              "      <th>Ladder score in Dystopia</th>\n",
              "      <th>Explained by: Log GDP per capita</th>\n",
              "      <th>Explained by: Social support</th>\n",
              "      <th>Explained by: Healthy life expectancy</th>\n",
              "      <th>Explained by: Freedom to make life choices</th>\n",
              "      <th>Explained by: Generosity</th>\n",
              "      <th>Explained by: Perceptions of corruption</th>\n",
              "      <th>Dystopia + residual</th>\n",
              "    </tr>\n",
              "  </thead>\n",
              "  <tbody>\n",
              "    <tr>\n",
              "      <th>0</th>\n",
              "      <td>Finland</td>\n",
              "      <td>Western Europe</td>\n",
              "      <td>7.842</td>\n",
              "      <td>0.032</td>\n",
              "      <td>7.904</td>\n",
              "      <td>7.780</td>\n",
              "      <td>10.775</td>\n",
              "      <td>0.954</td>\n",
              "      <td>72.0</td>\n",
              "      <td>0.949</td>\n",
              "      <td>-0.098</td>\n",
              "      <td>0.186</td>\n",
              "      <td>2.43</td>\n",
              "      <td>1.446</td>\n",
              "      <td>1.106</td>\n",
              "      <td>0.741</td>\n",
              "      <td>0.691</td>\n",
              "      <td>0.124</td>\n",
              "      <td>0.481</td>\n",
              "      <td>3.253</td>\n",
              "    </tr>\n",
              "    <tr>\n",
              "      <th>1</th>\n",
              "      <td>Denmark</td>\n",
              "      <td>Western Europe</td>\n",
              "      <td>7.620</td>\n",
              "      <td>0.035</td>\n",
              "      <td>7.687</td>\n",
              "      <td>7.552</td>\n",
              "      <td>10.933</td>\n",
              "      <td>0.954</td>\n",
              "      <td>72.7</td>\n",
              "      <td>0.946</td>\n",
              "      <td>0.030</td>\n",
              "      <td>0.179</td>\n",
              "      <td>2.43</td>\n",
              "      <td>1.502</td>\n",
              "      <td>1.108</td>\n",
              "      <td>0.763</td>\n",
              "      <td>0.686</td>\n",
              "      <td>0.208</td>\n",
              "      <td>0.485</td>\n",
              "      <td>2.868</td>\n",
              "    </tr>\n",
              "    <tr>\n",
              "      <th>2</th>\n",
              "      <td>Switzerland</td>\n",
              "      <td>Western Europe</td>\n",
              "      <td>7.571</td>\n",
              "      <td>0.036</td>\n",
              "      <td>7.643</td>\n",
              "      <td>7.500</td>\n",
              "      <td>11.117</td>\n",
              "      <td>0.942</td>\n",
              "      <td>74.4</td>\n",
              "      <td>0.919</td>\n",
              "      <td>0.025</td>\n",
              "      <td>0.292</td>\n",
              "      <td>2.43</td>\n",
              "      <td>1.566</td>\n",
              "      <td>1.079</td>\n",
              "      <td>0.816</td>\n",
              "      <td>0.653</td>\n",
              "      <td>0.204</td>\n",
              "      <td>0.413</td>\n",
              "      <td>2.839</td>\n",
              "    </tr>\n",
              "    <tr>\n",
              "      <th>3</th>\n",
              "      <td>Iceland</td>\n",
              "      <td>Western Europe</td>\n",
              "      <td>7.554</td>\n",
              "      <td>0.059</td>\n",
              "      <td>7.670</td>\n",
              "      <td>7.438</td>\n",
              "      <td>10.878</td>\n",
              "      <td>0.983</td>\n",
              "      <td>73.0</td>\n",
              "      <td>0.955</td>\n",
              "      <td>0.160</td>\n",
              "      <td>0.673</td>\n",
              "      <td>2.43</td>\n",
              "      <td>1.482</td>\n",
              "      <td>1.172</td>\n",
              "      <td>0.772</td>\n",
              "      <td>0.698</td>\n",
              "      <td>0.293</td>\n",
              "      <td>0.170</td>\n",
              "      <td>2.967</td>\n",
              "    </tr>\n",
              "    <tr>\n",
              "      <th>4</th>\n",
              "      <td>Netherlands</td>\n",
              "      <td>Western Europe</td>\n",
              "      <td>7.464</td>\n",
              "      <td>0.027</td>\n",
              "      <td>7.518</td>\n",
              "      <td>7.410</td>\n",
              "      <td>10.932</td>\n",
              "      <td>0.942</td>\n",
              "      <td>72.4</td>\n",
              "      <td>0.913</td>\n",
              "      <td>0.175</td>\n",
              "      <td>0.338</td>\n",
              "      <td>2.43</td>\n",
              "      <td>1.501</td>\n",
              "      <td>1.079</td>\n",
              "      <td>0.753</td>\n",
              "      <td>0.647</td>\n",
              "      <td>0.302</td>\n",
              "      <td>0.384</td>\n",
              "      <td>2.798</td>\n",
              "    </tr>\n",
              "  </tbody>\n",
              "</table>\n",
              "</div>\n",
              "      <button class=\"colab-df-convert\" onclick=\"convertToInteractive('df-fc682599-6f6c-4a44-8bff-855574aa4789')\"\n",
              "              title=\"Convert this dataframe to an interactive table.\"\n",
              "              style=\"display:none;\">\n",
              "        \n",
              "  <svg xmlns=\"http://www.w3.org/2000/svg\" height=\"24px\"viewBox=\"0 0 24 24\"\n",
              "       width=\"24px\">\n",
              "    <path d=\"M0 0h24v24H0V0z\" fill=\"none\"/>\n",
              "    <path d=\"M18.56 5.44l.94 2.06.94-2.06 2.06-.94-2.06-.94-.94-2.06-.94 2.06-2.06.94zm-11 1L8.5 8.5l.94-2.06 2.06-.94-2.06-.94L8.5 2.5l-.94 2.06-2.06.94zm10 10l.94 2.06.94-2.06 2.06-.94-2.06-.94-.94-2.06-.94 2.06-2.06.94z\"/><path d=\"M17.41 7.96l-1.37-1.37c-.4-.4-.92-.59-1.43-.59-.52 0-1.04.2-1.43.59L10.3 9.45l-7.72 7.72c-.78.78-.78 2.05 0 2.83L4 21.41c.39.39.9.59 1.41.59.51 0 1.02-.2 1.41-.59l7.78-7.78 2.81-2.81c.8-.78.8-2.07 0-2.86zM5.41 20L4 18.59l7.72-7.72 1.47 1.35L5.41 20z\"/>\n",
              "  </svg>\n",
              "      </button>\n",
              "      \n",
              "  <style>\n",
              "    .colab-df-container {\n",
              "      display:flex;\n",
              "      flex-wrap:wrap;\n",
              "      gap: 12px;\n",
              "    }\n",
              "\n",
              "    .colab-df-convert {\n",
              "      background-color: #E8F0FE;\n",
              "      border: none;\n",
              "      border-radius: 50%;\n",
              "      cursor: pointer;\n",
              "      display: none;\n",
              "      fill: #1967D2;\n",
              "      height: 32px;\n",
              "      padding: 0 0 0 0;\n",
              "      width: 32px;\n",
              "    }\n",
              "\n",
              "    .colab-df-convert:hover {\n",
              "      background-color: #E2EBFA;\n",
              "      box-shadow: 0px 1px 2px rgba(60, 64, 67, 0.3), 0px 1px 3px 1px rgba(60, 64, 67, 0.15);\n",
              "      fill: #174EA6;\n",
              "    }\n",
              "\n",
              "    [theme=dark] .colab-df-convert {\n",
              "      background-color: #3B4455;\n",
              "      fill: #D2E3FC;\n",
              "    }\n",
              "\n",
              "    [theme=dark] .colab-df-convert:hover {\n",
              "      background-color: #434B5C;\n",
              "      box-shadow: 0px 1px 3px 1px rgba(0, 0, 0, 0.15);\n",
              "      filter: drop-shadow(0px 1px 2px rgba(0, 0, 0, 0.3));\n",
              "      fill: #FFFFFF;\n",
              "    }\n",
              "  </style>\n",
              "\n",
              "      <script>\n",
              "        const buttonEl =\n",
              "          document.querySelector('#df-fc682599-6f6c-4a44-8bff-855574aa4789 button.colab-df-convert');\n",
              "        buttonEl.style.display =\n",
              "          google.colab.kernel.accessAllowed ? 'block' : 'none';\n",
              "\n",
              "        async function convertToInteractive(key) {\n",
              "          const element = document.querySelector('#df-fc682599-6f6c-4a44-8bff-855574aa4789');\n",
              "          const dataTable =\n",
              "            await google.colab.kernel.invokeFunction('convertToInteractive',\n",
              "                                                     [key], {});\n",
              "          if (!dataTable) return;\n",
              "\n",
              "          const docLinkHtml = 'Like what you see? Visit the ' +\n",
              "            '<a target=\"_blank\" href=https://colab.research.google.com/notebooks/data_table.ipynb>data table notebook</a>'\n",
              "            + ' to learn more about interactive tables.';\n",
              "          element.innerHTML = '';\n",
              "          dataTable['output_type'] = 'display_data';\n",
              "          await google.colab.output.renderOutput(dataTable, element);\n",
              "          const docLink = document.createElement('div');\n",
              "          docLink.innerHTML = docLinkHtml;\n",
              "          element.appendChild(docLink);\n",
              "        }\n",
              "      </script>\n",
              "    </div>\n",
              "  </div>\n",
              "  "
            ]
          },
          "metadata": {},
          "execution_count": 40
        }
      ]
    }
  ]
}