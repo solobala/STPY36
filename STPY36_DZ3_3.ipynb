{
  "nbformat": 4,
  "nbformat_minor": 0,
  "metadata": {
    "colab": {
      "provenance": [],
      "collapsed_sections": [
        "y72DeCJUZOC6"
      ],
      "authorship_tag": "ABX9TyN6LLA8f/LIbfDGJCCosM8v",
      "include_colab_link": true
    },
    "kernelspec": {
      "name": "python3",
      "display_name": "Python 3"
    },
    "language_info": {
      "name": "python"
    }
  },
  "cells": [
    {
      "cell_type": "markdown",
      "metadata": {
        "id": "view-in-github",
        "colab_type": "text"
      },
      "source": [
        "<a href=\"https://colab.research.google.com/github/solobala/STPY36/blob/main/STPY36_DZ3_3.ipynb\" target=\"_parent\"><img src=\"https://colab.research.google.com/assets/colab-badge.svg\" alt=\"Open In Colab\"/></a>"
      ]
    },
    {
      "cell_type": "markdown",
      "source": [
        "#Домашнее задание к лекции «Случайные события. Случайные величины»\n"
      ],
      "metadata": {
        "id": "WsUHeavrH3lp"
      }
    },
    {
      "cell_type": "markdown",
      "source": [
        "Смоделировать игру против лотерейного автомата типа “777”. \n",
        "\n",
        "777: 200 руб.\n",
        "999: 100 руб.\n",
        "555: 50 руб.\n",
        "333: 15 руб.\n",
        "111: 10 руб.\n",
        "*77: 5 руб.\n",
        "**7: 3 руб.\n",
        "*00: 2 руб.\n",
        "**0: 1 руб.\n",
        "\n",
        "Вопросы:\n",
        "\n",
        "Выгодна ли игра игроку?\n",
        "Сколько в среднем приобретает или теряет игрок за одну игру?"
      ],
      "metadata": {
        "id": "ikzYbcSyH8nI"
      }
    },
    {
      "cell_type": "markdown",
      "source": [
        "## Сгенерируем датасет"
      ],
      "metadata": {
        "id": "1IgF1pOjYo_4"
      }
    },
    {
      "cell_type": "code",
      "source": [
        "import numpy as np\n",
        "import pandas as pd\n",
        "import time"
      ],
      "metadata": {
        "id": "HB5xm6ksK8kZ"
      },
      "execution_count": null,
      "outputs": []
    },
    {
      "cell_type": "code",
      "execution_count": null,
      "metadata": {
        "id": "QmU9_EoGH26U"
      },
      "outputs": [],
      "source": [
        "def get_income(number):\n",
        "  \"\"\"\n",
        "  Игрок платит 1 руб., после чего выпадает случайное целое число, \n",
        "  равномерно распределенное от 0 до 999. \n",
        "  При некоторых значениях числа игрок получает выигрыш.\n",
        "  \n",
        "  \"\"\"\n",
        "  \n",
        "  if number ==777:\n",
        "    return 199\n",
        "  elif number ==999:\n",
        "    return 99\n",
        "  elif number == 555:\n",
        "    return 49\n",
        "  elif number ==333:\n",
        "    return 14\n",
        "  elif number == 111:\n",
        "    return 9\n",
        "  elif number % 100 == 77:\n",
        "    return 4\n",
        "  elif number % 100 == 0:\n",
        "    return 1\n",
        "  elif (number % 10 == 0) and (number % 100 != 0):\n",
        "    return 0\n",
        "  elif (number  % 10 ==7) and (number % 100 != 77):\n",
        "    return 2\n",
        "  else: return -1"
      ]
    },
    {
      "cell_type": "code",
      "source": [
        "m = int(input('Введите общий размер датасета для моделирования: '))\n",
        "k= int(input('Введите сумму: '))\n",
        "narr = np.zeros(m, dtype = int) # Это массив для записи выпавшиx в каждом раунде чисел\n"
      ],
      "metadata": {
        "colab": {
          "base_uri": "https://localhost:8080/"
        },
        "id": "Ixp41D-5ie4r",
        "outputId": "bcb75c01-f2f1-4fa6-daa0-733290b9bc1a"
      },
      "execution_count": null,
      "outputs": [
        {
          "name": "stdout",
          "output_type": "stream",
          "text": [
            "Введите общий размер датасета для моделирования: 1000000\n",
            "Введите сумму: 1000\n"
          ]
        }
      ]
    },
    {
      "cell_type": "code",
      "source": [
        "%%time\n",
        "for _ in range(m): \n",
        "  narr[_] = np.random.randint(1,k) # получаем массив с случайными числами  "
      ],
      "metadata": {
        "id": "RwOdEjV9u0mW",
        "colab": {
          "base_uri": "https://localhost:8080/"
        },
        "outputId": "3a5a3d9d-475b-4c7c-acf1-167571d5d148"
      },
      "execution_count": null,
      "outputs": [
        {
          "output_type": "stream",
          "name": "stdout",
          "text": [
            "CPU times: user 3.05 s, sys: 415 µs, total: 3.05 s\n",
            "Wall time: 3.05 s\n"
          ]
        }
      ]
    },
    {
      "cell_type": "code",
      "source": [
        "df = pd.DataFrame(narr, index=[i for i in range(m)],  columns=['Число'])\n",
        "df['Выигрыш']=df['Число'].apply(get_income)\n",
        "df.head()"
      ],
      "metadata": {
        "colab": {
          "base_uri": "https://localhost:8080/",
          "height": 206
        },
        "id": "LkcJvU27PMly",
        "outputId": "39ab73a4-74f6-4fb5-b80d-521b931d0610"
      },
      "execution_count": null,
      "outputs": [
        {
          "output_type": "execute_result",
          "data": {
            "text/plain": [
              "   Число  Выигрыш\n",
              "0    937        2\n",
              "1    189       -1\n",
              "2    785       -1\n",
              "3    992       -1\n",
              "4    564       -1"
            ],
            "text/html": [
              "\n",
              "  <div id=\"df-114a0702-afde-4293-bfa0-3a4e79cde198\">\n",
              "    <div class=\"colab-df-container\">\n",
              "      <div>\n",
              "<style scoped>\n",
              "    .dataframe tbody tr th:only-of-type {\n",
              "        vertical-align: middle;\n",
              "    }\n",
              "\n",
              "    .dataframe tbody tr th {\n",
              "        vertical-align: top;\n",
              "    }\n",
              "\n",
              "    .dataframe thead th {\n",
              "        text-align: right;\n",
              "    }\n",
              "</style>\n",
              "<table border=\"1\" class=\"dataframe\">\n",
              "  <thead>\n",
              "    <tr style=\"text-align: right;\">\n",
              "      <th></th>\n",
              "      <th>Число</th>\n",
              "      <th>Выигрыш</th>\n",
              "    </tr>\n",
              "  </thead>\n",
              "  <tbody>\n",
              "    <tr>\n",
              "      <th>0</th>\n",
              "      <td>937</td>\n",
              "      <td>2</td>\n",
              "    </tr>\n",
              "    <tr>\n",
              "      <th>1</th>\n",
              "      <td>189</td>\n",
              "      <td>-1</td>\n",
              "    </tr>\n",
              "    <tr>\n",
              "      <th>2</th>\n",
              "      <td>785</td>\n",
              "      <td>-1</td>\n",
              "    </tr>\n",
              "    <tr>\n",
              "      <th>3</th>\n",
              "      <td>992</td>\n",
              "      <td>-1</td>\n",
              "    </tr>\n",
              "    <tr>\n",
              "      <th>4</th>\n",
              "      <td>564</td>\n",
              "      <td>-1</td>\n",
              "    </tr>\n",
              "  </tbody>\n",
              "</table>\n",
              "</div>\n",
              "      <button class=\"colab-df-convert\" onclick=\"convertToInteractive('df-114a0702-afde-4293-bfa0-3a4e79cde198')\"\n",
              "              title=\"Convert this dataframe to an interactive table.\"\n",
              "              style=\"display:none;\">\n",
              "        \n",
              "  <svg xmlns=\"http://www.w3.org/2000/svg\" height=\"24px\"viewBox=\"0 0 24 24\"\n",
              "       width=\"24px\">\n",
              "    <path d=\"M0 0h24v24H0V0z\" fill=\"none\"/>\n",
              "    <path d=\"M18.56 5.44l.94 2.06.94-2.06 2.06-.94-2.06-.94-.94-2.06-.94 2.06-2.06.94zm-11 1L8.5 8.5l.94-2.06 2.06-.94-2.06-.94L8.5 2.5l-.94 2.06-2.06.94zm10 10l.94 2.06.94-2.06 2.06-.94-2.06-.94-.94-2.06-.94 2.06-2.06.94z\"/><path d=\"M17.41 7.96l-1.37-1.37c-.4-.4-.92-.59-1.43-.59-.52 0-1.04.2-1.43.59L10.3 9.45l-7.72 7.72c-.78.78-.78 2.05 0 2.83L4 21.41c.39.39.9.59 1.41.59.51 0 1.02-.2 1.41-.59l7.78-7.78 2.81-2.81c.8-.78.8-2.07 0-2.86zM5.41 20L4 18.59l7.72-7.72 1.47 1.35L5.41 20z\"/>\n",
              "  </svg>\n",
              "      </button>\n",
              "      \n",
              "  <style>\n",
              "    .colab-df-container {\n",
              "      display:flex;\n",
              "      flex-wrap:wrap;\n",
              "      gap: 12px;\n",
              "    }\n",
              "\n",
              "    .colab-df-convert {\n",
              "      background-color: #E8F0FE;\n",
              "      border: none;\n",
              "      border-radius: 50%;\n",
              "      cursor: pointer;\n",
              "      display: none;\n",
              "      fill: #1967D2;\n",
              "      height: 32px;\n",
              "      padding: 0 0 0 0;\n",
              "      width: 32px;\n",
              "    }\n",
              "\n",
              "    .colab-df-convert:hover {\n",
              "      background-color: #E2EBFA;\n",
              "      box-shadow: 0px 1px 2px rgba(60, 64, 67, 0.3), 0px 1px 3px 1px rgba(60, 64, 67, 0.15);\n",
              "      fill: #174EA6;\n",
              "    }\n",
              "\n",
              "    [theme=dark] .colab-df-convert {\n",
              "      background-color: #3B4455;\n",
              "      fill: #D2E3FC;\n",
              "    }\n",
              "\n",
              "    [theme=dark] .colab-df-convert:hover {\n",
              "      background-color: #434B5C;\n",
              "      box-shadow: 0px 1px 3px 1px rgba(0, 0, 0, 0.15);\n",
              "      filter: drop-shadow(0px 1px 2px rgba(0, 0, 0, 0.3));\n",
              "      fill: #FFFFFF;\n",
              "    }\n",
              "  </style>\n",
              "\n",
              "      <script>\n",
              "        const buttonEl =\n",
              "          document.querySelector('#df-114a0702-afde-4293-bfa0-3a4e79cde198 button.colab-df-convert');\n",
              "        buttonEl.style.display =\n",
              "          google.colab.kernel.accessAllowed ? 'block' : 'none';\n",
              "\n",
              "        async function convertToInteractive(key) {\n",
              "          const element = document.querySelector('#df-114a0702-afde-4293-bfa0-3a4e79cde198');\n",
              "          const dataTable =\n",
              "            await google.colab.kernel.invokeFunction('convertToInteractive',\n",
              "                                                     [key], {});\n",
              "          if (!dataTable) return;\n",
              "\n",
              "          const docLinkHtml = 'Like what you see? Visit the ' +\n",
              "            '<a target=\"_blank\" href=https://colab.research.google.com/notebooks/data_table.ipynb>data table notebook</a>'\n",
              "            + ' to learn more about interactive tables.';\n",
              "          element.innerHTML = '';\n",
              "          dataTable['output_type'] = 'display_data';\n",
              "          await google.colab.output.renderOutput(dataTable, element);\n",
              "          const docLink = document.createElement('div');\n",
              "          docLink.innerHTML = docLinkHtml;\n",
              "          element.appendChild(docLink);\n",
              "        }\n",
              "      </script>\n",
              "    </div>\n",
              "  </div>\n",
              "  "
            ]
          },
          "metadata": {},
          "execution_count": 55
        }
      ]
    },
    {
      "cell_type": "code",
      "source": [
        "lucky_numbers_quantity = len(df[df['Выигрыш']>0])\n",
        "unlucky_numbers_quantity = len(df[df['Выигрыш']==0])"
      ],
      "metadata": {
        "id": "IVZV8YBcd8nO"
      },
      "execution_count": null,
      "outputs": []
    },
    {
      "cell_type": "code",
      "source": [
        "print(f'Начальная сумма: {k}')\n",
        "print(f'Количество счастливых чисел: {lucky_numbers_quantity}, количество несчастливых чисел: {unlucky_numbers_quantity}')\n",
        "print('В среднем за 1 цикл игрок приобретает/теряет (+/-)',(df['Выигрыш'].sum())/m,' руб.')\n"
      ],
      "metadata": {
        "id": "BFxntYk0A3AM",
        "colab": {
          "base_uri": "https://localhost:8080/"
        },
        "outputId": "50bf387c-7b89-43af-caae-349ad664dd33"
      },
      "execution_count": null,
      "outputs": [
        {
          "output_type": "stream",
          "name": "stdout",
          "text": [
            "Начальная сумма: 1000\n",
            "Количество счастливых чисел: 112801, количество несчастливых чисел: 90504\n",
            "В среднем за 1 цикл игрок приобретает/теряет (+/-) -0.193937  руб.\n"
          ]
        }
      ]
    },
    {
      "cell_type": "markdown",
      "source": [
        "## Сохраним сгенерированный датасет"
      ],
      "metadata": {
        "id": "y72DeCJUZOC6"
      }
    },
    {
      "cell_type": "code",
      "source": [
        "import time"
      ],
      "metadata": {
        "id": "vV0NcRDgb0mX"
      },
      "execution_count": null,
      "outputs": []
    },
    {
      "cell_type": "code",
      "source": [
        "%%time\n",
        "pd.to_pickle(df, \"./dummy.pkl\")\n",
        "df_unpiclked =pd.read_pickle(\"./dummy.pkl\")\n",
        "df_unpiclked.head()"
      ],
      "metadata": {
        "colab": {
          "base_uri": "https://localhost:8080/",
          "height": 241
        },
        "id": "Ai0qwxyKZNLx",
        "outputId": "a2c053e7-59be-417d-aee6-97b3e642dac7"
      },
      "execution_count": null,
      "outputs": [
        {
          "output_type": "stream",
          "name": "stdout",
          "text": [
            "CPU times: user 2.86 ms, sys: 1.01 ms, total: 3.87 ms\n",
            "Wall time: 3.89 ms\n"
          ]
        },
        {
          "output_type": "execute_result",
          "data": {
            "text/plain": [
              "      n  total    income\n",
              "0  9895   4479 -0.547347\n",
              "1  5704   2784 -0.511921\n",
              "2  1690    908 -0.462722\n",
              "3  4697   2253 -0.520332\n",
              "4  8355   3965 -0.525434"
            ],
            "text/html": [
              "\n",
              "  <div id=\"df-4c2b5500-c0f0-4766-b77e-ca075babc56a\">\n",
              "    <div class=\"colab-df-container\">\n",
              "      <div>\n",
              "<style scoped>\n",
              "    .dataframe tbody tr th:only-of-type {\n",
              "        vertical-align: middle;\n",
              "    }\n",
              "\n",
              "    .dataframe tbody tr th {\n",
              "        vertical-align: top;\n",
              "    }\n",
              "\n",
              "    .dataframe thead th {\n",
              "        text-align: right;\n",
              "    }\n",
              "</style>\n",
              "<table border=\"1\" class=\"dataframe\">\n",
              "  <thead>\n",
              "    <tr style=\"text-align: right;\">\n",
              "      <th></th>\n",
              "      <th>n</th>\n",
              "      <th>total</th>\n",
              "      <th>income</th>\n",
              "    </tr>\n",
              "  </thead>\n",
              "  <tbody>\n",
              "    <tr>\n",
              "      <th>0</th>\n",
              "      <td>9895</td>\n",
              "      <td>4479</td>\n",
              "      <td>-0.547347</td>\n",
              "    </tr>\n",
              "    <tr>\n",
              "      <th>1</th>\n",
              "      <td>5704</td>\n",
              "      <td>2784</td>\n",
              "      <td>-0.511921</td>\n",
              "    </tr>\n",
              "    <tr>\n",
              "      <th>2</th>\n",
              "      <td>1690</td>\n",
              "      <td>908</td>\n",
              "      <td>-0.462722</td>\n",
              "    </tr>\n",
              "    <tr>\n",
              "      <th>3</th>\n",
              "      <td>4697</td>\n",
              "      <td>2253</td>\n",
              "      <td>-0.520332</td>\n",
              "    </tr>\n",
              "    <tr>\n",
              "      <th>4</th>\n",
              "      <td>8355</td>\n",
              "      <td>3965</td>\n",
              "      <td>-0.525434</td>\n",
              "    </tr>\n",
              "  </tbody>\n",
              "</table>\n",
              "</div>\n",
              "      <button class=\"colab-df-convert\" onclick=\"convertToInteractive('df-4c2b5500-c0f0-4766-b77e-ca075babc56a')\"\n",
              "              title=\"Convert this dataframe to an interactive table.\"\n",
              "              style=\"display:none;\">\n",
              "        \n",
              "  <svg xmlns=\"http://www.w3.org/2000/svg\" height=\"24px\"viewBox=\"0 0 24 24\"\n",
              "       width=\"24px\">\n",
              "    <path d=\"M0 0h24v24H0V0z\" fill=\"none\"/>\n",
              "    <path d=\"M18.56 5.44l.94 2.06.94-2.06 2.06-.94-2.06-.94-.94-2.06-.94 2.06-2.06.94zm-11 1L8.5 8.5l.94-2.06 2.06-.94-2.06-.94L8.5 2.5l-.94 2.06-2.06.94zm10 10l.94 2.06.94-2.06 2.06-.94-2.06-.94-.94-2.06-.94 2.06-2.06.94z\"/><path d=\"M17.41 7.96l-1.37-1.37c-.4-.4-.92-.59-1.43-.59-.52 0-1.04.2-1.43.59L10.3 9.45l-7.72 7.72c-.78.78-.78 2.05 0 2.83L4 21.41c.39.39.9.59 1.41.59.51 0 1.02-.2 1.41-.59l7.78-7.78 2.81-2.81c.8-.78.8-2.07 0-2.86zM5.41 20L4 18.59l7.72-7.72 1.47 1.35L5.41 20z\"/>\n",
              "  </svg>\n",
              "      </button>\n",
              "      \n",
              "  <style>\n",
              "    .colab-df-container {\n",
              "      display:flex;\n",
              "      flex-wrap:wrap;\n",
              "      gap: 12px;\n",
              "    }\n",
              "\n",
              "    .colab-df-convert {\n",
              "      background-color: #E8F0FE;\n",
              "      border: none;\n",
              "      border-radius: 50%;\n",
              "      cursor: pointer;\n",
              "      display: none;\n",
              "      fill: #1967D2;\n",
              "      height: 32px;\n",
              "      padding: 0 0 0 0;\n",
              "      width: 32px;\n",
              "    }\n",
              "\n",
              "    .colab-df-convert:hover {\n",
              "      background-color: #E2EBFA;\n",
              "      box-shadow: 0px 1px 2px rgba(60, 64, 67, 0.3), 0px 1px 3px 1px rgba(60, 64, 67, 0.15);\n",
              "      fill: #174EA6;\n",
              "    }\n",
              "\n",
              "    [theme=dark] .colab-df-convert {\n",
              "      background-color: #3B4455;\n",
              "      fill: #D2E3FC;\n",
              "    }\n",
              "\n",
              "    [theme=dark] .colab-df-convert:hover {\n",
              "      background-color: #434B5C;\n",
              "      box-shadow: 0px 1px 3px 1px rgba(0, 0, 0, 0.15);\n",
              "      filter: drop-shadow(0px 1px 2px rgba(0, 0, 0, 0.3));\n",
              "      fill: #FFFFFF;\n",
              "    }\n",
              "  </style>\n",
              "\n",
              "      <script>\n",
              "        const buttonEl =\n",
              "          document.querySelector('#df-4c2b5500-c0f0-4766-b77e-ca075babc56a button.colab-df-convert');\n",
              "        buttonEl.style.display =\n",
              "          google.colab.kernel.accessAllowed ? 'block' : 'none';\n",
              "\n",
              "        async function convertToInteractive(key) {\n",
              "          const element = document.querySelector('#df-4c2b5500-c0f0-4766-b77e-ca075babc56a');\n",
              "          const dataTable =\n",
              "            await google.colab.kernel.invokeFunction('convertToInteractive',\n",
              "                                                     [key], {});\n",
              "          if (!dataTable) return;\n",
              "\n",
              "          const docLinkHtml = 'Like what you see? Visit the ' +\n",
              "            '<a target=\"_blank\" href=https://colab.research.google.com/notebooks/data_table.ipynb>data table notebook</a>'\n",
              "            + ' to learn more about interactive tables.';\n",
              "          element.innerHTML = '';\n",
              "          dataTable['output_type'] = 'display_data';\n",
              "          await google.colab.output.renderOutput(dataTable, element);\n",
              "          const docLink = document.createElement('div');\n",
              "          docLink.innerHTML = docLinkHtml;\n",
              "          element.appendChild(docLink);\n",
              "        }\n",
              "      </script>\n",
              "    </div>\n",
              "  </div>\n",
              "  "
            ]
          },
          "metadata": {},
          "execution_count": 54
        }
      ]
    },
    {
      "cell_type": "code",
      "source": [
        "%%time\n",
        "df.to_csv('/content/df.csv', index=False, sep=\";\")\n",
        "df_loaded =pd.read_csv('/content/df.csv', sep =';')\n",
        "df_loaded.head()"
      ],
      "metadata": {
        "colab": {
          "base_uri": "https://localhost:8080/",
          "height": 241
        },
        "id": "TPWwaSt8b-jA",
        "outputId": "d00f33cf-bbf7-44e7-83d5-66a77e04b1a9"
      },
      "execution_count": null,
      "outputs": [
        {
          "output_type": "stream",
          "name": "stdout",
          "text": [
            "CPU times: user 37.7 ms, sys: 5.06 ms, total: 42.7 ms\n",
            "Wall time: 43.8 ms\n"
          ]
        },
        {
          "output_type": "execute_result",
          "data": {
            "text/plain": [
              "      n  total    income\n",
              "0  9895   4479 -0.547347\n",
              "1  5704   2784 -0.511921\n",
              "2  1690    908 -0.462722\n",
              "3  4697   2253 -0.520332\n",
              "4  8355   3965 -0.525434"
            ],
            "text/html": [
              "\n",
              "  <div id=\"df-ed5a3b4d-58b8-41d4-aac9-b746df1e91d6\">\n",
              "    <div class=\"colab-df-container\">\n",
              "      <div>\n",
              "<style scoped>\n",
              "    .dataframe tbody tr th:only-of-type {\n",
              "        vertical-align: middle;\n",
              "    }\n",
              "\n",
              "    .dataframe tbody tr th {\n",
              "        vertical-align: top;\n",
              "    }\n",
              "\n",
              "    .dataframe thead th {\n",
              "        text-align: right;\n",
              "    }\n",
              "</style>\n",
              "<table border=\"1\" class=\"dataframe\">\n",
              "  <thead>\n",
              "    <tr style=\"text-align: right;\">\n",
              "      <th></th>\n",
              "      <th>n</th>\n",
              "      <th>total</th>\n",
              "      <th>income</th>\n",
              "    </tr>\n",
              "  </thead>\n",
              "  <tbody>\n",
              "    <tr>\n",
              "      <th>0</th>\n",
              "      <td>9895</td>\n",
              "      <td>4479</td>\n",
              "      <td>-0.547347</td>\n",
              "    </tr>\n",
              "    <tr>\n",
              "      <th>1</th>\n",
              "      <td>5704</td>\n",
              "      <td>2784</td>\n",
              "      <td>-0.511921</td>\n",
              "    </tr>\n",
              "    <tr>\n",
              "      <th>2</th>\n",
              "      <td>1690</td>\n",
              "      <td>908</td>\n",
              "      <td>-0.462722</td>\n",
              "    </tr>\n",
              "    <tr>\n",
              "      <th>3</th>\n",
              "      <td>4697</td>\n",
              "      <td>2253</td>\n",
              "      <td>-0.520332</td>\n",
              "    </tr>\n",
              "    <tr>\n",
              "      <th>4</th>\n",
              "      <td>8355</td>\n",
              "      <td>3965</td>\n",
              "      <td>-0.525434</td>\n",
              "    </tr>\n",
              "  </tbody>\n",
              "</table>\n",
              "</div>\n",
              "      <button class=\"colab-df-convert\" onclick=\"convertToInteractive('df-ed5a3b4d-58b8-41d4-aac9-b746df1e91d6')\"\n",
              "              title=\"Convert this dataframe to an interactive table.\"\n",
              "              style=\"display:none;\">\n",
              "        \n",
              "  <svg xmlns=\"http://www.w3.org/2000/svg\" height=\"24px\"viewBox=\"0 0 24 24\"\n",
              "       width=\"24px\">\n",
              "    <path d=\"M0 0h24v24H0V0z\" fill=\"none\"/>\n",
              "    <path d=\"M18.56 5.44l.94 2.06.94-2.06 2.06-.94-2.06-.94-.94-2.06-.94 2.06-2.06.94zm-11 1L8.5 8.5l.94-2.06 2.06-.94-2.06-.94L8.5 2.5l-.94 2.06-2.06.94zm10 10l.94 2.06.94-2.06 2.06-.94-2.06-.94-.94-2.06-.94 2.06-2.06.94z\"/><path d=\"M17.41 7.96l-1.37-1.37c-.4-.4-.92-.59-1.43-.59-.52 0-1.04.2-1.43.59L10.3 9.45l-7.72 7.72c-.78.78-.78 2.05 0 2.83L4 21.41c.39.39.9.59 1.41.59.51 0 1.02-.2 1.41-.59l7.78-7.78 2.81-2.81c.8-.78.8-2.07 0-2.86zM5.41 20L4 18.59l7.72-7.72 1.47 1.35L5.41 20z\"/>\n",
              "  </svg>\n",
              "      </button>\n",
              "      \n",
              "  <style>\n",
              "    .colab-df-container {\n",
              "      display:flex;\n",
              "      flex-wrap:wrap;\n",
              "      gap: 12px;\n",
              "    }\n",
              "\n",
              "    .colab-df-convert {\n",
              "      background-color: #E8F0FE;\n",
              "      border: none;\n",
              "      border-radius: 50%;\n",
              "      cursor: pointer;\n",
              "      display: none;\n",
              "      fill: #1967D2;\n",
              "      height: 32px;\n",
              "      padding: 0 0 0 0;\n",
              "      width: 32px;\n",
              "    }\n",
              "\n",
              "    .colab-df-convert:hover {\n",
              "      background-color: #E2EBFA;\n",
              "      box-shadow: 0px 1px 2px rgba(60, 64, 67, 0.3), 0px 1px 3px 1px rgba(60, 64, 67, 0.15);\n",
              "      fill: #174EA6;\n",
              "    }\n",
              "\n",
              "    [theme=dark] .colab-df-convert {\n",
              "      background-color: #3B4455;\n",
              "      fill: #D2E3FC;\n",
              "    }\n",
              "\n",
              "    [theme=dark] .colab-df-convert:hover {\n",
              "      background-color: #434B5C;\n",
              "      box-shadow: 0px 1px 3px 1px rgba(0, 0, 0, 0.15);\n",
              "      filter: drop-shadow(0px 1px 2px rgba(0, 0, 0, 0.3));\n",
              "      fill: #FFFFFF;\n",
              "    }\n",
              "  </style>\n",
              "\n",
              "      <script>\n",
              "        const buttonEl =\n",
              "          document.querySelector('#df-ed5a3b4d-58b8-41d4-aac9-b746df1e91d6 button.colab-df-convert');\n",
              "        buttonEl.style.display =\n",
              "          google.colab.kernel.accessAllowed ? 'block' : 'none';\n",
              "\n",
              "        async function convertToInteractive(key) {\n",
              "          const element = document.querySelector('#df-ed5a3b4d-58b8-41d4-aac9-b746df1e91d6');\n",
              "          const dataTable =\n",
              "            await google.colab.kernel.invokeFunction('convertToInteractive',\n",
              "                                                     [key], {});\n",
              "          if (!dataTable) return;\n",
              "\n",
              "          const docLinkHtml = 'Like what you see? Visit the ' +\n",
              "            '<a target=\"_blank\" href=https://colab.research.google.com/notebooks/data_table.ipynb>data table notebook</a>'\n",
              "            + ' to learn more about interactive tables.';\n",
              "          element.innerHTML = '';\n",
              "          dataTable['output_type'] = 'display_data';\n",
              "          await google.colab.output.renderOutput(dataTable, element);\n",
              "          const docLink = document.createElement('div');\n",
              "          docLink.innerHTML = docLinkHtml;\n",
              "          element.appendChild(docLink);\n",
              "        }\n",
              "      </script>\n",
              "    </div>\n",
              "  </div>\n",
              "  "
            ]
          },
          "metadata": {},
          "execution_count": 57
        }
      ]
    },
    {
      "cell_type": "markdown",
      "source": [
        "! С использованием picle выходит сильно быстрее"
      ],
      "metadata": {
        "id": "x4bZumhWeRT_"
      }
    },
    {
      "cell_type": "markdown",
      "source": [
        "### Оценим, когда будут отрицательные или нулевые выигрыши, когда проигрыш и выигрыш будут максимальны "
      ],
      "metadata": {
        "id": "rnOn4BZ4k_s9"
      }
    },
    {
      "cell_type": "code",
      "source": [
        "print(f\"При размере датасета {m} и верхней границе диапазона для исходной суммы {k} В среднем за игру выигрыш (+)/проигрыш (-) составляет: \")\n",
        "print(df['income'].mean())\n",
        "print('Проигрыш отсутствует в ', len(df[df['income']>=0]), ' случаев')\n",
        "print(\"Максимальный проигрыш: \", df['income'].min(), \"максимальный выигрыш: \", df['income'].max())"
      ],
      "metadata": {
        "colab": {
          "base_uri": "https://localhost:8080/"
        },
        "id": "p6kldUd4S3QS",
        "outputId": "e33d9397-e932-46c4-d960-ac6b9b72b06e"
      },
      "execution_count": null,
      "outputs": [
        {
          "output_type": "stream",
          "name": "stdout",
          "text": [
            "При размере датасета 10000 и верхней границе диапазона для исходной суммы 10000 В среднем за игру выигрыш (+)/проигрыш (-) составляет: \n",
            "-0.5331121100875891\n",
            "Проигрыш отсутствует в  14  случаев\n",
            "Максимальный проигрыш:  -1.0 максимальный выигрыш:  2.4761904761904763\n"
          ]
        }
      ]
    },
    {
      "cell_type": "markdown",
      "source": [
        "## Посмотрим на статистические характеристики датасета"
      ],
      "metadata": {
        "id": "cWFSjDyWYYm4"
      }
    },
    {
      "cell_type": "code",
      "source": [
        "df.describe()"
      ],
      "metadata": {
        "colab": {
          "base_uri": "https://localhost:8080/",
          "height": 300
        },
        "id": "tWfF0CbKYi6f",
        "outputId": "ca7da2d5-9544-4577-d7d9-55ad3371335f"
      },
      "execution_count": null,
      "outputs": [
        {
          "output_type": "execute_result",
          "data": {
            "text/plain": [
              "                Число         Выигрыш\n",
              "count  1000000.000000  1000000.000000\n",
              "mean       499.559054        0.794972\n",
              "std        288.442603        7.304882\n",
              "min          1.000000        0.000000\n",
              "25%        249.000000        0.000000\n",
              "50%        499.000000        0.000000\n",
              "75%        749.000000        0.000000\n",
              "max        999.000000      200.000000"
            ],
            "text/html": [
              "\n",
              "  <div id=\"df-93e249df-2793-40c7-9f36-d2b9b64e24bf\">\n",
              "    <div class=\"colab-df-container\">\n",
              "      <div>\n",
              "<style scoped>\n",
              "    .dataframe tbody tr th:only-of-type {\n",
              "        vertical-align: middle;\n",
              "    }\n",
              "\n",
              "    .dataframe tbody tr th {\n",
              "        vertical-align: top;\n",
              "    }\n",
              "\n",
              "    .dataframe thead th {\n",
              "        text-align: right;\n",
              "    }\n",
              "</style>\n",
              "<table border=\"1\" class=\"dataframe\">\n",
              "  <thead>\n",
              "    <tr style=\"text-align: right;\">\n",
              "      <th></th>\n",
              "      <th>Число</th>\n",
              "      <th>Выигрыш</th>\n",
              "    </tr>\n",
              "  </thead>\n",
              "  <tbody>\n",
              "    <tr>\n",
              "      <th>count</th>\n",
              "      <td>1000000.000000</td>\n",
              "      <td>1000000.000000</td>\n",
              "    </tr>\n",
              "    <tr>\n",
              "      <th>mean</th>\n",
              "      <td>499.559054</td>\n",
              "      <td>0.794972</td>\n",
              "    </tr>\n",
              "    <tr>\n",
              "      <th>std</th>\n",
              "      <td>288.442603</td>\n",
              "      <td>7.304882</td>\n",
              "    </tr>\n",
              "    <tr>\n",
              "      <th>min</th>\n",
              "      <td>1.000000</td>\n",
              "      <td>0.000000</td>\n",
              "    </tr>\n",
              "    <tr>\n",
              "      <th>25%</th>\n",
              "      <td>249.000000</td>\n",
              "      <td>0.000000</td>\n",
              "    </tr>\n",
              "    <tr>\n",
              "      <th>50%</th>\n",
              "      <td>499.000000</td>\n",
              "      <td>0.000000</td>\n",
              "    </tr>\n",
              "    <tr>\n",
              "      <th>75%</th>\n",
              "      <td>749.000000</td>\n",
              "      <td>0.000000</td>\n",
              "    </tr>\n",
              "    <tr>\n",
              "      <th>max</th>\n",
              "      <td>999.000000</td>\n",
              "      <td>200.000000</td>\n",
              "    </tr>\n",
              "  </tbody>\n",
              "</table>\n",
              "</div>\n",
              "      <button class=\"colab-df-convert\" onclick=\"convertToInteractive('df-93e249df-2793-40c7-9f36-d2b9b64e24bf')\"\n",
              "              title=\"Convert this dataframe to an interactive table.\"\n",
              "              style=\"display:none;\">\n",
              "        \n",
              "  <svg xmlns=\"http://www.w3.org/2000/svg\" height=\"24px\"viewBox=\"0 0 24 24\"\n",
              "       width=\"24px\">\n",
              "    <path d=\"M0 0h24v24H0V0z\" fill=\"none\"/>\n",
              "    <path d=\"M18.56 5.44l.94 2.06.94-2.06 2.06-.94-2.06-.94-.94-2.06-.94 2.06-2.06.94zm-11 1L8.5 8.5l.94-2.06 2.06-.94-2.06-.94L8.5 2.5l-.94 2.06-2.06.94zm10 10l.94 2.06.94-2.06 2.06-.94-2.06-.94-.94-2.06-.94 2.06-2.06.94z\"/><path d=\"M17.41 7.96l-1.37-1.37c-.4-.4-.92-.59-1.43-.59-.52 0-1.04.2-1.43.59L10.3 9.45l-7.72 7.72c-.78.78-.78 2.05 0 2.83L4 21.41c.39.39.9.59 1.41.59.51 0 1.02-.2 1.41-.59l7.78-7.78 2.81-2.81c.8-.78.8-2.07 0-2.86zM5.41 20L4 18.59l7.72-7.72 1.47 1.35L5.41 20z\"/>\n",
              "  </svg>\n",
              "      </button>\n",
              "      \n",
              "  <style>\n",
              "    .colab-df-container {\n",
              "      display:flex;\n",
              "      flex-wrap:wrap;\n",
              "      gap: 12px;\n",
              "    }\n",
              "\n",
              "    .colab-df-convert {\n",
              "      background-color: #E8F0FE;\n",
              "      border: none;\n",
              "      border-radius: 50%;\n",
              "      cursor: pointer;\n",
              "      display: none;\n",
              "      fill: #1967D2;\n",
              "      height: 32px;\n",
              "      padding: 0 0 0 0;\n",
              "      width: 32px;\n",
              "    }\n",
              "\n",
              "    .colab-df-convert:hover {\n",
              "      background-color: #E2EBFA;\n",
              "      box-shadow: 0px 1px 2px rgba(60, 64, 67, 0.3), 0px 1px 3px 1px rgba(60, 64, 67, 0.15);\n",
              "      fill: #174EA6;\n",
              "    }\n",
              "\n",
              "    [theme=dark] .colab-df-convert {\n",
              "      background-color: #3B4455;\n",
              "      fill: #D2E3FC;\n",
              "    }\n",
              "\n",
              "    [theme=dark] .colab-df-convert:hover {\n",
              "      background-color: #434B5C;\n",
              "      box-shadow: 0px 1px 3px 1px rgba(0, 0, 0, 0.15);\n",
              "      filter: drop-shadow(0px 1px 2px rgba(0, 0, 0, 0.3));\n",
              "      fill: #FFFFFF;\n",
              "    }\n",
              "  </style>\n",
              "\n",
              "      <script>\n",
              "        const buttonEl =\n",
              "          document.querySelector('#df-93e249df-2793-40c7-9f36-d2b9b64e24bf button.colab-df-convert');\n",
              "        buttonEl.style.display =\n",
              "          google.colab.kernel.accessAllowed ? 'block' : 'none';\n",
              "\n",
              "        async function convertToInteractive(key) {\n",
              "          const element = document.querySelector('#df-93e249df-2793-40c7-9f36-d2b9b64e24bf');\n",
              "          const dataTable =\n",
              "            await google.colab.kernel.invokeFunction('convertToInteractive',\n",
              "                                                     [key], {});\n",
              "          if (!dataTable) return;\n",
              "\n",
              "          const docLinkHtml = 'Like what you see? Visit the ' +\n",
              "            '<a target=\"_blank\" href=https://colab.research.google.com/notebooks/data_table.ipynb>data table notebook</a>'\n",
              "            + ' to learn more about interactive tables.';\n",
              "          element.innerHTML = '';\n",
              "          dataTable['output_type'] = 'display_data';\n",
              "          await google.colab.output.renderOutput(dataTable, element);\n",
              "          const docLink = document.createElement('div');\n",
              "          docLink.innerHTML = docLinkHtml;\n",
              "          element.appendChild(docLink);\n",
              "        }\n",
              "      </script>\n",
              "    </div>\n",
              "  </div>\n",
              "  "
            ]
          },
          "metadata": {},
          "execution_count": 28
        }
      ]
    },
    {
      "cell_type": "markdown",
      "source": [
        "# Дополнительное задание повышенной сложности.\n",
        "\n",
        "Теоретически рассчитать средний выигрыш (проигрыш) и сравнить с результатами моделирования"
      ],
      "metadata": {
        "id": "CdulZEOAKN9S"
      }
    },
    {
      "cell_type": "markdown",
      "source": [
        "### Пояснения"
      ],
      "metadata": {
        "id": "RWEKTRdhCONT"
      }
    },
    {
      "cell_type": "markdown",
      "source": [
        "Случайная величина - значение выпавшего числа\n",
        "Случайное событие A - это выпадение выигрышного числа с определенным значением из заданного диапазона [0,N), \n",
        "Случайное событие B - это выпадение проигрышного числа с определенным значением из этого же диапазона, \n",
        "где N - стартовая сумма в наличии у игрока (и одновременно число ходов).\n",
        "\n",
        "\n",
        "В опыте одинаково возможны N исходов, из которых M при водит к событию A(выигрышу), а K - к событию Б ( проигрышу).\n",
        "\n",
        "Тогда вероятность выпадения выигрышного числа P(А) =M/N,  \n",
        "вероятность проигрыша P(B) = (N-M)/N.\n",
        "\n",
        "Количество чисел 200, 100, 50, 15, 10 в выборке - по 1(всего 5)\n",
        "Вероятность выпадения выигрышей 200, 100, 50, 15, 10руб. - одинакова и равна \n",
        "1/5 для каждого исхода P(A)|200,  P(A)|100,  P(A)|50,  P(A)|15 и  P(A)|10.\n",
        "\n",
        "\n",
        "Вероятность выпадения выигрыша 5 руб - для чисел, заканчивающихся на 77, зависит от N. В каждой сотне число 77 встречается 1 раз, значит, нужно посчитать к-во сотен: N/100 и вычесть 1 (число 777). Т.к выпадают  числа не более 1000, достаточно посчитать их число до 1000\n",
        "\n",
        "К-во таких чисел:N/100 - 1=9\n",
        "P(A)|*77 =1/(N/100  - 1)=1/9\n",
        " \n",
        "\n",
        "Вероятность выпадения выигрыша 3 руб - для чисел, заканчивающихся на 7, зависит от N. В каждом десятке цифра 7 встречается 1 раз, значит, нужно посчитать к-во десятков:N/10. и вычесть 1 (число 777) и 9 (к-во чисел,заканчивающихся на 77).\n",
        "\n",
        "К-во таких чисел: N/10 -(N/100 - 1)-1 = N/10 - N/100=9*N/100 =90;\n",
        " \n",
        "P(A)*7 = 1/(N/10 -1 - (N/100-1) = 1/(N/10-N/100)1/90\n",
        "\n",
        "Вероятность выпадения выигрыша 2 руб - для чисел, кратных 100, звыисит от N. \n",
        "\n",
        "Их К-во: N/100 =10;\n",
        "\n",
        "Вероятность выпадения выигрыша 1 руб - для чисел, кратных 10, зависит от N. \n",
        "\n",
        "Их К-во = N/10-N/100 = 9N/100 (число чисел в промежутке, кратных 100, за вычетом количества чисел, кратных 10):90\n",
        "    \n",
        "\n",
        "Таким образом, в выборке из N у нас будет (5 + N/100 -1 + N/10-N/100 + N/100 + N/10 -N/100)=4+N/5 выигрышных чисел\n",
        "\n",
        "в 1000 у нас 1+1+1+1+1+9+90+10+90 = 204 выигрышных числа. \n",
        "Тогда проигрышных будет 1000-214 =796.\n",
        "\n",
        "Для выигрышных чисел: Средняя сумма выигрыша будет \n",
        "200 x 1 + 100 x 1 + 50 x 1 + 15 x 1+ 10 x 1 + 5 x 9 + 3 x 90 + 2 x 10 + 1 x 90 = 800\n",
        "\n",
        "Для проигрышных чисел:  за каждую ставку выигрыш 0, поэтому 0 x 796 = 0.\n",
        "\n",
        "Таким образом, \n",
        "средний выигрыш за 1000 ставок составит (800-1000)/1000=-0,2 руб, где 1000 -это начальные N рублей, из которых за каждую ставку игрок платит 1 рубль"
      ],
      "metadata": {
        "id": "EgHKe9Le7RJ6"
      }
    },
    {
      "cell_type": "markdown",
      "source": [
        "### Посчитаем теоретический проигрыш с начальной суммы"
      ],
      "metadata": {
        "id": "Vd0PkoppCUxK"
      }
    },
    {
      "cell_type": "code",
      "source": [
        "def get_theoretical_income(n):\n",
        "  lucky_numbers_quantity=round(4+n/5,0)\n",
        "  unlucky_numbers_quantity = n-lucky_numbers_quantity\n",
        "  n777=1\n",
        "  n999=1\n",
        "  n555=1\n",
        "  n333=1\n",
        "  n111=1\n",
        "  n77=9\n",
        "  n7=90\n",
        "  n00=10\n",
        "  n0=90\n",
        "  income = (200 + 100 + 50 + 15 + 10 + 5*n77 + 3*n7 +2*n00 +1*n0)/n-1\n",
        "  print(f'Начальная сумма: {n}')\n",
        "  print(f'Количество счастливых чисел: {lucky_numbers_quantity:10.0f}, количество несчастливых чисел: {unlucky_numbers_quantity:10.0f}')\n",
        "  print(f'Теоретический проигрыш  составит {income}')\n",
        " "
      ],
      "metadata": {
        "id": "xnUNaTrO_z7P"
      },
      "execution_count": null,
      "outputs": []
    },
    {
      "cell_type": "code",
      "source": [
        "get_theoretical_income(k)"
      ],
      "metadata": {
        "id": "stT-kzHB3dkT",
        "outputId": "bcbbe53c-848c-43cb-ec89-85dc58fefcea",
        "colab": {
          "base_uri": "https://localhost:8080/"
        }
      },
      "execution_count": null,
      "outputs": [
        {
          "output_type": "stream",
          "name": "stdout",
          "text": [
            "Начальная сумма: 1000\n",
            "Количество счастливых чисел:        204, количество несчастливых чисел:        796\n",
            "Теоретический проигрыш  составит -0.19999999999999996\n"
          ]
        }
      ]
    },
    {
      "cell_type": "markdown",
      "source": [
        "Вывод: при большом размере выборки вычисленное значение выигрыша практически совпадает с рассчитанным теоретически"
      ],
      "metadata": {
        "id": "VNz8NWUECg3e"
      }
    }
  ]
}